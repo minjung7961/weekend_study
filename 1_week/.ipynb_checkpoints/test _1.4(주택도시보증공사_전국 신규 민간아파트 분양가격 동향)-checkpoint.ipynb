{
 "cells": [
  {
   "cell_type": "code",
   "execution_count": 150,
   "metadata": {},
   "outputs": [],
   "source": [
    "import pandas as pd\n",
    "import matplotlib.pyplot as plt\n",
    "import seaborn as sns\n",
    "import numpy as np\n"
   ]
  },
  {
   "cell_type": "code",
   "execution_count": 151,
   "metadata": {},
   "outputs": [],
   "source": [
    "from IPython.display import set_matplotlib_formats\n",
    "set_matplotlib_formats('retina')\n",
    "plt.rc('font',family='Malgun Gothic')\n",
    "plt.rc('axes',unicode_minus=False)"
   ]
  },
  {
   "cell_type": "code",
   "execution_count": 152,
   "metadata": {},
   "outputs": [
    {
     "data": {
      "text/html": [
       "<div>\n",
       "<style scoped>\n",
       "    .dataframe tbody tr th:only-of-type {\n",
       "        vertical-align: middle;\n",
       "    }\n",
       "\n",
       "    .dataframe tbody tr th {\n",
       "        vertical-align: top;\n",
       "    }\n",
       "\n",
       "    .dataframe thead th {\n",
       "        text-align: right;\n",
       "    }\n",
       "</style>\n",
       "<table border=\"1\" class=\"dataframe\">\n",
       "  <thead>\n",
       "    <tr style=\"text-align: right;\">\n",
       "      <th></th>\n",
       "      <th>지역명</th>\n",
       "      <th>규모구분</th>\n",
       "      <th>연도</th>\n",
       "      <th>월</th>\n",
       "      <th>분양가격(㎡)</th>\n",
       "    </tr>\n",
       "  </thead>\n",
       "  <tbody>\n",
       "    <tr>\n",
       "      <th>0</th>\n",
       "      <td>서울</td>\n",
       "      <td>모든면적</td>\n",
       "      <td>2015</td>\n",
       "      <td>10</td>\n",
       "      <td>5841</td>\n",
       "    </tr>\n",
       "    <tr>\n",
       "      <th>1</th>\n",
       "      <td>서울</td>\n",
       "      <td>전용면적 60㎡이하</td>\n",
       "      <td>2015</td>\n",
       "      <td>10</td>\n",
       "      <td>5652</td>\n",
       "    </tr>\n",
       "    <tr>\n",
       "      <th>2</th>\n",
       "      <td>서울</td>\n",
       "      <td>전용면적 60㎡초과 85㎡이하</td>\n",
       "      <td>2015</td>\n",
       "      <td>10</td>\n",
       "      <td>5882</td>\n",
       "    </tr>\n",
       "    <tr>\n",
       "      <th>3</th>\n",
       "      <td>서울</td>\n",
       "      <td>전용면적 85㎡초과 102㎡이하</td>\n",
       "      <td>2015</td>\n",
       "      <td>10</td>\n",
       "      <td>5721</td>\n",
       "    </tr>\n",
       "    <tr>\n",
       "      <th>4</th>\n",
       "      <td>서울</td>\n",
       "      <td>전용면적 102㎡초과</td>\n",
       "      <td>2015</td>\n",
       "      <td>10</td>\n",
       "      <td>5879</td>\n",
       "    </tr>\n",
       "  </tbody>\n",
       "</table>\n",
       "</div>"
      ],
      "text/plain": [
       "  지역명               규모구분    연도   월 분양가격(㎡)\n",
       "0  서울               모든면적  2015  10    5841\n",
       "1  서울         전용면적 60㎡이하  2015  10    5652\n",
       "2  서울   전용면적 60㎡초과 85㎡이하  2015  10    5882\n",
       "3  서울  전용면적 85㎡초과 102㎡이하  2015  10    5721\n",
       "4  서울        전용면적 102㎡초과  2015  10    5879"
      ]
     },
     "execution_count": 152,
     "metadata": {},
     "output_type": "execute_result"
    }
   ],
   "source": [
    "df_house = pd.read_csv(\"주택도시보증공사_전국 신규 민간아파트 분양가격 동향_20210315.csv\",encoding='cp949')\n",
    "df_house.head()"
   ]
  },
  {
   "cell_type": "code",
   "execution_count": 153,
   "metadata": {},
   "outputs": [
    {
     "data": {
      "text/html": [
       "<div>\n",
       "<style scoped>\n",
       "    .dataframe tbody tr th:only-of-type {\n",
       "        vertical-align: middle;\n",
       "    }\n",
       "\n",
       "    .dataframe tbody tr th {\n",
       "        vertical-align: top;\n",
       "    }\n",
       "\n",
       "    .dataframe thead th {\n",
       "        text-align: right;\n",
       "    }\n",
       "</style>\n",
       "<table border=\"1\" class=\"dataframe\">\n",
       "  <thead>\n",
       "    <tr style=\"text-align: right;\">\n",
       "      <th></th>\n",
       "      <th>지역명</th>\n",
       "      <th>규모구분</th>\n",
       "      <th>연도</th>\n",
       "      <th>월</th>\n",
       "      <th>분양가격(㎡)</th>\n",
       "    </tr>\n",
       "  </thead>\n",
       "  <tbody>\n",
       "    <tr>\n",
       "      <th>5605</th>\n",
       "      <td>제주</td>\n",
       "      <td>모든면적</td>\n",
       "      <td>2021</td>\n",
       "      <td>3</td>\n",
       "      <td>7199</td>\n",
       "    </tr>\n",
       "    <tr>\n",
       "      <th>5606</th>\n",
       "      <td>제주</td>\n",
       "      <td>전용면적 60㎡이하</td>\n",
       "      <td>2021</td>\n",
       "      <td>3</td>\n",
       "      <td>4686</td>\n",
       "    </tr>\n",
       "    <tr>\n",
       "      <th>5607</th>\n",
       "      <td>제주</td>\n",
       "      <td>전용면적 60㎡초과 85㎡이하</td>\n",
       "      <td>2021</td>\n",
       "      <td>3</td>\n",
       "      <td>7180</td>\n",
       "    </tr>\n",
       "    <tr>\n",
       "      <th>5608</th>\n",
       "      <td>제주</td>\n",
       "      <td>전용면적 85㎡초과 102㎡이하</td>\n",
       "      <td>2021</td>\n",
       "      <td>3</td>\n",
       "      <td>NaN</td>\n",
       "    </tr>\n",
       "    <tr>\n",
       "      <th>5609</th>\n",
       "      <td>제주</td>\n",
       "      <td>전용면적 102㎡초과</td>\n",
       "      <td>2021</td>\n",
       "      <td>3</td>\n",
       "      <td>7727</td>\n",
       "    </tr>\n",
       "  </tbody>\n",
       "</table>\n",
       "</div>"
      ],
      "text/plain": [
       "     지역명               규모구분    연도  월 분양가격(㎡)\n",
       "5605  제주               모든면적  2021  3    7199\n",
       "5606  제주         전용면적 60㎡이하  2021  3    4686\n",
       "5607  제주   전용면적 60㎡초과 85㎡이하  2021  3    7180\n",
       "5608  제주  전용면적 85㎡초과 102㎡이하  2021  3     NaN\n",
       "5609  제주        전용면적 102㎡초과  2021  3    7727"
      ]
     },
     "execution_count": 153,
     "metadata": {},
     "output_type": "execute_result"
    }
   ],
   "source": [
    "df_house.tail()"
   ]
  },
  {
   "cell_type": "code",
   "execution_count": 154,
   "metadata": {},
   "outputs": [
    {
     "name": "stdout",
     "output_type": "stream",
     "text": [
      "<class 'pandas.core.frame.DataFrame'>\n",
      "RangeIndex: 5610 entries, 0 to 5609\n",
      "Data columns (total 5 columns):\n",
      " #   Column   Non-Null Count  Dtype \n",
      "---  ------   --------------  ----- \n",
      " 0   지역명      5610 non-null   object\n",
      " 1   규모구분     5610 non-null   object\n",
      " 2   연도       5610 non-null   int64 \n",
      " 3   월        5610 non-null   int64 \n",
      " 4   분양가격(㎡)  5170 non-null   object\n",
      "dtypes: int64(2), object(3)\n",
      "memory usage: 219.3+ KB\n"
     ]
    }
   ],
   "source": [
    "df_house.info()"
   ]
  },
  {
   "cell_type": "markdown",
   "metadata": {},
   "source": [
    "# 널값 확인"
   ]
  },
  {
   "cell_type": "code",
   "execution_count": 155,
   "metadata": {},
   "outputs": [
    {
     "data": {
      "text/plain": [
       "지역명          0\n",
       "규모구분         0\n",
       "연도           0\n",
       "월            0\n",
       "분양가격(㎡)    440\n",
       "dtype: int64"
      ]
     },
     "execution_count": 155,
     "metadata": {},
     "output_type": "execute_result"
    }
   ],
   "source": [
    "df_house.isnull().sum()"
   ]
  },
  {
   "cell_type": "code",
   "execution_count": 156,
   "metadata": {},
   "outputs": [
    {
     "data": {
      "text/plain": [
       "<AxesSubplot:>"
      ]
     },
     "execution_count": 156,
     "metadata": {},
     "output_type": "execute_result"
    },
    {
     "data": {
      "image/png": "[encoded data removed]",
      "text/plain": [
       "<Figure size 864x720 with 1 Axes>"
      ]
     },
     "metadata": {
      "image/png": {
       "height": 575,
       "width": 683
      },
      "needs_background": "light"
     },
     "output_type": "display_data"
    }
   ],
   "source": [
    "plt.figure(figsize=(12,10))\n",
    "sns.heatmap(df_house.isnull(),yticklabels=False,cbar=False)"
   ]
  },
  {
   "cell_type": "markdown",
   "metadata": {},
   "source": [
    "## 컬럼 내용 확인"
   ]
  },
  {
   "cell_type": "code",
   "execution_count": 157,
   "metadata": {},
   "outputs": [
    {
     "name": "stdout",
     "output_type": "stream",
     "text": [
      "지역명 :\n",
      "\n",
      "전북    330\n",
      "대구    330\n",
      "경기    330\n",
      "경남    330\n",
      "세종    330\n",
      "울산    330\n",
      "서울    330\n",
      "충북    330\n",
      "충남    330\n",
      "인천    330\n",
      "제주    330\n",
      "전남    330\n",
      "광주    330\n",
      "강원    330\n",
      "경북    330\n",
      "대전    330\n",
      "부산    330\n",
      "Name: 지역명, dtype: int64 \n",
      "\n",
      "규모구분 :\n",
      "\n",
      "모든면적                 1122\n",
      "전용면적 60㎡이하           1122\n",
      "전용면적 102㎡초과          1122\n",
      "전용면적 85㎡초과 102㎡이하    1122\n",
      "전용면적 60㎡초과 85㎡이하     1122\n",
      "Name: 규모구분, dtype: int64 \n",
      "\n",
      "연도 :\n",
      "\n",
      "2019    1020\n",
      "2018    1020\n",
      "2017    1020\n",
      "2020    1020\n",
      "2016    1020\n",
      "2015     255\n",
      "2021     255\n",
      "Name: 연도, dtype: int64 \n",
      "\n",
      "월 :\n",
      "\n",
      "11    510\n",
      "3     510\n",
      "10    510\n",
      "2     510\n",
      "1     510\n",
      "12    510\n",
      "7     425\n",
      "6     425\n",
      "9     425\n",
      "5     425\n",
      "8     425\n",
      "4     425\n",
      "Name: 월, dtype: int64 \n",
      "\n",
      "분양가격(㎡) :\n",
      "\n",
      "3395     18\n",
      "2667     17\n",
      "2221     17\n",
      "         16\n",
      "2743     16\n",
      "         ..\n",
      "3394      1\n",
      "4055      1\n",
      "4567      1\n",
      "3,330     1\n",
      "4324      1\n",
      "Name: 분양가격(㎡), Length: 2114, dtype: int64 \n",
      "\n"
     ]
    }
   ],
   "source": [
    "cols = df_house.columns\n",
    "for i in cols:\n",
    "    print(i,':\\n')\n",
    "    print(df_house[i].value_counts(),'\\n')"
   ]
  },
  {
   "cell_type": "markdown",
   "metadata": {},
   "source": [
    "## 데이터 전처리"
   ]
  },
  {
   "cell_type": "markdown",
   "metadata": {},
   "source": [
    "### 위에서 연도값의 2015년 2021년이 상대적으로 작은 것 확인가능 전처리해줌"
   ]
  },
  {
   "cell_type": "code",
   "execution_count": 158,
   "metadata": {},
   "outputs": [
    {
     "data": {
      "text/plain": [
       "2019    1020\n",
       "2018    1020\n",
       "2017    1020\n",
       "2020    1020\n",
       "2016    1020\n",
       "Name: 연도, dtype: int64"
      ]
     },
     "execution_count": 158,
     "metadata": {},
     "output_type": "execute_result"
    }
   ],
   "source": [
    "df_house = df_house[df_house['연도'] != 2015].copy()\n",
    "df_house = df_house[df_house['연도'] != 2021].copy()\n",
    "df_house['연도'].value_counts()"
   ]
  },
  {
   "cell_type": "markdown",
   "metadata": {},
   "source": [
    "### 분양가격 평당 분양가격으로 변경해줌"
   ]
  },
  {
   "cell_type": "code",
   "execution_count": 159,
   "metadata": {},
   "outputs": [
    {
     "data": {
      "text/html": [
       "<div>\n",
       "<style scoped>\n",
       "    .dataframe tbody tr th:only-of-type {\n",
       "        vertical-align: middle;\n",
       "    }\n",
       "\n",
       "    .dataframe tbody tr th {\n",
       "        vertical-align: top;\n",
       "    }\n",
       "\n",
       "    .dataframe thead th {\n",
       "        text-align: right;\n",
       "    }\n",
       "</style>\n",
       "<table border=\"1\" class=\"dataframe\">\n",
       "  <thead>\n",
       "    <tr style=\"text-align: right;\">\n",
       "      <th></th>\n",
       "      <th>지역명</th>\n",
       "      <th>규모구분</th>\n",
       "      <th>연도</th>\n",
       "      <th>월</th>\n",
       "      <th>분양가격(㎡)</th>\n",
       "      <th>분양가격</th>\n",
       "    </tr>\n",
       "  </thead>\n",
       "  <tbody>\n",
       "    <tr>\n",
       "      <th>255</th>\n",
       "      <td>서울</td>\n",
       "      <td>모든면적</td>\n",
       "      <td>2016</td>\n",
       "      <td>1</td>\n",
       "      <td>6108</td>\n",
       "      <td>6108.0</td>\n",
       "    </tr>\n",
       "    <tr>\n",
       "      <th>256</th>\n",
       "      <td>서울</td>\n",
       "      <td>전용면적 60㎡이하</td>\n",
       "      <td>2016</td>\n",
       "      <td>1</td>\n",
       "      <td>6427</td>\n",
       "      <td>6427.0</td>\n",
       "    </tr>\n",
       "    <tr>\n",
       "      <th>257</th>\n",
       "      <td>서울</td>\n",
       "      <td>전용면적 60㎡초과 85㎡이하</td>\n",
       "      <td>2016</td>\n",
       "      <td>1</td>\n",
       "      <td>6036</td>\n",
       "      <td>6036.0</td>\n",
       "    </tr>\n",
       "    <tr>\n",
       "      <th>258</th>\n",
       "      <td>서울</td>\n",
       "      <td>전용면적 85㎡초과 102㎡이하</td>\n",
       "      <td>2016</td>\n",
       "      <td>1</td>\n",
       "      <td>6513</td>\n",
       "      <td>6513.0</td>\n",
       "    </tr>\n",
       "    <tr>\n",
       "      <th>259</th>\n",
       "      <td>서울</td>\n",
       "      <td>전용면적 102㎡초과</td>\n",
       "      <td>2016</td>\n",
       "      <td>1</td>\n",
       "      <td>6551</td>\n",
       "      <td>6551.0</td>\n",
       "    </tr>\n",
       "  </tbody>\n",
       "</table>\n",
       "</div>"
      ],
      "text/plain": [
       "    지역명               규모구분    연도  월 분양가격(㎡)    분양가격\n",
       "255  서울               모든면적  2016  1    6108  6108.0\n",
       "256  서울         전용면적 60㎡이하  2016  1    6427  6427.0\n",
       "257  서울   전용면적 60㎡초과 85㎡이하  2016  1    6036  6036.0\n",
       "258  서울  전용면적 85㎡초과 102㎡이하  2016  1    6513  6513.0\n",
       "259  서울        전용면적 102㎡초과  2016  1    6551  6551.0"
      ]
     },
     "execution_count": 159,
     "metadata": {},
     "output_type": "execute_result"
    }
   ],
   "source": [
    "#### pd.to_numeric 을 통해 데이터의 타입을 변경\n",
    "df_house['분양가격'] = pd.to_numeric(df_house['분양가격(㎡)'], errors='coerce')\n",
    "df_house.head()"
   ]
  },
  {
   "cell_type": "code",
   "execution_count": 160,
   "metadata": {},
   "outputs": [],
   "source": [
    "#### 분양가격 평당 분양가격으로 변경해줌\n",
    "df_house['평당분양가격'] = df_house['분양가격'] * 3.3"
   ]
  },
  {
   "cell_type": "code",
   "execution_count": 161,
   "metadata": {},
   "outputs": [
    {
     "data": {
      "text/plain": [
       "255     20156.4\n",
       "256     21209.1\n",
       "257     19918.8\n",
       "258     21492.9\n",
       "259     21618.3\n",
       "         ...   \n",
       "5350    15338.4\n",
       "5351    14397.9\n",
       "5352    15378.0\n",
       "5353        NaN\n",
       "5354        NaN\n",
       "Name: 평당분양가격, Length: 5100, dtype: float64"
      ]
     },
     "execution_count": 161,
     "metadata": {},
     "output_type": "execute_result"
    }
   ],
   "source": [
    "df_house['평당분양가격']"
   ]
  },
  {
   "cell_type": "code",
   "execution_count": 162,
   "metadata": {},
   "outputs": [
    {
     "name": "stdout",
     "output_type": "stream",
     "text": [
      "<class 'pandas.core.frame.DataFrame'>\n",
      "Int64Index: 5100 entries, 255 to 5354\n",
      "Data columns (total 7 columns):\n",
      " #   Column   Non-Null Count  Dtype  \n",
      "---  ------   --------------  -----  \n",
      " 0   지역명      5100 non-null   object \n",
      " 1   규모구분     5100 non-null   object \n",
      " 2   연도       5100 non-null   int64  \n",
      " 3   월        5100 non-null   int64  \n",
      " 4   분양가격(㎡)  4676 non-null   object \n",
      " 5   분양가격     4596 non-null   float64\n",
      " 6   평당분양가격   4596 non-null   float64\n",
      "dtypes: float64(2), int64(2), object(3)\n",
      "memory usage: 318.8+ KB\n"
     ]
    }
   ],
   "source": [
    "df_house.info()"
   ]
  },
  {
   "cell_type": "markdown",
   "metadata": {},
   "source": [
    "### 이제 규모구분 컬럼내용 변경필요"
   ]
  },
  {
   "cell_type": "code",
   "execution_count": 163,
   "metadata": {},
   "outputs": [
    {
     "data": {
      "text/plain": [
       "모든면적                 1020\n",
       "전용면적 60㎡이하           1020\n",
       "전용면적 102㎡초과          1020\n",
       "전용면적 85㎡초과 102㎡이하    1020\n",
       "전용면적 60㎡초과 85㎡이하     1020\n",
       "Name: 규모구분, dtype: int64"
      ]
     },
     "execution_count": 163,
     "metadata": {},
     "output_type": "execute_result"
    }
   ],
   "source": [
    "df_house['규모구분'].value_counts()"
   ]
  },
  {
   "cell_type": "code",
   "execution_count": 164,
   "metadata": {},
   "outputs": [
    {
     "data": {
      "text/plain": [
       "255         모든면적\n",
       "256          60㎡\n",
       "257      60㎡~85㎡\n",
       "258     85㎡~102㎡\n",
       "259        102㎡~\n",
       "          ...   \n",
       "5350        모든면적\n",
       "5351         60㎡\n",
       "5352     60㎡~85㎡\n",
       "5353    85㎡~102㎡\n",
       "5354       102㎡~\n",
       "Name: 전용면적, Length: 5100, dtype: object"
      ]
     },
     "execution_count": 164,
     "metadata": {},
     "output_type": "execute_result"
    }
   ],
   "source": [
    "df_house['전용면적'] = df_house['규모구분'].str.replace('전용면적',\"\")\n",
    "df_house['전용면적'] = df_house['전용면적'].str.replace('초과','~')\n",
    "df_house['전용면적'] = df_house['전용면적'].str.replace('이하','')\n",
    "df_house['전용면적'] = df_house['전용면적'].str.replace(' ','').str.strip()\n",
    "df_house['전용면적']"
   ]
  },
  {
   "cell_type": "code",
   "execution_count": 165,
   "metadata": {},
   "outputs": [
    {
     "data": {
      "text/html": [
       "<div>\n",
       "<style scoped>\n",
       "    .dataframe tbody tr th:only-of-type {\n",
       "        vertical-align: middle;\n",
       "    }\n",
       "\n",
       "    .dataframe tbody tr th {\n",
       "        vertical-align: top;\n",
       "    }\n",
       "\n",
       "    .dataframe thead th {\n",
       "        text-align: right;\n",
       "    }\n",
       "</style>\n",
       "<table border=\"1\" class=\"dataframe\">\n",
       "  <thead>\n",
       "    <tr style=\"text-align: right;\">\n",
       "      <th></th>\n",
       "      <th>지역명</th>\n",
       "      <th>규모구분</th>\n",
       "      <th>연도</th>\n",
       "      <th>월</th>\n",
       "      <th>분양가격(㎡)</th>\n",
       "      <th>분양가격</th>\n",
       "      <th>평당분양가격</th>\n",
       "      <th>전용면적</th>\n",
       "    </tr>\n",
       "  </thead>\n",
       "  <tbody>\n",
       "    <tr>\n",
       "      <th>255</th>\n",
       "      <td>서울</td>\n",
       "      <td>모든면적</td>\n",
       "      <td>2016</td>\n",
       "      <td>1</td>\n",
       "      <td>6108</td>\n",
       "      <td>6108.0</td>\n",
       "      <td>20156.4</td>\n",
       "      <td>모든면적</td>\n",
       "    </tr>\n",
       "    <tr>\n",
       "      <th>256</th>\n",
       "      <td>서울</td>\n",
       "      <td>전용면적 60㎡이하</td>\n",
       "      <td>2016</td>\n",
       "      <td>1</td>\n",
       "      <td>6427</td>\n",
       "      <td>6427.0</td>\n",
       "      <td>21209.1</td>\n",
       "      <td>60㎡</td>\n",
       "    </tr>\n",
       "    <tr>\n",
       "      <th>257</th>\n",
       "      <td>서울</td>\n",
       "      <td>전용면적 60㎡초과 85㎡이하</td>\n",
       "      <td>2016</td>\n",
       "      <td>1</td>\n",
       "      <td>6036</td>\n",
       "      <td>6036.0</td>\n",
       "      <td>19918.8</td>\n",
       "      <td>60㎡~85㎡</td>\n",
       "    </tr>\n",
       "    <tr>\n",
       "      <th>258</th>\n",
       "      <td>서울</td>\n",
       "      <td>전용면적 85㎡초과 102㎡이하</td>\n",
       "      <td>2016</td>\n",
       "      <td>1</td>\n",
       "      <td>6513</td>\n",
       "      <td>6513.0</td>\n",
       "      <td>21492.9</td>\n",
       "      <td>85㎡~102㎡</td>\n",
       "    </tr>\n",
       "    <tr>\n",
       "      <th>259</th>\n",
       "      <td>서울</td>\n",
       "      <td>전용면적 102㎡초과</td>\n",
       "      <td>2016</td>\n",
       "      <td>1</td>\n",
       "      <td>6551</td>\n",
       "      <td>6551.0</td>\n",
       "      <td>21618.3</td>\n",
       "      <td>102㎡~</td>\n",
       "    </tr>\n",
       "  </tbody>\n",
       "</table>\n",
       "</div>"
      ],
      "text/plain": [
       "    지역명               규모구분    연도  월 분양가격(㎡)    분양가격   평당분양가격      전용면적\n",
       "255  서울               모든면적  2016  1    6108  6108.0  20156.4      모든면적\n",
       "256  서울         전용면적 60㎡이하  2016  1    6427  6427.0  21209.1       60㎡\n",
       "257  서울   전용면적 60㎡초과 85㎡이하  2016  1    6036  6036.0  19918.8   60㎡~85㎡\n",
       "258  서울  전용면적 85㎡초과 102㎡이하  2016  1    6513  6513.0  21492.9  85㎡~102㎡\n",
       "259  서울        전용면적 102㎡초과  2016  1    6551  6551.0  21618.3     102㎡~"
      ]
     },
     "execution_count": 165,
     "metadata": {},
     "output_type": "execute_result"
    }
   ],
   "source": [
    "df_house.head()"
   ]
  },
  {
   "cell_type": "markdown",
   "metadata": {},
   "source": [
    "### 필요없는 컬럼 제거"
   ]
  },
  {
   "cell_type": "code",
   "execution_count": 166,
   "metadata": {},
   "outputs": [
    {
     "data": {
      "text/html": [
       "<div>\n",
       "<style scoped>\n",
       "    .dataframe tbody tr th:only-of-type {\n",
       "        vertical-align: middle;\n",
       "    }\n",
       "\n",
       "    .dataframe tbody tr th {\n",
       "        vertical-align: top;\n",
       "    }\n",
       "\n",
       "    .dataframe thead th {\n",
       "        text-align: right;\n",
       "    }\n",
       "</style>\n",
       "<table border=\"1\" class=\"dataframe\">\n",
       "  <thead>\n",
       "    <tr style=\"text-align: right;\">\n",
       "      <th></th>\n",
       "      <th>지역명</th>\n",
       "      <th>연도</th>\n",
       "      <th>월</th>\n",
       "      <th>분양가격</th>\n",
       "      <th>평당분양가격</th>\n",
       "      <th>전용면적</th>\n",
       "    </tr>\n",
       "  </thead>\n",
       "  <tbody>\n",
       "    <tr>\n",
       "      <th>255</th>\n",
       "      <td>서울</td>\n",
       "      <td>2016</td>\n",
       "      <td>1</td>\n",
       "      <td>6108.0</td>\n",
       "      <td>20156.4</td>\n",
       "      <td>모든면적</td>\n",
       "    </tr>\n",
       "    <tr>\n",
       "      <th>256</th>\n",
       "      <td>서울</td>\n",
       "      <td>2016</td>\n",
       "      <td>1</td>\n",
       "      <td>6427.0</td>\n",
       "      <td>21209.1</td>\n",
       "      <td>60㎡</td>\n",
       "    </tr>\n",
       "    <tr>\n",
       "      <th>257</th>\n",
       "      <td>서울</td>\n",
       "      <td>2016</td>\n",
       "      <td>1</td>\n",
       "      <td>6036.0</td>\n",
       "      <td>19918.8</td>\n",
       "      <td>60㎡~85㎡</td>\n",
       "    </tr>\n",
       "    <tr>\n",
       "      <th>258</th>\n",
       "      <td>서울</td>\n",
       "      <td>2016</td>\n",
       "      <td>1</td>\n",
       "      <td>6513.0</td>\n",
       "      <td>21492.9</td>\n",
       "      <td>85㎡~102㎡</td>\n",
       "    </tr>\n",
       "    <tr>\n",
       "      <th>259</th>\n",
       "      <td>서울</td>\n",
       "      <td>2016</td>\n",
       "      <td>1</td>\n",
       "      <td>6551.0</td>\n",
       "      <td>21618.3</td>\n",
       "      <td>102㎡~</td>\n",
       "    </tr>\n",
       "    <tr>\n",
       "      <th>...</th>\n",
       "      <td>...</td>\n",
       "      <td>...</td>\n",
       "      <td>...</td>\n",
       "      <td>...</td>\n",
       "      <td>...</td>\n",
       "      <td>...</td>\n",
       "    </tr>\n",
       "    <tr>\n",
       "      <th>5350</th>\n",
       "      <td>제주</td>\n",
       "      <td>2020</td>\n",
       "      <td>12</td>\n",
       "      <td>4648.0</td>\n",
       "      <td>15338.4</td>\n",
       "      <td>모든면적</td>\n",
       "    </tr>\n",
       "    <tr>\n",
       "      <th>5351</th>\n",
       "      <td>제주</td>\n",
       "      <td>2020</td>\n",
       "      <td>12</td>\n",
       "      <td>4363.0</td>\n",
       "      <td>14397.9</td>\n",
       "      <td>60㎡</td>\n",
       "    </tr>\n",
       "    <tr>\n",
       "      <th>5352</th>\n",
       "      <td>제주</td>\n",
       "      <td>2020</td>\n",
       "      <td>12</td>\n",
       "      <td>4660.0</td>\n",
       "      <td>15378.0</td>\n",
       "      <td>60㎡~85㎡</td>\n",
       "    </tr>\n",
       "    <tr>\n",
       "      <th>5353</th>\n",
       "      <td>제주</td>\n",
       "      <td>2020</td>\n",
       "      <td>12</td>\n",
       "      <td>NaN</td>\n",
       "      <td>NaN</td>\n",
       "      <td>85㎡~102㎡</td>\n",
       "    </tr>\n",
       "    <tr>\n",
       "      <th>5354</th>\n",
       "      <td>제주</td>\n",
       "      <td>2020</td>\n",
       "      <td>12</td>\n",
       "      <td>NaN</td>\n",
       "      <td>NaN</td>\n",
       "      <td>102㎡~</td>\n",
       "    </tr>\n",
       "  </tbody>\n",
       "</table>\n",
       "<p>5100 rows × 6 columns</p>\n",
       "</div>"
      ],
      "text/plain": [
       "     지역명    연도   월    분양가격   평당분양가격      전용면적\n",
       "255   서울  2016   1  6108.0  20156.4      모든면적\n",
       "256   서울  2016   1  6427.0  21209.1       60㎡\n",
       "257   서울  2016   1  6036.0  19918.8   60㎡~85㎡\n",
       "258   서울  2016   1  6513.0  21492.9  85㎡~102㎡\n",
       "259   서울  2016   1  6551.0  21618.3     102㎡~\n",
       "...   ..   ...  ..     ...      ...       ...\n",
       "5350  제주  2020  12  4648.0  15338.4      모든면적\n",
       "5351  제주  2020  12  4363.0  14397.9       60㎡\n",
       "5352  제주  2020  12  4660.0  15378.0   60㎡~85㎡\n",
       "5353  제주  2020  12     NaN      NaN  85㎡~102㎡\n",
       "5354  제주  2020  12     NaN      NaN     102㎡~\n",
       "\n",
       "[5100 rows x 6 columns]"
      ]
     },
     "execution_count": 166,
     "metadata": {},
     "output_type": "execute_result"
    }
   ],
   "source": [
    "df_house = df_house.drop(['규모구분','분양가격(㎡)'],axis=1)\n",
    "df_house"
   ]
  },
  {
   "cell_type": "code",
   "execution_count": 167,
   "metadata": {},
   "outputs": [
    {
     "name": "stdout",
     "output_type": "stream",
     "text": [
      "<class 'pandas.core.frame.DataFrame'>\n",
      "Int64Index: 5100 entries, 255 to 5354\n",
      "Data columns (total 6 columns):\n",
      " #   Column  Non-Null Count  Dtype  \n",
      "---  ------  --------------  -----  \n",
      " 0   지역명     5100 non-null   object \n",
      " 1   연도      5100 non-null   int64  \n",
      " 2   월       5100 non-null   int64  \n",
      " 3   분양가격    4596 non-null   float64\n",
      " 4   평당분양가격  4596 non-null   float64\n",
      " 5   전용면적    5100 non-null   object \n",
      "dtypes: float64(2), int64(2), object(2)\n",
      "memory usage: 278.9+ KB\n"
     ]
    }
   ],
   "source": [
    "df_house.info()"
   ]
  },
  {
   "cell_type": "code",
   "execution_count": 168,
   "metadata": {},
   "outputs": [
    {
     "data": {
      "text/plain": [
       "전용면적   지역명\n",
       "102㎡~  강원     2848.288136\n",
       "       경기     4587.813559\n",
       "       경남     3134.269231\n",
       "       경북     2848.196429\n",
       "       광주     3606.857143\n",
       "                 ...     \n",
       "모든면적   전남     2309.135593\n",
       "       전북     2282.101695\n",
       "       제주     3551.745763\n",
       "       충남     2443.220339\n",
       "       충북     2242.067797\n",
       "Name: 분양가격, Length: 85, dtype: float64"
      ]
     },
     "execution_count": 168,
     "metadata": {},
     "output_type": "execute_result"
    }
   ],
   "source": [
    "df_house.groupby(['전용면적','지역명'])['분양가격'].mean()"
   ]
  },
  {
   "cell_type": "code",
   "execution_count": 169,
   "metadata": {},
   "outputs": [
    {
     "data": {
      "text/plain": [
       "array(['서울', '인천', '경기', '부산', '대구', '광주', '대전', '울산', '세종', '강원', '충북',\n",
       "       '충남', '전북', '전남', '경북', '경남', '제주'], dtype=object)"
      ]
     },
     "execution_count": 169,
     "metadata": {},
     "output_type": "execute_result"
    }
   ],
   "source": [
    "korea = df_house['지역명'].unique()\n",
    "korea"
   ]
  },
  {
   "cell_type": "code",
   "execution_count": 170,
   "metadata": {},
   "outputs": [
    {
     "name": "stdout",
     "output_type": "stream",
     "text": [
      "서울  지역 널 갯수는 : 5 \n",
      "\n",
      "인천  지역 널 갯수는 : 9 \n",
      "\n",
      "경기  지역 널 갯수는 : 5 \n",
      "\n",
      "부산  지역 널 갯수는 : 5 \n",
      "\n",
      "대구  지역 널 갯수는 : 13 \n",
      "\n",
      "광주  지역 널 갯수는 : 52 \n",
      "\n",
      "대전  지역 널 갯수는 : 76 \n",
      "\n",
      "울산  지역 널 갯수는 : 122 \n",
      "\n",
      "세종  지역 널 갯수는 : 60 \n",
      "\n",
      "강원  지역 널 갯수는 : 17 \n",
      "\n",
      "충북  지역 널 갯수는 : 7 \n",
      "\n",
      "충남  지역 널 갯수는 : 21 \n",
      "\n",
      "전북  지역 널 갯수는 : 7 \n",
      "\n",
      "전남  지역 널 갯수는 : 11 \n",
      "\n",
      "경북  지역 널 갯수는 : 26 \n",
      "\n",
      "경남  지역 널 갯수는 : 14 \n",
      "\n",
      "제주  지역 널 갯수는 : 54 \n",
      "\n"
     ]
    }
   ],
   "source": [
    "for i in korea:\n",
    "    j = df_house[df_house['지역명'] == i].copy()\n",
    "    print(i,' 지역 널 갯수는 :', end=' ')\n",
    "    print(j['분양가격'].isnull().sum(),'\\n')"
   ]
  },
  {
   "cell_type": "markdown",
   "metadata": {},
   "source": [
    "### 위에서 널값이 20개 이하인 지역만 가져와서 전처리 할예정 집값의 기준을 마음대로 설정할수 없어 널값 최대한 줄이기 위함"
   ]
  },
  {
   "cell_type": "code",
   "execution_count": 171,
   "metadata": {},
   "outputs": [
    {
     "name": "stdout",
     "output_type": "stream",
     "text": [
      "서울  지역 널 갯수는 : 5 \n",
      "\n",
      "인천  지역 널 갯수는 : 9 \n",
      "\n",
      "경기  지역 널 갯수는 : 5 \n",
      "\n",
      "부산  지역 널 갯수는 : 5 \n",
      "\n",
      "대구  지역 널 갯수는 : 13 \n",
      "\n",
      "강원  지역 널 갯수는 : 17 \n",
      "\n",
      "충북  지역 널 갯수는 : 7 \n",
      "\n",
      "전북  지역 널 갯수는 : 7 \n",
      "\n",
      "전남  지역 널 갯수는 : 11 \n",
      "\n",
      "경남  지역 널 갯수는 : 14 \n",
      "\n"
     ]
    }
   ],
   "source": [
    "for i in korea:\n",
    "    j = df_house[df_house['지역명'] == i].copy()\n",
    "    if j['분양가격'].isnull().sum() <= 20:\n",
    "        print(i,' 지역 널 갯수는 :', end=' ')\n",
    "        print(j['분양가격'].isnull().sum(),'\\n')"
   ]
  },
  {
   "cell_type": "code",
   "execution_count": 172,
   "metadata": {},
   "outputs": [],
   "source": [
    "df_house_dosi = df_house.loc[(df_house['지역명'] == '서울') | (df_house['지역명'] == '인천') |\n",
    "                             (df_house['지역명'] == '경기') | (df_house['지역명'] == '부산') |\n",
    "                             (df_house['지역명'] == '대구') | (df_house['지역명'] == '강원') |\n",
    "                             (df_house['지역명'] == '충북') | (df_house['지역명'] == '전북') |\n",
    "                             (df_house['지역명'] == '전남') | (df_house['지역명'] == '경남') ].copy()"
   ]
  },
  {
   "cell_type": "code",
   "execution_count": 173,
   "metadata": {},
   "outputs": [
    {
     "data": {
      "text/plain": [
       "지역명        0\n",
       "연도         0\n",
       "월          0\n",
       "분양가격      93\n",
       "평당분양가격    93\n",
       "전용면적       0\n",
       "dtype: int64"
      ]
     },
     "execution_count": 173,
     "metadata": {},
     "output_type": "execute_result"
    }
   ],
   "source": [
    "df_house_dosi.isnull().sum()"
   ]
  },
  {
   "cell_type": "code",
   "execution_count": 174,
   "metadata": {},
   "outputs": [
    {
     "data": {
      "text/plain": [
       "Int64Index([ 255,  256,  257,  258,  259,  260,  261,  262,  263,  264,\n",
       "            ...\n",
       "            5335, 5336, 5337, 5338, 5339, 5345, 5346, 5347, 5348, 5349],\n",
       "           dtype='int64', length=3000)"
      ]
     },
     "execution_count": 174,
     "metadata": {},
     "output_type": "execute_result"
    }
   ],
   "source": [
    "df_house_dosi.index"
   ]
  },
  {
   "cell_type": "code",
   "execution_count": 175,
   "metadata": {},
   "outputs": [
    {
     "data": {
      "text/html": [
       "<div>\n",
       "<style scoped>\n",
       "    .dataframe tbody tr th:only-of-type {\n",
       "        vertical-align: middle;\n",
       "    }\n",
       "\n",
       "    .dataframe tbody tr th {\n",
       "        vertical-align: top;\n",
       "    }\n",
       "\n",
       "    .dataframe thead th {\n",
       "        text-align: right;\n",
       "    }\n",
       "</style>\n",
       "<table border=\"1\" class=\"dataframe\">\n",
       "  <thead>\n",
       "    <tr style=\"text-align: right;\">\n",
       "      <th></th>\n",
       "      <th>지역명</th>\n",
       "      <th>연도</th>\n",
       "      <th>월</th>\n",
       "      <th>분양가격</th>\n",
       "      <th>평당분양가격</th>\n",
       "      <th>전용면적</th>\n",
       "    </tr>\n",
       "  </thead>\n",
       "  <tbody>\n",
       "    <tr>\n",
       "      <th>255</th>\n",
       "      <td>서울</td>\n",
       "      <td>2016</td>\n",
       "      <td>1</td>\n",
       "      <td>6108.0</td>\n",
       "      <td>20156.4</td>\n",
       "      <td>모든면적</td>\n",
       "    </tr>\n",
       "    <tr>\n",
       "      <th>256</th>\n",
       "      <td>서울</td>\n",
       "      <td>2016</td>\n",
       "      <td>1</td>\n",
       "      <td>6427.0</td>\n",
       "      <td>21209.1</td>\n",
       "      <td>60㎡</td>\n",
       "    </tr>\n",
       "    <tr>\n",
       "      <th>257</th>\n",
       "      <td>서울</td>\n",
       "      <td>2016</td>\n",
       "      <td>1</td>\n",
       "      <td>6036.0</td>\n",
       "      <td>19918.8</td>\n",
       "      <td>60㎡~85㎡</td>\n",
       "    </tr>\n",
       "    <tr>\n",
       "      <th>258</th>\n",
       "      <td>서울</td>\n",
       "      <td>2016</td>\n",
       "      <td>1</td>\n",
       "      <td>6513.0</td>\n",
       "      <td>21492.9</td>\n",
       "      <td>85㎡~102㎡</td>\n",
       "    </tr>\n",
       "    <tr>\n",
       "      <th>259</th>\n",
       "      <td>서울</td>\n",
       "      <td>2016</td>\n",
       "      <td>1</td>\n",
       "      <td>6551.0</td>\n",
       "      <td>21618.3</td>\n",
       "      <td>102㎡~</td>\n",
       "    </tr>\n",
       "  </tbody>\n",
       "</table>\n",
       "</div>"
      ],
      "text/plain": [
       "    지역명    연도  월    분양가격   평당분양가격      전용면적\n",
       "255  서울  2016  1  6108.0  20156.4      모든면적\n",
       "256  서울  2016  1  6427.0  21209.1       60㎡\n",
       "257  서울  2016  1  6036.0  19918.8   60㎡~85㎡\n",
       "258  서울  2016  1  6513.0  21492.9  85㎡~102㎡\n",
       "259  서울  2016  1  6551.0  21618.3     102㎡~"
      ]
     },
     "execution_count": 175,
     "metadata": {},
     "output_type": "execute_result"
    }
   ],
   "source": [
    "df_house_dosi.head()"
   ]
  },
  {
   "cell_type": "markdown",
   "metadata": {},
   "source": [
    "### 분양가격은 평당분양가격으로 처리해줘서 필요없음"
   ]
  },
  {
   "cell_type": "code",
   "execution_count": 176,
   "metadata": {},
   "outputs": [],
   "source": [
    "df_house_dosi = df_house_dosi.drop('분양가격',axis = 1).copy()"
   ]
  },
  {
   "cell_type": "code",
   "execution_count": 177,
   "metadata": {},
   "outputs": [
    {
     "data": {
      "text/html": [
       "<div>\n",
       "<style scoped>\n",
       "    .dataframe tbody tr th:only-of-type {\n",
       "        vertical-align: middle;\n",
       "    }\n",
       "\n",
       "    .dataframe tbody tr th {\n",
       "        vertical-align: top;\n",
       "    }\n",
       "\n",
       "    .dataframe thead th {\n",
       "        text-align: right;\n",
       "    }\n",
       "</style>\n",
       "<table border=\"1\" class=\"dataframe\">\n",
       "  <thead>\n",
       "    <tr style=\"text-align: right;\">\n",
       "      <th></th>\n",
       "      <th>지역명</th>\n",
       "      <th>연도</th>\n",
       "      <th>월</th>\n",
       "      <th>평당분양가격</th>\n",
       "      <th>전용면적</th>\n",
       "    </tr>\n",
       "  </thead>\n",
       "  <tbody>\n",
       "    <tr>\n",
       "      <th>255</th>\n",
       "      <td>서울</td>\n",
       "      <td>2016</td>\n",
       "      <td>1</td>\n",
       "      <td>20156.4</td>\n",
       "      <td>모든면적</td>\n",
       "    </tr>\n",
       "    <tr>\n",
       "      <th>256</th>\n",
       "      <td>서울</td>\n",
       "      <td>2016</td>\n",
       "      <td>1</td>\n",
       "      <td>21209.1</td>\n",
       "      <td>60㎡</td>\n",
       "    </tr>\n",
       "    <tr>\n",
       "      <th>257</th>\n",
       "      <td>서울</td>\n",
       "      <td>2016</td>\n",
       "      <td>1</td>\n",
       "      <td>19918.8</td>\n",
       "      <td>60㎡~85㎡</td>\n",
       "    </tr>\n",
       "    <tr>\n",
       "      <th>258</th>\n",
       "      <td>서울</td>\n",
       "      <td>2016</td>\n",
       "      <td>1</td>\n",
       "      <td>21492.9</td>\n",
       "      <td>85㎡~102㎡</td>\n",
       "    </tr>\n",
       "    <tr>\n",
       "      <th>259</th>\n",
       "      <td>서울</td>\n",
       "      <td>2016</td>\n",
       "      <td>1</td>\n",
       "      <td>21618.3</td>\n",
       "      <td>102㎡~</td>\n",
       "    </tr>\n",
       "    <tr>\n",
       "      <th>...</th>\n",
       "      <td>...</td>\n",
       "      <td>...</td>\n",
       "      <td>...</td>\n",
       "      <td>...</td>\n",
       "      <td>...</td>\n",
       "    </tr>\n",
       "    <tr>\n",
       "      <th>5345</th>\n",
       "      <td>경남</td>\n",
       "      <td>2020</td>\n",
       "      <td>12</td>\n",
       "      <td>9860.4</td>\n",
       "      <td>모든면적</td>\n",
       "    </tr>\n",
       "    <tr>\n",
       "      <th>5346</th>\n",
       "      <td>경남</td>\n",
       "      <td>2020</td>\n",
       "      <td>12</td>\n",
       "      <td>9702.0</td>\n",
       "      <td>60㎡</td>\n",
       "    </tr>\n",
       "    <tr>\n",
       "      <th>5347</th>\n",
       "      <td>경남</td>\n",
       "      <td>2020</td>\n",
       "      <td>12</td>\n",
       "      <td>9810.9</td>\n",
       "      <td>60㎡~85㎡</td>\n",
       "    </tr>\n",
       "    <tr>\n",
       "      <th>5348</th>\n",
       "      <td>경남</td>\n",
       "      <td>2020</td>\n",
       "      <td>12</td>\n",
       "      <td>15576.0</td>\n",
       "      <td>85㎡~102㎡</td>\n",
       "    </tr>\n",
       "    <tr>\n",
       "      <th>5349</th>\n",
       "      <td>경남</td>\n",
       "      <td>2020</td>\n",
       "      <td>12</td>\n",
       "      <td>10447.8</td>\n",
       "      <td>102㎡~</td>\n",
       "    </tr>\n",
       "  </tbody>\n",
       "</table>\n",
       "<p>3000 rows × 5 columns</p>\n",
       "</div>"
      ],
      "text/plain": [
       "     지역명    연도   월   평당분양가격      전용면적\n",
       "255   서울  2016   1  20156.4      모든면적\n",
       "256   서울  2016   1  21209.1       60㎡\n",
       "257   서울  2016   1  19918.8   60㎡~85㎡\n",
       "258   서울  2016   1  21492.9  85㎡~102㎡\n",
       "259   서울  2016   1  21618.3     102㎡~\n",
       "...   ..   ...  ..      ...       ...\n",
       "5345  경남  2020  12   9860.4      모든면적\n",
       "5346  경남  2020  12   9702.0       60㎡\n",
       "5347  경남  2020  12   9810.9   60㎡~85㎡\n",
       "5348  경남  2020  12  15576.0  85㎡~102㎡\n",
       "5349  경남  2020  12  10447.8     102㎡~\n",
       "\n",
       "[3000 rows x 5 columns]"
      ]
     },
     "execution_count": 177,
     "metadata": {},
     "output_type": "execute_result"
    }
   ],
   "source": [
    "df_house_dosi"
   ]
  },
  {
   "cell_type": "markdown",
   "metadata": {},
   "source": [
    "### 모든 면적값은 어짜피 다른 전용면적에서 다 처리해줘서 필요없다고 판단하여 제거"
   ]
  },
  {
   "cell_type": "code",
   "execution_count": 178,
   "metadata": {},
   "outputs": [
    {
     "data": {
      "text/html": [
       "<div>\n",
       "<style scoped>\n",
       "    .dataframe tbody tr th:only-of-type {\n",
       "        vertical-align: middle;\n",
       "    }\n",
       "\n",
       "    .dataframe tbody tr th {\n",
       "        vertical-align: top;\n",
       "    }\n",
       "\n",
       "    .dataframe thead th {\n",
       "        text-align: right;\n",
       "    }\n",
       "</style>\n",
       "<table border=\"1\" class=\"dataframe\">\n",
       "  <thead>\n",
       "    <tr style=\"text-align: right;\">\n",
       "      <th></th>\n",
       "      <th>지역명</th>\n",
       "      <th>연도</th>\n",
       "      <th>월</th>\n",
       "      <th>평당분양가격</th>\n",
       "      <th>전용면적</th>\n",
       "    </tr>\n",
       "  </thead>\n",
       "  <tbody>\n",
       "    <tr>\n",
       "      <th>256</th>\n",
       "      <td>서울</td>\n",
       "      <td>2016</td>\n",
       "      <td>1</td>\n",
       "      <td>21209.1</td>\n",
       "      <td>60㎡</td>\n",
       "    </tr>\n",
       "    <tr>\n",
       "      <th>257</th>\n",
       "      <td>서울</td>\n",
       "      <td>2016</td>\n",
       "      <td>1</td>\n",
       "      <td>19918.8</td>\n",
       "      <td>60㎡~85㎡</td>\n",
       "    </tr>\n",
       "    <tr>\n",
       "      <th>258</th>\n",
       "      <td>서울</td>\n",
       "      <td>2016</td>\n",
       "      <td>1</td>\n",
       "      <td>21492.9</td>\n",
       "      <td>85㎡~102㎡</td>\n",
       "    </tr>\n",
       "    <tr>\n",
       "      <th>259</th>\n",
       "      <td>서울</td>\n",
       "      <td>2016</td>\n",
       "      <td>1</td>\n",
       "      <td>21618.3</td>\n",
       "      <td>102㎡~</td>\n",
       "    </tr>\n",
       "    <tr>\n",
       "      <th>261</th>\n",
       "      <td>인천</td>\n",
       "      <td>2016</td>\n",
       "      <td>1</td>\n",
       "      <td>10982.4</td>\n",
       "      <td>60㎡</td>\n",
       "    </tr>\n",
       "    <tr>\n",
       "      <th>...</th>\n",
       "      <td>...</td>\n",
       "      <td>...</td>\n",
       "      <td>...</td>\n",
       "      <td>...</td>\n",
       "      <td>...</td>\n",
       "    </tr>\n",
       "    <tr>\n",
       "      <th>5339</th>\n",
       "      <td>전남</td>\n",
       "      <td>2020</td>\n",
       "      <td>12</td>\n",
       "      <td>10929.6</td>\n",
       "      <td>102㎡~</td>\n",
       "    </tr>\n",
       "    <tr>\n",
       "      <th>5346</th>\n",
       "      <td>경남</td>\n",
       "      <td>2020</td>\n",
       "      <td>12</td>\n",
       "      <td>9702.0</td>\n",
       "      <td>60㎡</td>\n",
       "    </tr>\n",
       "    <tr>\n",
       "      <th>5347</th>\n",
       "      <td>경남</td>\n",
       "      <td>2020</td>\n",
       "      <td>12</td>\n",
       "      <td>9810.9</td>\n",
       "      <td>60㎡~85㎡</td>\n",
       "    </tr>\n",
       "    <tr>\n",
       "      <th>5348</th>\n",
       "      <td>경남</td>\n",
       "      <td>2020</td>\n",
       "      <td>12</td>\n",
       "      <td>15576.0</td>\n",
       "      <td>85㎡~102㎡</td>\n",
       "    </tr>\n",
       "    <tr>\n",
       "      <th>5349</th>\n",
       "      <td>경남</td>\n",
       "      <td>2020</td>\n",
       "      <td>12</td>\n",
       "      <td>10447.8</td>\n",
       "      <td>102㎡~</td>\n",
       "    </tr>\n",
       "  </tbody>\n",
       "</table>\n",
       "<p>2400 rows × 5 columns</p>\n",
       "</div>"
      ],
      "text/plain": [
       "     지역명    연도   월   평당분양가격      전용면적\n",
       "256   서울  2016   1  21209.1       60㎡\n",
       "257   서울  2016   1  19918.8   60㎡~85㎡\n",
       "258   서울  2016   1  21492.9  85㎡~102㎡\n",
       "259   서울  2016   1  21618.3     102㎡~\n",
       "261   인천  2016   1  10982.4       60㎡\n",
       "...   ..   ...  ..      ...       ...\n",
       "5339  전남  2020  12  10929.6     102㎡~\n",
       "5346  경남  2020  12   9702.0       60㎡\n",
       "5347  경남  2020  12   9810.9   60㎡~85㎡\n",
       "5348  경남  2020  12  15576.0  85㎡~102㎡\n",
       "5349  경남  2020  12  10447.8     102㎡~\n",
       "\n",
       "[2400 rows x 5 columns]"
      ]
     },
     "execution_count": 178,
     "metadata": {},
     "output_type": "execute_result"
    }
   ],
   "source": [
    "df_house_dosi = df_house_dosi[df_house_dosi['전용면적'] != '모든면적'].copy()\n",
    "df_house_dosi"
   ]
  },
  {
   "cell_type": "markdown",
   "metadata": {},
   "source": [
    "### 지역별로 나누어서 평당분양가격 전처리 할 예정"
   ]
  },
  {
   "cell_type": "code",
   "execution_count": 179,
   "metadata": {},
   "outputs": [
    {
     "data": {
      "text/plain": [
       "array(['서울', '인천', '경기', '부산', '대구', '강원', '충북', '전북', '전남', '경남'],\n",
       "      dtype=object)"
      ]
     },
     "execution_count": 179,
     "metadata": {},
     "output_type": "execute_result"
    }
   ],
   "source": [
    "df_house_dosi['지역명'].unique()"
   ]
  },
  {
   "cell_type": "markdown",
   "metadata": {},
   "source": [
    "#### 서울"
   ]
  },
  {
   "cell_type": "code",
   "execution_count": 180,
   "metadata": {},
   "outputs": [
    {
     "data": {
      "text/html": [
       "<div>\n",
       "<style scoped>\n",
       "    .dataframe tbody tr th:only-of-type {\n",
       "        vertical-align: middle;\n",
       "    }\n",
       "\n",
       "    .dataframe tbody tr th {\n",
       "        vertical-align: top;\n",
       "    }\n",
       "\n",
       "    .dataframe thead th {\n",
       "        text-align: right;\n",
       "    }\n",
       "</style>\n",
       "<table border=\"1\" class=\"dataframe\">\n",
       "  <thead>\n",
       "    <tr style=\"text-align: right;\">\n",
       "      <th></th>\n",
       "      <th>지역명</th>\n",
       "      <th>연도</th>\n",
       "      <th>월</th>\n",
       "      <th>평당분양가격</th>\n",
       "      <th>전용면적</th>\n",
       "    </tr>\n",
       "  </thead>\n",
       "  <tbody>\n",
       "    <tr>\n",
       "      <th>256</th>\n",
       "      <td>서울</td>\n",
       "      <td>2016</td>\n",
       "      <td>1</td>\n",
       "      <td>21209.1</td>\n",
       "      <td>60㎡</td>\n",
       "    </tr>\n",
       "    <tr>\n",
       "      <th>257</th>\n",
       "      <td>서울</td>\n",
       "      <td>2016</td>\n",
       "      <td>1</td>\n",
       "      <td>19918.8</td>\n",
       "      <td>60㎡~85㎡</td>\n",
       "    </tr>\n",
       "    <tr>\n",
       "      <th>258</th>\n",
       "      <td>서울</td>\n",
       "      <td>2016</td>\n",
       "      <td>1</td>\n",
       "      <td>21492.9</td>\n",
       "      <td>85㎡~102㎡</td>\n",
       "    </tr>\n",
       "    <tr>\n",
       "      <th>259</th>\n",
       "      <td>서울</td>\n",
       "      <td>2016</td>\n",
       "      <td>1</td>\n",
       "      <td>21618.3</td>\n",
       "      <td>102㎡~</td>\n",
       "    </tr>\n",
       "    <tr>\n",
       "      <th>341</th>\n",
       "      <td>서울</td>\n",
       "      <td>2016</td>\n",
       "      <td>2</td>\n",
       "      <td>21245.4</td>\n",
       "      <td>60㎡</td>\n",
       "    </tr>\n",
       "  </tbody>\n",
       "</table>\n",
       "</div>"
      ],
      "text/plain": [
       "    지역명    연도  월   평당분양가격      전용면적\n",
       "256  서울  2016  1  21209.1       60㎡\n",
       "257  서울  2016  1  19918.8   60㎡~85㎡\n",
       "258  서울  2016  1  21492.9  85㎡~102㎡\n",
       "259  서울  2016  1  21618.3     102㎡~\n",
       "341  서울  2016  2  21245.4       60㎡"
      ]
     },
     "execution_count": 180,
     "metadata": {},
     "output_type": "execute_result"
    }
   ],
   "source": [
    "df_house_seoul = df_house_dosi[df_house_dosi['지역명'] == '서울'].copy()\n",
    "df_house_seoul.head()"
   ]
  },
  {
   "cell_type": "code",
   "execution_count": 181,
   "metadata": {},
   "outputs": [
    {
     "data": {
      "text/html": [
       "<div>\n",
       "<style scoped>\n",
       "    .dataframe tbody tr th:only-of-type {\n",
       "        vertical-align: middle;\n",
       "    }\n",
       "\n",
       "    .dataframe tbody tr th {\n",
       "        vertical-align: top;\n",
       "    }\n",
       "\n",
       "    .dataframe thead th {\n",
       "        text-align: right;\n",
       "    }\n",
       "</style>\n",
       "<table border=\"1\" class=\"dataframe\">\n",
       "  <thead>\n",
       "    <tr style=\"text-align: right;\">\n",
       "      <th></th>\n",
       "      <th>index</th>\n",
       "      <th>지역명</th>\n",
       "      <th>연도</th>\n",
       "      <th>월</th>\n",
       "      <th>평당분양가격</th>\n",
       "      <th>전용면적</th>\n",
       "    </tr>\n",
       "  </thead>\n",
       "  <tbody>\n",
       "    <tr>\n",
       "      <th>0</th>\n",
       "      <td>256</td>\n",
       "      <td>서울</td>\n",
       "      <td>2016</td>\n",
       "      <td>1</td>\n",
       "      <td>21209.1</td>\n",
       "      <td>60㎡</td>\n",
       "    </tr>\n",
       "    <tr>\n",
       "      <th>1</th>\n",
       "      <td>257</td>\n",
       "      <td>서울</td>\n",
       "      <td>2016</td>\n",
       "      <td>1</td>\n",
       "      <td>19918.8</td>\n",
       "      <td>60㎡~85㎡</td>\n",
       "    </tr>\n",
       "    <tr>\n",
       "      <th>2</th>\n",
       "      <td>258</td>\n",
       "      <td>서울</td>\n",
       "      <td>2016</td>\n",
       "      <td>1</td>\n",
       "      <td>21492.9</td>\n",
       "      <td>85㎡~102㎡</td>\n",
       "    </tr>\n",
       "    <tr>\n",
       "      <th>3</th>\n",
       "      <td>259</td>\n",
       "      <td>서울</td>\n",
       "      <td>2016</td>\n",
       "      <td>1</td>\n",
       "      <td>21618.3</td>\n",
       "      <td>102㎡~</td>\n",
       "    </tr>\n",
       "    <tr>\n",
       "      <th>4</th>\n",
       "      <td>341</td>\n",
       "      <td>서울</td>\n",
       "      <td>2016</td>\n",
       "      <td>2</td>\n",
       "      <td>21245.4</td>\n",
       "      <td>60㎡</td>\n",
       "    </tr>\n",
       "    <tr>\n",
       "      <th>...</th>\n",
       "      <td>...</td>\n",
       "      <td>...</td>\n",
       "      <td>...</td>\n",
       "      <td>...</td>\n",
       "      <td>...</td>\n",
       "      <td>...</td>\n",
       "    </tr>\n",
       "    <tr>\n",
       "      <th>235</th>\n",
       "      <td>5189</td>\n",
       "      <td>서울</td>\n",
       "      <td>2020</td>\n",
       "      <td>11</td>\n",
       "      <td>28634.1</td>\n",
       "      <td>102㎡~</td>\n",
       "    </tr>\n",
       "    <tr>\n",
       "      <th>236</th>\n",
       "      <td>5271</td>\n",
       "      <td>서울</td>\n",
       "      <td>2020</td>\n",
       "      <td>12</td>\n",
       "      <td>28680.3</td>\n",
       "      <td>60㎡</td>\n",
       "    </tr>\n",
       "    <tr>\n",
       "      <th>237</th>\n",
       "      <td>5272</td>\n",
       "      <td>서울</td>\n",
       "      <td>2020</td>\n",
       "      <td>12</td>\n",
       "      <td>26043.6</td>\n",
       "      <td>60㎡~85㎡</td>\n",
       "    </tr>\n",
       "    <tr>\n",
       "      <th>238</th>\n",
       "      <td>5273</td>\n",
       "      <td>서울</td>\n",
       "      <td>2020</td>\n",
       "      <td>12</td>\n",
       "      <td>32237.7</td>\n",
       "      <td>85㎡~102㎡</td>\n",
       "    </tr>\n",
       "    <tr>\n",
       "      <th>239</th>\n",
       "      <td>5274</td>\n",
       "      <td>서울</td>\n",
       "      <td>2020</td>\n",
       "      <td>12</td>\n",
       "      <td>31287.3</td>\n",
       "      <td>102㎡~</td>\n",
       "    </tr>\n",
       "  </tbody>\n",
       "</table>\n",
       "<p>240 rows × 6 columns</p>\n",
       "</div>"
      ],
      "text/plain": [
       "     index 지역명    연도   월   평당분양가격      전용면적\n",
       "0      256  서울  2016   1  21209.1       60㎡\n",
       "1      257  서울  2016   1  19918.8   60㎡~85㎡\n",
       "2      258  서울  2016   1  21492.9  85㎡~102㎡\n",
       "3      259  서울  2016   1  21618.3     102㎡~\n",
       "4      341  서울  2016   2  21245.4       60㎡\n",
       "..     ...  ..   ...  ..      ...       ...\n",
       "235   5189  서울  2020  11  28634.1     102㎡~\n",
       "236   5271  서울  2020  12  28680.3       60㎡\n",
       "237   5272  서울  2020  12  26043.6   60㎡~85㎡\n",
       "238   5273  서울  2020  12  32237.7  85㎡~102㎡\n",
       "239   5274  서울  2020  12  31287.3     102㎡~\n",
       "\n",
       "[240 rows x 6 columns]"
      ]
     },
     "execution_count": 181,
     "metadata": {},
     "output_type": "execute_result"
    }
   ],
   "source": [
    "df_house_seoul = df_house_seoul.reset_index()\n",
    "df_house_seoul"
   ]
  },
  {
   "cell_type": "code",
   "execution_count": 182,
   "metadata": {},
   "outputs": [
    {
     "data": {
      "text/html": [
       "<div>\n",
       "<style scoped>\n",
       "    .dataframe tbody tr th:only-of-type {\n",
       "        vertical-align: middle;\n",
       "    }\n",
       "\n",
       "    .dataframe tbody tr th {\n",
       "        vertical-align: top;\n",
       "    }\n",
       "\n",
       "    .dataframe thead th {\n",
       "        text-align: right;\n",
       "    }\n",
       "</style>\n",
       "<table border=\"1\" class=\"dataframe\">\n",
       "  <thead>\n",
       "    <tr style=\"text-align: right;\">\n",
       "      <th></th>\n",
       "      <th>level_0</th>\n",
       "      <th>index</th>\n",
       "      <th>지역명</th>\n",
       "      <th>연도</th>\n",
       "      <th>월</th>\n",
       "      <th>평당분양가격</th>\n",
       "      <th>전용면적</th>\n",
       "    </tr>\n",
       "  </thead>\n",
       "  <tbody>\n",
       "    <tr>\n",
       "      <th>0</th>\n",
       "      <td>0</td>\n",
       "      <td>256</td>\n",
       "      <td>서울</td>\n",
       "      <td>2016</td>\n",
       "      <td>1</td>\n",
       "      <td>21209.1</td>\n",
       "      <td>60㎡</td>\n",
       "    </tr>\n",
       "    <tr>\n",
       "      <th>1</th>\n",
       "      <td>1</td>\n",
       "      <td>257</td>\n",
       "      <td>서울</td>\n",
       "      <td>2016</td>\n",
       "      <td>1</td>\n",
       "      <td>19918.8</td>\n",
       "      <td>60㎡~85㎡</td>\n",
       "    </tr>\n",
       "    <tr>\n",
       "      <th>2</th>\n",
       "      <td>2</td>\n",
       "      <td>258</td>\n",
       "      <td>서울</td>\n",
       "      <td>2016</td>\n",
       "      <td>1</td>\n",
       "      <td>21492.9</td>\n",
       "      <td>85㎡~102㎡</td>\n",
       "    </tr>\n",
       "    <tr>\n",
       "      <th>3</th>\n",
       "      <td>3</td>\n",
       "      <td>259</td>\n",
       "      <td>서울</td>\n",
       "      <td>2016</td>\n",
       "      <td>1</td>\n",
       "      <td>21618.3</td>\n",
       "      <td>102㎡~</td>\n",
       "    </tr>\n",
       "    <tr>\n",
       "      <th>4</th>\n",
       "      <td>4</td>\n",
       "      <td>341</td>\n",
       "      <td>서울</td>\n",
       "      <td>2016</td>\n",
       "      <td>2</td>\n",
       "      <td>21245.4</td>\n",
       "      <td>60㎡</td>\n",
       "    </tr>\n",
       "    <tr>\n",
       "      <th>...</th>\n",
       "      <td>...</td>\n",
       "      <td>...</td>\n",
       "      <td>...</td>\n",
       "      <td>...</td>\n",
       "      <td>...</td>\n",
       "      <td>...</td>\n",
       "      <td>...</td>\n",
       "    </tr>\n",
       "    <tr>\n",
       "      <th>235</th>\n",
       "      <td>235</td>\n",
       "      <td>5189</td>\n",
       "      <td>서울</td>\n",
       "      <td>2020</td>\n",
       "      <td>11</td>\n",
       "      <td>28634.1</td>\n",
       "      <td>102㎡~</td>\n",
       "    </tr>\n",
       "    <tr>\n",
       "      <th>236</th>\n",
       "      <td>236</td>\n",
       "      <td>5271</td>\n",
       "      <td>서울</td>\n",
       "      <td>2020</td>\n",
       "      <td>12</td>\n",
       "      <td>28680.3</td>\n",
       "      <td>60㎡</td>\n",
       "    </tr>\n",
       "    <tr>\n",
       "      <th>237</th>\n",
       "      <td>237</td>\n",
       "      <td>5272</td>\n",
       "      <td>서울</td>\n",
       "      <td>2020</td>\n",
       "      <td>12</td>\n",
       "      <td>26043.6</td>\n",
       "      <td>60㎡~85㎡</td>\n",
       "    </tr>\n",
       "    <tr>\n",
       "      <th>238</th>\n",
       "      <td>238</td>\n",
       "      <td>5273</td>\n",
       "      <td>서울</td>\n",
       "      <td>2020</td>\n",
       "      <td>12</td>\n",
       "      <td>32237.7</td>\n",
       "      <td>85㎡~102㎡</td>\n",
       "    </tr>\n",
       "    <tr>\n",
       "      <th>239</th>\n",
       "      <td>239</td>\n",
       "      <td>5274</td>\n",
       "      <td>서울</td>\n",
       "      <td>2020</td>\n",
       "      <td>12</td>\n",
       "      <td>31287.3</td>\n",
       "      <td>102㎡~</td>\n",
       "    </tr>\n",
       "  </tbody>\n",
       "</table>\n",
       "<p>240 rows × 7 columns</p>\n",
       "</div>"
      ],
      "text/plain": [
       "     level_0  index 지역명    연도   월   평당분양가격      전용면적\n",
       "0          0    256  서울  2016   1  21209.1       60㎡\n",
       "1          1    257  서울  2016   1  19918.8   60㎡~85㎡\n",
       "2          2    258  서울  2016   1  21492.9  85㎡~102㎡\n",
       "3          3    259  서울  2016   1  21618.3     102㎡~\n",
       "4          4    341  서울  2016   2  21245.4       60㎡\n",
       "..       ...    ...  ..   ...  ..      ...       ...\n",
       "235      235   5189  서울  2020  11  28634.1     102㎡~\n",
       "236      236   5271  서울  2020  12  28680.3       60㎡\n",
       "237      237   5272  서울  2020  12  26043.6   60㎡~85㎡\n",
       "238      238   5273  서울  2020  12  32237.7  85㎡~102㎡\n",
       "239      239   5274  서울  2020  12  31287.3     102㎡~\n",
       "\n",
       "[240 rows x 7 columns]"
      ]
     },
     "execution_count": 182,
     "metadata": {},
     "output_type": "execute_result"
    }
   ],
   "source": [
    "df_house_seoul = df_house_seoul.reset_index()\n",
    "df_house_seoul"
   ]
  },
  {
   "cell_type": "code",
   "execution_count": 183,
   "metadata": {},
   "outputs": [],
   "source": [
    "df_house_seoul = df_house_seoul.drop('index',axis = 1).copy()"
   ]
  },
  {
   "cell_type": "code",
   "execution_count": 184,
   "metadata": {},
   "outputs": [],
   "source": [
    "df_house_seoul.rename(columns = {'level_0' : 'index'}, inplace = True)"
   ]
  },
  {
   "cell_type": "code",
   "execution_count": 185,
   "metadata": {},
   "outputs": [
    {
     "data": {
      "text/html": [
       "<div>\n",
       "<style scoped>\n",
       "    .dataframe tbody tr th:only-of-type {\n",
       "        vertical-align: middle;\n",
       "    }\n",
       "\n",
       "    .dataframe tbody tr th {\n",
       "        vertical-align: top;\n",
       "    }\n",
       "\n",
       "    .dataframe thead th {\n",
       "        text-align: right;\n",
       "    }\n",
       "</style>\n",
       "<table border=\"1\" class=\"dataframe\">\n",
       "  <thead>\n",
       "    <tr style=\"text-align: right;\">\n",
       "      <th></th>\n",
       "      <th>index</th>\n",
       "      <th>지역명</th>\n",
       "      <th>연도</th>\n",
       "      <th>월</th>\n",
       "      <th>평당분양가격</th>\n",
       "      <th>전용면적</th>\n",
       "    </tr>\n",
       "  </thead>\n",
       "  <tbody>\n",
       "    <tr>\n",
       "      <th>0</th>\n",
       "      <td>0</td>\n",
       "      <td>서울</td>\n",
       "      <td>2016</td>\n",
       "      <td>1</td>\n",
       "      <td>21209.1</td>\n",
       "      <td>60㎡</td>\n",
       "    </tr>\n",
       "    <tr>\n",
       "      <th>1</th>\n",
       "      <td>1</td>\n",
       "      <td>서울</td>\n",
       "      <td>2016</td>\n",
       "      <td>1</td>\n",
       "      <td>19918.8</td>\n",
       "      <td>60㎡~85㎡</td>\n",
       "    </tr>\n",
       "    <tr>\n",
       "      <th>2</th>\n",
       "      <td>2</td>\n",
       "      <td>서울</td>\n",
       "      <td>2016</td>\n",
       "      <td>1</td>\n",
       "      <td>21492.9</td>\n",
       "      <td>85㎡~102㎡</td>\n",
       "    </tr>\n",
       "    <tr>\n",
       "      <th>3</th>\n",
       "      <td>3</td>\n",
       "      <td>서울</td>\n",
       "      <td>2016</td>\n",
       "      <td>1</td>\n",
       "      <td>21618.3</td>\n",
       "      <td>102㎡~</td>\n",
       "    </tr>\n",
       "    <tr>\n",
       "      <th>4</th>\n",
       "      <td>4</td>\n",
       "      <td>서울</td>\n",
       "      <td>2016</td>\n",
       "      <td>2</td>\n",
       "      <td>21245.4</td>\n",
       "      <td>60㎡</td>\n",
       "    </tr>\n",
       "    <tr>\n",
       "      <th>...</th>\n",
       "      <td>...</td>\n",
       "      <td>...</td>\n",
       "      <td>...</td>\n",
       "      <td>...</td>\n",
       "      <td>...</td>\n",
       "      <td>...</td>\n",
       "    </tr>\n",
       "    <tr>\n",
       "      <th>235</th>\n",
       "      <td>235</td>\n",
       "      <td>서울</td>\n",
       "      <td>2020</td>\n",
       "      <td>11</td>\n",
       "      <td>28634.1</td>\n",
       "      <td>102㎡~</td>\n",
       "    </tr>\n",
       "    <tr>\n",
       "      <th>236</th>\n",
       "      <td>236</td>\n",
       "      <td>서울</td>\n",
       "      <td>2020</td>\n",
       "      <td>12</td>\n",
       "      <td>28680.3</td>\n",
       "      <td>60㎡</td>\n",
       "    </tr>\n",
       "    <tr>\n",
       "      <th>237</th>\n",
       "      <td>237</td>\n",
       "      <td>서울</td>\n",
       "      <td>2020</td>\n",
       "      <td>12</td>\n",
       "      <td>26043.6</td>\n",
       "      <td>60㎡~85㎡</td>\n",
       "    </tr>\n",
       "    <tr>\n",
       "      <th>238</th>\n",
       "      <td>238</td>\n",
       "      <td>서울</td>\n",
       "      <td>2020</td>\n",
       "      <td>12</td>\n",
       "      <td>32237.7</td>\n",
       "      <td>85㎡~102㎡</td>\n",
       "    </tr>\n",
       "    <tr>\n",
       "      <th>239</th>\n",
       "      <td>239</td>\n",
       "      <td>서울</td>\n",
       "      <td>2020</td>\n",
       "      <td>12</td>\n",
       "      <td>31287.3</td>\n",
       "      <td>102㎡~</td>\n",
       "    </tr>\n",
       "  </tbody>\n",
       "</table>\n",
       "<p>240 rows × 6 columns</p>\n",
       "</div>"
      ],
      "text/plain": [
       "     index 지역명    연도   월   평당분양가격      전용면적\n",
       "0        0  서울  2016   1  21209.1       60㎡\n",
       "1        1  서울  2016   1  19918.8   60㎡~85㎡\n",
       "2        2  서울  2016   1  21492.9  85㎡~102㎡\n",
       "3        3  서울  2016   1  21618.3     102㎡~\n",
       "4        4  서울  2016   2  21245.4       60㎡\n",
       "..     ...  ..   ...  ..      ...       ...\n",
       "235    235  서울  2020  11  28634.1     102㎡~\n",
       "236    236  서울  2020  12  28680.3       60㎡\n",
       "237    237  서울  2020  12  26043.6   60㎡~85㎡\n",
       "238    238  서울  2020  12  32237.7  85㎡~102㎡\n",
       "239    239  서울  2020  12  31287.3     102㎡~\n",
       "\n",
       "[240 rows x 6 columns]"
      ]
     },
     "execution_count": 185,
     "metadata": {},
     "output_type": "execute_result"
    }
   ],
   "source": [
    "df_house_seoul"
   ]
  },
  {
   "cell_type": "code",
   "execution_count": 186,
   "metadata": {},
   "outputs": [
    {
     "data": {
      "text/html": [
       "<div>\n",
       "<style scoped>\n",
       "    .dataframe tbody tr th:only-of-type {\n",
       "        vertical-align: middle;\n",
       "    }\n",
       "\n",
       "    .dataframe tbody tr th {\n",
       "        vertical-align: top;\n",
       "    }\n",
       "\n",
       "    .dataframe thead th {\n",
       "        text-align: right;\n",
       "    }\n",
       "</style>\n",
       "<table border=\"1\" class=\"dataframe\">\n",
       "  <thead>\n",
       "    <tr style=\"text-align: right;\">\n",
       "      <th></th>\n",
       "      <th>index</th>\n",
       "      <th>지역명</th>\n",
       "      <th>연도</th>\n",
       "      <th>월</th>\n",
       "      <th>평당분양가격</th>\n",
       "      <th>전용면적</th>\n",
       "    </tr>\n",
       "  </thead>\n",
       "  <tbody>\n",
       "    <tr>\n",
       "      <th>0</th>\n",
       "      <td>0</td>\n",
       "      <td>서울</td>\n",
       "      <td>2016</td>\n",
       "      <td>1</td>\n",
       "      <td>21209.1</td>\n",
       "      <td>60㎡</td>\n",
       "    </tr>\n",
       "  </tbody>\n",
       "</table>\n",
       "</div>"
      ],
      "text/plain": [
       "   index 지역명    연도  월   평당분양가격 전용면적\n",
       "0      0  서울  2016  1  21209.1  60㎡"
      ]
     },
     "execution_count": 186,
     "metadata": {},
     "output_type": "execute_result"
    }
   ],
   "source": [
    "# df_house_seoul[df_house_seoul['index'] == 0]['평당분양가격']\n",
    "df_house_seoul[df_house_seoul['index'] == 0]"
   ]
  },
  {
   "cell_type": "code",
   "execution_count": 187,
   "metadata": {},
   "outputs": [
    {
     "data": {
      "text/plain": [
       "Int64Index([88, 89, 90, 91], dtype='int64')"
      ]
     },
     "execution_count": 187,
     "metadata": {},
     "output_type": "execute_result"
    }
   ],
   "source": [
    "df_house_seoul[df_house_seoul['평당분양가격'].isnull()].index"
   ]
  },
  {
   "cell_type": "code",
   "execution_count": 188,
   "metadata": {
    "scrolled": true
   },
   "outputs": [
    {
     "data": {
      "text/plain": [
       "-36.29999999999927"
      ]
     },
     "execution_count": 188,
     "metadata": {},
     "output_type": "execute_result"
    }
   ],
   "source": [
    "df_house_seoul['평당분양가격'][0] - df_house_seoul['평당분양가격'][4]"
   ]
  },
  {
   "cell_type": "markdown",
   "metadata": {},
   "source": [
    "Q. i 가 n월일때 평당분양가격이다 이값이 널값일때 어떻게 처리할것인가?"
   ]
  },
  {
   "cell_type": "markdown",
   "metadata": {},
   "source": [
    "A  i = (i + 1) - ((i + 2)-(i + 3)) 로 채울것이다"
   ]
  },
  {
   "cell_type": "code",
   "execution_count": 189,
   "metadata": {},
   "outputs": [
    {
     "name": "stderr",
     "output_type": "stream",
     "text": [
      "<ipython-input-189-4e72e05ef2e6>:2: SettingWithCopyWarning: \n",
      "A value is trying to be set on a copy of a slice from a DataFrame\n",
      "\n",
      "See the caveats in the documentation: https://pandas.pydata.org/pandas-docs/stable/user_guide/indexing.html#returning-a-view-versus-a-copy\n",
      "  df_house_seoul['평당분양가격'][i] = df_house_seoul['평당분양가격'][i+4] - (df_house_seoul['평당분양가격'][i+8] - df_house_seoul['평당분양가격'][i+4])\n"
     ]
    }
   ],
   "source": [
    "for i in df_house_seoul[df_house_seoul['평당분양가격'].isnull()].index:\n",
    "    df_house_seoul['평당분양가격'][i] = df_house_seoul['평당분양가격'][i+4] - (df_house_seoul['평당분양가격'][i+8] - df_house_seoul['평당분양가격'][i+4])"
   ]
  },
  {
   "cell_type": "code",
   "execution_count": 190,
   "metadata": {},
   "outputs": [
    {
     "data": {
      "text/plain": [
       "Int64Index([], dtype='int64')"
      ]
     },
     "execution_count": 190,
     "metadata": {},
     "output_type": "execute_result"
    }
   ],
   "source": [
    "df_house_seoul[df_house_seoul['평당분양가격'].isnull()].index"
   ]
  },
  {
   "cell_type": "code",
   "execution_count": 191,
   "metadata": {
    "scrolled": true
   },
   "outputs": [
    {
     "data": {
      "text/html": [
       "<div>\n",
       "<style scoped>\n",
       "    .dataframe tbody tr th:only-of-type {\n",
       "        vertical-align: middle;\n",
       "    }\n",
       "\n",
       "    .dataframe tbody tr th {\n",
       "        vertical-align: top;\n",
       "    }\n",
       "\n",
       "    .dataframe thead th {\n",
       "        text-align: right;\n",
       "    }\n",
       "</style>\n",
       "<table border=\"1\" class=\"dataframe\">\n",
       "  <thead>\n",
       "    <tr style=\"text-align: right;\">\n",
       "      <th></th>\n",
       "      <th>index</th>\n",
       "      <th>지역명</th>\n",
       "      <th>연도</th>\n",
       "      <th>월</th>\n",
       "      <th>평당분양가격</th>\n",
       "      <th>전용면적</th>\n",
       "    </tr>\n",
       "  </thead>\n",
       "  <tbody>\n",
       "    <tr>\n",
       "      <th>88</th>\n",
       "      <td>88</td>\n",
       "      <td>서울</td>\n",
       "      <td>2017</td>\n",
       "      <td>11</td>\n",
       "      <td>23469.6</td>\n",
       "      <td>60㎡</td>\n",
       "    </tr>\n",
       "  </tbody>\n",
       "</table>\n",
       "</div>"
      ],
      "text/plain": [
       "    index 지역명    연도   월   평당분양가격 전용면적\n",
       "88     88  서울  2017  11  23469.6  60㎡"
      ]
     },
     "execution_count": 191,
     "metadata": {},
     "output_type": "execute_result"
    }
   ],
   "source": [
    "df_house_seoul[df_house_seoul['index']==88]"
   ]
  },
  {
   "cell_type": "code",
   "execution_count": 192,
   "metadata": {},
   "outputs": [
    {
     "data": {
      "text/plain": [
       "array(['서울', '인천', '경기', '부산', '대구', '강원', '충북', '전북', '전남', '경남'],\n",
       "      dtype=object)"
      ]
     },
     "execution_count": 192,
     "metadata": {},
     "output_type": "execute_result"
    }
   ],
   "source": [
    "df_house_dosi['지역명'].unique()"
   ]
  },
  {
   "cell_type": "markdown",
   "metadata": {},
   "source": [
    "##### 인천"
   ]
  },
  {
   "cell_type": "code",
   "execution_count": 193,
   "metadata": {},
   "outputs": [
    {
     "data": {
      "text/html": [
       "<div>\n",
       "<style scoped>\n",
       "    .dataframe tbody tr th:only-of-type {\n",
       "        vertical-align: middle;\n",
       "    }\n",
       "\n",
       "    .dataframe tbody tr th {\n",
       "        vertical-align: top;\n",
       "    }\n",
       "\n",
       "    .dataframe thead th {\n",
       "        text-align: right;\n",
       "    }\n",
       "</style>\n",
       "<table border=\"1\" class=\"dataframe\">\n",
       "  <thead>\n",
       "    <tr style=\"text-align: right;\">\n",
       "      <th></th>\n",
       "      <th>지역명</th>\n",
       "      <th>연도</th>\n",
       "      <th>월</th>\n",
       "      <th>평당분양가격</th>\n",
       "      <th>전용면적</th>\n",
       "    </tr>\n",
       "  </thead>\n",
       "  <tbody>\n",
       "    <tr>\n",
       "      <th>261</th>\n",
       "      <td>인천</td>\n",
       "      <td>2016</td>\n",
       "      <td>1</td>\n",
       "      <td>10982.4</td>\n",
       "      <td>60㎡</td>\n",
       "    </tr>\n",
       "    <tr>\n",
       "      <th>262</th>\n",
       "      <td>인천</td>\n",
       "      <td>2016</td>\n",
       "      <td>1</td>\n",
       "      <td>10263.0</td>\n",
       "      <td>60㎡~85㎡</td>\n",
       "    </tr>\n",
       "    <tr>\n",
       "      <th>263</th>\n",
       "      <td>인천</td>\n",
       "      <td>2016</td>\n",
       "      <td>1</td>\n",
       "      <td>11698.5</td>\n",
       "      <td>85㎡~102㎡</td>\n",
       "    </tr>\n",
       "    <tr>\n",
       "      <th>264</th>\n",
       "      <td>인천</td>\n",
       "      <td>2016</td>\n",
       "      <td>1</td>\n",
       "      <td>11246.4</td>\n",
       "      <td>102㎡~</td>\n",
       "    </tr>\n",
       "    <tr>\n",
       "      <th>346</th>\n",
       "      <td>인천</td>\n",
       "      <td>2016</td>\n",
       "      <td>2</td>\n",
       "      <td>10982.4</td>\n",
       "      <td>60㎡</td>\n",
       "    </tr>\n",
       "  </tbody>\n",
       "</table>\n",
       "</div>"
      ],
      "text/plain": [
       "    지역명    연도  월   평당분양가격      전용면적\n",
       "261  인천  2016  1  10982.4       60㎡\n",
       "262  인천  2016  1  10263.0   60㎡~85㎡\n",
       "263  인천  2016  1  11698.5  85㎡~102㎡\n",
       "264  인천  2016  1  11246.4     102㎡~\n",
       "346  인천  2016  2  10982.4       60㎡"
      ]
     },
     "execution_count": 193,
     "metadata": {},
     "output_type": "execute_result"
    }
   ],
   "source": [
    "df_house_incheon = df_house_dosi[df_house_dosi['지역명'] == '인천'].copy()\n",
    "df_house_incheon.head()"
   ]
  },
  {
   "cell_type": "code",
   "execution_count": 194,
   "metadata": {},
   "outputs": [
    {
     "data": {
      "text/html": [
       "<div>\n",
       "<style scoped>\n",
       "    .dataframe tbody tr th:only-of-type {\n",
       "        vertical-align: middle;\n",
       "    }\n",
       "\n",
       "    .dataframe tbody tr th {\n",
       "        vertical-align: top;\n",
       "    }\n",
       "\n",
       "    .dataframe thead th {\n",
       "        text-align: right;\n",
       "    }\n",
       "</style>\n",
       "<table border=\"1\" class=\"dataframe\">\n",
       "  <thead>\n",
       "    <tr style=\"text-align: right;\">\n",
       "      <th></th>\n",
       "      <th>index</th>\n",
       "      <th>지역명</th>\n",
       "      <th>연도</th>\n",
       "      <th>월</th>\n",
       "      <th>평당분양가격</th>\n",
       "      <th>전용면적</th>\n",
       "    </tr>\n",
       "  </thead>\n",
       "  <tbody>\n",
       "    <tr>\n",
       "      <th>0</th>\n",
       "      <td>261</td>\n",
       "      <td>인천</td>\n",
       "      <td>2016</td>\n",
       "      <td>1</td>\n",
       "      <td>10982.4</td>\n",
       "      <td>60㎡</td>\n",
       "    </tr>\n",
       "    <tr>\n",
       "      <th>1</th>\n",
       "      <td>262</td>\n",
       "      <td>인천</td>\n",
       "      <td>2016</td>\n",
       "      <td>1</td>\n",
       "      <td>10263.0</td>\n",
       "      <td>60㎡~85㎡</td>\n",
       "    </tr>\n",
       "    <tr>\n",
       "      <th>2</th>\n",
       "      <td>263</td>\n",
       "      <td>인천</td>\n",
       "      <td>2016</td>\n",
       "      <td>1</td>\n",
       "      <td>11698.5</td>\n",
       "      <td>85㎡~102㎡</td>\n",
       "    </tr>\n",
       "    <tr>\n",
       "      <th>3</th>\n",
       "      <td>264</td>\n",
       "      <td>인천</td>\n",
       "      <td>2016</td>\n",
       "      <td>1</td>\n",
       "      <td>11246.4</td>\n",
       "      <td>102㎡~</td>\n",
       "    </tr>\n",
       "    <tr>\n",
       "      <th>4</th>\n",
       "      <td>346</td>\n",
       "      <td>인천</td>\n",
       "      <td>2016</td>\n",
       "      <td>2</td>\n",
       "      <td>10982.4</td>\n",
       "      <td>60㎡</td>\n",
       "    </tr>\n",
       "    <tr>\n",
       "      <th>...</th>\n",
       "      <td>...</td>\n",
       "      <td>...</td>\n",
       "      <td>...</td>\n",
       "      <td>...</td>\n",
       "      <td>...</td>\n",
       "      <td>...</td>\n",
       "    </tr>\n",
       "    <tr>\n",
       "      <th>235</th>\n",
       "      <td>5194</td>\n",
       "      <td>인천</td>\n",
       "      <td>2020</td>\n",
       "      <td>11</td>\n",
       "      <td>16120.5</td>\n",
       "      <td>102㎡~</td>\n",
       "    </tr>\n",
       "    <tr>\n",
       "      <th>236</th>\n",
       "      <td>5276</td>\n",
       "      <td>인천</td>\n",
       "      <td>2020</td>\n",
       "      <td>12</td>\n",
       "      <td>15543.0</td>\n",
       "      <td>60㎡</td>\n",
       "    </tr>\n",
       "    <tr>\n",
       "      <th>237</th>\n",
       "      <td>5277</td>\n",
       "      <td>인천</td>\n",
       "      <td>2020</td>\n",
       "      <td>12</td>\n",
       "      <td>15391.2</td>\n",
       "      <td>60㎡~85㎡</td>\n",
       "    </tr>\n",
       "    <tr>\n",
       "      <th>238</th>\n",
       "      <td>5278</td>\n",
       "      <td>인천</td>\n",
       "      <td>2020</td>\n",
       "      <td>12</td>\n",
       "      <td>16820.1</td>\n",
       "      <td>85㎡~102㎡</td>\n",
       "    </tr>\n",
       "    <tr>\n",
       "      <th>239</th>\n",
       "      <td>5279</td>\n",
       "      <td>인천</td>\n",
       "      <td>2020</td>\n",
       "      <td>12</td>\n",
       "      <td>16229.4</td>\n",
       "      <td>102㎡~</td>\n",
       "    </tr>\n",
       "  </tbody>\n",
       "</table>\n",
       "<p>240 rows × 6 columns</p>\n",
       "</div>"
      ],
      "text/plain": [
       "     index 지역명    연도   월   평당분양가격      전용면적\n",
       "0      261  인천  2016   1  10982.4       60㎡\n",
       "1      262  인천  2016   1  10263.0   60㎡~85㎡\n",
       "2      263  인천  2016   1  11698.5  85㎡~102㎡\n",
       "3      264  인천  2016   1  11246.4     102㎡~\n",
       "4      346  인천  2016   2  10982.4       60㎡\n",
       "..     ...  ..   ...  ..      ...       ...\n",
       "235   5194  인천  2020  11  16120.5     102㎡~\n",
       "236   5276  인천  2020  12  15543.0       60㎡\n",
       "237   5277  인천  2020  12  15391.2   60㎡~85㎡\n",
       "238   5278  인천  2020  12  16820.1  85㎡~102㎡\n",
       "239   5279  인천  2020  12  16229.4     102㎡~\n",
       "\n",
       "[240 rows x 6 columns]"
      ]
     },
     "execution_count": 194,
     "metadata": {},
     "output_type": "execute_result"
    }
   ],
   "source": [
    "df_house_incheon = df_house_incheon.reset_index()\n",
    "df_house_incheon"
   ]
  },
  {
   "cell_type": "code",
   "execution_count": 195,
   "metadata": {},
   "outputs": [
    {
     "data": {
      "text/html": [
       "<div>\n",
       "<style scoped>\n",
       "    .dataframe tbody tr th:only-of-type {\n",
       "        vertical-align: middle;\n",
       "    }\n",
       "\n",
       "    .dataframe tbody tr th {\n",
       "        vertical-align: top;\n",
       "    }\n",
       "\n",
       "    .dataframe thead th {\n",
       "        text-align: right;\n",
       "    }\n",
       "</style>\n",
       "<table border=\"1\" class=\"dataframe\">\n",
       "  <thead>\n",
       "    <tr style=\"text-align: right;\">\n",
       "      <th></th>\n",
       "      <th>지역명</th>\n",
       "      <th>연도</th>\n",
       "      <th>월</th>\n",
       "      <th>평당분양가격</th>\n",
       "      <th>전용면적</th>\n",
       "    </tr>\n",
       "  </thead>\n",
       "  <tbody>\n",
       "    <tr>\n",
       "      <th>0</th>\n",
       "      <td>인천</td>\n",
       "      <td>2016</td>\n",
       "      <td>1</td>\n",
       "      <td>10982.4</td>\n",
       "      <td>60㎡</td>\n",
       "    </tr>\n",
       "    <tr>\n",
       "      <th>1</th>\n",
       "      <td>인천</td>\n",
       "      <td>2016</td>\n",
       "      <td>1</td>\n",
       "      <td>10263.0</td>\n",
       "      <td>60㎡~85㎡</td>\n",
       "    </tr>\n",
       "    <tr>\n",
       "      <th>2</th>\n",
       "      <td>인천</td>\n",
       "      <td>2016</td>\n",
       "      <td>1</td>\n",
       "      <td>11698.5</td>\n",
       "      <td>85㎡~102㎡</td>\n",
       "    </tr>\n",
       "    <tr>\n",
       "      <th>3</th>\n",
       "      <td>인천</td>\n",
       "      <td>2016</td>\n",
       "      <td>1</td>\n",
       "      <td>11246.4</td>\n",
       "      <td>102㎡~</td>\n",
       "    </tr>\n",
       "    <tr>\n",
       "      <th>4</th>\n",
       "      <td>인천</td>\n",
       "      <td>2016</td>\n",
       "      <td>2</td>\n",
       "      <td>10982.4</td>\n",
       "      <td>60㎡</td>\n",
       "    </tr>\n",
       "  </tbody>\n",
       "</table>\n",
       "</div>"
      ],
      "text/plain": [
       "  지역명    연도  월   평당분양가격      전용면적\n",
       "0  인천  2016  1  10982.4       60㎡\n",
       "1  인천  2016  1  10263.0   60㎡~85㎡\n",
       "2  인천  2016  1  11698.5  85㎡~102㎡\n",
       "3  인천  2016  1  11246.4     102㎡~\n",
       "4  인천  2016  2  10982.4       60㎡"
      ]
     },
     "execution_count": 195,
     "metadata": {},
     "output_type": "execute_result"
    }
   ],
   "source": [
    "df_house_incheon = df_house_incheon.drop('index', axis=1)\n",
    "df_house_incheon.head()"
   ]
  },
  {
   "cell_type": "code",
   "execution_count": 196,
   "metadata": {},
   "outputs": [
    {
     "data": {
      "text/html": [
       "<div>\n",
       "<style scoped>\n",
       "    .dataframe tbody tr th:only-of-type {\n",
       "        vertical-align: middle;\n",
       "    }\n",
       "\n",
       "    .dataframe tbody tr th {\n",
       "        vertical-align: top;\n",
       "    }\n",
       "\n",
       "    .dataframe thead th {\n",
       "        text-align: right;\n",
       "    }\n",
       "</style>\n",
       "<table border=\"1\" class=\"dataframe\">\n",
       "  <thead>\n",
       "    <tr style=\"text-align: right;\">\n",
       "      <th></th>\n",
       "      <th>index</th>\n",
       "      <th>지역명</th>\n",
       "      <th>연도</th>\n",
       "      <th>월</th>\n",
       "      <th>평당분양가격</th>\n",
       "      <th>전용면적</th>\n",
       "    </tr>\n",
       "  </thead>\n",
       "  <tbody>\n",
       "    <tr>\n",
       "      <th>0</th>\n",
       "      <td>0</td>\n",
       "      <td>인천</td>\n",
       "      <td>2016</td>\n",
       "      <td>1</td>\n",
       "      <td>10982.4</td>\n",
       "      <td>60㎡</td>\n",
       "    </tr>\n",
       "    <tr>\n",
       "      <th>1</th>\n",
       "      <td>1</td>\n",
       "      <td>인천</td>\n",
       "      <td>2016</td>\n",
       "      <td>1</td>\n",
       "      <td>10263.0</td>\n",
       "      <td>60㎡~85㎡</td>\n",
       "    </tr>\n",
       "    <tr>\n",
       "      <th>2</th>\n",
       "      <td>2</td>\n",
       "      <td>인천</td>\n",
       "      <td>2016</td>\n",
       "      <td>1</td>\n",
       "      <td>11698.5</td>\n",
       "      <td>85㎡~102㎡</td>\n",
       "    </tr>\n",
       "    <tr>\n",
       "      <th>3</th>\n",
       "      <td>3</td>\n",
       "      <td>인천</td>\n",
       "      <td>2016</td>\n",
       "      <td>1</td>\n",
       "      <td>11246.4</td>\n",
       "      <td>102㎡~</td>\n",
       "    </tr>\n",
       "    <tr>\n",
       "      <th>4</th>\n",
       "      <td>4</td>\n",
       "      <td>인천</td>\n",
       "      <td>2016</td>\n",
       "      <td>2</td>\n",
       "      <td>10982.4</td>\n",
       "      <td>60㎡</td>\n",
       "    </tr>\n",
       "  </tbody>\n",
       "</table>\n",
       "</div>"
      ],
      "text/plain": [
       "   index 지역명    연도  월   평당분양가격      전용면적\n",
       "0      0  인천  2016  1  10982.4       60㎡\n",
       "1      1  인천  2016  1  10263.0   60㎡~85㎡\n",
       "2      2  인천  2016  1  11698.5  85㎡~102㎡\n",
       "3      3  인천  2016  1  11246.4     102㎡~\n",
       "4      4  인천  2016  2  10982.4       60㎡"
      ]
     },
     "execution_count": 196,
     "metadata": {},
     "output_type": "execute_result"
    }
   ],
   "source": [
    "df_house_incheon = df_house_incheon.reset_index()\n",
    "df_house_incheon.head()"
   ]
  },
  {
   "cell_type": "code",
   "execution_count": 197,
   "metadata": {},
   "outputs": [
    {
     "data": {
      "text/html": [
       "<div>\n",
       "<style scoped>\n",
       "    .dataframe tbody tr th:only-of-type {\n",
       "        vertical-align: middle;\n",
       "    }\n",
       "\n",
       "    .dataframe tbody tr th {\n",
       "        vertical-align: top;\n",
       "    }\n",
       "\n",
       "    .dataframe thead th {\n",
       "        text-align: right;\n",
       "    }\n",
       "</style>\n",
       "<table border=\"1\" class=\"dataframe\">\n",
       "  <thead>\n",
       "    <tr style=\"text-align: right;\">\n",
       "      <th></th>\n",
       "      <th>index</th>\n",
       "      <th>지역명</th>\n",
       "      <th>연도</th>\n",
       "      <th>월</th>\n",
       "      <th>평당분양가격</th>\n",
       "      <th>전용면적</th>\n",
       "    </tr>\n",
       "  </thead>\n",
       "  <tbody>\n",
       "    <tr>\n",
       "      <th>88</th>\n",
       "      <td>88</td>\n",
       "      <td>인천</td>\n",
       "      <td>2017</td>\n",
       "      <td>11</td>\n",
       "      <td>NaN</td>\n",
       "      <td>60㎡</td>\n",
       "    </tr>\n",
       "    <tr>\n",
       "      <th>89</th>\n",
       "      <td>89</td>\n",
       "      <td>인천</td>\n",
       "      <td>2017</td>\n",
       "      <td>11</td>\n",
       "      <td>NaN</td>\n",
       "      <td>60㎡~85㎡</td>\n",
       "    </tr>\n",
       "    <tr>\n",
       "      <th>90</th>\n",
       "      <td>90</td>\n",
       "      <td>인천</td>\n",
       "      <td>2017</td>\n",
       "      <td>11</td>\n",
       "      <td>NaN</td>\n",
       "      <td>85㎡~102㎡</td>\n",
       "    </tr>\n",
       "    <tr>\n",
       "      <th>91</th>\n",
       "      <td>91</td>\n",
       "      <td>인천</td>\n",
       "      <td>2017</td>\n",
       "      <td>11</td>\n",
       "      <td>NaN</td>\n",
       "      <td>102㎡~</td>\n",
       "    </tr>\n",
       "    <tr>\n",
       "      <th>119</th>\n",
       "      <td>119</td>\n",
       "      <td>인천</td>\n",
       "      <td>2018</td>\n",
       "      <td>6</td>\n",
       "      <td>NaN</td>\n",
       "      <td>102㎡~</td>\n",
       "    </tr>\n",
       "    <tr>\n",
       "      <th>123</th>\n",
       "      <td>123</td>\n",
       "      <td>인천</td>\n",
       "      <td>2018</td>\n",
       "      <td>7</td>\n",
       "      <td>NaN</td>\n",
       "      <td>102㎡~</td>\n",
       "    </tr>\n",
       "    <tr>\n",
       "      <th>127</th>\n",
       "      <td>127</td>\n",
       "      <td>인천</td>\n",
       "      <td>2018</td>\n",
       "      <td>8</td>\n",
       "      <td>NaN</td>\n",
       "      <td>102㎡~</td>\n",
       "    </tr>\n",
       "    <tr>\n",
       "      <th>131</th>\n",
       "      <td>131</td>\n",
       "      <td>인천</td>\n",
       "      <td>2018</td>\n",
       "      <td>9</td>\n",
       "      <td>NaN</td>\n",
       "      <td>102㎡~</td>\n",
       "    </tr>\n",
       "  </tbody>\n",
       "</table>\n",
       "</div>"
      ],
      "text/plain": [
       "     index 지역명    연도   월  평당분양가격      전용면적\n",
       "88      88  인천  2017  11     NaN       60㎡\n",
       "89      89  인천  2017  11     NaN   60㎡~85㎡\n",
       "90      90  인천  2017  11     NaN  85㎡~102㎡\n",
       "91      91  인천  2017  11     NaN     102㎡~\n",
       "119    119  인천  2018   6     NaN     102㎡~\n",
       "123    123  인천  2018   7     NaN     102㎡~\n",
       "127    127  인천  2018   8     NaN     102㎡~\n",
       "131    131  인천  2018   9     NaN     102㎡~"
      ]
     },
     "execution_count": 197,
     "metadata": {},
     "output_type": "execute_result"
    }
   ],
   "source": [
    "df_house_incheon[df_house_incheon['평당분양가격'].isnull()]"
   ]
  },
  {
   "cell_type": "markdown",
   "metadata": {},
   "source": [
    "##### 2017 년도와 2018년도를 나눠서 생각해보자"
   ]
  },
  {
   "cell_type": "markdown",
   "metadata": {},
   "source": [
    "##### 2017년도는 이전 서울값 전처리한것과 동일하다 하지만 2018년도는 연속된 달이 줄줄이 값이없기때문에 같은 방식으로 연산이 불가능하다 따라서 다음달의 값차이를 넣는게 아닌 이전달의 값들을 집어넣자"
   ]
  },
  {
   "cell_type": "code",
   "execution_count": 198,
   "metadata": {},
   "outputs": [
    {
     "name": "stderr",
     "output_type": "stream",
     "text": [
      "<ipython-input-198-6757bb307bb9>:3: SettingWithCopyWarning: \n",
      "A value is trying to be set on a copy of a slice from a DataFrame\n",
      "\n",
      "See the caveats in the documentation: https://pandas.pydata.org/pandas-docs/stable/user_guide/indexing.html#returning-a-view-versus-a-copy\n",
      "  df_house_incheon['평당분양가격'][i] = df_house_incheon['평당분양가격'][i+4] - (df_house_incheon['평당분양가격'][i+8] - df_house_incheon['평당분양가격'][i+4])\n",
      "<ipython-input-198-6757bb307bb9>:5: SettingWithCopyWarning: \n",
      "A value is trying to be set on a copy of a slice from a DataFrame\n",
      "\n",
      "See the caveats in the documentation: https://pandas.pydata.org/pandas-docs/stable/user_guide/indexing.html#returning-a-view-versus-a-copy\n",
      "  df_house_incheon['평당분양가격'][i] = df_house_incheon['평당분양가격'][i-4] + (df_house_incheon['평당분양가격'][i-4] - df_house_incheon['평당분양가격'][i-8])\n"
     ]
    }
   ],
   "source": [
    "for i in df_house_incheon[df_house_incheon['평당분양가격'].isnull()].index:\n",
    "    if df_house_incheon['연도'][i] == 2017:\n",
    "        df_house_incheon['평당분양가격'][i] = df_house_incheon['평당분양가격'][i+4] - (df_house_incheon['평당분양가격'][i+8] - df_house_incheon['평당분양가격'][i+4])\n",
    "    if df_house_incheon['연도'][i] == 2018:\n",
    "        df_house_incheon['평당분양가격'][i] = df_house_incheon['평당분양가격'][i-4] + (df_house_incheon['평당분양가격'][i-4] - df_house_incheon['평당분양가격'][i-8])"
   ]
  },
  {
   "cell_type": "code",
   "execution_count": 199,
   "metadata": {},
   "outputs": [
    {
     "data": {
      "text/plain": [
       "index     0\n",
       "지역명       0\n",
       "연도        0\n",
       "월         0\n",
       "평당분양가격    0\n",
       "전용면적      0\n",
       "dtype: int64"
      ]
     },
     "execution_count": 199,
     "metadata": {},
     "output_type": "execute_result"
    }
   ],
   "source": [
    "df_house_incheon[df_house_incheon['연도'] == 2018].isnull().sum()"
   ]
  },
  {
   "cell_type": "code",
   "execution_count": 200,
   "metadata": {},
   "outputs": [
    {
     "data": {
      "text/plain": [
       "0"
      ]
     },
     "execution_count": 200,
     "metadata": {},
     "output_type": "execute_result"
    }
   ],
   "source": [
    "df_house_incheon['평당분양가격'].isnull().sum()"
   ]
  },
  {
   "cell_type": "code",
   "execution_count": 201,
   "metadata": {},
   "outputs": [
    {
     "data": {
      "text/plain": [
       "array(['서울', '인천', '경기', '부산', '대구', '강원', '충북', '전북', '전남', '경남'],\n",
       "      dtype=object)"
      ]
     },
     "execution_count": 201,
     "metadata": {},
     "output_type": "execute_result"
    }
   ],
   "source": [
    "df_house_dosi['지역명'].unique()"
   ]
  },
  {
   "cell_type": "markdown",
   "metadata": {},
   "source": [
    "##### 경기"
   ]
  },
  {
   "cell_type": "code",
   "execution_count": 202,
   "metadata": {
    "scrolled": true
   },
   "outputs": [
    {
     "data": {
      "text/html": [
       "<div>\n",
       "<style scoped>\n",
       "    .dataframe tbody tr th:only-of-type {\n",
       "        vertical-align: middle;\n",
       "    }\n",
       "\n",
       "    .dataframe tbody tr th {\n",
       "        vertical-align: top;\n",
       "    }\n",
       "\n",
       "    .dataframe thead th {\n",
       "        text-align: right;\n",
       "    }\n",
       "</style>\n",
       "<table border=\"1\" class=\"dataframe\">\n",
       "  <thead>\n",
       "    <tr style=\"text-align: right;\">\n",
       "      <th></th>\n",
       "      <th>지역명</th>\n",
       "      <th>연도</th>\n",
       "      <th>월</th>\n",
       "      <th>평당분양가격</th>\n",
       "      <th>전용면적</th>\n",
       "    </tr>\n",
       "  </thead>\n",
       "  <tbody>\n",
       "    <tr>\n",
       "      <th>266</th>\n",
       "      <td>경기</td>\n",
       "      <td>2016</td>\n",
       "      <td>1</td>\n",
       "      <td>10866.9</td>\n",
       "      <td>60㎡</td>\n",
       "    </tr>\n",
       "    <tr>\n",
       "      <th>267</th>\n",
       "      <td>경기</td>\n",
       "      <td>2016</td>\n",
       "      <td>1</td>\n",
       "      <td>10932.9</td>\n",
       "      <td>60㎡~85㎡</td>\n",
       "    </tr>\n",
       "    <tr>\n",
       "      <th>268</th>\n",
       "      <td>경기</td>\n",
       "      <td>2016</td>\n",
       "      <td>1</td>\n",
       "      <td>11385.0</td>\n",
       "      <td>85㎡~102㎡</td>\n",
       "    </tr>\n",
       "    <tr>\n",
       "      <th>269</th>\n",
       "      <td>경기</td>\n",
       "      <td>2016</td>\n",
       "      <td>1</td>\n",
       "      <td>12705.0</td>\n",
       "      <td>102㎡~</td>\n",
       "    </tr>\n",
       "    <tr>\n",
       "      <th>351</th>\n",
       "      <td>경기</td>\n",
       "      <td>2016</td>\n",
       "      <td>2</td>\n",
       "      <td>10870.2</td>\n",
       "      <td>60㎡</td>\n",
       "    </tr>\n",
       "  </tbody>\n",
       "</table>\n",
       "</div>"
      ],
      "text/plain": [
       "    지역명    연도  월   평당분양가격      전용면적\n",
       "266  경기  2016  1  10866.9       60㎡\n",
       "267  경기  2016  1  10932.9   60㎡~85㎡\n",
       "268  경기  2016  1  11385.0  85㎡~102㎡\n",
       "269  경기  2016  1  12705.0     102㎡~\n",
       "351  경기  2016  2  10870.2       60㎡"
      ]
     },
     "execution_count": 202,
     "metadata": {},
     "output_type": "execute_result"
    }
   ],
   "source": [
    "df_house_Gyeonggi = df_house_dosi[df_house_dosi['지역명'] == '경기'].copy()\n",
    "df_house_Gyeonggi.head()"
   ]
  },
  {
   "cell_type": "code",
   "execution_count": 203,
   "metadata": {
    "scrolled": true
   },
   "outputs": [
    {
     "data": {
      "text/html": [
       "<div>\n",
       "<style scoped>\n",
       "    .dataframe tbody tr th:only-of-type {\n",
       "        vertical-align: middle;\n",
       "    }\n",
       "\n",
       "    .dataframe tbody tr th {\n",
       "        vertical-align: top;\n",
       "    }\n",
       "\n",
       "    .dataframe thead th {\n",
       "        text-align: right;\n",
       "    }\n",
       "</style>\n",
       "<table border=\"1\" class=\"dataframe\">\n",
       "  <thead>\n",
       "    <tr style=\"text-align: right;\">\n",
       "      <th></th>\n",
       "      <th>index</th>\n",
       "      <th>지역명</th>\n",
       "      <th>연도</th>\n",
       "      <th>월</th>\n",
       "      <th>평당분양가격</th>\n",
       "      <th>전용면적</th>\n",
       "    </tr>\n",
       "  </thead>\n",
       "  <tbody>\n",
       "    <tr>\n",
       "      <th>0</th>\n",
       "      <td>266</td>\n",
       "      <td>경기</td>\n",
       "      <td>2016</td>\n",
       "      <td>1</td>\n",
       "      <td>10866.9</td>\n",
       "      <td>60㎡</td>\n",
       "    </tr>\n",
       "    <tr>\n",
       "      <th>1</th>\n",
       "      <td>267</td>\n",
       "      <td>경기</td>\n",
       "      <td>2016</td>\n",
       "      <td>1</td>\n",
       "      <td>10932.9</td>\n",
       "      <td>60㎡~85㎡</td>\n",
       "    </tr>\n",
       "    <tr>\n",
       "      <th>2</th>\n",
       "      <td>268</td>\n",
       "      <td>경기</td>\n",
       "      <td>2016</td>\n",
       "      <td>1</td>\n",
       "      <td>11385.0</td>\n",
       "      <td>85㎡~102㎡</td>\n",
       "    </tr>\n",
       "    <tr>\n",
       "      <th>3</th>\n",
       "      <td>269</td>\n",
       "      <td>경기</td>\n",
       "      <td>2016</td>\n",
       "      <td>1</td>\n",
       "      <td>12705.0</td>\n",
       "      <td>102㎡~</td>\n",
       "    </tr>\n",
       "    <tr>\n",
       "      <th>4</th>\n",
       "      <td>351</td>\n",
       "      <td>경기</td>\n",
       "      <td>2016</td>\n",
       "      <td>2</td>\n",
       "      <td>10870.2</td>\n",
       "      <td>60㎡</td>\n",
       "    </tr>\n",
       "    <tr>\n",
       "      <th>...</th>\n",
       "      <td>...</td>\n",
       "      <td>...</td>\n",
       "      <td>...</td>\n",
       "      <td>...</td>\n",
       "      <td>...</td>\n",
       "      <td>...</td>\n",
       "    </tr>\n",
       "    <tr>\n",
       "      <th>235</th>\n",
       "      <td>5199</td>\n",
       "      <td>경기</td>\n",
       "      <td>2020</td>\n",
       "      <td>11</td>\n",
       "      <td>17397.6</td>\n",
       "      <td>102㎡~</td>\n",
       "    </tr>\n",
       "    <tr>\n",
       "      <th>236</th>\n",
       "      <td>5281</td>\n",
       "      <td>경기</td>\n",
       "      <td>2020</td>\n",
       "      <td>12</td>\n",
       "      <td>13368.3</td>\n",
       "      <td>60㎡</td>\n",
       "    </tr>\n",
       "    <tr>\n",
       "      <th>237</th>\n",
       "      <td>5282</td>\n",
       "      <td>경기</td>\n",
       "      <td>2020</td>\n",
       "      <td>12</td>\n",
       "      <td>14529.9</td>\n",
       "      <td>60㎡~85㎡</td>\n",
       "    </tr>\n",
       "    <tr>\n",
       "      <th>238</th>\n",
       "      <td>5283</td>\n",
       "      <td>경기</td>\n",
       "      <td>2020</td>\n",
       "      <td>12</td>\n",
       "      <td>15213.0</td>\n",
       "      <td>85㎡~102㎡</td>\n",
       "    </tr>\n",
       "    <tr>\n",
       "      <th>239</th>\n",
       "      <td>5284</td>\n",
       "      <td>경기</td>\n",
       "      <td>2020</td>\n",
       "      <td>12</td>\n",
       "      <td>17754.0</td>\n",
       "      <td>102㎡~</td>\n",
       "    </tr>\n",
       "  </tbody>\n",
       "</table>\n",
       "<p>240 rows × 6 columns</p>\n",
       "</div>"
      ],
      "text/plain": [
       "     index 지역명    연도   월   평당분양가격      전용면적\n",
       "0      266  경기  2016   1  10866.9       60㎡\n",
       "1      267  경기  2016   1  10932.9   60㎡~85㎡\n",
       "2      268  경기  2016   1  11385.0  85㎡~102㎡\n",
       "3      269  경기  2016   1  12705.0     102㎡~\n",
       "4      351  경기  2016   2  10870.2       60㎡\n",
       "..     ...  ..   ...  ..      ...       ...\n",
       "235   5199  경기  2020  11  17397.6     102㎡~\n",
       "236   5281  경기  2020  12  13368.3       60㎡\n",
       "237   5282  경기  2020  12  14529.9   60㎡~85㎡\n",
       "238   5283  경기  2020  12  15213.0  85㎡~102㎡\n",
       "239   5284  경기  2020  12  17754.0     102㎡~\n",
       "\n",
       "[240 rows x 6 columns]"
      ]
     },
     "execution_count": 203,
     "metadata": {},
     "output_type": "execute_result"
    }
   ],
   "source": [
    "df_house_Gyeonggi = df_house_Gyeonggi.reset_index()\n",
    "df_house_Gyeonggi"
   ]
  },
  {
   "cell_type": "code",
   "execution_count": 204,
   "metadata": {
    "scrolled": true
   },
   "outputs": [
    {
     "data": {
      "text/html": [
       "<div>\n",
       "<style scoped>\n",
       "    .dataframe tbody tr th:only-of-type {\n",
       "        vertical-align: middle;\n",
       "    }\n",
       "\n",
       "    .dataframe tbody tr th {\n",
       "        vertical-align: top;\n",
       "    }\n",
       "\n",
       "    .dataframe thead th {\n",
       "        text-align: right;\n",
       "    }\n",
       "</style>\n",
       "<table border=\"1\" class=\"dataframe\">\n",
       "  <thead>\n",
       "    <tr style=\"text-align: right;\">\n",
       "      <th></th>\n",
       "      <th>지역명</th>\n",
       "      <th>연도</th>\n",
       "      <th>월</th>\n",
       "      <th>평당분양가격</th>\n",
       "      <th>전용면적</th>\n",
       "    </tr>\n",
       "  </thead>\n",
       "  <tbody>\n",
       "    <tr>\n",
       "      <th>0</th>\n",
       "      <td>경기</td>\n",
       "      <td>2016</td>\n",
       "      <td>1</td>\n",
       "      <td>10866.9</td>\n",
       "      <td>60㎡</td>\n",
       "    </tr>\n",
       "    <tr>\n",
       "      <th>1</th>\n",
       "      <td>경기</td>\n",
       "      <td>2016</td>\n",
       "      <td>1</td>\n",
       "      <td>10932.9</td>\n",
       "      <td>60㎡~85㎡</td>\n",
       "    </tr>\n",
       "    <tr>\n",
       "      <th>2</th>\n",
       "      <td>경기</td>\n",
       "      <td>2016</td>\n",
       "      <td>1</td>\n",
       "      <td>11385.0</td>\n",
       "      <td>85㎡~102㎡</td>\n",
       "    </tr>\n",
       "    <tr>\n",
       "      <th>3</th>\n",
       "      <td>경기</td>\n",
       "      <td>2016</td>\n",
       "      <td>1</td>\n",
       "      <td>12705.0</td>\n",
       "      <td>102㎡~</td>\n",
       "    </tr>\n",
       "    <tr>\n",
       "      <th>4</th>\n",
       "      <td>경기</td>\n",
       "      <td>2016</td>\n",
       "      <td>2</td>\n",
       "      <td>10870.2</td>\n",
       "      <td>60㎡</td>\n",
       "    </tr>\n",
       "  </tbody>\n",
       "</table>\n",
       "</div>"
      ],
      "text/plain": [
       "  지역명    연도  월   평당분양가격      전용면적\n",
       "0  경기  2016  1  10866.9       60㎡\n",
       "1  경기  2016  1  10932.9   60㎡~85㎡\n",
       "2  경기  2016  1  11385.0  85㎡~102㎡\n",
       "3  경기  2016  1  12705.0     102㎡~\n",
       "4  경기  2016  2  10870.2       60㎡"
      ]
     },
     "execution_count": 204,
     "metadata": {},
     "output_type": "execute_result"
    }
   ],
   "source": [
    "df_house_Gyeonggi = df_house_Gyeonggi.drop('index', axis=1)\n",
    "df_house_Gyeonggi.head()"
   ]
  },
  {
   "cell_type": "code",
   "execution_count": 205,
   "metadata": {},
   "outputs": [
    {
     "data": {
      "text/html": [
       "<div>\n",
       "<style scoped>\n",
       "    .dataframe tbody tr th:only-of-type {\n",
       "        vertical-align: middle;\n",
       "    }\n",
       "\n",
       "    .dataframe tbody tr th {\n",
       "        vertical-align: top;\n",
       "    }\n",
       "\n",
       "    .dataframe thead th {\n",
       "        text-align: right;\n",
       "    }\n",
       "</style>\n",
       "<table border=\"1\" class=\"dataframe\">\n",
       "  <thead>\n",
       "    <tr style=\"text-align: right;\">\n",
       "      <th></th>\n",
       "      <th>index</th>\n",
       "      <th>지역명</th>\n",
       "      <th>연도</th>\n",
       "      <th>월</th>\n",
       "      <th>평당분양가격</th>\n",
       "      <th>전용면적</th>\n",
       "    </tr>\n",
       "  </thead>\n",
       "  <tbody>\n",
       "    <tr>\n",
       "      <th>0</th>\n",
       "      <td>0</td>\n",
       "      <td>경기</td>\n",
       "      <td>2016</td>\n",
       "      <td>1</td>\n",
       "      <td>10866.9</td>\n",
       "      <td>60㎡</td>\n",
       "    </tr>\n",
       "    <tr>\n",
       "      <th>1</th>\n",
       "      <td>1</td>\n",
       "      <td>경기</td>\n",
       "      <td>2016</td>\n",
       "      <td>1</td>\n",
       "      <td>10932.9</td>\n",
       "      <td>60㎡~85㎡</td>\n",
       "    </tr>\n",
       "    <tr>\n",
       "      <th>2</th>\n",
       "      <td>2</td>\n",
       "      <td>경기</td>\n",
       "      <td>2016</td>\n",
       "      <td>1</td>\n",
       "      <td>11385.0</td>\n",
       "      <td>85㎡~102㎡</td>\n",
       "    </tr>\n",
       "    <tr>\n",
       "      <th>3</th>\n",
       "      <td>3</td>\n",
       "      <td>경기</td>\n",
       "      <td>2016</td>\n",
       "      <td>1</td>\n",
       "      <td>12705.0</td>\n",
       "      <td>102㎡~</td>\n",
       "    </tr>\n",
       "    <tr>\n",
       "      <th>4</th>\n",
       "      <td>4</td>\n",
       "      <td>경기</td>\n",
       "      <td>2016</td>\n",
       "      <td>2</td>\n",
       "      <td>10870.2</td>\n",
       "      <td>60㎡</td>\n",
       "    </tr>\n",
       "  </tbody>\n",
       "</table>\n",
       "</div>"
      ],
      "text/plain": [
       "   index 지역명    연도  월   평당분양가격      전용면적\n",
       "0      0  경기  2016  1  10866.9       60㎡\n",
       "1      1  경기  2016  1  10932.9   60㎡~85㎡\n",
       "2      2  경기  2016  1  11385.0  85㎡~102㎡\n",
       "3      3  경기  2016  1  12705.0     102㎡~\n",
       "4      4  경기  2016  2  10870.2       60㎡"
      ]
     },
     "execution_count": 205,
     "metadata": {},
     "output_type": "execute_result"
    }
   ],
   "source": [
    "df_house_Gyeonggi = df_house_Gyeonggi.reset_index()\n",
    "df_house_Gyeonggi.head()"
   ]
  },
  {
   "cell_type": "code",
   "execution_count": 206,
   "metadata": {
    "scrolled": true
   },
   "outputs": [
    {
     "data": {
      "text/plain": [
       "Int64Index([88, 89, 90, 91], dtype='int64')"
      ]
     },
     "execution_count": 206,
     "metadata": {},
     "output_type": "execute_result"
    }
   ],
   "source": [
    "df_house_Gyeonggi[df_house_Gyeonggi['평당분양가격'].isnull()].index"
   ]
  },
  {
   "cell_type": "code",
   "execution_count": 207,
   "metadata": {},
   "outputs": [
    {
     "name": "stderr",
     "output_type": "stream",
     "text": [
      "<ipython-input-207-8c4efb172ae4>:2: SettingWithCopyWarning: \n",
      "A value is trying to be set on a copy of a slice from a DataFrame\n",
      "\n",
      "See the caveats in the documentation: https://pandas.pydata.org/pandas-docs/stable/user_guide/indexing.html#returning-a-view-versus-a-copy\n",
      "  df_house_Gyeonggi['평당분양가격'][i] = df_house_Gyeonggi['평당분양가격'][i+4] - (df_house_Gyeonggi['평당분양가격'][i+8] - df_house_Gyeonggi['평당분양가격'][i+4])\n"
     ]
    }
   ],
   "source": [
    "for i in df_house_Gyeonggi[df_house_Gyeonggi['평당분양가격'].isnull()].index:\n",
    "    df_house_Gyeonggi['평당분양가격'][i] = df_house_Gyeonggi['평당분양가격'][i+4] - (df_house_Gyeonggi['평당분양가격'][i+8] - df_house_Gyeonggi['평당분양가격'][i+4])"
   ]
  },
  {
   "cell_type": "code",
   "execution_count": 208,
   "metadata": {},
   "outputs": [
    {
     "data": {
      "text/plain": [
       "0"
      ]
     },
     "execution_count": 208,
     "metadata": {},
     "output_type": "execute_result"
    }
   ],
   "source": [
    "df_house_Gyeonggi['평당분양가격'].isnull().sum()"
   ]
  },
  {
   "cell_type": "code",
   "execution_count": 209,
   "metadata": {
    "scrolled": false
   },
   "outputs": [
    {
     "data": {
      "text/plain": [
       "array(['서울', '인천', '경기', '부산', '대구', '강원', '충북', '전북', '전남', '경남'],\n",
       "      dtype=object)"
      ]
     },
     "execution_count": 209,
     "metadata": {},
     "output_type": "execute_result"
    }
   ],
   "source": [
    "df_house_dosi['지역명'].unique()"
   ]
  },
  {
   "cell_type": "markdown",
   "metadata": {},
   "source": [
    "#### 부산"
   ]
  },
  {
   "cell_type": "code",
   "execution_count": 213,
   "metadata": {},
   "outputs": [
    {
     "data": {
      "text/html": [
       "<div>\n",
       "<style scoped>\n",
       "    .dataframe tbody tr th:only-of-type {\n",
       "        vertical-align: middle;\n",
       "    }\n",
       "\n",
       "    .dataframe tbody tr th {\n",
       "        vertical-align: top;\n",
       "    }\n",
       "\n",
       "    .dataframe thead th {\n",
       "        text-align: right;\n",
       "    }\n",
       "</style>\n",
       "<table border=\"1\" class=\"dataframe\">\n",
       "  <thead>\n",
       "    <tr style=\"text-align: right;\">\n",
       "      <th></th>\n",
       "      <th>지역명</th>\n",
       "      <th>연도</th>\n",
       "      <th>월</th>\n",
       "      <th>평당분양가격</th>\n",
       "      <th>전용면적</th>\n",
       "    </tr>\n",
       "  </thead>\n",
       "  <tbody>\n",
       "    <tr>\n",
       "      <th>266</th>\n",
       "      <td>경기</td>\n",
       "      <td>2016</td>\n",
       "      <td>1</td>\n",
       "      <td>10866.9</td>\n",
       "      <td>60㎡</td>\n",
       "    </tr>\n",
       "    <tr>\n",
       "      <th>267</th>\n",
       "      <td>경기</td>\n",
       "      <td>2016</td>\n",
       "      <td>1</td>\n",
       "      <td>10932.9</td>\n",
       "      <td>60㎡~85㎡</td>\n",
       "    </tr>\n",
       "    <tr>\n",
       "      <th>268</th>\n",
       "      <td>경기</td>\n",
       "      <td>2016</td>\n",
       "      <td>1</td>\n",
       "      <td>11385.0</td>\n",
       "      <td>85㎡~102㎡</td>\n",
       "    </tr>\n",
       "    <tr>\n",
       "      <th>269</th>\n",
       "      <td>경기</td>\n",
       "      <td>2016</td>\n",
       "      <td>1</td>\n",
       "      <td>12705.0</td>\n",
       "      <td>102㎡~</td>\n",
       "    </tr>\n",
       "    <tr>\n",
       "      <th>351</th>\n",
       "      <td>경기</td>\n",
       "      <td>2016</td>\n",
       "      <td>2</td>\n",
       "      <td>10870.2</td>\n",
       "      <td>60㎡</td>\n",
       "    </tr>\n",
       "  </tbody>\n",
       "</table>\n",
       "</div>"
      ],
      "text/plain": [
       "    지역명    연도  월   평당분양가격      전용면적\n",
       "266  경기  2016  1  10866.9       60㎡\n",
       "267  경기  2016  1  10932.9   60㎡~85㎡\n",
       "268  경기  2016  1  11385.0  85㎡~102㎡\n",
       "269  경기  2016  1  12705.0     102㎡~\n",
       "351  경기  2016  2  10870.2       60㎡"
      ]
     },
     "execution_count": 213,
     "metadata": {},
     "output_type": "execute_result"
    }
   ],
   "source": [
    "df_house_busan = df_house_dosi[df_house_dosi['지역명'] == '경기'].copy()\n",
    "df_house_busan.head()"
   ]
  },
  {
   "cell_type": "code",
   "execution_count": 214,
   "metadata": {},
   "outputs": [
    {
     "data": {
      "text/html": [
       "<div>\n",
       "<style scoped>\n",
       "    .dataframe tbody tr th:only-of-type {\n",
       "        vertical-align: middle;\n",
       "    }\n",
       "\n",
       "    .dataframe tbody tr th {\n",
       "        vertical-align: top;\n",
       "    }\n",
       "\n",
       "    .dataframe thead th {\n",
       "        text-align: right;\n",
       "    }\n",
       "</style>\n",
       "<table border=\"1\" class=\"dataframe\">\n",
       "  <thead>\n",
       "    <tr style=\"text-align: right;\">\n",
       "      <th></th>\n",
       "      <th>index</th>\n",
       "      <th>지역명</th>\n",
       "      <th>연도</th>\n",
       "      <th>월</th>\n",
       "      <th>평당분양가격</th>\n",
       "      <th>전용면적</th>\n",
       "    </tr>\n",
       "  </thead>\n",
       "  <tbody>\n",
       "    <tr>\n",
       "      <th>0</th>\n",
       "      <td>266</td>\n",
       "      <td>경기</td>\n",
       "      <td>2016</td>\n",
       "      <td>1</td>\n",
       "      <td>10866.9</td>\n",
       "      <td>60㎡</td>\n",
       "    </tr>\n",
       "    <tr>\n",
       "      <th>1</th>\n",
       "      <td>267</td>\n",
       "      <td>경기</td>\n",
       "      <td>2016</td>\n",
       "      <td>1</td>\n",
       "      <td>10932.9</td>\n",
       "      <td>60㎡~85㎡</td>\n",
       "    </tr>\n",
       "    <tr>\n",
       "      <th>2</th>\n",
       "      <td>268</td>\n",
       "      <td>경기</td>\n",
       "      <td>2016</td>\n",
       "      <td>1</td>\n",
       "      <td>11385.0</td>\n",
       "      <td>85㎡~102㎡</td>\n",
       "    </tr>\n",
       "    <tr>\n",
       "      <th>3</th>\n",
       "      <td>269</td>\n",
       "      <td>경기</td>\n",
       "      <td>2016</td>\n",
       "      <td>1</td>\n",
       "      <td>12705.0</td>\n",
       "      <td>102㎡~</td>\n",
       "    </tr>\n",
       "    <tr>\n",
       "      <th>4</th>\n",
       "      <td>351</td>\n",
       "      <td>경기</td>\n",
       "      <td>2016</td>\n",
       "      <td>2</td>\n",
       "      <td>10870.2</td>\n",
       "      <td>60㎡</td>\n",
       "    </tr>\n",
       "    <tr>\n",
       "      <th>...</th>\n",
       "      <td>...</td>\n",
       "      <td>...</td>\n",
       "      <td>...</td>\n",
       "      <td>...</td>\n",
       "      <td>...</td>\n",
       "      <td>...</td>\n",
       "    </tr>\n",
       "    <tr>\n",
       "      <th>235</th>\n",
       "      <td>5199</td>\n",
       "      <td>경기</td>\n",
       "      <td>2020</td>\n",
       "      <td>11</td>\n",
       "      <td>17397.6</td>\n",
       "      <td>102㎡~</td>\n",
       "    </tr>\n",
       "    <tr>\n",
       "      <th>236</th>\n",
       "      <td>5281</td>\n",
       "      <td>경기</td>\n",
       "      <td>2020</td>\n",
       "      <td>12</td>\n",
       "      <td>13368.3</td>\n",
       "      <td>60㎡</td>\n",
       "    </tr>\n",
       "    <tr>\n",
       "      <th>237</th>\n",
       "      <td>5282</td>\n",
       "      <td>경기</td>\n",
       "      <td>2020</td>\n",
       "      <td>12</td>\n",
       "      <td>14529.9</td>\n",
       "      <td>60㎡~85㎡</td>\n",
       "    </tr>\n",
       "    <tr>\n",
       "      <th>238</th>\n",
       "      <td>5283</td>\n",
       "      <td>경기</td>\n",
       "      <td>2020</td>\n",
       "      <td>12</td>\n",
       "      <td>15213.0</td>\n",
       "      <td>85㎡~102㎡</td>\n",
       "    </tr>\n",
       "    <tr>\n",
       "      <th>239</th>\n",
       "      <td>5284</td>\n",
       "      <td>경기</td>\n",
       "      <td>2020</td>\n",
       "      <td>12</td>\n",
       "      <td>17754.0</td>\n",
       "      <td>102㎡~</td>\n",
       "    </tr>\n",
       "  </tbody>\n",
       "</table>\n",
       "<p>240 rows × 6 columns</p>\n",
       "</div>"
      ],
      "text/plain": [
       "     index 지역명    연도   월   평당분양가격      전용면적\n",
       "0      266  경기  2016   1  10866.9       60㎡\n",
       "1      267  경기  2016   1  10932.9   60㎡~85㎡\n",
       "2      268  경기  2016   1  11385.0  85㎡~102㎡\n",
       "3      269  경기  2016   1  12705.0     102㎡~\n",
       "4      351  경기  2016   2  10870.2       60㎡\n",
       "..     ...  ..   ...  ..      ...       ...\n",
       "235   5199  경기  2020  11  17397.6     102㎡~\n",
       "236   5281  경기  2020  12  13368.3       60㎡\n",
       "237   5282  경기  2020  12  14529.9   60㎡~85㎡\n",
       "238   5283  경기  2020  12  15213.0  85㎡~102㎡\n",
       "239   5284  경기  2020  12  17754.0     102㎡~\n",
       "\n",
       "[240 rows x 6 columns]"
      ]
     },
     "execution_count": 214,
     "metadata": {},
     "output_type": "execute_result"
    }
   ],
   "source": [
    "df_house_busan = df_house_busan.reset_index()\n",
    "df_house_busan"
   ]
  },
  {
   "cell_type": "code",
   "execution_count": 216,
   "metadata": {},
   "outputs": [
    {
     "data": {
      "text/html": [
       "<div>\n",
       "<style scoped>\n",
       "    .dataframe tbody tr th:only-of-type {\n",
       "        vertical-align: middle;\n",
       "    }\n",
       "\n",
       "    .dataframe tbody tr th {\n",
       "        vertical-align: top;\n",
       "    }\n",
       "\n",
       "    .dataframe thead th {\n",
       "        text-align: right;\n",
       "    }\n",
       "</style>\n",
       "<table border=\"1\" class=\"dataframe\">\n",
       "  <thead>\n",
       "    <tr style=\"text-align: right;\">\n",
       "      <th></th>\n",
       "      <th>지역명</th>\n",
       "      <th>연도</th>\n",
       "      <th>월</th>\n",
       "      <th>평당분양가격</th>\n",
       "      <th>전용면적</th>\n",
       "    </tr>\n",
       "  </thead>\n",
       "  <tbody>\n",
       "    <tr>\n",
       "      <th>0</th>\n",
       "      <td>경기</td>\n",
       "      <td>2016</td>\n",
       "      <td>1</td>\n",
       "      <td>10866.9</td>\n",
       "      <td>60㎡</td>\n",
       "    </tr>\n",
       "    <tr>\n",
       "      <th>1</th>\n",
       "      <td>경기</td>\n",
       "      <td>2016</td>\n",
       "      <td>1</td>\n",
       "      <td>10932.9</td>\n",
       "      <td>60㎡~85㎡</td>\n",
       "    </tr>\n",
       "    <tr>\n",
       "      <th>2</th>\n",
       "      <td>경기</td>\n",
       "      <td>2016</td>\n",
       "      <td>1</td>\n",
       "      <td>11385.0</td>\n",
       "      <td>85㎡~102㎡</td>\n",
       "    </tr>\n",
       "    <tr>\n",
       "      <th>3</th>\n",
       "      <td>경기</td>\n",
       "      <td>2016</td>\n",
       "      <td>1</td>\n",
       "      <td>12705.0</td>\n",
       "      <td>102㎡~</td>\n",
       "    </tr>\n",
       "    <tr>\n",
       "      <th>4</th>\n",
       "      <td>경기</td>\n",
       "      <td>2016</td>\n",
       "      <td>2</td>\n",
       "      <td>10870.2</td>\n",
       "      <td>60㎡</td>\n",
       "    </tr>\n",
       "  </tbody>\n",
       "</table>\n",
       "</div>"
      ],
      "text/plain": [
       "  지역명    연도  월   평당분양가격      전용면적\n",
       "0  경기  2016  1  10866.9       60㎡\n",
       "1  경기  2016  1  10932.9   60㎡~85㎡\n",
       "2  경기  2016  1  11385.0  85㎡~102㎡\n",
       "3  경기  2016  1  12705.0     102㎡~\n",
       "4  경기  2016  2  10870.2       60㎡"
      ]
     },
     "execution_count": 216,
     "metadata": {},
     "output_type": "execute_result"
    }
   ],
   "source": [
    "df_house_busan = df_house_busan.drop('index', axis=1)\n",
    "df_house_busan.head()"
   ]
  },
  {
   "cell_type": "code",
   "execution_count": 218,
   "metadata": {},
   "outputs": [
    {
     "data": {
      "text/html": [
       "<div>\n",
       "<style scoped>\n",
       "    .dataframe tbody tr th:only-of-type {\n",
       "        vertical-align: middle;\n",
       "    }\n",
       "\n",
       "    .dataframe tbody tr th {\n",
       "        vertical-align: top;\n",
       "    }\n",
       "\n",
       "    .dataframe thead th {\n",
       "        text-align: right;\n",
       "    }\n",
       "</style>\n",
       "<table border=\"1\" class=\"dataframe\">\n",
       "  <thead>\n",
       "    <tr style=\"text-align: right;\">\n",
       "      <th></th>\n",
       "      <th>index</th>\n",
       "      <th>지역명</th>\n",
       "      <th>연도</th>\n",
       "      <th>월</th>\n",
       "      <th>평당분양가격</th>\n",
       "      <th>전용면적</th>\n",
       "    </tr>\n",
       "  </thead>\n",
       "  <tbody>\n",
       "    <tr>\n",
       "      <th>0</th>\n",
       "      <td>0</td>\n",
       "      <td>경기</td>\n",
       "      <td>2016</td>\n",
       "      <td>1</td>\n",
       "      <td>10866.9</td>\n",
       "      <td>60㎡</td>\n",
       "    </tr>\n",
       "    <tr>\n",
       "      <th>1</th>\n",
       "      <td>1</td>\n",
       "      <td>경기</td>\n",
       "      <td>2016</td>\n",
       "      <td>1</td>\n",
       "      <td>10932.9</td>\n",
       "      <td>60㎡~85㎡</td>\n",
       "    </tr>\n",
       "    <tr>\n",
       "      <th>2</th>\n",
       "      <td>2</td>\n",
       "      <td>경기</td>\n",
       "      <td>2016</td>\n",
       "      <td>1</td>\n",
       "      <td>11385.0</td>\n",
       "      <td>85㎡~102㎡</td>\n",
       "    </tr>\n",
       "    <tr>\n",
       "      <th>3</th>\n",
       "      <td>3</td>\n",
       "      <td>경기</td>\n",
       "      <td>2016</td>\n",
       "      <td>1</td>\n",
       "      <td>12705.0</td>\n",
       "      <td>102㎡~</td>\n",
       "    </tr>\n",
       "    <tr>\n",
       "      <th>4</th>\n",
       "      <td>4</td>\n",
       "      <td>경기</td>\n",
       "      <td>2016</td>\n",
       "      <td>2</td>\n",
       "      <td>10870.2</td>\n",
       "      <td>60㎡</td>\n",
       "    </tr>\n",
       "  </tbody>\n",
       "</table>\n",
       "</div>"
      ],
      "text/plain": [
       "   index 지역명    연도  월   평당분양가격      전용면적\n",
       "0      0  경기  2016  1  10866.9       60㎡\n",
       "1      1  경기  2016  1  10932.9   60㎡~85㎡\n",
       "2      2  경기  2016  1  11385.0  85㎡~102㎡\n",
       "3      3  경기  2016  1  12705.0     102㎡~\n",
       "4      4  경기  2016  2  10870.2       60㎡"
      ]
     },
     "execution_count": 218,
     "metadata": {},
     "output_type": "execute_result"
    }
   ],
   "source": [
    "df_house_busan = df_house_busan.reset_index()\n",
    "df_house_busan.head()\n"
   ]
  },
  {
   "cell_type": "code",
   "execution_count": 220,
   "metadata": {
    "scrolled": true
   },
   "outputs": [
    {
     "data": {
      "text/plain": [
       "Int64Index([88, 89, 90, 91], dtype='int64')"
      ]
     },
     "execution_count": 220,
     "metadata": {},
     "output_type": "execute_result"
    }
   ],
   "source": [
    "df_house_busan[df_house_busan['평당분양가격'].isnull()].index"
   ]
  },
  {
   "cell_type": "code",
   "execution_count": 221,
   "metadata": {},
   "outputs": [
    {
     "name": "stderr",
     "output_type": "stream",
     "text": [
      "<ipython-input-221-f551b9ea8654>:2: SettingWithCopyWarning: \n",
      "A value is trying to be set on a copy of a slice from a DataFrame\n",
      "\n",
      "See the caveats in the documentation: https://pandas.pydata.org/pandas-docs/stable/user_guide/indexing.html#returning-a-view-versus-a-copy\n",
      "  df_house_busan['평당분양가격'][i] = df_house_busan['평당분양가격'][i+4] - (df_house_busan['평당분양가격'][i+8] - df_house_busan['평당분양가격'][i+4])\n"
     ]
    }
   ],
   "source": [
    "for i in df_house_busan[df_house_busan['평당분양가격'].isnull()].index:\n",
    "    df_house_busan['평당분양가격'][i] = df_house_busan['평당분양가격'][i+4] - (df_house_busan['평당분양가격'][i+8] - df_house_busan['평당분양가격'][i+4])"
   ]
  },
  {
   "cell_type": "code",
   "execution_count": 222,
   "metadata": {},
   "outputs": [
    {
     "data": {
      "text/plain": [
       "0"
      ]
     },
     "execution_count": 222,
     "metadata": {},
     "output_type": "execute_result"
    }
   ],
   "source": [
    "df_house_busan['평당분양가격'].isnull().sum()"
   ]
  },
  {
   "cell_type": "code",
   "execution_count": 224,
   "metadata": {
    "scrolled": true
   },
   "outputs": [
    {
     "data": {
      "text/plain": [
       "array(['서울', '인천', '경기', '부산', '대구', '강원', '충북', '전북', '전남', '경남'],\n",
       "      dtype=object)"
      ]
     },
     "execution_count": 224,
     "metadata": {},
     "output_type": "execute_result"
    }
   ],
   "source": [
    "df_house_dosi['지역명'].unique()"
   ]
  },
  {
   "cell_type": "markdown",
   "metadata": {},
   "source": [
    "#### 대구"
   ]
  },
  {
   "cell_type": "code",
   "execution_count": 303,
   "metadata": {},
   "outputs": [
    {
     "data": {
      "text/html": [
       "<div>\n",
       "<style scoped>\n",
       "    .dataframe tbody tr th:only-of-type {\n",
       "        vertical-align: middle;\n",
       "    }\n",
       "\n",
       "    .dataframe tbody tr th {\n",
       "        vertical-align: top;\n",
       "    }\n",
       "\n",
       "    .dataframe thead th {\n",
       "        text-align: right;\n",
       "    }\n",
       "</style>\n",
       "<table border=\"1\" class=\"dataframe\">\n",
       "  <thead>\n",
       "    <tr style=\"text-align: right;\">\n",
       "      <th></th>\n",
       "      <th>지역명</th>\n",
       "      <th>연도</th>\n",
       "      <th>월</th>\n",
       "      <th>평당분양가격</th>\n",
       "      <th>전용면적</th>\n",
       "    </tr>\n",
       "  </thead>\n",
       "  <tbody>\n",
       "    <tr>\n",
       "      <th>276</th>\n",
       "      <td>대구</td>\n",
       "      <td>2016</td>\n",
       "      <td>1</td>\n",
       "      <td>11025.3</td>\n",
       "      <td>60㎡</td>\n",
       "    </tr>\n",
       "    <tr>\n",
       "      <th>277</th>\n",
       "      <td>대구</td>\n",
       "      <td>2016</td>\n",
       "      <td>1</td>\n",
       "      <td>10239.9</td>\n",
       "      <td>60㎡~85㎡</td>\n",
       "    </tr>\n",
       "    <tr>\n",
       "      <th>278</th>\n",
       "      <td>대구</td>\n",
       "      <td>2016</td>\n",
       "      <td>1</td>\n",
       "      <td>8355.6</td>\n",
       "      <td>85㎡~102㎡</td>\n",
       "    </tr>\n",
       "    <tr>\n",
       "      <th>279</th>\n",
       "      <td>대구</td>\n",
       "      <td>2016</td>\n",
       "      <td>1</td>\n",
       "      <td>9051.9</td>\n",
       "      <td>102㎡~</td>\n",
       "    </tr>\n",
       "    <tr>\n",
       "      <th>361</th>\n",
       "      <td>대구</td>\n",
       "      <td>2016</td>\n",
       "      <td>2</td>\n",
       "      <td>11025.3</td>\n",
       "      <td>60㎡</td>\n",
       "    </tr>\n",
       "  </tbody>\n",
       "</table>\n",
       "</div>"
      ],
      "text/plain": [
       "    지역명    연도  월   평당분양가격      전용면적\n",
       "276  대구  2016  1  11025.3       60㎡\n",
       "277  대구  2016  1  10239.9   60㎡~85㎡\n",
       "278  대구  2016  1   8355.6  85㎡~102㎡\n",
       "279  대구  2016  1   9051.9     102㎡~\n",
       "361  대구  2016  2  11025.3       60㎡"
      ]
     },
     "execution_count": 303,
     "metadata": {},
     "output_type": "execute_result"
    }
   ],
   "source": [
    "df_house_deagu = df_house_dosi[df_house_dosi['지역명'] == '대구'].copy()\n",
    "df_house_deagu.head()"
   ]
  },
  {
   "cell_type": "code",
   "execution_count": 304,
   "metadata": {},
   "outputs": [
    {
     "data": {
      "text/html": [
       "<div>\n",
       "<style scoped>\n",
       "    .dataframe tbody tr th:only-of-type {\n",
       "        vertical-align: middle;\n",
       "    }\n",
       "\n",
       "    .dataframe tbody tr th {\n",
       "        vertical-align: top;\n",
       "    }\n",
       "\n",
       "    .dataframe thead th {\n",
       "        text-align: right;\n",
       "    }\n",
       "</style>\n",
       "<table border=\"1\" class=\"dataframe\">\n",
       "  <thead>\n",
       "    <tr style=\"text-align: right;\">\n",
       "      <th></th>\n",
       "      <th>index</th>\n",
       "      <th>지역명</th>\n",
       "      <th>연도</th>\n",
       "      <th>월</th>\n",
       "      <th>평당분양가격</th>\n",
       "      <th>전용면적</th>\n",
       "    </tr>\n",
       "  </thead>\n",
       "  <tbody>\n",
       "    <tr>\n",
       "      <th>0</th>\n",
       "      <td>276</td>\n",
       "      <td>대구</td>\n",
       "      <td>2016</td>\n",
       "      <td>1</td>\n",
       "      <td>11025.3</td>\n",
       "      <td>60㎡</td>\n",
       "    </tr>\n",
       "    <tr>\n",
       "      <th>1</th>\n",
       "      <td>277</td>\n",
       "      <td>대구</td>\n",
       "      <td>2016</td>\n",
       "      <td>1</td>\n",
       "      <td>10239.9</td>\n",
       "      <td>60㎡~85㎡</td>\n",
       "    </tr>\n",
       "    <tr>\n",
       "      <th>2</th>\n",
       "      <td>278</td>\n",
       "      <td>대구</td>\n",
       "      <td>2016</td>\n",
       "      <td>1</td>\n",
       "      <td>8355.6</td>\n",
       "      <td>85㎡~102㎡</td>\n",
       "    </tr>\n",
       "    <tr>\n",
       "      <th>3</th>\n",
       "      <td>279</td>\n",
       "      <td>대구</td>\n",
       "      <td>2016</td>\n",
       "      <td>1</td>\n",
       "      <td>9051.9</td>\n",
       "      <td>102㎡~</td>\n",
       "    </tr>\n",
       "    <tr>\n",
       "      <th>4</th>\n",
       "      <td>361</td>\n",
       "      <td>대구</td>\n",
       "      <td>2016</td>\n",
       "      <td>2</td>\n",
       "      <td>11025.3</td>\n",
       "      <td>60㎡</td>\n",
       "    </tr>\n",
       "    <tr>\n",
       "      <th>...</th>\n",
       "      <td>...</td>\n",
       "      <td>...</td>\n",
       "      <td>...</td>\n",
       "      <td>...</td>\n",
       "      <td>...</td>\n",
       "      <td>...</td>\n",
       "    </tr>\n",
       "    <tr>\n",
       "      <th>235</th>\n",
       "      <td>5209</td>\n",
       "      <td>대구</td>\n",
       "      <td>2020</td>\n",
       "      <td>11</td>\n",
       "      <td>16087.5</td>\n",
       "      <td>102㎡~</td>\n",
       "    </tr>\n",
       "    <tr>\n",
       "      <th>236</th>\n",
       "      <td>5291</td>\n",
       "      <td>대구</td>\n",
       "      <td>2020</td>\n",
       "      <td>12</td>\n",
       "      <td>15292.2</td>\n",
       "      <td>60㎡</td>\n",
       "    </tr>\n",
       "    <tr>\n",
       "      <th>237</th>\n",
       "      <td>5292</td>\n",
       "      <td>대구</td>\n",
       "      <td>2020</td>\n",
       "      <td>12</td>\n",
       "      <td>15358.2</td>\n",
       "      <td>60㎡~85㎡</td>\n",
       "    </tr>\n",
       "    <tr>\n",
       "      <th>238</th>\n",
       "      <td>5293</td>\n",
       "      <td>대구</td>\n",
       "      <td>2020</td>\n",
       "      <td>12</td>\n",
       "      <td>16061.1</td>\n",
       "      <td>85㎡~102㎡</td>\n",
       "    </tr>\n",
       "    <tr>\n",
       "      <th>239</th>\n",
       "      <td>5294</td>\n",
       "      <td>대구</td>\n",
       "      <td>2020</td>\n",
       "      <td>12</td>\n",
       "      <td>16094.1</td>\n",
       "      <td>102㎡~</td>\n",
       "    </tr>\n",
       "  </tbody>\n",
       "</table>\n",
       "<p>240 rows × 6 columns</p>\n",
       "</div>"
      ],
      "text/plain": [
       "     index 지역명    연도   월   평당분양가격      전용면적\n",
       "0      276  대구  2016   1  11025.3       60㎡\n",
       "1      277  대구  2016   1  10239.9   60㎡~85㎡\n",
       "2      278  대구  2016   1   8355.6  85㎡~102㎡\n",
       "3      279  대구  2016   1   9051.9     102㎡~\n",
       "4      361  대구  2016   2  11025.3       60㎡\n",
       "..     ...  ..   ...  ..      ...       ...\n",
       "235   5209  대구  2020  11  16087.5     102㎡~\n",
       "236   5291  대구  2020  12  15292.2       60㎡\n",
       "237   5292  대구  2020  12  15358.2   60㎡~85㎡\n",
       "238   5293  대구  2020  12  16061.1  85㎡~102㎡\n",
       "239   5294  대구  2020  12  16094.1     102㎡~\n",
       "\n",
       "[240 rows x 6 columns]"
      ]
     },
     "execution_count": 304,
     "metadata": {},
     "output_type": "execute_result"
    }
   ],
   "source": [
    "df_house_deagu = df_house_deagu.reset_index()\n",
    "df_house_deagu"
   ]
  },
  {
   "cell_type": "code",
   "execution_count": 305,
   "metadata": {},
   "outputs": [
    {
     "data": {
      "text/html": [
       "<div>\n",
       "<style scoped>\n",
       "    .dataframe tbody tr th:only-of-type {\n",
       "        vertical-align: middle;\n",
       "    }\n",
       "\n",
       "    .dataframe tbody tr th {\n",
       "        vertical-align: top;\n",
       "    }\n",
       "\n",
       "    .dataframe thead th {\n",
       "        text-align: right;\n",
       "    }\n",
       "</style>\n",
       "<table border=\"1\" class=\"dataframe\">\n",
       "  <thead>\n",
       "    <tr style=\"text-align: right;\">\n",
       "      <th></th>\n",
       "      <th>지역명</th>\n",
       "      <th>연도</th>\n",
       "      <th>월</th>\n",
       "      <th>평당분양가격</th>\n",
       "      <th>전용면적</th>\n",
       "    </tr>\n",
       "  </thead>\n",
       "  <tbody>\n",
       "    <tr>\n",
       "      <th>0</th>\n",
       "      <td>대구</td>\n",
       "      <td>2016</td>\n",
       "      <td>1</td>\n",
       "      <td>11025.3</td>\n",
       "      <td>60㎡</td>\n",
       "    </tr>\n",
       "    <tr>\n",
       "      <th>1</th>\n",
       "      <td>대구</td>\n",
       "      <td>2016</td>\n",
       "      <td>1</td>\n",
       "      <td>10239.9</td>\n",
       "      <td>60㎡~85㎡</td>\n",
       "    </tr>\n",
       "    <tr>\n",
       "      <th>2</th>\n",
       "      <td>대구</td>\n",
       "      <td>2016</td>\n",
       "      <td>1</td>\n",
       "      <td>8355.6</td>\n",
       "      <td>85㎡~102㎡</td>\n",
       "    </tr>\n",
       "    <tr>\n",
       "      <th>3</th>\n",
       "      <td>대구</td>\n",
       "      <td>2016</td>\n",
       "      <td>1</td>\n",
       "      <td>9051.9</td>\n",
       "      <td>102㎡~</td>\n",
       "    </tr>\n",
       "    <tr>\n",
       "      <th>4</th>\n",
       "      <td>대구</td>\n",
       "      <td>2016</td>\n",
       "      <td>2</td>\n",
       "      <td>11025.3</td>\n",
       "      <td>60㎡</td>\n",
       "    </tr>\n",
       "  </tbody>\n",
       "</table>\n",
       "</div>"
      ],
      "text/plain": [
       "  지역명    연도  월   평당분양가격      전용면적\n",
       "0  대구  2016  1  11025.3       60㎡\n",
       "1  대구  2016  1  10239.9   60㎡~85㎡\n",
       "2  대구  2016  1   8355.6  85㎡~102㎡\n",
       "3  대구  2016  1   9051.9     102㎡~\n",
       "4  대구  2016  2  11025.3       60㎡"
      ]
     },
     "execution_count": 305,
     "metadata": {},
     "output_type": "execute_result"
    }
   ],
   "source": [
    "df_house_deagu = df_house_deagu.drop('index', axis=1)\n",
    "df_house_deagu.head()"
   ]
  },
  {
   "cell_type": "code",
   "execution_count": 306,
   "metadata": {},
   "outputs": [
    {
     "data": {
      "text/html": [
       "<div>\n",
       "<style scoped>\n",
       "    .dataframe tbody tr th:only-of-type {\n",
       "        vertical-align: middle;\n",
       "    }\n",
       "\n",
       "    .dataframe tbody tr th {\n",
       "        vertical-align: top;\n",
       "    }\n",
       "\n",
       "    .dataframe thead th {\n",
       "        text-align: right;\n",
       "    }\n",
       "</style>\n",
       "<table border=\"1\" class=\"dataframe\">\n",
       "  <thead>\n",
       "    <tr style=\"text-align: right;\">\n",
       "      <th></th>\n",
       "      <th>index</th>\n",
       "      <th>지역명</th>\n",
       "      <th>연도</th>\n",
       "      <th>월</th>\n",
       "      <th>평당분양가격</th>\n",
       "      <th>전용면적</th>\n",
       "    </tr>\n",
       "  </thead>\n",
       "  <tbody>\n",
       "    <tr>\n",
       "      <th>0</th>\n",
       "      <td>0</td>\n",
       "      <td>대구</td>\n",
       "      <td>2016</td>\n",
       "      <td>1</td>\n",
       "      <td>11025.3</td>\n",
       "      <td>60㎡</td>\n",
       "    </tr>\n",
       "    <tr>\n",
       "      <th>1</th>\n",
       "      <td>1</td>\n",
       "      <td>대구</td>\n",
       "      <td>2016</td>\n",
       "      <td>1</td>\n",
       "      <td>10239.9</td>\n",
       "      <td>60㎡~85㎡</td>\n",
       "    </tr>\n",
       "    <tr>\n",
       "      <th>2</th>\n",
       "      <td>2</td>\n",
       "      <td>대구</td>\n",
       "      <td>2016</td>\n",
       "      <td>1</td>\n",
       "      <td>8355.6</td>\n",
       "      <td>85㎡~102㎡</td>\n",
       "    </tr>\n",
       "    <tr>\n",
       "      <th>3</th>\n",
       "      <td>3</td>\n",
       "      <td>대구</td>\n",
       "      <td>2016</td>\n",
       "      <td>1</td>\n",
       "      <td>9051.9</td>\n",
       "      <td>102㎡~</td>\n",
       "    </tr>\n",
       "    <tr>\n",
       "      <th>4</th>\n",
       "      <td>4</td>\n",
       "      <td>대구</td>\n",
       "      <td>2016</td>\n",
       "      <td>2</td>\n",
       "      <td>11025.3</td>\n",
       "      <td>60㎡</td>\n",
       "    </tr>\n",
       "  </tbody>\n",
       "</table>\n",
       "</div>"
      ],
      "text/plain": [
       "   index 지역명    연도  월   평당분양가격      전용면적\n",
       "0      0  대구  2016  1  11025.3       60㎡\n",
       "1      1  대구  2016  1  10239.9   60㎡~85㎡\n",
       "2      2  대구  2016  1   8355.6  85㎡~102㎡\n",
       "3      3  대구  2016  1   9051.9     102㎡~\n",
       "4      4  대구  2016  2  11025.3       60㎡"
      ]
     },
     "execution_count": 306,
     "metadata": {},
     "output_type": "execute_result"
    }
   ],
   "source": [
    "df_house_deagu = df_house_deagu.reset_index()\n",
    "df_house_deagu.head()"
   ]
  },
  {
   "cell_type": "code",
   "execution_count": 307,
   "metadata": {},
   "outputs": [
    {
     "data": {
      "text/plain": [
       "Int64Index([74, 78, 82, 86, 88, 89, 90, 91, 94, 98, 102, 106], dtype='int64')"
      ]
     },
     "execution_count": 307,
     "metadata": {},
     "output_type": "execute_result"
    }
   ],
   "source": [
    "df_house_deagu[df_house_deagu['평당분양가격'].isnull()].index"
   ]
  },
  {
   "cell_type": "code",
   "execution_count": 308,
   "metadata": {},
   "outputs": [
    {
     "data": {
      "text/plain": [
       "12"
      ]
     },
     "execution_count": 308,
     "metadata": {},
     "output_type": "execute_result"
    }
   ],
   "source": [
    "len(df_house_deagu[df_house_deagu['평당분양가격'].isnull()].index)"
   ]
  },
  {
   "cell_type": "code",
   "execution_count": 309,
   "metadata": {
    "scrolled": false
   },
   "outputs": [
    {
     "data": {
      "text/html": [
       "<div>\n",
       "<style scoped>\n",
       "    .dataframe tbody tr th:only-of-type {\n",
       "        vertical-align: middle;\n",
       "    }\n",
       "\n",
       "    .dataframe tbody tr th {\n",
       "        vertical-align: top;\n",
       "    }\n",
       "\n",
       "    .dataframe thead th {\n",
       "        text-align: right;\n",
       "    }\n",
       "</style>\n",
       "<table border=\"1\" class=\"dataframe\">\n",
       "  <thead>\n",
       "    <tr style=\"text-align: right;\">\n",
       "      <th></th>\n",
       "      <th>index</th>\n",
       "      <th>지역명</th>\n",
       "      <th>연도</th>\n",
       "      <th>월</th>\n",
       "      <th>평당분양가격</th>\n",
       "      <th>전용면적</th>\n",
       "    </tr>\n",
       "  </thead>\n",
       "  <tbody>\n",
       "    <tr>\n",
       "      <th>74</th>\n",
       "      <td>74</td>\n",
       "      <td>대구</td>\n",
       "      <td>2017</td>\n",
       "      <td>7</td>\n",
       "      <td>NaN</td>\n",
       "      <td>85㎡~102㎡</td>\n",
       "    </tr>\n",
       "    <tr>\n",
       "      <th>78</th>\n",
       "      <td>78</td>\n",
       "      <td>대구</td>\n",
       "      <td>2017</td>\n",
       "      <td>8</td>\n",
       "      <td>NaN</td>\n",
       "      <td>85㎡~102㎡</td>\n",
       "    </tr>\n",
       "    <tr>\n",
       "      <th>82</th>\n",
       "      <td>82</td>\n",
       "      <td>대구</td>\n",
       "      <td>2017</td>\n",
       "      <td>9</td>\n",
       "      <td>NaN</td>\n",
       "      <td>85㎡~102㎡</td>\n",
       "    </tr>\n",
       "    <tr>\n",
       "      <th>86</th>\n",
       "      <td>86</td>\n",
       "      <td>대구</td>\n",
       "      <td>2017</td>\n",
       "      <td>10</td>\n",
       "      <td>NaN</td>\n",
       "      <td>85㎡~102㎡</td>\n",
       "    </tr>\n",
       "    <tr>\n",
       "      <th>88</th>\n",
       "      <td>88</td>\n",
       "      <td>대구</td>\n",
       "      <td>2017</td>\n",
       "      <td>11</td>\n",
       "      <td>NaN</td>\n",
       "      <td>60㎡</td>\n",
       "    </tr>\n",
       "    <tr>\n",
       "      <th>89</th>\n",
       "      <td>89</td>\n",
       "      <td>대구</td>\n",
       "      <td>2017</td>\n",
       "      <td>11</td>\n",
       "      <td>NaN</td>\n",
       "      <td>60㎡~85㎡</td>\n",
       "    </tr>\n",
       "    <tr>\n",
       "      <th>90</th>\n",
       "      <td>90</td>\n",
       "      <td>대구</td>\n",
       "      <td>2017</td>\n",
       "      <td>11</td>\n",
       "      <td>NaN</td>\n",
       "      <td>85㎡~102㎡</td>\n",
       "    </tr>\n",
       "    <tr>\n",
       "      <th>91</th>\n",
       "      <td>91</td>\n",
       "      <td>대구</td>\n",
       "      <td>2017</td>\n",
       "      <td>11</td>\n",
       "      <td>NaN</td>\n",
       "      <td>102㎡~</td>\n",
       "    </tr>\n",
       "    <tr>\n",
       "      <th>94</th>\n",
       "      <td>94</td>\n",
       "      <td>대구</td>\n",
       "      <td>2017</td>\n",
       "      <td>12</td>\n",
       "      <td>NaN</td>\n",
       "      <td>85㎡~102㎡</td>\n",
       "    </tr>\n",
       "    <tr>\n",
       "      <th>98</th>\n",
       "      <td>98</td>\n",
       "      <td>대구</td>\n",
       "      <td>2018</td>\n",
       "      <td>1</td>\n",
       "      <td>NaN</td>\n",
       "      <td>85㎡~102㎡</td>\n",
       "    </tr>\n",
       "    <tr>\n",
       "      <th>102</th>\n",
       "      <td>102</td>\n",
       "      <td>대구</td>\n",
       "      <td>2018</td>\n",
       "      <td>2</td>\n",
       "      <td>NaN</td>\n",
       "      <td>85㎡~102㎡</td>\n",
       "    </tr>\n",
       "    <tr>\n",
       "      <th>106</th>\n",
       "      <td>106</td>\n",
       "      <td>대구</td>\n",
       "      <td>2018</td>\n",
       "      <td>3</td>\n",
       "      <td>NaN</td>\n",
       "      <td>85㎡~102㎡</td>\n",
       "    </tr>\n",
       "  </tbody>\n",
       "</table>\n",
       "</div>"
      ],
      "text/plain": [
       "     index 지역명    연도   월  평당분양가격      전용면적\n",
       "74      74  대구  2017   7     NaN  85㎡~102㎡\n",
       "78      78  대구  2017   8     NaN  85㎡~102㎡\n",
       "82      82  대구  2017   9     NaN  85㎡~102㎡\n",
       "86      86  대구  2017  10     NaN  85㎡~102㎡\n",
       "88      88  대구  2017  11     NaN       60㎡\n",
       "89      89  대구  2017  11     NaN   60㎡~85㎡\n",
       "90      90  대구  2017  11     NaN  85㎡~102㎡\n",
       "91      91  대구  2017  11     NaN     102㎡~\n",
       "94      94  대구  2017  12     NaN  85㎡~102㎡\n",
       "98      98  대구  2018   1     NaN  85㎡~102㎡\n",
       "102    102  대구  2018   2     NaN  85㎡~102㎡\n",
       "106    106  대구  2018   3     NaN  85㎡~102㎡"
      ]
     },
     "execution_count": 309,
     "metadata": {},
     "output_type": "execute_result"
    }
   ],
   "source": [
    "df_house_deagu[df_house_deagu['평당분양가격'].isnull()]"
   ]
  },
  {
   "cell_type": "code",
   "execution_count": 310,
   "metadata": {},
   "outputs": [
    {
     "data": {
      "text/plain": [
       "12"
      ]
     },
     "execution_count": 310,
     "metadata": {},
     "output_type": "execute_result"
    }
   ],
   "source": [
    "len(df_house_deagu[df_house_deagu['평당분양가격'].isnull()])"
   ]
  },
  {
   "cell_type": "code",
   "execution_count": 311,
   "metadata": {},
   "outputs": [
    {
     "data": {
      "text/plain": [
       "array(['85㎡~102㎡', '60㎡', '60㎡~85㎡', '102㎡~'], dtype=object)"
      ]
     },
     "execution_count": 311,
     "metadata": {},
     "output_type": "execute_result"
    }
   ],
   "source": [
    "df_house_deagu[df_house_deagu['평당분양가격'].isnull()]['전용면적'].unique()"
   ]
  },
  {
   "cell_type": "markdown",
   "metadata": {},
   "source": [
    "##### 이런 경우 나눠서 생각하자 \n",
    "1. 9개 - 전용면적 = '85㎡~102㎡' - 2017 -7 ~ 2018 - 3까지 연속으로 비어있다 2번쨰 채움방법을 쓰자\n",
    "2. 3개 - 2017 - 11,11,11 - 기존에 쓰던 방법을 쓰자. -> 2017년 11월이고 전용면적이 '85㎡~102㎡가 아닐때"
   ]
  },
  {
   "cell_type": "markdown",
   "metadata": {},
   "source": [
    "###### 1. 3개 - 2017 - 11,11,11 - 기존에 쓰던 방법을 쓰자."
   ]
  },
  {
   "cell_type": "code",
   "execution_count": 312,
   "metadata": {
    "scrolled": true
   },
   "outputs": [
    {
     "data": {
      "text/html": [
       "<div>\n",
       "<style scoped>\n",
       "    .dataframe tbody tr th:only-of-type {\n",
       "        vertical-align: middle;\n",
       "    }\n",
       "\n",
       "    .dataframe tbody tr th {\n",
       "        vertical-align: top;\n",
       "    }\n",
       "\n",
       "    .dataframe thead th {\n",
       "        text-align: right;\n",
       "    }\n",
       "</style>\n",
       "<table border=\"1\" class=\"dataframe\">\n",
       "  <thead>\n",
       "    <tr style=\"text-align: right;\">\n",
       "      <th></th>\n",
       "      <th>index</th>\n",
       "      <th>지역명</th>\n",
       "      <th>연도</th>\n",
       "      <th>월</th>\n",
       "      <th>평당분양가격</th>\n",
       "      <th>전용면적</th>\n",
       "    </tr>\n",
       "  </thead>\n",
       "  <tbody>\n",
       "    <tr>\n",
       "      <th>88</th>\n",
       "      <td>88</td>\n",
       "      <td>대구</td>\n",
       "      <td>2017</td>\n",
       "      <td>11</td>\n",
       "      <td>NaN</td>\n",
       "      <td>60㎡</td>\n",
       "    </tr>\n",
       "    <tr>\n",
       "      <th>89</th>\n",
       "      <td>89</td>\n",
       "      <td>대구</td>\n",
       "      <td>2017</td>\n",
       "      <td>11</td>\n",
       "      <td>NaN</td>\n",
       "      <td>60㎡~85㎡</td>\n",
       "    </tr>\n",
       "    <tr>\n",
       "      <th>91</th>\n",
       "      <td>91</td>\n",
       "      <td>대구</td>\n",
       "      <td>2017</td>\n",
       "      <td>11</td>\n",
       "      <td>NaN</td>\n",
       "      <td>102㎡~</td>\n",
       "    </tr>\n",
       "  </tbody>\n",
       "</table>\n",
       "</div>"
      ],
      "text/plain": [
       "    index 지역명    연도   월  평당분양가격     전용면적\n",
       "88     88  대구  2017  11     NaN      60㎡\n",
       "89     89  대구  2017  11     NaN  60㎡~85㎡\n",
       "91     91  대구  2017  11     NaN    102㎡~"
      ]
     },
     "execution_count": 312,
     "metadata": {},
     "output_type": "execute_result"
    }
   ],
   "source": [
    "temp = df_house_deagu[df_house_deagu['평당분양가격'].isnull()]\n",
    "temp[(temp['월'] == 11) & (temp['전용면적'] != '85㎡~102㎡')]"
   ]
  },
  {
   "cell_type": "code",
   "execution_count": 313,
   "metadata": {
    "scrolled": true
   },
   "outputs": [
    {
     "name": "stderr",
     "output_type": "stream",
     "text": [
      "<ipython-input-313-8bb947c4ad77>:2: SettingWithCopyWarning: \n",
      "A value is trying to be set on a copy of a slice from a DataFrame\n",
      "\n",
      "See the caveats in the documentation: https://pandas.pydata.org/pandas-docs/stable/user_guide/indexing.html#returning-a-view-versus-a-copy\n",
      "  df_house_deagu['평당분양가격'][i] = df_house_deagu['평당분양가격'][i+4] - (df_house_deagu['평당분양가격'][i+8] - df_house_deagu['평당분양가격'][i+4])\n"
     ]
    }
   ],
   "source": [
    "for i in temp.index:\n",
    "    df_house_deagu['평당분양가격'][i] = df_house_deagu['평당분양가격'][i+4] - (df_house_deagu['평당분양가격'][i+8] - df_house_deagu['평당분양가격'][i+4])"
   ]
  },
  {
   "cell_type": "code",
   "execution_count": 314,
   "metadata": {
    "scrolled": true
   },
   "outputs": [
    {
     "data": {
      "text/html": [
       "<div>\n",
       "<style scoped>\n",
       "    .dataframe tbody tr th:only-of-type {\n",
       "        vertical-align: middle;\n",
       "    }\n",
       "\n",
       "    .dataframe tbody tr th {\n",
       "        vertical-align: top;\n",
       "    }\n",
       "\n",
       "    .dataframe thead th {\n",
       "        text-align: right;\n",
       "    }\n",
       "</style>\n",
       "<table border=\"1\" class=\"dataframe\">\n",
       "  <thead>\n",
       "    <tr style=\"text-align: right;\">\n",
       "      <th></th>\n",
       "      <th>index</th>\n",
       "      <th>지역명</th>\n",
       "      <th>연도</th>\n",
       "      <th>월</th>\n",
       "      <th>평당분양가격</th>\n",
       "      <th>전용면적</th>\n",
       "    </tr>\n",
       "  </thead>\n",
       "  <tbody>\n",
       "    <tr>\n",
       "      <th>74</th>\n",
       "      <td>74</td>\n",
       "      <td>대구</td>\n",
       "      <td>2017</td>\n",
       "      <td>7</td>\n",
       "      <td>NaN</td>\n",
       "      <td>85㎡~102㎡</td>\n",
       "    </tr>\n",
       "    <tr>\n",
       "      <th>78</th>\n",
       "      <td>78</td>\n",
       "      <td>대구</td>\n",
       "      <td>2017</td>\n",
       "      <td>8</td>\n",
       "      <td>NaN</td>\n",
       "      <td>85㎡~102㎡</td>\n",
       "    </tr>\n",
       "    <tr>\n",
       "      <th>82</th>\n",
       "      <td>82</td>\n",
       "      <td>대구</td>\n",
       "      <td>2017</td>\n",
       "      <td>9</td>\n",
       "      <td>NaN</td>\n",
       "      <td>85㎡~102㎡</td>\n",
       "    </tr>\n",
       "    <tr>\n",
       "      <th>86</th>\n",
       "      <td>86</td>\n",
       "      <td>대구</td>\n",
       "      <td>2017</td>\n",
       "      <td>10</td>\n",
       "      <td>NaN</td>\n",
       "      <td>85㎡~102㎡</td>\n",
       "    </tr>\n",
       "    <tr>\n",
       "      <th>90</th>\n",
       "      <td>90</td>\n",
       "      <td>대구</td>\n",
       "      <td>2017</td>\n",
       "      <td>11</td>\n",
       "      <td>NaN</td>\n",
       "      <td>85㎡~102㎡</td>\n",
       "    </tr>\n",
       "    <tr>\n",
       "      <th>94</th>\n",
       "      <td>94</td>\n",
       "      <td>대구</td>\n",
       "      <td>2017</td>\n",
       "      <td>12</td>\n",
       "      <td>NaN</td>\n",
       "      <td>85㎡~102㎡</td>\n",
       "    </tr>\n",
       "    <tr>\n",
       "      <th>98</th>\n",
       "      <td>98</td>\n",
       "      <td>대구</td>\n",
       "      <td>2018</td>\n",
       "      <td>1</td>\n",
       "      <td>NaN</td>\n",
       "      <td>85㎡~102㎡</td>\n",
       "    </tr>\n",
       "    <tr>\n",
       "      <th>102</th>\n",
       "      <td>102</td>\n",
       "      <td>대구</td>\n",
       "      <td>2018</td>\n",
       "      <td>2</td>\n",
       "      <td>NaN</td>\n",
       "      <td>85㎡~102㎡</td>\n",
       "    </tr>\n",
       "  </tbody>\n",
       "</table>\n",
       "</div>"
      ],
      "text/plain": [
       "     index 지역명    연도   월  평당분양가격      전용면적\n",
       "74      74  대구  2017   7     NaN  85㎡~102㎡\n",
       "78      78  대구  2017   8     NaN  85㎡~102㎡\n",
       "82      82  대구  2017   9     NaN  85㎡~102㎡\n",
       "86      86  대구  2017  10     NaN  85㎡~102㎡\n",
       "90      90  대구  2017  11     NaN  85㎡~102㎡\n",
       "94      94  대구  2017  12     NaN  85㎡~102㎡\n",
       "98      98  대구  2018   1     NaN  85㎡~102㎡\n",
       "102    102  대구  2018   2     NaN  85㎡~102㎡"
      ]
     },
     "execution_count": 314,
     "metadata": {},
     "output_type": "execute_result"
    }
   ],
   "source": [
    "df_house_deagu[df_house_deagu['평당분양가격'].isnull()]"
   ]
  },
  {
   "cell_type": "code",
   "execution_count": 315,
   "metadata": {},
   "outputs": [
    {
     "name": "stderr",
     "output_type": "stream",
     "text": [
      "<ipython-input-315-37b68bc0a893>:2: SettingWithCopyWarning: \n",
      "A value is trying to be set on a copy of a slice from a DataFrame\n",
      "\n",
      "See the caveats in the documentation: https://pandas.pydata.org/pandas-docs/stable/user_guide/indexing.html#returning-a-view-versus-a-copy\n",
      "  df_house_deagu['평당분양가격'][i] = df_house_deagu['평당분양가격'][i-4] - (df_house_deagu['평당분양가격'][i-8] - df_house_deagu['평당분양가격'][i-4])\n"
     ]
    }
   ],
   "source": [
    "for i in df_house_deagu[df_house_deagu['평당분양가격'].isnull()].index:\n",
    "    df_house_deagu['평당분양가격'][i] = df_house_deagu['평당분양가격'][i-4] - (df_house_deagu['평당분양가격'][i-8] - df_house_deagu['평당분양가격'][i-4])"
   ]
  },
  {
   "cell_type": "code",
   "execution_count": 316,
   "metadata": {},
   "outputs": [
    {
     "data": {
      "text/html": [
       "<div>\n",
       "<style scoped>\n",
       "    .dataframe tbody tr th:only-of-type {\n",
       "        vertical-align: middle;\n",
       "    }\n",
       "\n",
       "    .dataframe tbody tr th {\n",
       "        vertical-align: top;\n",
       "    }\n",
       "\n",
       "    .dataframe thead th {\n",
       "        text-align: right;\n",
       "    }\n",
       "</style>\n",
       "<table border=\"1\" class=\"dataframe\">\n",
       "  <thead>\n",
       "    <tr style=\"text-align: right;\">\n",
       "      <th></th>\n",
       "      <th>index</th>\n",
       "      <th>지역명</th>\n",
       "      <th>연도</th>\n",
       "      <th>월</th>\n",
       "      <th>평당분양가격</th>\n",
       "      <th>전용면적</th>\n",
       "    </tr>\n",
       "  </thead>\n",
       "  <tbody>\n",
       "  </tbody>\n",
       "</table>\n",
       "</div>"
      ],
      "text/plain": [
       "Empty DataFrame\n",
       "Columns: [index, 지역명, 연도, 월, 평당분양가격, 전용면적]\n",
       "Index: []"
      ]
     },
     "execution_count": 316,
     "metadata": {},
     "output_type": "execute_result"
    }
   ],
   "source": [
    "df_house_deagu[df_house_deagu['평당분양가격'].isnull()]"
   ]
  },
  {
   "cell_type": "code",
   "execution_count": 318,
   "metadata": {
    "scrolled": true
   },
   "outputs": [
    {
     "data": {
      "text/plain": [
       "array(['서울', '인천', '경기', '부산', '대구', '강원', '충북', '전북', '전남', '경남'],\n",
       "      dtype=object)"
      ]
     },
     "execution_count": 318,
     "metadata": {},
     "output_type": "execute_result"
    }
   ],
   "source": [
    "df_house_dosi['지역명'].unique()"
   ]
  },
  {
   "cell_type": "markdown",
   "metadata": {},
   "source": [
    "#### 강원 - Gangwon"
   ]
  },
  {
   "cell_type": "code",
   "execution_count": 333,
   "metadata": {
    "scrolled": true
   },
   "outputs": [
    {
     "data": {
      "text/html": [
       "<div>\n",
       "<style scoped>\n",
       "    .dataframe tbody tr th:only-of-type {\n",
       "        vertical-align: middle;\n",
       "    }\n",
       "\n",
       "    .dataframe tbody tr th {\n",
       "        vertical-align: top;\n",
       "    }\n",
       "\n",
       "    .dataframe thead th {\n",
       "        text-align: right;\n",
       "    }\n",
       "</style>\n",
       "<table border=\"1\" class=\"dataframe\">\n",
       "  <thead>\n",
       "    <tr style=\"text-align: right;\">\n",
       "      <th></th>\n",
       "      <th>지역명</th>\n",
       "      <th>연도</th>\n",
       "      <th>월</th>\n",
       "      <th>평당분양가격</th>\n",
       "      <th>전용면적</th>\n",
       "    </tr>\n",
       "  </thead>\n",
       "  <tbody>\n",
       "    <tr>\n",
       "      <th>301</th>\n",
       "      <td>강원</td>\n",
       "      <td>2016</td>\n",
       "      <td>1</td>\n",
       "      <td>7557.0</td>\n",
       "      <td>60㎡</td>\n",
       "    </tr>\n",
       "    <tr>\n",
       "      <th>302</th>\n",
       "      <td>강원</td>\n",
       "      <td>2016</td>\n",
       "      <td>1</td>\n",
       "      <td>7256.7</td>\n",
       "      <td>60㎡~85㎡</td>\n",
       "    </tr>\n",
       "    <tr>\n",
       "      <th>303</th>\n",
       "      <td>강원</td>\n",
       "      <td>2016</td>\n",
       "      <td>1</td>\n",
       "      <td>6801.3</td>\n",
       "      <td>85㎡~102㎡</td>\n",
       "    </tr>\n",
       "    <tr>\n",
       "      <th>304</th>\n",
       "      <td>강원</td>\n",
       "      <td>2016</td>\n",
       "      <td>1</td>\n",
       "      <td>7164.3</td>\n",
       "      <td>102㎡~</td>\n",
       "    </tr>\n",
       "    <tr>\n",
       "      <th>386</th>\n",
       "      <td>강원</td>\n",
       "      <td>2016</td>\n",
       "      <td>2</td>\n",
       "      <td>7557.0</td>\n",
       "      <td>60㎡</td>\n",
       "    </tr>\n",
       "  </tbody>\n",
       "</table>\n",
       "</div>"
      ],
      "text/plain": [
       "    지역명    연도  월  평당분양가격      전용면적\n",
       "301  강원  2016  1  7557.0       60㎡\n",
       "302  강원  2016  1  7256.7   60㎡~85㎡\n",
       "303  강원  2016  1  6801.3  85㎡~102㎡\n",
       "304  강원  2016  1  7164.3     102㎡~\n",
       "386  강원  2016  2  7557.0       60㎡"
      ]
     },
     "execution_count": 333,
     "metadata": {},
     "output_type": "execute_result"
    }
   ],
   "source": [
    "df_house_Gangwon = df_house_dosi[df_house_dosi['지역명'] == '강원'].copy()\n",
    "df_house_Gangwon.head()"
   ]
  },
  {
   "cell_type": "code",
   "execution_count": 334,
   "metadata": {
    "scrolled": true
   },
   "outputs": [
    {
     "data": {
      "text/html": [
       "<div>\n",
       "<style scoped>\n",
       "    .dataframe tbody tr th:only-of-type {\n",
       "        vertical-align: middle;\n",
       "    }\n",
       "\n",
       "    .dataframe tbody tr th {\n",
       "        vertical-align: top;\n",
       "    }\n",
       "\n",
       "    .dataframe thead th {\n",
       "        text-align: right;\n",
       "    }\n",
       "</style>\n",
       "<table border=\"1\" class=\"dataframe\">\n",
       "  <thead>\n",
       "    <tr style=\"text-align: right;\">\n",
       "      <th></th>\n",
       "      <th>index</th>\n",
       "      <th>지역명</th>\n",
       "      <th>연도</th>\n",
       "      <th>월</th>\n",
       "      <th>평당분양가격</th>\n",
       "      <th>전용면적</th>\n",
       "    </tr>\n",
       "  </thead>\n",
       "  <tbody>\n",
       "    <tr>\n",
       "      <th>0</th>\n",
       "      <td>301</td>\n",
       "      <td>강원</td>\n",
       "      <td>2016</td>\n",
       "      <td>1</td>\n",
       "      <td>7557.0</td>\n",
       "      <td>60㎡</td>\n",
       "    </tr>\n",
       "    <tr>\n",
       "      <th>1</th>\n",
       "      <td>302</td>\n",
       "      <td>강원</td>\n",
       "      <td>2016</td>\n",
       "      <td>1</td>\n",
       "      <td>7256.7</td>\n",
       "      <td>60㎡~85㎡</td>\n",
       "    </tr>\n",
       "    <tr>\n",
       "      <th>2</th>\n",
       "      <td>303</td>\n",
       "      <td>강원</td>\n",
       "      <td>2016</td>\n",
       "      <td>1</td>\n",
       "      <td>6801.3</td>\n",
       "      <td>85㎡~102㎡</td>\n",
       "    </tr>\n",
       "    <tr>\n",
       "      <th>3</th>\n",
       "      <td>304</td>\n",
       "      <td>강원</td>\n",
       "      <td>2016</td>\n",
       "      <td>1</td>\n",
       "      <td>7164.3</td>\n",
       "      <td>102㎡~</td>\n",
       "    </tr>\n",
       "    <tr>\n",
       "      <th>4</th>\n",
       "      <td>386</td>\n",
       "      <td>강원</td>\n",
       "      <td>2016</td>\n",
       "      <td>2</td>\n",
       "      <td>7557.0</td>\n",
       "      <td>60㎡</td>\n",
       "    </tr>\n",
       "    <tr>\n",
       "      <th>...</th>\n",
       "      <td>...</td>\n",
       "      <td>...</td>\n",
       "      <td>...</td>\n",
       "      <td>...</td>\n",
       "      <td>...</td>\n",
       "      <td>...</td>\n",
       "    </tr>\n",
       "    <tr>\n",
       "      <th>235</th>\n",
       "      <td>5234</td>\n",
       "      <td>강원</td>\n",
       "      <td>2020</td>\n",
       "      <td>11</td>\n",
       "      <td>12988.8</td>\n",
       "      <td>102㎡~</td>\n",
       "    </tr>\n",
       "    <tr>\n",
       "      <th>236</th>\n",
       "      <td>5316</td>\n",
       "      <td>강원</td>\n",
       "      <td>2020</td>\n",
       "      <td>12</td>\n",
       "      <td>11837.1</td>\n",
       "      <td>60㎡</td>\n",
       "    </tr>\n",
       "    <tr>\n",
       "      <th>237</th>\n",
       "      <td>5317</td>\n",
       "      <td>강원</td>\n",
       "      <td>2020</td>\n",
       "      <td>12</td>\n",
       "      <td>10048.5</td>\n",
       "      <td>60㎡~85㎡</td>\n",
       "    </tr>\n",
       "    <tr>\n",
       "      <th>238</th>\n",
       "      <td>5318</td>\n",
       "      <td>강원</td>\n",
       "      <td>2020</td>\n",
       "      <td>12</td>\n",
       "      <td>9504.0</td>\n",
       "      <td>85㎡~102㎡</td>\n",
       "    </tr>\n",
       "    <tr>\n",
       "      <th>239</th>\n",
       "      <td>5319</td>\n",
       "      <td>강원</td>\n",
       "      <td>2020</td>\n",
       "      <td>12</td>\n",
       "      <td>14100.9</td>\n",
       "      <td>102㎡~</td>\n",
       "    </tr>\n",
       "  </tbody>\n",
       "</table>\n",
       "<p>240 rows × 6 columns</p>\n",
       "</div>"
      ],
      "text/plain": [
       "     index 지역명    연도   월   평당분양가격      전용면적\n",
       "0      301  강원  2016   1   7557.0       60㎡\n",
       "1      302  강원  2016   1   7256.7   60㎡~85㎡\n",
       "2      303  강원  2016   1   6801.3  85㎡~102㎡\n",
       "3      304  강원  2016   1   7164.3     102㎡~\n",
       "4      386  강원  2016   2   7557.0       60㎡\n",
       "..     ...  ..   ...  ..      ...       ...\n",
       "235   5234  강원  2020  11  12988.8     102㎡~\n",
       "236   5316  강원  2020  12  11837.1       60㎡\n",
       "237   5317  강원  2020  12  10048.5   60㎡~85㎡\n",
       "238   5318  강원  2020  12   9504.0  85㎡~102㎡\n",
       "239   5319  강원  2020  12  14100.9     102㎡~\n",
       "\n",
       "[240 rows x 6 columns]"
      ]
     },
     "execution_count": 334,
     "metadata": {},
     "output_type": "execute_result"
    }
   ],
   "source": [
    "df_house_Gangwon = df_house_Gangwon.reset_index()\n",
    "df_house_Gangwon"
   ]
  },
  {
   "cell_type": "code",
   "execution_count": 335,
   "metadata": {
    "scrolled": true
   },
   "outputs": [
    {
     "data": {
      "text/html": [
       "<div>\n",
       "<style scoped>\n",
       "    .dataframe tbody tr th:only-of-type {\n",
       "        vertical-align: middle;\n",
       "    }\n",
       "\n",
       "    .dataframe tbody tr th {\n",
       "        vertical-align: top;\n",
       "    }\n",
       "\n",
       "    .dataframe thead th {\n",
       "        text-align: right;\n",
       "    }\n",
       "</style>\n",
       "<table border=\"1\" class=\"dataframe\">\n",
       "  <thead>\n",
       "    <tr style=\"text-align: right;\">\n",
       "      <th></th>\n",
       "      <th>지역명</th>\n",
       "      <th>연도</th>\n",
       "      <th>월</th>\n",
       "      <th>평당분양가격</th>\n",
       "      <th>전용면적</th>\n",
       "    </tr>\n",
       "  </thead>\n",
       "  <tbody>\n",
       "    <tr>\n",
       "      <th>0</th>\n",
       "      <td>강원</td>\n",
       "      <td>2016</td>\n",
       "      <td>1</td>\n",
       "      <td>7557.0</td>\n",
       "      <td>60㎡</td>\n",
       "    </tr>\n",
       "    <tr>\n",
       "      <th>1</th>\n",
       "      <td>강원</td>\n",
       "      <td>2016</td>\n",
       "      <td>1</td>\n",
       "      <td>7256.7</td>\n",
       "      <td>60㎡~85㎡</td>\n",
       "    </tr>\n",
       "    <tr>\n",
       "      <th>2</th>\n",
       "      <td>강원</td>\n",
       "      <td>2016</td>\n",
       "      <td>1</td>\n",
       "      <td>6801.3</td>\n",
       "      <td>85㎡~102㎡</td>\n",
       "    </tr>\n",
       "    <tr>\n",
       "      <th>3</th>\n",
       "      <td>강원</td>\n",
       "      <td>2016</td>\n",
       "      <td>1</td>\n",
       "      <td>7164.3</td>\n",
       "      <td>102㎡~</td>\n",
       "    </tr>\n",
       "    <tr>\n",
       "      <th>4</th>\n",
       "      <td>강원</td>\n",
       "      <td>2016</td>\n",
       "      <td>2</td>\n",
       "      <td>7557.0</td>\n",
       "      <td>60㎡</td>\n",
       "    </tr>\n",
       "  </tbody>\n",
       "</table>\n",
       "</div>"
      ],
      "text/plain": [
       "  지역명    연도  월  평당분양가격      전용면적\n",
       "0  강원  2016  1  7557.0       60㎡\n",
       "1  강원  2016  1  7256.7   60㎡~85㎡\n",
       "2  강원  2016  1  6801.3  85㎡~102㎡\n",
       "3  강원  2016  1  7164.3     102㎡~\n",
       "4  강원  2016  2  7557.0       60㎡"
      ]
     },
     "execution_count": 335,
     "metadata": {},
     "output_type": "execute_result"
    }
   ],
   "source": [
    "df_house_Gangwon = df_house_Gangwon.drop('index', axis=1)\n",
    "df_house_Gangwon.head()"
   ]
  },
  {
   "cell_type": "code",
   "execution_count": 336,
   "metadata": {},
   "outputs": [
    {
     "data": {
      "text/html": [
       "<div>\n",
       "<style scoped>\n",
       "    .dataframe tbody tr th:only-of-type {\n",
       "        vertical-align: middle;\n",
       "    }\n",
       "\n",
       "    .dataframe tbody tr th {\n",
       "        vertical-align: top;\n",
       "    }\n",
       "\n",
       "    .dataframe thead th {\n",
       "        text-align: right;\n",
       "    }\n",
       "</style>\n",
       "<table border=\"1\" class=\"dataframe\">\n",
       "  <thead>\n",
       "    <tr style=\"text-align: right;\">\n",
       "      <th></th>\n",
       "      <th>index</th>\n",
       "      <th>지역명</th>\n",
       "      <th>연도</th>\n",
       "      <th>월</th>\n",
       "      <th>평당분양가격</th>\n",
       "      <th>전용면적</th>\n",
       "    </tr>\n",
       "  </thead>\n",
       "  <tbody>\n",
       "    <tr>\n",
       "      <th>0</th>\n",
       "      <td>0</td>\n",
       "      <td>강원</td>\n",
       "      <td>2016</td>\n",
       "      <td>1</td>\n",
       "      <td>7557.0</td>\n",
       "      <td>60㎡</td>\n",
       "    </tr>\n",
       "    <tr>\n",
       "      <th>1</th>\n",
       "      <td>1</td>\n",
       "      <td>강원</td>\n",
       "      <td>2016</td>\n",
       "      <td>1</td>\n",
       "      <td>7256.7</td>\n",
       "      <td>60㎡~85㎡</td>\n",
       "    </tr>\n",
       "    <tr>\n",
       "      <th>2</th>\n",
       "      <td>2</td>\n",
       "      <td>강원</td>\n",
       "      <td>2016</td>\n",
       "      <td>1</td>\n",
       "      <td>6801.3</td>\n",
       "      <td>85㎡~102㎡</td>\n",
       "    </tr>\n",
       "    <tr>\n",
       "      <th>3</th>\n",
       "      <td>3</td>\n",
       "      <td>강원</td>\n",
       "      <td>2016</td>\n",
       "      <td>1</td>\n",
       "      <td>7164.3</td>\n",
       "      <td>102㎡~</td>\n",
       "    </tr>\n",
       "    <tr>\n",
       "      <th>4</th>\n",
       "      <td>4</td>\n",
       "      <td>강원</td>\n",
       "      <td>2016</td>\n",
       "      <td>2</td>\n",
       "      <td>7557.0</td>\n",
       "      <td>60㎡</td>\n",
       "    </tr>\n",
       "  </tbody>\n",
       "</table>\n",
       "</div>"
      ],
      "text/plain": [
       "   index 지역명    연도  월  평당분양가격      전용면적\n",
       "0      0  강원  2016  1  7557.0       60㎡\n",
       "1      1  강원  2016  1  7256.7   60㎡~85㎡\n",
       "2      2  강원  2016  1  6801.3  85㎡~102㎡\n",
       "3      3  강원  2016  1  7164.3     102㎡~\n",
       "4      4  강원  2016  2  7557.0       60㎡"
      ]
     },
     "execution_count": 336,
     "metadata": {},
     "output_type": "execute_result"
    }
   ],
   "source": [
    "df_house_Gangwon = df_house_Gangwon.reset_index()\n",
    "df_house_Gangwon.head()"
   ]
  },
  {
   "cell_type": "code",
   "execution_count": 337,
   "metadata": {},
   "outputs": [
    {
     "data": {
      "text/plain": [
       "Int64Index([6, 10, 14, 18, 22, 26, 30, 34, 88, 89, 90, 91, 202, 206, 210, 214], dtype='int64')"
      ]
     },
     "execution_count": 337,
     "metadata": {},
     "output_type": "execute_result"
    }
   ],
   "source": [
    "df_house_Gangwon[df_house_Gangwon['평당분양가격'].isnull()].index"
   ]
  },
  {
   "cell_type": "code",
   "execution_count": 338,
   "metadata": {
    "scrolled": true
   },
   "outputs": [
    {
     "data": {
      "text/plain": [
       "16"
      ]
     },
     "execution_count": 338,
     "metadata": {},
     "output_type": "execute_result"
    }
   ],
   "source": [
    "len(df_house_Gangwon[df_house_Gangwon['평당분양가격'].isnull()].index)"
   ]
  },
  {
   "cell_type": "code",
   "execution_count": 339,
   "metadata": {},
   "outputs": [
    {
     "data": {
      "text/html": [
       "<div>\n",
       "<style scoped>\n",
       "    .dataframe tbody tr th:only-of-type {\n",
       "        vertical-align: middle;\n",
       "    }\n",
       "\n",
       "    .dataframe tbody tr th {\n",
       "        vertical-align: top;\n",
       "    }\n",
       "\n",
       "    .dataframe thead th {\n",
       "        text-align: right;\n",
       "    }\n",
       "</style>\n",
       "<table border=\"1\" class=\"dataframe\">\n",
       "  <thead>\n",
       "    <tr style=\"text-align: right;\">\n",
       "      <th></th>\n",
       "      <th>index</th>\n",
       "      <th>지역명</th>\n",
       "      <th>연도</th>\n",
       "      <th>월</th>\n",
       "      <th>평당분양가격</th>\n",
       "      <th>전용면적</th>\n",
       "    </tr>\n",
       "  </thead>\n",
       "  <tbody>\n",
       "    <tr>\n",
       "      <th>6</th>\n",
       "      <td>6</td>\n",
       "      <td>강원</td>\n",
       "      <td>2016</td>\n",
       "      <td>2</td>\n",
       "      <td>NaN</td>\n",
       "      <td>85㎡~102㎡</td>\n",
       "    </tr>\n",
       "    <tr>\n",
       "      <th>10</th>\n",
       "      <td>10</td>\n",
       "      <td>강원</td>\n",
       "      <td>2016</td>\n",
       "      <td>3</td>\n",
       "      <td>NaN</td>\n",
       "      <td>85㎡~102㎡</td>\n",
       "    </tr>\n",
       "    <tr>\n",
       "      <th>14</th>\n",
       "      <td>14</td>\n",
       "      <td>강원</td>\n",
       "      <td>2016</td>\n",
       "      <td>4</td>\n",
       "      <td>NaN</td>\n",
       "      <td>85㎡~102㎡</td>\n",
       "    </tr>\n",
       "    <tr>\n",
       "      <th>18</th>\n",
       "      <td>18</td>\n",
       "      <td>강원</td>\n",
       "      <td>2016</td>\n",
       "      <td>5</td>\n",
       "      <td>NaN</td>\n",
       "      <td>85㎡~102㎡</td>\n",
       "    </tr>\n",
       "    <tr>\n",
       "      <th>22</th>\n",
       "      <td>22</td>\n",
       "      <td>강원</td>\n",
       "      <td>2016</td>\n",
       "      <td>6</td>\n",
       "      <td>NaN</td>\n",
       "      <td>85㎡~102㎡</td>\n",
       "    </tr>\n",
       "    <tr>\n",
       "      <th>26</th>\n",
       "      <td>26</td>\n",
       "      <td>강원</td>\n",
       "      <td>2016</td>\n",
       "      <td>7</td>\n",
       "      <td>NaN</td>\n",
       "      <td>85㎡~102㎡</td>\n",
       "    </tr>\n",
       "    <tr>\n",
       "      <th>30</th>\n",
       "      <td>30</td>\n",
       "      <td>강원</td>\n",
       "      <td>2016</td>\n",
       "      <td>8</td>\n",
       "      <td>NaN</td>\n",
       "      <td>85㎡~102㎡</td>\n",
       "    </tr>\n",
       "    <tr>\n",
       "      <th>34</th>\n",
       "      <td>34</td>\n",
       "      <td>강원</td>\n",
       "      <td>2016</td>\n",
       "      <td>9</td>\n",
       "      <td>NaN</td>\n",
       "      <td>85㎡~102㎡</td>\n",
       "    </tr>\n",
       "    <tr>\n",
       "      <th>88</th>\n",
       "      <td>88</td>\n",
       "      <td>강원</td>\n",
       "      <td>2017</td>\n",
       "      <td>11</td>\n",
       "      <td>NaN</td>\n",
       "      <td>60㎡</td>\n",
       "    </tr>\n",
       "    <tr>\n",
       "      <th>89</th>\n",
       "      <td>89</td>\n",
       "      <td>강원</td>\n",
       "      <td>2017</td>\n",
       "      <td>11</td>\n",
       "      <td>NaN</td>\n",
       "      <td>60㎡~85㎡</td>\n",
       "    </tr>\n",
       "    <tr>\n",
       "      <th>90</th>\n",
       "      <td>90</td>\n",
       "      <td>강원</td>\n",
       "      <td>2017</td>\n",
       "      <td>11</td>\n",
       "      <td>NaN</td>\n",
       "      <td>85㎡~102㎡</td>\n",
       "    </tr>\n",
       "    <tr>\n",
       "      <th>91</th>\n",
       "      <td>91</td>\n",
       "      <td>강원</td>\n",
       "      <td>2017</td>\n",
       "      <td>11</td>\n",
       "      <td>NaN</td>\n",
       "      <td>102㎡~</td>\n",
       "    </tr>\n",
       "    <tr>\n",
       "      <th>202</th>\n",
       "      <td>202</td>\n",
       "      <td>강원</td>\n",
       "      <td>2020</td>\n",
       "      <td>3</td>\n",
       "      <td>NaN</td>\n",
       "      <td>85㎡~102㎡</td>\n",
       "    </tr>\n",
       "    <tr>\n",
       "      <th>206</th>\n",
       "      <td>206</td>\n",
       "      <td>강원</td>\n",
       "      <td>2020</td>\n",
       "      <td>4</td>\n",
       "      <td>NaN</td>\n",
       "      <td>85㎡~102㎡</td>\n",
       "    </tr>\n",
       "    <tr>\n",
       "      <th>210</th>\n",
       "      <td>210</td>\n",
       "      <td>강원</td>\n",
       "      <td>2020</td>\n",
       "      <td>5</td>\n",
       "      <td>NaN</td>\n",
       "      <td>85㎡~102㎡</td>\n",
       "    </tr>\n",
       "    <tr>\n",
       "      <th>214</th>\n",
       "      <td>214</td>\n",
       "      <td>강원</td>\n",
       "      <td>2020</td>\n",
       "      <td>6</td>\n",
       "      <td>NaN</td>\n",
       "      <td>85㎡~102㎡</td>\n",
       "    </tr>\n",
       "  </tbody>\n",
       "</table>\n",
       "</div>"
      ],
      "text/plain": [
       "     index 지역명    연도   월  평당분양가격      전용면적\n",
       "6        6  강원  2016   2     NaN  85㎡~102㎡\n",
       "10      10  강원  2016   3     NaN  85㎡~102㎡\n",
       "14      14  강원  2016   4     NaN  85㎡~102㎡\n",
       "18      18  강원  2016   5     NaN  85㎡~102㎡\n",
       "22      22  강원  2016   6     NaN  85㎡~102㎡\n",
       "26      26  강원  2016   7     NaN  85㎡~102㎡\n",
       "30      30  강원  2016   8     NaN  85㎡~102㎡\n",
       "34      34  강원  2016   9     NaN  85㎡~102㎡\n",
       "88      88  강원  2017  11     NaN       60㎡\n",
       "89      89  강원  2017  11     NaN   60㎡~85㎡\n",
       "90      90  강원  2017  11     NaN  85㎡~102㎡\n",
       "91      91  강원  2017  11     NaN     102㎡~\n",
       "202    202  강원  2020   3     NaN  85㎡~102㎡\n",
       "206    206  강원  2020   4     NaN  85㎡~102㎡\n",
       "210    210  강원  2020   5     NaN  85㎡~102㎡\n",
       "214    214  강원  2020   6     NaN  85㎡~102㎡"
      ]
     },
     "execution_count": 339,
     "metadata": {},
     "output_type": "execute_result"
    }
   ],
   "source": [
    "df_house_Gangwon[df_house_Gangwon['평당분양가격'].isnull()]"
   ]
  },
  {
   "cell_type": "code",
   "execution_count": 340,
   "metadata": {},
   "outputs": [
    {
     "data": {
      "text/plain": [
       "16"
      ]
     },
     "execution_count": 340,
     "metadata": {},
     "output_type": "execute_result"
    }
   ],
   "source": [
    "len(df_house_Gangwon[df_house_Gangwon['평당분양가격'].isnull()])"
   ]
  },
  {
   "cell_type": "code",
   "execution_count": 341,
   "metadata": {},
   "outputs": [
    {
     "data": {
      "text/plain": [
       "array(['85㎡~102㎡', '60㎡', '60㎡~85㎡', '102㎡~'], dtype=object)"
      ]
     },
     "execution_count": 341,
     "metadata": {},
     "output_type": "execute_result"
    }
   ],
   "source": [
    "df_house_Gangwon[df_house_Gangwon['평당분양가격'].isnull()]['전용면적'].unique()"
   ]
  },
  {
   "cell_type": "markdown",
   "metadata": {},
   "source": [
    "##### 이런 경우 나눠서 생각하자 \n",
    "\n",
    "1. 4개 - 2017 -> 기존에 쓰던 방법을 쓰자.\n",
    "2. 4개 - 2020 -> 2번째 방법을 쓰자\n",
    "3. 8개 - 년도 2016 - 연속된 값이 비어있다 -> 채울 식도 없다... -> 뒤에서부터 모아서 쓰자"
   ]
  },
  {
   "cell_type": "markdown",
   "metadata": {},
   "source": [
    "##### 1. 4개 - 2017 -> 기존에 쓰던 방법을 쓰자."
   ]
  },
  {
   "cell_type": "code",
   "execution_count": 348,
   "metadata": {},
   "outputs": [
    {
     "data": {
      "text/html": [
       "<div>\n",
       "<style scoped>\n",
       "    .dataframe tbody tr th:only-of-type {\n",
       "        vertical-align: middle;\n",
       "    }\n",
       "\n",
       "    .dataframe tbody tr th {\n",
       "        vertical-align: top;\n",
       "    }\n",
       "\n",
       "    .dataframe thead th {\n",
       "        text-align: right;\n",
       "    }\n",
       "</style>\n",
       "<table border=\"1\" class=\"dataframe\">\n",
       "  <thead>\n",
       "    <tr style=\"text-align: right;\">\n",
       "      <th></th>\n",
       "      <th>index</th>\n",
       "      <th>지역명</th>\n",
       "      <th>연도</th>\n",
       "      <th>월</th>\n",
       "      <th>평당분양가격</th>\n",
       "      <th>전용면적</th>\n",
       "    </tr>\n",
       "  </thead>\n",
       "  <tbody>\n",
       "    <tr>\n",
       "      <th>6</th>\n",
       "      <td>6</td>\n",
       "      <td>강원</td>\n",
       "      <td>2016</td>\n",
       "      <td>2</td>\n",
       "      <td>NaN</td>\n",
       "      <td>85㎡~102㎡</td>\n",
       "    </tr>\n",
       "    <tr>\n",
       "      <th>10</th>\n",
       "      <td>10</td>\n",
       "      <td>강원</td>\n",
       "      <td>2016</td>\n",
       "      <td>3</td>\n",
       "      <td>NaN</td>\n",
       "      <td>85㎡~102㎡</td>\n",
       "    </tr>\n",
       "    <tr>\n",
       "      <th>14</th>\n",
       "      <td>14</td>\n",
       "      <td>강원</td>\n",
       "      <td>2016</td>\n",
       "      <td>4</td>\n",
       "      <td>NaN</td>\n",
       "      <td>85㎡~102㎡</td>\n",
       "    </tr>\n",
       "    <tr>\n",
       "      <th>18</th>\n",
       "      <td>18</td>\n",
       "      <td>강원</td>\n",
       "      <td>2016</td>\n",
       "      <td>5</td>\n",
       "      <td>NaN</td>\n",
       "      <td>85㎡~102㎡</td>\n",
       "    </tr>\n",
       "    <tr>\n",
       "      <th>22</th>\n",
       "      <td>22</td>\n",
       "      <td>강원</td>\n",
       "      <td>2016</td>\n",
       "      <td>6</td>\n",
       "      <td>NaN</td>\n",
       "      <td>85㎡~102㎡</td>\n",
       "    </tr>\n",
       "    <tr>\n",
       "      <th>26</th>\n",
       "      <td>26</td>\n",
       "      <td>강원</td>\n",
       "      <td>2016</td>\n",
       "      <td>7</td>\n",
       "      <td>NaN</td>\n",
       "      <td>85㎡~102㎡</td>\n",
       "    </tr>\n",
       "    <tr>\n",
       "      <th>30</th>\n",
       "      <td>30</td>\n",
       "      <td>강원</td>\n",
       "      <td>2016</td>\n",
       "      <td>8</td>\n",
       "      <td>NaN</td>\n",
       "      <td>85㎡~102㎡</td>\n",
       "    </tr>\n",
       "    <tr>\n",
       "      <th>34</th>\n",
       "      <td>34</td>\n",
       "      <td>강원</td>\n",
       "      <td>2016</td>\n",
       "      <td>9</td>\n",
       "      <td>NaN</td>\n",
       "      <td>85㎡~102㎡</td>\n",
       "    </tr>\n",
       "    <tr>\n",
       "      <th>88</th>\n",
       "      <td>88</td>\n",
       "      <td>강원</td>\n",
       "      <td>2017</td>\n",
       "      <td>11</td>\n",
       "      <td>NaN</td>\n",
       "      <td>60㎡</td>\n",
       "    </tr>\n",
       "    <tr>\n",
       "      <th>89</th>\n",
       "      <td>89</td>\n",
       "      <td>강원</td>\n",
       "      <td>2017</td>\n",
       "      <td>11</td>\n",
       "      <td>NaN</td>\n",
       "      <td>60㎡~85㎡</td>\n",
       "    </tr>\n",
       "    <tr>\n",
       "      <th>90</th>\n",
       "      <td>90</td>\n",
       "      <td>강원</td>\n",
       "      <td>2017</td>\n",
       "      <td>11</td>\n",
       "      <td>NaN</td>\n",
       "      <td>85㎡~102㎡</td>\n",
       "    </tr>\n",
       "    <tr>\n",
       "      <th>91</th>\n",
       "      <td>91</td>\n",
       "      <td>강원</td>\n",
       "      <td>2017</td>\n",
       "      <td>11</td>\n",
       "      <td>NaN</td>\n",
       "      <td>102㎡~</td>\n",
       "    </tr>\n",
       "    <tr>\n",
       "      <th>202</th>\n",
       "      <td>202</td>\n",
       "      <td>강원</td>\n",
       "      <td>2020</td>\n",
       "      <td>3</td>\n",
       "      <td>NaN</td>\n",
       "      <td>85㎡~102㎡</td>\n",
       "    </tr>\n",
       "    <tr>\n",
       "      <th>206</th>\n",
       "      <td>206</td>\n",
       "      <td>강원</td>\n",
       "      <td>2020</td>\n",
       "      <td>4</td>\n",
       "      <td>NaN</td>\n",
       "      <td>85㎡~102㎡</td>\n",
       "    </tr>\n",
       "    <tr>\n",
       "      <th>210</th>\n",
       "      <td>210</td>\n",
       "      <td>강원</td>\n",
       "      <td>2020</td>\n",
       "      <td>5</td>\n",
       "      <td>NaN</td>\n",
       "      <td>85㎡~102㎡</td>\n",
       "    </tr>\n",
       "    <tr>\n",
       "      <th>214</th>\n",
       "      <td>214</td>\n",
       "      <td>강원</td>\n",
       "      <td>2020</td>\n",
       "      <td>6</td>\n",
       "      <td>NaN</td>\n",
       "      <td>85㎡~102㎡</td>\n",
       "    </tr>\n",
       "  </tbody>\n",
       "</table>\n",
       "</div>"
      ],
      "text/plain": [
       "     index 지역명    연도   월  평당분양가격      전용면적\n",
       "6        6  강원  2016   2     NaN  85㎡~102㎡\n",
       "10      10  강원  2016   3     NaN  85㎡~102㎡\n",
       "14      14  강원  2016   4     NaN  85㎡~102㎡\n",
       "18      18  강원  2016   5     NaN  85㎡~102㎡\n",
       "22      22  강원  2016   6     NaN  85㎡~102㎡\n",
       "26      26  강원  2016   7     NaN  85㎡~102㎡\n",
       "30      30  강원  2016   8     NaN  85㎡~102㎡\n",
       "34      34  강원  2016   9     NaN  85㎡~102㎡\n",
       "88      88  강원  2017  11     NaN       60㎡\n",
       "89      89  강원  2017  11     NaN   60㎡~85㎡\n",
       "90      90  강원  2017  11     NaN  85㎡~102㎡\n",
       "91      91  강원  2017  11     NaN     102㎡~\n",
       "202    202  강원  2020   3     NaN  85㎡~102㎡\n",
       "206    206  강원  2020   4     NaN  85㎡~102㎡\n",
       "210    210  강원  2020   5     NaN  85㎡~102㎡\n",
       "214    214  강원  2020   6     NaN  85㎡~102㎡"
      ]
     },
     "execution_count": 348,
     "metadata": {},
     "output_type": "execute_result"
    }
   ],
   "source": [
    "Gangwon_null = df_house_Gangwon[df_house_Gangwon['평당분양가격'].isnull()]\n",
    "Gangwon_null"
   ]
  },
  {
   "cell_type": "code",
   "execution_count": 350,
   "metadata": {
    "scrolled": false
   },
   "outputs": [
    {
     "data": {
      "text/html": [
       "<div>\n",
       "<style scoped>\n",
       "    .dataframe tbody tr th:only-of-type {\n",
       "        vertical-align: middle;\n",
       "    }\n",
       "\n",
       "    .dataframe tbody tr th {\n",
       "        vertical-align: top;\n",
       "    }\n",
       "\n",
       "    .dataframe thead th {\n",
       "        text-align: right;\n",
       "    }\n",
       "</style>\n",
       "<table border=\"1\" class=\"dataframe\">\n",
       "  <thead>\n",
       "    <tr style=\"text-align: right;\">\n",
       "      <th></th>\n",
       "      <th>index</th>\n",
       "      <th>지역명</th>\n",
       "      <th>연도</th>\n",
       "      <th>월</th>\n",
       "      <th>평당분양가격</th>\n",
       "      <th>전용면적</th>\n",
       "    </tr>\n",
       "  </thead>\n",
       "  <tbody>\n",
       "    <tr>\n",
       "      <th>88</th>\n",
       "      <td>88</td>\n",
       "      <td>강원</td>\n",
       "      <td>2017</td>\n",
       "      <td>11</td>\n",
       "      <td>NaN</td>\n",
       "      <td>60㎡</td>\n",
       "    </tr>\n",
       "    <tr>\n",
       "      <th>89</th>\n",
       "      <td>89</td>\n",
       "      <td>강원</td>\n",
       "      <td>2017</td>\n",
       "      <td>11</td>\n",
       "      <td>NaN</td>\n",
       "      <td>60㎡~85㎡</td>\n",
       "    </tr>\n",
       "    <tr>\n",
       "      <th>90</th>\n",
       "      <td>90</td>\n",
       "      <td>강원</td>\n",
       "      <td>2017</td>\n",
       "      <td>11</td>\n",
       "      <td>NaN</td>\n",
       "      <td>85㎡~102㎡</td>\n",
       "    </tr>\n",
       "    <tr>\n",
       "      <th>91</th>\n",
       "      <td>91</td>\n",
       "      <td>강원</td>\n",
       "      <td>2017</td>\n",
       "      <td>11</td>\n",
       "      <td>NaN</td>\n",
       "      <td>102㎡~</td>\n",
       "    </tr>\n",
       "  </tbody>\n",
       "</table>\n",
       "</div>"
      ],
      "text/plain": [
       "    index 지역명    연도   월  평당분양가격      전용면적\n",
       "88     88  강원  2017  11     NaN       60㎡\n",
       "89     89  강원  2017  11     NaN   60㎡~85㎡\n",
       "90     90  강원  2017  11     NaN  85㎡~102㎡\n",
       "91     91  강원  2017  11     NaN     102㎡~"
      ]
     },
     "execution_count": 350,
     "metadata": {},
     "output_type": "execute_result"
    }
   ],
   "source": [
    "Gangwon_null[Gangwon_null['연도'] == 2017]"
   ]
  },
  {
   "cell_type": "code",
   "execution_count": 361,
   "metadata": {
    "scrolled": false
   },
   "outputs": [
    {
     "name": "stderr",
     "output_type": "stream",
     "text": [
      "<ipython-input-361-bed3f9f16b6c>:2: SettingWithCopyWarning: \n",
      "A value is trying to be set on a copy of a slice from a DataFrame\n",
      "\n",
      "See the caveats in the documentation: https://pandas.pydata.org/pandas-docs/stable/user_guide/indexing.html#returning-a-view-versus-a-copy\n",
      "  df_house_Gangwon['평당분양가격'][i] = df_house_Gangwon['평당분양가격'][i+4] - (df_house_Gangwon['평당분양가격'][i+8] - df_house_Gangwon['평당분양가격'][i+4])\n"
     ]
    }
   ],
   "source": [
    "for i in Gangwon_null[Gangwon_null['연도'] == 2017].index:\n",
    "    df_house_Gangwon['평당분양가격'][i] = df_house_Gangwon['평당분양가격'][i+4] - (df_house_Gangwon['평당분양가격'][i+8] - df_house_Gangwon['평당분양가격'][i+4])"
   ]
  },
  {
   "cell_type": "code",
   "execution_count": 362,
   "metadata": {},
   "outputs": [
    {
     "data": {
      "text/plain": [
       "7227.0"
      ]
     },
     "execution_count": 362,
     "metadata": {},
     "output_type": "execute_result"
    }
   ],
   "source": [
    " df_house_Gangwon['평당분양가격'][88]"
   ]
  },
  {
   "cell_type": "code",
   "execution_count": 363,
   "metadata": {
    "scrolled": true
   },
   "outputs": [
    {
     "data": {
      "text/plain": [
       "index     0\n",
       "지역명       0\n",
       "연도        0\n",
       "월         0\n",
       "평당분양가격    0\n",
       "전용면적      0\n",
       "dtype: int64"
      ]
     },
     "execution_count": 363,
     "metadata": {},
     "output_type": "execute_result"
    }
   ],
   "source": [
    "df_house_Gangwon[df_house_Gangwon['연도'] == 2017].isnull().sum()"
   ]
  },
  {
   "cell_type": "code",
   "execution_count": 364,
   "metadata": {
    "scrolled": false
   },
   "outputs": [
    {
     "data": {
      "text/html": [
       "<div>\n",
       "<style scoped>\n",
       "    .dataframe tbody tr th:only-of-type {\n",
       "        vertical-align: middle;\n",
       "    }\n",
       "\n",
       "    .dataframe tbody tr th {\n",
       "        vertical-align: top;\n",
       "    }\n",
       "\n",
       "    .dataframe thead th {\n",
       "        text-align: right;\n",
       "    }\n",
       "</style>\n",
       "<table border=\"1\" class=\"dataframe\">\n",
       "  <thead>\n",
       "    <tr style=\"text-align: right;\">\n",
       "      <th></th>\n",
       "      <th>index</th>\n",
       "      <th>지역명</th>\n",
       "      <th>연도</th>\n",
       "      <th>월</th>\n",
       "      <th>평당분양가격</th>\n",
       "      <th>전용면적</th>\n",
       "    </tr>\n",
       "  </thead>\n",
       "  <tbody>\n",
       "    <tr>\n",
       "      <th>6</th>\n",
       "      <td>6</td>\n",
       "      <td>강원</td>\n",
       "      <td>2016</td>\n",
       "      <td>2</td>\n",
       "      <td>NaN</td>\n",
       "      <td>85㎡~102㎡</td>\n",
       "    </tr>\n",
       "    <tr>\n",
       "      <th>10</th>\n",
       "      <td>10</td>\n",
       "      <td>강원</td>\n",
       "      <td>2016</td>\n",
       "      <td>3</td>\n",
       "      <td>NaN</td>\n",
       "      <td>85㎡~102㎡</td>\n",
       "    </tr>\n",
       "    <tr>\n",
       "      <th>14</th>\n",
       "      <td>14</td>\n",
       "      <td>강원</td>\n",
       "      <td>2016</td>\n",
       "      <td>4</td>\n",
       "      <td>NaN</td>\n",
       "      <td>85㎡~102㎡</td>\n",
       "    </tr>\n",
       "    <tr>\n",
       "      <th>18</th>\n",
       "      <td>18</td>\n",
       "      <td>강원</td>\n",
       "      <td>2016</td>\n",
       "      <td>5</td>\n",
       "      <td>NaN</td>\n",
       "      <td>85㎡~102㎡</td>\n",
       "    </tr>\n",
       "    <tr>\n",
       "      <th>22</th>\n",
       "      <td>22</td>\n",
       "      <td>강원</td>\n",
       "      <td>2016</td>\n",
       "      <td>6</td>\n",
       "      <td>NaN</td>\n",
       "      <td>85㎡~102㎡</td>\n",
       "    </tr>\n",
       "    <tr>\n",
       "      <th>26</th>\n",
       "      <td>26</td>\n",
       "      <td>강원</td>\n",
       "      <td>2016</td>\n",
       "      <td>7</td>\n",
       "      <td>NaN</td>\n",
       "      <td>85㎡~102㎡</td>\n",
       "    </tr>\n",
       "    <tr>\n",
       "      <th>30</th>\n",
       "      <td>30</td>\n",
       "      <td>강원</td>\n",
       "      <td>2016</td>\n",
       "      <td>8</td>\n",
       "      <td>NaN</td>\n",
       "      <td>85㎡~102㎡</td>\n",
       "    </tr>\n",
       "    <tr>\n",
       "      <th>34</th>\n",
       "      <td>34</td>\n",
       "      <td>강원</td>\n",
       "      <td>2016</td>\n",
       "      <td>9</td>\n",
       "      <td>NaN</td>\n",
       "      <td>85㎡~102㎡</td>\n",
       "    </tr>\n",
       "    <tr>\n",
       "      <th>202</th>\n",
       "      <td>202</td>\n",
       "      <td>강원</td>\n",
       "      <td>2020</td>\n",
       "      <td>3</td>\n",
       "      <td>NaN</td>\n",
       "      <td>85㎡~102㎡</td>\n",
       "    </tr>\n",
       "    <tr>\n",
       "      <th>206</th>\n",
       "      <td>206</td>\n",
       "      <td>강원</td>\n",
       "      <td>2020</td>\n",
       "      <td>4</td>\n",
       "      <td>NaN</td>\n",
       "      <td>85㎡~102㎡</td>\n",
       "    </tr>\n",
       "    <tr>\n",
       "      <th>210</th>\n",
       "      <td>210</td>\n",
       "      <td>강원</td>\n",
       "      <td>2020</td>\n",
       "      <td>5</td>\n",
       "      <td>NaN</td>\n",
       "      <td>85㎡~102㎡</td>\n",
       "    </tr>\n",
       "    <tr>\n",
       "      <th>214</th>\n",
       "      <td>214</td>\n",
       "      <td>강원</td>\n",
       "      <td>2020</td>\n",
       "      <td>6</td>\n",
       "      <td>NaN</td>\n",
       "      <td>85㎡~102㎡</td>\n",
       "    </tr>\n",
       "  </tbody>\n",
       "</table>\n",
       "</div>"
      ],
      "text/plain": [
       "     index 지역명    연도  월  평당분양가격      전용면적\n",
       "6        6  강원  2016  2     NaN  85㎡~102㎡\n",
       "10      10  강원  2016  3     NaN  85㎡~102㎡\n",
       "14      14  강원  2016  4     NaN  85㎡~102㎡\n",
       "18      18  강원  2016  5     NaN  85㎡~102㎡\n",
       "22      22  강원  2016  6     NaN  85㎡~102㎡\n",
       "26      26  강원  2016  7     NaN  85㎡~102㎡\n",
       "30      30  강원  2016  8     NaN  85㎡~102㎡\n",
       "34      34  강원  2016  9     NaN  85㎡~102㎡\n",
       "202    202  강원  2020  3     NaN  85㎡~102㎡\n",
       "206    206  강원  2020  4     NaN  85㎡~102㎡\n",
       "210    210  강원  2020  5     NaN  85㎡~102㎡\n",
       "214    214  강원  2020  6     NaN  85㎡~102㎡"
      ]
     },
     "execution_count": 364,
     "metadata": {},
     "output_type": "execute_result"
    }
   ],
   "source": [
    "df_house_Gangwon[df_house_Gangwon['평당분양가격'].isnull()]"
   ]
  },
  {
   "cell_type": "markdown",
   "metadata": {},
   "source": [
    "##### 2. 4개 - 2020 -> 2번째 방법을 쓰자"
   ]
  },
  {
   "cell_type": "code",
   "execution_count": 366,
   "metadata": {
    "scrolled": true
   },
   "outputs": [
    {
     "data": {
      "text/html": [
       "<div>\n",
       "<style scoped>\n",
       "    .dataframe tbody tr th:only-of-type {\n",
       "        vertical-align: middle;\n",
       "    }\n",
       "\n",
       "    .dataframe tbody tr th {\n",
       "        vertical-align: top;\n",
       "    }\n",
       "\n",
       "    .dataframe thead th {\n",
       "        text-align: right;\n",
       "    }\n",
       "</style>\n",
       "<table border=\"1\" class=\"dataframe\">\n",
       "  <thead>\n",
       "    <tr style=\"text-align: right;\">\n",
       "      <th></th>\n",
       "      <th>index</th>\n",
       "      <th>지역명</th>\n",
       "      <th>연도</th>\n",
       "      <th>월</th>\n",
       "      <th>평당분양가격</th>\n",
       "      <th>전용면적</th>\n",
       "    </tr>\n",
       "  </thead>\n",
       "  <tbody>\n",
       "    <tr>\n",
       "      <th>202</th>\n",
       "      <td>202</td>\n",
       "      <td>강원</td>\n",
       "      <td>2020</td>\n",
       "      <td>3</td>\n",
       "      <td>NaN</td>\n",
       "      <td>85㎡~102㎡</td>\n",
       "    </tr>\n",
       "    <tr>\n",
       "      <th>206</th>\n",
       "      <td>206</td>\n",
       "      <td>강원</td>\n",
       "      <td>2020</td>\n",
       "      <td>4</td>\n",
       "      <td>NaN</td>\n",
       "      <td>85㎡~102㎡</td>\n",
       "    </tr>\n",
       "    <tr>\n",
       "      <th>210</th>\n",
       "      <td>210</td>\n",
       "      <td>강원</td>\n",
       "      <td>2020</td>\n",
       "      <td>5</td>\n",
       "      <td>NaN</td>\n",
       "      <td>85㎡~102㎡</td>\n",
       "    </tr>\n",
       "    <tr>\n",
       "      <th>214</th>\n",
       "      <td>214</td>\n",
       "      <td>강원</td>\n",
       "      <td>2020</td>\n",
       "      <td>6</td>\n",
       "      <td>NaN</td>\n",
       "      <td>85㎡~102㎡</td>\n",
       "    </tr>\n",
       "  </tbody>\n",
       "</table>\n",
       "</div>"
      ],
      "text/plain": [
       "     index 지역명    연도  월  평당분양가격      전용면적\n",
       "202    202  강원  2020  3     NaN  85㎡~102㎡\n",
       "206    206  강원  2020  4     NaN  85㎡~102㎡\n",
       "210    210  강원  2020  5     NaN  85㎡~102㎡\n",
       "214    214  강원  2020  6     NaN  85㎡~102㎡"
      ]
     },
     "execution_count": 366,
     "metadata": {},
     "output_type": "execute_result"
    }
   ],
   "source": [
    "Gangwon_null[Gangwon_null['연도'] == 2020]"
   ]
  },
  {
   "cell_type": "code",
   "execution_count": 367,
   "metadata": {
    "scrolled": true
   },
   "outputs": [
    {
     "name": "stderr",
     "output_type": "stream",
     "text": [
      "<ipython-input-367-961bb19b5b31>:2: SettingWithCopyWarning: \n",
      "A value is trying to be set on a copy of a slice from a DataFrame\n",
      "\n",
      "See the caveats in the documentation: https://pandas.pydata.org/pandas-docs/stable/user_guide/indexing.html#returning-a-view-versus-a-copy\n",
      "  df_house_Gangwon['평당분양가격'][i] = df_house_Gangwon['평당분양가격'][i-4] - (df_house_Gangwon['평당분양가격'][i-8] - df_house_Gangwon['평당분양가격'][i-4])\n"
     ]
    }
   ],
   "source": [
    "for i in Gangwon_null[Gangwon_null['연도'] == 2020].index:\n",
    "    df_house_Gangwon['평당분양가격'][i] = df_house_Gangwon['평당분양가격'][i-4] - (df_house_Gangwon['평당분양가격'][i-8] - df_house_Gangwon['평당분양가격'][i-4])"
   ]
  },
  {
   "cell_type": "code",
   "execution_count": 368,
   "metadata": {},
   "outputs": [
    {
     "data": {
      "text/plain": [
       "10985.699999999999"
      ]
     },
     "execution_count": 368,
     "metadata": {},
     "output_type": "execute_result"
    }
   ],
   "source": [
    "df_house_Gangwon['평당분양가격'][202]"
   ]
  },
  {
   "cell_type": "code",
   "execution_count": 369,
   "metadata": {},
   "outputs": [
    {
     "data": {
      "text/plain": [
       "index     0\n",
       "지역명       0\n",
       "연도        0\n",
       "월         0\n",
       "평당분양가격    0\n",
       "전용면적      0\n",
       "dtype: int64"
      ]
     },
     "execution_count": 369,
     "metadata": {},
     "output_type": "execute_result"
    }
   ],
   "source": [
    "df_house_Gangwon[df_house_Gangwon['연도'] == 2020].isnull().sum()"
   ]
  },
  {
   "cell_type": "code",
   "execution_count": 370,
   "metadata": {
    "scrolled": false
   },
   "outputs": [
    {
     "data": {
      "text/html": [
       "<div>\n",
       "<style scoped>\n",
       "    .dataframe tbody tr th:only-of-type {\n",
       "        vertical-align: middle;\n",
       "    }\n",
       "\n",
       "    .dataframe tbody tr th {\n",
       "        vertical-align: top;\n",
       "    }\n",
       "\n",
       "    .dataframe thead th {\n",
       "        text-align: right;\n",
       "    }\n",
       "</style>\n",
       "<table border=\"1\" class=\"dataframe\">\n",
       "  <thead>\n",
       "    <tr style=\"text-align: right;\">\n",
       "      <th></th>\n",
       "      <th>index</th>\n",
       "      <th>지역명</th>\n",
       "      <th>연도</th>\n",
       "      <th>월</th>\n",
       "      <th>평당분양가격</th>\n",
       "      <th>전용면적</th>\n",
       "    </tr>\n",
       "  </thead>\n",
       "  <tbody>\n",
       "    <tr>\n",
       "      <th>6</th>\n",
       "      <td>6</td>\n",
       "      <td>강원</td>\n",
       "      <td>2016</td>\n",
       "      <td>2</td>\n",
       "      <td>NaN</td>\n",
       "      <td>85㎡~102㎡</td>\n",
       "    </tr>\n",
       "    <tr>\n",
       "      <th>10</th>\n",
       "      <td>10</td>\n",
       "      <td>강원</td>\n",
       "      <td>2016</td>\n",
       "      <td>3</td>\n",
       "      <td>NaN</td>\n",
       "      <td>85㎡~102㎡</td>\n",
       "    </tr>\n",
       "    <tr>\n",
       "      <th>14</th>\n",
       "      <td>14</td>\n",
       "      <td>강원</td>\n",
       "      <td>2016</td>\n",
       "      <td>4</td>\n",
       "      <td>NaN</td>\n",
       "      <td>85㎡~102㎡</td>\n",
       "    </tr>\n",
       "    <tr>\n",
       "      <th>18</th>\n",
       "      <td>18</td>\n",
       "      <td>강원</td>\n",
       "      <td>2016</td>\n",
       "      <td>5</td>\n",
       "      <td>NaN</td>\n",
       "      <td>85㎡~102㎡</td>\n",
       "    </tr>\n",
       "    <tr>\n",
       "      <th>22</th>\n",
       "      <td>22</td>\n",
       "      <td>강원</td>\n",
       "      <td>2016</td>\n",
       "      <td>6</td>\n",
       "      <td>NaN</td>\n",
       "      <td>85㎡~102㎡</td>\n",
       "    </tr>\n",
       "    <tr>\n",
       "      <th>26</th>\n",
       "      <td>26</td>\n",
       "      <td>강원</td>\n",
       "      <td>2016</td>\n",
       "      <td>7</td>\n",
       "      <td>NaN</td>\n",
       "      <td>85㎡~102㎡</td>\n",
       "    </tr>\n",
       "    <tr>\n",
       "      <th>30</th>\n",
       "      <td>30</td>\n",
       "      <td>강원</td>\n",
       "      <td>2016</td>\n",
       "      <td>8</td>\n",
       "      <td>NaN</td>\n",
       "      <td>85㎡~102㎡</td>\n",
       "    </tr>\n",
       "    <tr>\n",
       "      <th>34</th>\n",
       "      <td>34</td>\n",
       "      <td>강원</td>\n",
       "      <td>2016</td>\n",
       "      <td>9</td>\n",
       "      <td>NaN</td>\n",
       "      <td>85㎡~102㎡</td>\n",
       "    </tr>\n",
       "  </tbody>\n",
       "</table>\n",
       "</div>"
      ],
      "text/plain": [
       "    index 지역명    연도  월  평당분양가격      전용면적\n",
       "6       6  강원  2016  2     NaN  85㎡~102㎡\n",
       "10     10  강원  2016  3     NaN  85㎡~102㎡\n",
       "14     14  강원  2016  4     NaN  85㎡~102㎡\n",
       "18     18  강원  2016  5     NaN  85㎡~102㎡\n",
       "22     22  강원  2016  6     NaN  85㎡~102㎡\n",
       "26     26  강원  2016  7     NaN  85㎡~102㎡\n",
       "30     30  강원  2016  8     NaN  85㎡~102㎡\n",
       "34     34  강원  2016  9     NaN  85㎡~102㎡"
      ]
     },
     "execution_count": 370,
     "metadata": {},
     "output_type": "execute_result"
    }
   ],
   "source": [
    "df_house_Gangwon[df_house_Gangwon['평당분양가격'].isnull()]"
   ]
  },
  {
   "cell_type": "code",
   "execution_count": null,
   "metadata": {},
   "outputs": [],
   "source": [
    "df_house_Gangwon[]"
   ]
  },
  {
   "cell_type": "code",
   "execution_count": 371,
   "metadata": {},
   "outputs": [],
   "source": [
    "##### 2. 4개 - 2016 -> 9월부터 2월순으로"
   ]
  },
  {
   "cell_type": "code",
   "execution_count": 372,
   "metadata": {},
   "outputs": [],
   "source": [
    "Gangwon_null = df_house_Gangwon[df_house_Gangwon['평당분양가격'].isnull()]"
   ]
  },
  {
   "cell_type": "code",
   "execution_count": 373,
   "metadata": {},
   "outputs": [
    {
     "data": {
      "text/plain": [
       "array(['60㎡', '60㎡~85㎡', '85㎡~102㎡', '102㎡~'], dtype=object)"
      ]
     },
     "execution_count": 373,
     "metadata": {},
     "output_type": "execute_result"
    }
   ],
   "source": [
    "df_house_Gangwon['전용면적'].unique()"
   ]
  },
  {
   "cell_type": "code",
   "execution_count": null,
   "metadata": {},
   "outputs": [],
   "source": [
    "for i in df_house_gangwon[df_house_gangwon['평당분양가격'].isnull()].index:\n",
    "    if df_house_gangwon['연도'][i] == 2016 and df_house_gangwon['월'][i] <= 9:\n",
    "        df_house_gangwon['평당분양가격'][i] = df_house_gangwon['평당분양가격'][i-4] + np.mean(((df_house_gangwon['평당분양가격'][i+5] - df_house_gangwon['평당분양가격'][i+1]),\n",
    "                                                                                 (df_house_gangwon['평당분양가격'][i+5-2] - df_house_gangwon['평당분양가격'][i+1-2]),\n",
    "                                                                                 (df_house_gangwon['평당분양가격'][i+5-3] - df_house_gangwon['평당분양가격'][i+1-3])))"
   ]
  },
  {
   "cell_type": "code",
   "execution_count": null,
   "metadata": {},
   "outputs": [],
   "source": [
    "for i in Gangwon_null.index:\n",
    "    df_house_Gangwon['평당분양가격'][i] = df_house_Gangwon['평당분양가격'][i-4] - (df_house_Gangwon['평당분양가격'][i-8] - df_house_Gangwon['평당분양가격'][i-4])"
   ]
  },
  {
   "cell_type": "code",
   "execution_count": null,
   "metadata": {},
   "outputs": [],
   "source": [
    "df_house_deagu[df_house_deagu['평당분양가격'].isnull()]\n",
    "\n",
    "df_house_dosi['지역명'].unique()"
   ]
  },
  {
   "cell_type": "code",
   "execution_count": null,
   "metadata": {},
   "outputs": [],
   "source": []
  },
  {
   "cell_type": "code",
   "execution_count": null,
   "metadata": {},
   "outputs": [],
   "source": []
  },
  {
   "cell_type": "code",
   "execution_count": null,
   "metadata": {},
   "outputs": [],
   "source": []
  },
  {
   "cell_type": "raw",
   "metadata": {},
   "source": [
    "#### 강원 np.mean -> 쓸수있는 값이 없기때문에 다른 면적들의 평균을 이용하여 대체한다"
   ]
  }
 ],
 "metadata": {
  "kernelspec": {
   "display_name": "Python 3",
   "language": "python",
   "name": "python3"
  },
  "language_info": {
   "codemirror_mode": {
    "name": "ipython",
    "version": 3
   },
   "file_extension": ".py",
   "mimetype": "text/x-python",
   "name": "python",
   "nbconvert_exporter": "python",
   "pygments_lexer": "ipython3",
   "version": "3.8.5"
  },
  "toc": {
   "base_numbering": 1,
   "nav_menu": {},
   "number_sections": true,
   "sideBar": true,
   "skip_h1_title": false,
   "title_cell": "Table of Contents",
   "title_sidebar": "Contents",
   "toc_cell": false,
   "toc_position": {
    "height": "calc(100% - 180px)",
    "left": "10px",
    "top": "150px",
    "width": "303.837px"
   },
   "toc_section_display": true,
   "toc_window_display": true
  }
 },
 "nbformat": 4,
 "nbformat_minor": 5
}
