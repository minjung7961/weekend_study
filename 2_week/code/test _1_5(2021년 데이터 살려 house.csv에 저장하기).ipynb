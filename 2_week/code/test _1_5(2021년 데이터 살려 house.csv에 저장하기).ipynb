{
 "cells": [
  {
   "cell_type": "markdown",
   "metadata": {},
   "source": [
    "# 주택도시보증공사_전국 신규 민간아파트 분양가격 동향"
   ]
  },
  {
   "cell_type": "markdown",
   "metadata": {},
   "source": [
    "# contents - 분양 가격 예측\n",
    "* 데이터 전처리\n",
    "> "
   ]
  },
  {
   "cell_type": "code",
   "execution_count": 1,
   "metadata": {},
   "outputs": [],
   "source": [
    "import pandas as pd\n",
    "import matplotlib.pyplot as plt\n",
    "import seaborn as sns\n",
    "import numpy as np\n"
   ]
  },
  {
   "cell_type": "code",
   "execution_count": 2,
   "metadata": {},
   "outputs": [],
   "source": [
    "from IPython.display import set_matplotlib_formats\n",
    "set_matplotlib_formats('retina')\n",
    "plt.rc('font',family='Malgun Gothic')\n",
    "plt.rc('axes',unicode_minus=False)"
   ]
  },
  {
   "cell_type": "code",
   "execution_count": 3,
   "metadata": {},
   "outputs": [
    {
     "data": {
      "text/html": [
       "<div>\n",
       "<style scoped>\n",
       "    .dataframe tbody tr th:only-of-type {\n",
       "        vertical-align: middle;\n",
       "    }\n",
       "\n",
       "    .dataframe tbody tr th {\n",
       "        vertical-align: top;\n",
       "    }\n",
       "\n",
       "    .dataframe thead th {\n",
       "        text-align: right;\n",
       "    }\n",
       "</style>\n",
       "<table border=\"1\" class=\"dataframe\">\n",
       "  <thead>\n",
       "    <tr style=\"text-align: right;\">\n",
       "      <th></th>\n",
       "      <th>지역명</th>\n",
       "      <th>규모구분</th>\n",
       "      <th>연도</th>\n",
       "      <th>월</th>\n",
       "      <th>분양가격(㎡)</th>\n",
       "    </tr>\n",
       "  </thead>\n",
       "  <tbody>\n",
       "    <tr>\n",
       "      <th>0</th>\n",
       "      <td>서울</td>\n",
       "      <td>모든면적</td>\n",
       "      <td>2015</td>\n",
       "      <td>10</td>\n",
       "      <td>5841</td>\n",
       "    </tr>\n",
       "    <tr>\n",
       "      <th>1</th>\n",
       "      <td>서울</td>\n",
       "      <td>전용면적 60㎡이하</td>\n",
       "      <td>2015</td>\n",
       "      <td>10</td>\n",
       "      <td>5652</td>\n",
       "    </tr>\n",
       "    <tr>\n",
       "      <th>2</th>\n",
       "      <td>서울</td>\n",
       "      <td>전용면적 60㎡초과 85㎡이하</td>\n",
       "      <td>2015</td>\n",
       "      <td>10</td>\n",
       "      <td>5882</td>\n",
       "    </tr>\n",
       "    <tr>\n",
       "      <th>3</th>\n",
       "      <td>서울</td>\n",
       "      <td>전용면적 85㎡초과 102㎡이하</td>\n",
       "      <td>2015</td>\n",
       "      <td>10</td>\n",
       "      <td>5721</td>\n",
       "    </tr>\n",
       "    <tr>\n",
       "      <th>4</th>\n",
       "      <td>서울</td>\n",
       "      <td>전용면적 102㎡초과</td>\n",
       "      <td>2015</td>\n",
       "      <td>10</td>\n",
       "      <td>5879</td>\n",
       "    </tr>\n",
       "  </tbody>\n",
       "</table>\n",
       "</div>"
      ],
      "text/plain": [
       "  지역명               규모구분    연도   월 분양가격(㎡)\n",
       "0  서울               모든면적  2015  10    5841\n",
       "1  서울         전용면적 60㎡이하  2015  10    5652\n",
       "2  서울   전용면적 60㎡초과 85㎡이하  2015  10    5882\n",
       "3  서울  전용면적 85㎡초과 102㎡이하  2015  10    5721\n",
       "4  서울        전용면적 102㎡초과  2015  10    5879"
      ]
     },
     "execution_count": 3,
     "metadata": {},
     "output_type": "execute_result"
    }
   ],
   "source": [
    "df_house = pd.read_csv(\"주택도시보증공사_전국 신규 민간아파트 분양가격 동향_20210315.csv\",encoding='cp949')\n",
    "df_house.head()"
   ]
  },
  {
   "cell_type": "code",
   "execution_count": 4,
   "metadata": {},
   "outputs": [
    {
     "data": {
      "text/html": [
       "<div>\n",
       "<style scoped>\n",
       "    .dataframe tbody tr th:only-of-type {\n",
       "        vertical-align: middle;\n",
       "    }\n",
       "\n",
       "    .dataframe tbody tr th {\n",
       "        vertical-align: top;\n",
       "    }\n",
       "\n",
       "    .dataframe thead th {\n",
       "        text-align: right;\n",
       "    }\n",
       "</style>\n",
       "<table border=\"1\" class=\"dataframe\">\n",
       "  <thead>\n",
       "    <tr style=\"text-align: right;\">\n",
       "      <th></th>\n",
       "      <th>지역명</th>\n",
       "      <th>규모구분</th>\n",
       "      <th>연도</th>\n",
       "      <th>월</th>\n",
       "      <th>분양가격(㎡)</th>\n",
       "    </tr>\n",
       "  </thead>\n",
       "  <tbody>\n",
       "    <tr>\n",
       "      <th>5605</th>\n",
       "      <td>제주</td>\n",
       "      <td>모든면적</td>\n",
       "      <td>2021</td>\n",
       "      <td>3</td>\n",
       "      <td>7199</td>\n",
       "    </tr>\n",
       "    <tr>\n",
       "      <th>5606</th>\n",
       "      <td>제주</td>\n",
       "      <td>전용면적 60㎡이하</td>\n",
       "      <td>2021</td>\n",
       "      <td>3</td>\n",
       "      <td>4686</td>\n",
       "    </tr>\n",
       "    <tr>\n",
       "      <th>5607</th>\n",
       "      <td>제주</td>\n",
       "      <td>전용면적 60㎡초과 85㎡이하</td>\n",
       "      <td>2021</td>\n",
       "      <td>3</td>\n",
       "      <td>7180</td>\n",
       "    </tr>\n",
       "    <tr>\n",
       "      <th>5608</th>\n",
       "      <td>제주</td>\n",
       "      <td>전용면적 85㎡초과 102㎡이하</td>\n",
       "      <td>2021</td>\n",
       "      <td>3</td>\n",
       "      <td>NaN</td>\n",
       "    </tr>\n",
       "    <tr>\n",
       "      <th>5609</th>\n",
       "      <td>제주</td>\n",
       "      <td>전용면적 102㎡초과</td>\n",
       "      <td>2021</td>\n",
       "      <td>3</td>\n",
       "      <td>7727</td>\n",
       "    </tr>\n",
       "  </tbody>\n",
       "</table>\n",
       "</div>"
      ],
      "text/plain": [
       "     지역명               규모구분    연도  월 분양가격(㎡)\n",
       "5605  제주               모든면적  2021  3    7199\n",
       "5606  제주         전용면적 60㎡이하  2021  3    4686\n",
       "5607  제주   전용면적 60㎡초과 85㎡이하  2021  3    7180\n",
       "5608  제주  전용면적 85㎡초과 102㎡이하  2021  3     NaN\n",
       "5609  제주        전용면적 102㎡초과  2021  3    7727"
      ]
     },
     "execution_count": 4,
     "metadata": {},
     "output_type": "execute_result"
    }
   ],
   "source": [
    "df_house.tail()"
   ]
  },
  {
   "cell_type": "code",
   "execution_count": 5,
   "metadata": {},
   "outputs": [
    {
     "name": "stdout",
     "output_type": "stream",
     "text": [
      "<class 'pandas.core.frame.DataFrame'>\n",
      "RangeIndex: 5610 entries, 0 to 5609\n",
      "Data columns (total 5 columns):\n",
      " #   Column   Non-Null Count  Dtype \n",
      "---  ------   --------------  ----- \n",
      " 0   지역명      5610 non-null   object\n",
      " 1   규모구분     5610 non-null   object\n",
      " 2   연도       5610 non-null   int64 \n",
      " 3   월        5610 non-null   int64 \n",
      " 4   분양가격(㎡)  5170 non-null   object\n",
      "dtypes: int64(2), object(3)\n",
      "memory usage: 219.3+ KB\n"
     ]
    }
   ],
   "source": [
    "df_house.info()"
   ]
  },
  {
   "cell_type": "markdown",
   "metadata": {},
   "source": [
    "#### 널값 확인"
   ]
  },
  {
   "cell_type": "code",
   "execution_count": 6,
   "metadata": {},
   "outputs": [
    {
     "data": {
      "text/plain": [
       "지역명          0\n",
       "규모구분         0\n",
       "연도           0\n",
       "월            0\n",
       "분양가격(㎡)    440\n",
       "dtype: int64"
      ]
     },
     "execution_count": 6,
     "metadata": {},
     "output_type": "execute_result"
    }
   ],
   "source": [
    "df_house.isnull().sum()"
   ]
  },
  {
   "cell_type": "code",
   "execution_count": 7,
   "metadata": {},
   "outputs": [
    {
     "data": {
      "text/plain": [
       "<AxesSubplot:>"
      ]
     },
     "execution_count": 7,
     "metadata": {},
     "output_type": "execute_result"
    },
    {
     "data": {
      "image/png": "[encoded data removed]",
      "text/plain": [
       "<Figure size 864x720 with 1 Axes>"
      ]
     },
     "metadata": {
      "image/png": {
       "height": 575,
       "width": 683
      },
      "needs_background": "light"
     },
     "output_type": "display_data"
    }
   ],
   "source": [
    "plt.figure(figsize=(12,10))\n",
    "sns.heatmap(df_house.isnull(),yticklabels=False,cbar=False)"
   ]
  },
  {
   "cell_type": "markdown",
   "metadata": {},
   "source": [
    "#### 컬럼 내용 확인"
   ]
  },
  {
   "cell_type": "code",
   "execution_count": 8,
   "metadata": {},
   "outputs": [
    {
     "name": "stdout",
     "output_type": "stream",
     "text": [
      "지역명 :\n",
      "\n",
      "경기    330\n",
      "인천    330\n",
      "부산    330\n",
      "충북    330\n",
      "강원    330\n",
      "서울    330\n",
      "전북    330\n",
      "충남    330\n",
      "세종    330\n",
      "경남    330\n",
      "광주    330\n",
      "제주    330\n",
      "울산    330\n",
      "대구    330\n",
      "대전    330\n",
      "경북    330\n",
      "전남    330\n",
      "Name: 지역명, dtype: int64 \n",
      "\n",
      "규모구분 :\n",
      "\n",
      "전용면적 85㎡초과 102㎡이하    1122\n",
      "전용면적 60㎡이하           1122\n",
      "전용면적 102㎡초과          1122\n",
      "모든면적                 1122\n",
      "전용면적 60㎡초과 85㎡이하     1122\n",
      "Name: 규모구분, dtype: int64 \n",
      "\n",
      "연도 :\n",
      "\n",
      "2019    1020\n",
      "2018    1020\n",
      "2017    1020\n",
      "2020    1020\n",
      "2016    1020\n",
      "2015     255\n",
      "2021     255\n",
      "Name: 연도, dtype: int64 \n",
      "\n",
      "월 :\n",
      "\n",
      "11    510\n",
      "3     510\n",
      "10    510\n",
      "2     510\n",
      "1     510\n",
      "12    510\n",
      "7     425\n",
      "6     425\n",
      "9     425\n",
      "5     425\n",
      "8     425\n",
      "4     425\n",
      "Name: 월, dtype: int64 \n",
      "\n",
      "분양가격(㎡) :\n",
      "\n",
      "3395    18\n",
      "2221    17\n",
      "2667    17\n",
      "2743    16\n",
      "        16\n",
      "        ..\n",
      "4662     1\n",
      "4578     1\n",
      "4439     1\n",
      "4422     1\n",
      "2501     1\n",
      "Name: 분양가격(㎡), Length: 2114, dtype: int64 \n",
      "\n"
     ]
    }
   ],
   "source": [
    "cols = df_house.columns\n",
    "for i in cols:\n",
    "    print(i,':\\n')\n",
    "    print(df_house[i].value_counts(),'\\n')"
   ]
  },
  {
   "cell_type": "markdown",
   "metadata": {},
   "source": [
    "## 데이터 전처리"
   ]
  },
  {
   "cell_type": "markdown",
   "metadata": {},
   "source": [
    "#### 위에서 연도값의 2015년 2021년이 상대적으로 작은 것 확인가능 전처리해줌"
   ]
  },
  {
   "cell_type": "code",
   "execution_count": 10,
   "metadata": {},
   "outputs": [
    {
     "data": {
      "text/plain": [
       "2019    1020\n",
       "2018    1020\n",
       "2017    1020\n",
       "2020    1020\n",
       "2016    1020\n",
       "2021     255\n",
       "Name: 연도, dtype: int64"
      ]
     },
     "execution_count": 10,
     "metadata": {},
     "output_type": "execute_result"
    }
   ],
   "source": [
    "df_house = df_house[df_house['연도'] != 2015].copy()\n",
    "df_house['연도'].value_counts()"
   ]
  },
  {
   "cell_type": "markdown",
   "metadata": {},
   "source": [
    "#### 분양가격 평당 분양가격으로 변경해줌"
   ]
  },
  {
   "cell_type": "code",
   "execution_count": null,
   "metadata": {},
   "outputs": [],
   "source": [
    "#### pd.to_numeric 을 통해 데이터의 타입을 변경\n",
    "df_house['분양가격'] = pd.to_numeric(df_house['분양가격(㎡)'], errors='coerce')\n",
    "df_house.head()"
   ]
  },
  {
   "cell_type": "code",
   "execution_count": null,
   "metadata": {},
   "outputs": [],
   "source": [
    "#### 분양가격 평당 분양가격으로 변경해줌\n",
    "df_house['평당분양가격'] = df_house['분양가격'] * 3.3"
   ]
  },
  {
   "cell_type": "code",
   "execution_count": null,
   "metadata": {},
   "outputs": [],
   "source": [
    "df_house['평당분양가격']"
   ]
  },
  {
   "cell_type": "code",
   "execution_count": null,
   "metadata": {},
   "outputs": [],
   "source": [
    "df_house.info()"
   ]
  },
  {
   "cell_type": "markdown",
   "metadata": {},
   "source": [
    "#### 이제 규모구분 컬럼내용 변경필요"
   ]
  },
  {
   "cell_type": "code",
   "execution_count": null,
   "metadata": {},
   "outputs": [],
   "source": [
    "df_house['규모구분'].value_counts()"
   ]
  },
  {
   "cell_type": "code",
   "execution_count": null,
   "metadata": {},
   "outputs": [],
   "source": [
    "df_house['전용면적'] = df_house['규모구분'].str.replace('전용면적',\"\")\n",
    "df_house['전용면적'] = df_house['전용면적'].str.replace('초과','~')\n",
    "df_house['전용면적'] = df_house['전용면적'].str.replace('이하','')\n",
    "df_house['전용면적'] = df_house['전용면적'].str.replace(' ','').str.strip()\n",
    "df_house['전용면적']"
   ]
  },
  {
   "cell_type": "code",
   "execution_count": null,
   "metadata": {},
   "outputs": [],
   "source": [
    "df_house.head()"
   ]
  },
  {
   "cell_type": "markdown",
   "metadata": {},
   "source": [
    "#### 필요없는 컬럼 제거"
   ]
  },
  {
   "cell_type": "code",
   "execution_count": null,
   "metadata": {},
   "outputs": [],
   "source": [
    "df_house = df_house.drop(['규모구분','분양가격(㎡)'],axis=1)\n",
    "df_house"
   ]
  },
  {
   "cell_type": "code",
   "execution_count": null,
   "metadata": {},
   "outputs": [],
   "source": [
    "df_house.info()"
   ]
  },
  {
   "cell_type": "code",
   "execution_count": null,
   "metadata": {},
   "outputs": [],
   "source": [
    "df_house.groupby(['전용면적','지역명'])['분양가격'].mean()"
   ]
  },
  {
   "cell_type": "code",
   "execution_count": null,
   "metadata": {},
   "outputs": [],
   "source": [
    "korea = df_house['지역명'].unique()\n",
    "korea"
   ]
  },
  {
   "cell_type": "code",
   "execution_count": null,
   "metadata": {},
   "outputs": [],
   "source": [
    "for i in korea:\n",
    "    j = df_house[df_house['지역명'] == i].copy()\n",
    "    print(i,' 지역 널 갯수는 :', end=' ')\n",
    "    print(j['분양가격'].isnull().sum(),'\\n')"
   ]
  },
  {
   "cell_type": "markdown",
   "metadata": {},
   "source": [
    "#### 위에서 널값이 20개 이하인 지역만 가져와서 전처리 할예정 집값의 기준을 마음대로 설정할수 없어 널값 최대한 줄이기 위함"
   ]
  },
  {
   "cell_type": "code",
   "execution_count": null,
   "metadata": {},
   "outputs": [],
   "source": [
    "for i in korea:\n",
    "    j = df_house[df_house['지역명'] == i].copy()\n",
    "    if j['분양가격'].isnull().sum() <= 20:\n",
    "        print(i,' 지역 널 갯수는 :', end=' ')\n",
    "        print(j['분양가격'].isnull().sum(),'\\n')"
   ]
  },
  {
   "cell_type": "code",
   "execution_count": null,
   "metadata": {},
   "outputs": [],
   "source": [
    "df_house_dosi = df_house.loc[(df_house['지역명'] == '서울') | (df_house['지역명'] == '인천') |\n",
    "                             (df_house['지역명'] == '경기') | (df_house['지역명'] == '부산') |\n",
    "                             (df_house['지역명'] == '대구') | (df_house['지역명'] == '강원') |\n",
    "                             (df_house['지역명'] == '충북') | (df_house['지역명'] == '전북') |\n",
    "                             (df_house['지역명'] == '전남') | (df_house['지역명'] == '경남') ].copy()"
   ]
  },
  {
   "cell_type": "code",
   "execution_count": null,
   "metadata": {},
   "outputs": [],
   "source": [
    "df_house_dosi.isnull().sum()"
   ]
  },
  {
   "cell_type": "code",
   "execution_count": null,
   "metadata": {},
   "outputs": [],
   "source": [
    "df_house_dosi.index"
   ]
  },
  {
   "cell_type": "code",
   "execution_count": null,
   "metadata": {},
   "outputs": [],
   "source": [
    "df_house_dosi.head()"
   ]
  },
  {
   "cell_type": "markdown",
   "metadata": {},
   "source": [
    "#### 분양가격은 평당분양가격으로 처리해줘서 필요없음"
   ]
  },
  {
   "cell_type": "code",
   "execution_count": null,
   "metadata": {},
   "outputs": [],
   "source": [
    "df_house_dosi = df_house_dosi.drop('분양가격',axis = 1).copy()"
   ]
  },
  {
   "cell_type": "code",
   "execution_count": null,
   "metadata": {},
   "outputs": [],
   "source": [
    "df_house_dosi"
   ]
  },
  {
   "cell_type": "markdown",
   "metadata": {},
   "source": [
    "#### 모든 면적값은 어짜피 다른 전용면적에서 다 처리해줘서 필요없다고 판단하여 제거"
   ]
  },
  {
   "cell_type": "code",
   "execution_count": null,
   "metadata": {},
   "outputs": [],
   "source": [
    "df_house_dosi = df_house_dosi[df_house_dosi['전용면적'] != '모든면적'].copy()\n",
    "df_house_dosi"
   ]
  },
  {
   "cell_type": "markdown",
   "metadata": {},
   "source": [
    "#### 지역별로 나누어서 평당분양가격 전처리 할 예정"
   ]
  },
  {
   "cell_type": "markdown",
   "metadata": {},
   "source": [
    "null 값 처리를 위한 함수를 만들자"
   ]
  },
  {
   "cell_type": "markdown",
   "metadata": {},
   "source": [
    "#### 서울"
   ]
  },
  {
   "cell_type": "code",
   "execution_count": null,
   "metadata": {},
   "outputs": [],
   "source": [
    "df_house_seoul = df_house_dosi[df_house_dosi['지역명'] == '서울'].copy()\n",
    "df_house_seoul.head()"
   ]
  },
  {
   "cell_type": "code",
   "execution_count": null,
   "metadata": {},
   "outputs": [],
   "source": [
    "df_house_seoul = df_house_seoul.reset_index()\n",
    "df_house_seoul"
   ]
  },
  {
   "cell_type": "code",
   "execution_count": null,
   "metadata": {},
   "outputs": [],
   "source": [
    "df_house_seoul = df_house_seoul.reset_index()\n",
    "df_house_seoul"
   ]
  },
  {
   "cell_type": "code",
   "execution_count": null,
   "metadata": {},
   "outputs": [],
   "source": [
    "df_house_seoul = df_house_seoul.drop('index',axis = 1).copy()"
   ]
  },
  {
   "cell_type": "code",
   "execution_count": null,
   "metadata": {},
   "outputs": [],
   "source": [
    "df_house_seoul.rename(columns = {'level_0' : 'index'}, inplace = True)"
   ]
  },
  {
   "cell_type": "code",
   "execution_count": null,
   "metadata": {},
   "outputs": [],
   "source": [
    "df_house_seoul"
   ]
  },
  {
   "cell_type": "code",
   "execution_count": null,
   "metadata": {},
   "outputs": [],
   "source": [
    "df_house_seoul[df_house_seoul['평당분양가격'].isnull()].index"
   ]
  },
  {
   "cell_type": "code",
   "execution_count": null,
   "metadata": {},
   "outputs": [],
   "source": [
    "# df_house_seoul[df_house_seoul['index'] == 0]['평당분양가격']\n",
    "df_house_seoul[df_house_seoul['index'] == 0]"
   ]
  },
  {
   "cell_type": "code",
   "execution_count": null,
   "metadata": {},
   "outputs": [],
   "source": [
    "df_house_seoul['평당분양가격'][0] - df_house_seoul['평당분양가격'][4]"
   ]
  },
  {
   "cell_type": "markdown",
   "metadata": {},
   "source": [
    "#### 만약에 1월 값이 null이면 1월은 = 2월 - (3월 - 2월) 이렇게 판단한 이유는 상승값 빼면 된다 판단"
   ]
  },
  {
   "cell_type": "code",
   "execution_count": null,
   "metadata": {},
   "outputs": [],
   "source": [
    "# for i in df_house_seoul[df_house_seoul['평당분양가격'].isnull()].index:\n",
    "    df_house_seoul['평당분양가격'][i] = df_house_seoul['평당분양가격'][i+4] - (df_house_seoul['평당분양가격'][i+8] - df_house_seoul['평당분양가격'][i+4])"
   ]
  },
  {
   "cell_type": "code",
   "execution_count": null,
   "metadata": {},
   "outputs": [],
   "source": [
    "df_house_seoul.isnull().sum()"
   ]
  },
  {
   "cell_type": "markdown",
   "metadata": {},
   "source": [
    "#### 인천"
   ]
  },
  {
   "cell_type": "code",
   "execution_count": null,
   "metadata": {},
   "outputs": [],
   "source": [
    "df_house_incheon = df_house_dosi[df_house_dosi['지역명'] == '인천'].copy()\n",
    "df_house_incheon.head()"
   ]
  },
  {
   "cell_type": "code",
   "execution_count": null,
   "metadata": {},
   "outputs": [],
   "source": [
    "df_house_incheon = df_house_incheon.reset_index().reset_index()\n",
    "df_house_incheon"
   ]
  },
  {
   "cell_type": "code",
   "execution_count": null,
   "metadata": {},
   "outputs": [],
   "source": [
    "df_house_incheon = df_house_incheon.drop('index',axis = 1).copy()"
   ]
  },
  {
   "cell_type": "code",
   "execution_count": null,
   "metadata": {},
   "outputs": [],
   "source": [
    "df_house_incheon.rename(columns = {'level_0' : 'index'}, inplace = True)"
   ]
  },
  {
   "cell_type": "code",
   "execution_count": null,
   "metadata": {},
   "outputs": [],
   "source": [
    "df_house_incheon"
   ]
  },
  {
   "cell_type": "code",
   "execution_count": null,
   "metadata": {},
   "outputs": [],
   "source": [
    "df_house_incheon[df_house_incheon['평당분양가격'].isnull()]"
   ]
  },
  {
   "cell_type": "markdown",
   "metadata": {},
   "source": [
    "#### null 값이 2017년은 11월달에 만 없으므로 똑같이 1월 값이 null이면 1월은 = 2월 - (3월 - 2월) 이렇게 판단한 이유는 상승값 빼면 된다 판단\n",
    "#### 2018년은 전용면적이 똑같은 것이 없음 그래서 그 이후 값을 들고 오면 에러가남\n",
    "#### 그래서 2018년은 역으로 1월이면 전년 12월 + (12월 - 11월) 이렇게 판단한 이유는 저번 상승값이라 비슷할거라 판단"
   ]
  },
  {
   "cell_type": "code",
   "execution_count": null,
   "metadata": {},
   "outputs": [],
   "source": [
    "for i in df_house_incheon[df_house_incheon['평당분양가격'].isnull()].index:\n",
    "    if df_house_incheon['연도'][i] == 2017:\n",
    "        df_house_incheon['평당분양가격'][i] = df_house_incheon['평당분양가격'][i+4] - (df_house_incheon['평당분양가격'][i+8] - df_house_incheon['평당분양가격'][i+4])\n",
    "    \n",
    "    if df_house_incheon['연도'][i] == 2018:\n",
    "        df_house_incheon['평당분양가격'][i] = df_house_incheon['평당분양가격'][i-4] + (df_house_incheon['평당분양가격'][i-4] - df_house_incheon['평당분양가격'][i-8])"
   ]
  },
  {
   "cell_type": "code",
   "execution_count": null,
   "metadata": {},
   "outputs": [],
   "source": [
    "df_house_incheon[df_house_incheon['평당분양가격'].isnull()]"
   ]
  },
  {
   "cell_type": "markdown",
   "metadata": {},
   "source": [
    "#### 경기"
   ]
  },
  {
   "cell_type": "code",
   "execution_count": null,
   "metadata": {},
   "outputs": [],
   "source": [
    "df_house_gyeonggi = df_house_dosi[df_house_dosi['지역명'] == '경기'].copy()\n",
    "df_house_gyeonggi.head()"
   ]
  },
  {
   "cell_type": "code",
   "execution_count": null,
   "metadata": {},
   "outputs": [],
   "source": [
    "df_house_gyeonggi = df_house_gyeonggi.reset_index().reset_index()\n",
    "df_house_gyeonggi"
   ]
  },
  {
   "cell_type": "code",
   "execution_count": null,
   "metadata": {},
   "outputs": [],
   "source": [
    "df_house_gyeonggi = df_house_gyeonggi.drop('index',axis = 1).copy()"
   ]
  },
  {
   "cell_type": "code",
   "execution_count": null,
   "metadata": {},
   "outputs": [],
   "source": [
    "df_house_gyeonggi.rename(columns = {'level_0' : 'index'}, inplace = True)"
   ]
  },
  {
   "cell_type": "code",
   "execution_count": null,
   "metadata": {},
   "outputs": [],
   "source": [
    "df_house_gyeonggi"
   ]
  },
  {
   "cell_type": "code",
   "execution_count": null,
   "metadata": {},
   "outputs": [],
   "source": [
    "df_house_gyeonggi[df_house_gyeonggi['평당분양가격'].isnull()]"
   ]
  },
  {
   "cell_type": "markdown",
   "metadata": {},
   "source": [
    "#### 만약에 1월 값이 null이면 1월은 = 2월 - (3월 - 2월) 이렇게 판단한 이유는 상승값 빼면 된다 판단"
   ]
  },
  {
   "cell_type": "code",
   "execution_count": null,
   "metadata": {},
   "outputs": [],
   "source": [
    "for i in df_house_gyeonggi[df_house_gyeonggi['평당분양가격'].isnull()].index:\n",
    "    df_house_gyeonggi['평당분양가격'][i] = df_house_gyeonggi['평당분양가격'][i+4] - (df_house_gyeonggi['평당분양가격'][i+8] - df_house_gyeonggi['평당분양가격'][i+4])\n",
    "    "
   ]
  },
  {
   "cell_type": "code",
   "execution_count": null,
   "metadata": {},
   "outputs": [],
   "source": [
    "df_house_gyeonggi[df_house_gyeonggi['평당분양가격'].isnull()]"
   ]
  },
  {
   "cell_type": "markdown",
   "metadata": {},
   "source": [
    "#### 부산"
   ]
  },
  {
   "cell_type": "code",
   "execution_count": null,
   "metadata": {},
   "outputs": [],
   "source": [
    "df_house_busan = df_house_dosi[df_house_dosi['지역명'] == '부산'].copy()\n",
    "df_house_busan.head()"
   ]
  },
  {
   "cell_type": "code",
   "execution_count": null,
   "metadata": {},
   "outputs": [],
   "source": [
    "df_house_busan = df_house_busan.reset_index().reset_index()\n",
    "df_house_busan"
   ]
  },
  {
   "cell_type": "code",
   "execution_count": null,
   "metadata": {},
   "outputs": [],
   "source": [
    "df_house_busan = df_house_busan.drop('index',axis = 1).copy()"
   ]
  },
  {
   "cell_type": "code",
   "execution_count": null,
   "metadata": {},
   "outputs": [],
   "source": [
    "df_house_busan.rename(columns = {'level_0' : 'index'}, inplace = True)"
   ]
  },
  {
   "cell_type": "code",
   "execution_count": null,
   "metadata": {},
   "outputs": [],
   "source": [
    "df_house_busan.head()"
   ]
  },
  {
   "cell_type": "code",
   "execution_count": null,
   "metadata": {},
   "outputs": [],
   "source": [
    "df_house_busan[df_house_busan['평당분양가격'].isnull()]"
   ]
  },
  {
   "cell_type": "markdown",
   "metadata": {},
   "source": [
    "#### 만약에 1월 값이 null이면 1월은 = 2월 - (3월 - 2월) 이렇게 판단한 이유는 상승값 빼면 된다 판단"
   ]
  },
  {
   "cell_type": "code",
   "execution_count": null,
   "metadata": {},
   "outputs": [],
   "source": [
    "for i in df_house_busan[df_house_busan['평당분양가격'].isnull()].index:\n",
    "    df_house_busan['평당분양가격'][i] = df_house_busan['평당분양가격'][i+4] - (df_house_busan['평당분양가격'][i+8] - df_house_busan['평당분양가격'][i+4])\n",
    "    "
   ]
  },
  {
   "cell_type": "code",
   "execution_count": null,
   "metadata": {},
   "outputs": [],
   "source": [
    "df_house_busan[df_house_busan['평당분양가격'].isnull()]"
   ]
  },
  {
   "cell_type": "markdown",
   "metadata": {},
   "source": [
    "#### 대구"
   ]
  },
  {
   "cell_type": "code",
   "execution_count": null,
   "metadata": {},
   "outputs": [],
   "source": [
    "df_house_daegu = df_house_dosi[df_house_dosi['지역명'] == '대구'].copy()\n",
    "df_house_daegu.head()"
   ]
  },
  {
   "cell_type": "code",
   "execution_count": null,
   "metadata": {},
   "outputs": [],
   "source": [
    "df_house_daegu = df_house_daegu.reset_index().reset_index()\n",
    "df_house_daegu"
   ]
  },
  {
   "cell_type": "code",
   "execution_count": null,
   "metadata": {},
   "outputs": [],
   "source": [
    "df_house_daegu = df_house_daegu.drop('index',axis = 1).copy()"
   ]
  },
  {
   "cell_type": "code",
   "execution_count": null,
   "metadata": {},
   "outputs": [],
   "source": [
    "df_house_daegu.rename(columns = {'level_0' : 'index'}, inplace = True)"
   ]
  },
  {
   "cell_type": "code",
   "execution_count": null,
   "metadata": {},
   "outputs": [],
   "source": [
    "df_house_daegu.head()"
   ]
  },
  {
   "cell_type": "code",
   "execution_count": null,
   "metadata": {},
   "outputs": [],
   "source": [
    "df_house_daegu[df_house_daegu['평당분양가격'].isnull()]"
   ]
  },
  {
   "cell_type": "markdown",
   "metadata": {},
   "source": [
    "#### null 값이 2017년은 11월달에 만 없으므로 똑같이 1월 값이 null이면 1월은 = 2월 - (3월 - 2월) 이렇게 판단한 이유는 상승값 빼면 된다 판단\n",
    "#### 2017년은 전용면적이 10월 전에는 똑같은 것이 없음 그래서 그 이후 값을 들고 오면 에러가남\n",
    "#### 그래서 2017년 10월 전 꺼는 역으로 1월이면 전년 12월 + (12월 - 11월) 이렇게 판단한 이유는 저번 상승값이라 비슷할거라 판단"
   ]
  },
  {
   "cell_type": "code",
   "execution_count": null,
   "metadata": {},
   "outputs": [],
   "source": [
    "for i in df_house_daegu[df_house_daegu['평당분양가격'].isnull()].index:\n",
    "    if df_house_daegu['연도'][i] == 2017 and df_house_daegu['월'][i] <= 10:\n",
    "        df_house_daegu['평당분양가격'][i] = df_house_daegu['평당분양가격'][i-4] + (df_house_daegu['평당분양가격'][i-4] - df_house_daegu['평당분양가격'][i-8])"
   ]
  },
  {
   "cell_type": "code",
   "execution_count": null,
   "metadata": {},
   "outputs": [],
   "source": [
    "df_house_daegu[df_house_daegu['평당분양가격'].isnull()]"
   ]
  },
  {
   "cell_type": "markdown",
   "metadata": {},
   "source": [
    "#### 나머지 널값은 1월 값이 null이면 1월은 = 전년 12월 + (12월 - 11월) 이렇게 판단한 이유는 저번 상승값이라 비슷할거라 판단"
   ]
  },
  {
   "cell_type": "code",
   "execution_count": null,
   "metadata": {},
   "outputs": [],
   "source": [
    "for i in df_house_daegu[df_house_daegu['평당분양가격'].isnull()].index:\n",
    "    df_house_daegu['평당분양가격'][i] = df_house_daegu['평당분양가격'][i-4] + (df_house_daegu['평당분양가격'][i-4] - df_house_daegu['평당분양가격'][i-8])"
   ]
  },
  {
   "cell_type": "code",
   "execution_count": null,
   "metadata": {},
   "outputs": [],
   "source": [
    "df_house_daegu[df_house_daegu['평당분양가격'].isnull()]"
   ]
  },
  {
   "cell_type": "markdown",
   "metadata": {},
   "source": [
    "#### 강원"
   ]
  },
  {
   "cell_type": "code",
   "execution_count": null,
   "metadata": {},
   "outputs": [],
   "source": [
    "df_house_gangwon = df_house_dosi[df_house_dosi['지역명'] == '강원'].copy()\n",
    "df_house_gangwon.head()"
   ]
  },
  {
   "cell_type": "code",
   "execution_count": null,
   "metadata": {},
   "outputs": [],
   "source": [
    "df_house_gangwon = df_house_gangwon.reset_index().reset_index()\n",
    "df_house_gangwon"
   ]
  },
  {
   "cell_type": "code",
   "execution_count": null,
   "metadata": {},
   "outputs": [],
   "source": [
    "df_house_gangwon = df_house_gangwon.drop('index',axis = 1).copy()"
   ]
  },
  {
   "cell_type": "code",
   "execution_count": null,
   "metadata": {},
   "outputs": [],
   "source": [
    "df_house_gangwon.rename(columns = {'level_0' : 'index'}, inplace = True)"
   ]
  },
  {
   "cell_type": "code",
   "execution_count": null,
   "metadata": {},
   "outputs": [],
   "source": [
    "df_house_gangwon.head()"
   ]
  },
  {
   "cell_type": "code",
   "execution_count": null,
   "metadata": {},
   "outputs": [],
   "source": [
    "df_house_gangwon[df_house_gangwon['평당분양가격'].isnull()]"
   ]
  },
  {
   "cell_type": "markdown",
   "metadata": {},
   "source": [
    "#### 2016년 1월이 시작이라 2월 부터 9월 까지의 같은면적 null값은 비교대상을 다른 면적들의 상승값 평균을 더했다 "
   ]
  },
  {
   "cell_type": "code",
   "execution_count": null,
   "metadata": {},
   "outputs": [],
   "source": [
    "for i in df_house_gangwon[df_house_gangwon['평당분양가격'].isnull()].index:\n",
    "    if df_house_gangwon['연도'][i] == 2016 and df_house_gangwon['월'][i] <= 9:\n",
    "        df_house_gangwon['평당분양가격'][i] = df_house_gangwon['평당분양가격'][i-4] + np.mean(((df_house_gangwon['평당분양가격'][i+5] - df_house_gangwon['평당분양가격'][i+1]),\n",
    "                                                                                 (df_house_gangwon['평당분양가격'][i+5-2] - df_house_gangwon['평당분양가격'][i+1-2]),\n",
    "                                                                                 (df_house_gangwon['평당분양가격'][i+5-3] - df_house_gangwon['평당분양가격'][i+1-3])))"
   ]
  },
  {
   "cell_type": "code",
   "execution_count": null,
   "metadata": {},
   "outputs": [],
   "source": [
    "df_house_gangwon[df_house_gangwon['평당분양가격'].isnull()]"
   ]
  },
  {
   "cell_type": "markdown",
   "metadata": {},
   "source": [
    "#### 나머지 널값은 1월 값이 null이면 1월은 = 전년 12월 + (12월 - 11월) 이렇게 판단한 이유는 저번 상승값이라 비슷할거라 판단"
   ]
  },
  {
   "cell_type": "code",
   "execution_count": null,
   "metadata": {},
   "outputs": [],
   "source": [
    "for i in df_house_gangwon[df_house_gangwon['평당분양가격'].isnull()].index:\n",
    "    df_house_gangwon['평당분양가격'][i] = df_house_gangwon['평당분양가격'][i-4] + (df_house_gangwon['평당분양가격'][i-4] - df_house_gangwon['평당분양가격'][i-8])"
   ]
  },
  {
   "cell_type": "code",
   "execution_count": null,
   "metadata": {},
   "outputs": [],
   "source": [
    "df_house_gangwon[df_house_gangwon['평당분양가격'].isnull()]"
   ]
  },
  {
   "cell_type": "markdown",
   "metadata": {},
   "source": [
    "#### 충북"
   ]
  },
  {
   "cell_type": "code",
   "execution_count": null,
   "metadata": {},
   "outputs": [],
   "source": [
    "df_house_chungbuk = df_house_dosi[df_house_dosi['지역명'] == '충북'].copy()\n",
    "df_house_chungbuk.head()"
   ]
  },
  {
   "cell_type": "code",
   "execution_count": null,
   "metadata": {},
   "outputs": [],
   "source": [
    "df_house_chungbuk = df_house_chungbuk.reset_index().reset_index()\n",
    "df_house_chungbuk"
   ]
  },
  {
   "cell_type": "code",
   "execution_count": null,
   "metadata": {},
   "outputs": [],
   "source": [
    "df_house_chungbuk = df_house_chungbuk.drop('index',axis = 1).copy()"
   ]
  },
  {
   "cell_type": "code",
   "execution_count": null,
   "metadata": {},
   "outputs": [],
   "source": [
    "df_house_chungbuk.rename(columns = {'level_0' : 'index'}, inplace = True)"
   ]
  },
  {
   "cell_type": "code",
   "execution_count": null,
   "metadata": {},
   "outputs": [],
   "source": [
    "df_house_chungbuk.head()"
   ]
  },
  {
   "cell_type": "code",
   "execution_count": null,
   "metadata": {},
   "outputs": [],
   "source": [
    "df_house_chungbuk[df_house_chungbuk['평당분양가격'].isnull()]"
   ]
  },
  {
   "cell_type": "markdown",
   "metadata": {},
   "source": [
    "#### 널값은 1월 값이 null이면 1월은 = 전년 12월 + (12월 - 11월) 이렇게 판단한 이유는 저번 상승값이라 비슷할거라 판단"
   ]
  },
  {
   "cell_type": "code",
   "execution_count": null,
   "metadata": {},
   "outputs": [],
   "source": [
    "for i in df_house_chungbuk[df_house_chungbuk['평당분양가격'].isnull()].index:\n",
    "    df_house_chungbuk['평당분양가격'][i] = df_house_chungbuk['평당분양가격'][i-4] + (df_house_chungbuk['평당분양가격'][i-4] - df_house_chungbuk['평당분양가격'][i-8])"
   ]
  },
  {
   "cell_type": "code",
   "execution_count": null,
   "metadata": {},
   "outputs": [],
   "source": [
    "df_house_chungbuk[df_house_chungbuk['평당분양가격'].isnull()]"
   ]
  },
  {
   "cell_type": "markdown",
   "metadata": {},
   "source": [
    "#### 전북"
   ]
  },
  {
   "cell_type": "code",
   "execution_count": null,
   "metadata": {},
   "outputs": [],
   "source": [
    "df_house_jeonbuk = df_house_dosi[df_house_dosi['지역명'] == '전북'].copy()\n",
    "df_house_jeonbuk.head()"
   ]
  },
  {
   "cell_type": "code",
   "execution_count": null,
   "metadata": {},
   "outputs": [],
   "source": [
    "df_house_jeonbuk = df_house_jeonbuk.reset_index().reset_index()\n",
    "df_house_jeonbuk"
   ]
  },
  {
   "cell_type": "code",
   "execution_count": null,
   "metadata": {},
   "outputs": [],
   "source": [
    "df_house_jeonbuk = df_house_jeonbuk.drop('index',axis = 1).copy()"
   ]
  },
  {
   "cell_type": "code",
   "execution_count": null,
   "metadata": {},
   "outputs": [],
   "source": [
    "df_house_jeonbuk.rename(columns = {'level_0' : 'index'}, inplace = True)"
   ]
  },
  {
   "cell_type": "code",
   "execution_count": null,
   "metadata": {},
   "outputs": [],
   "source": [
    "df_house_jeonbuk.head()"
   ]
  },
  {
   "cell_type": "code",
   "execution_count": null,
   "metadata": {},
   "outputs": [],
   "source": [
    "df_house_jeonbuk[df_house_jeonbuk['평당분양가격'].isnull()]"
   ]
  },
  {
   "cell_type": "markdown",
   "metadata": {},
   "source": [
    "#### 널값은 1월 값이 null이면 1월은 = 전년 12월 + (12월 - 11월) 이렇게 판단한 이유는 저번 상승값이라 비슷할거라 판단¶"
   ]
  },
  {
   "cell_type": "code",
   "execution_count": null,
   "metadata": {},
   "outputs": [],
   "source": [
    "for i in df_house_jeonbuk[df_house_jeonbuk['평당분양가격'].isnull()].index:\n",
    "    df_house_jeonbuk['평당분양가격'][i] = df_house_jeonbuk['평당분양가격'][i-4] + (df_house_jeonbuk['평당분양가격'][i-4] - df_house_jeonbuk['평당분양가격'][i-8])"
   ]
  },
  {
   "cell_type": "code",
   "execution_count": null,
   "metadata": {},
   "outputs": [],
   "source": [
    "df_house_jeonbuk[df_house_jeonbuk['평당분양가격'].isnull()]"
   ]
  },
  {
   "cell_type": "markdown",
   "metadata": {},
   "source": [
    "#### 전남"
   ]
  },
  {
   "cell_type": "code",
   "execution_count": null,
   "metadata": {},
   "outputs": [],
   "source": [
    "df_house_jeonnam = df_house_dosi[df_house_dosi['지역명'] == '전남'].copy()\n",
    "df_house_jeonnam.head()"
   ]
  },
  {
   "cell_type": "code",
   "execution_count": null,
   "metadata": {},
   "outputs": [],
   "source": [
    "df_house_jeonnam = df_house_jeonnam.reset_index().reset_index()\n",
    "df_house_jeonnam"
   ]
  },
  {
   "cell_type": "code",
   "execution_count": null,
   "metadata": {},
   "outputs": [],
   "source": [
    "df_house_jeonnam = df_house_jeonnam.drop('index',axis = 1).copy()"
   ]
  },
  {
   "cell_type": "code",
   "execution_count": null,
   "metadata": {},
   "outputs": [],
   "source": [
    "df_house_jeonnam.rename(columns = {'level_0' : 'index'}, inplace = True)"
   ]
  },
  {
   "cell_type": "code",
   "execution_count": null,
   "metadata": {},
   "outputs": [],
   "source": [
    "df_house_jeonnam.head()"
   ]
  },
  {
   "cell_type": "code",
   "execution_count": null,
   "metadata": {},
   "outputs": [],
   "source": [
    "df_house_jeonnam[df_house_jeonnam['평당분양가격'].isnull()]"
   ]
  },
  {
   "cell_type": "markdown",
   "metadata": {},
   "source": [
    "#### 널값은 1월 값이 null이면 1월은 = 전년 12월 + (12월 - 11월) 이렇게 판단한 이유는 저번 상승값이라 비슷할거라 판단"
   ]
  },
  {
   "cell_type": "code",
   "execution_count": null,
   "metadata": {},
   "outputs": [],
   "source": [
    "for i in df_house_jeonnam[df_house_jeonnam['평당분양가격'].isnull()].index:\n",
    "    df_house_jeonnam['평당분양가격'][i] = df_house_jeonnam['평당분양가격'][i-4] + (df_house_jeonnam['평당분양가격'][i-4] - df_house_jeonnam['평당분양가격'][i-8])"
   ]
  },
  {
   "cell_type": "code",
   "execution_count": null,
   "metadata": {},
   "outputs": [],
   "source": [
    "df_house_jeonnam[df_house_jeonnam['평당분양가격'].isnull()]"
   ]
  },
  {
   "cell_type": "markdown",
   "metadata": {},
   "source": [
    "#### 경남"
   ]
  },
  {
   "cell_type": "code",
   "execution_count": null,
   "metadata": {},
   "outputs": [],
   "source": [
    "df_house_gyeongnam = df_house_dosi[df_house_dosi['지역명'] == '경남'].copy()\n",
    "df_house_gyeongnam.head()"
   ]
  },
  {
   "cell_type": "code",
   "execution_count": null,
   "metadata": {},
   "outputs": [],
   "source": [
    "df_house_gyeongnam = df_house_gyeongnam.reset_index().reset_index()\n",
    "df_house_gyeongnam"
   ]
  },
  {
   "cell_type": "code",
   "execution_count": null,
   "metadata": {},
   "outputs": [],
   "source": [
    "df_house_gyeongnam = df_house_gyeongnam.drop('index',axis = 1).copy()"
   ]
  },
  {
   "cell_type": "code",
   "execution_count": null,
   "metadata": {},
   "outputs": [],
   "source": [
    "df_house_gyeongnam.rename(columns = {'level_0' : 'index'}, inplace = True)"
   ]
  },
  {
   "cell_type": "code",
   "execution_count": null,
   "metadata": {},
   "outputs": [],
   "source": [
    "df_house_gyeongnam.head()"
   ]
  },
  {
   "cell_type": "code",
   "execution_count": null,
   "metadata": {},
   "outputs": [],
   "source": [
    "df_house_gyeongnam[df_house_gyeongnam['평당분양가격'].isnull()]"
   ]
  },
  {
   "cell_type": "markdown",
   "metadata": {},
   "source": [
    "#### 널값은 1월 값이 null이면 1월은 = 전년 12월 + (12월 - 11월) 이렇게 판단한 이유는 저번 상승값이라 비슷할거라 판단"
   ]
  },
  {
   "cell_type": "code",
   "execution_count": null,
   "metadata": {},
   "outputs": [],
   "source": [
    "for i in df_house_gyeongnam[df_house_gyeongnam['평당분양가격'].isnull()].index:\n",
    "    df_house_gyeongnam['평당분양가격'][i] = df_house_gyeongnam['평당분양가격'][i-4] + (df_house_gyeongnam['평당분양가격'][i-4] - df_house_gyeongnam['평당분양가격'][i-8])"
   ]
  },
  {
   "cell_type": "code",
   "execution_count": null,
   "metadata": {},
   "outputs": [],
   "source": [
    "df_house_gyeongnam[df_house_gyeongnam['평당분양가격'].isnull()]"
   ]
  },
  {
   "cell_type": "code",
   "execution_count": null,
   "metadata": {},
   "outputs": [],
   "source": [
    "df_house_gu = pd.concat([df_house_seoul, df_house_gyeonggi, df_house_busan, df_house_daegu,\n",
    "                        df_house_gangwon, df_house_chungbuk, df_house_jeonbuk, df_house_jeonnam,\n",
    "                        df_house_gyeongnam], axis = 0)"
   ]
  },
  {
   "cell_type": "code",
   "execution_count": null,
   "metadata": {},
   "outputs": [],
   "source": [
    "df_house_gu.head()"
   ]
  },
  {
   "cell_type": "code",
   "execution_count": null,
   "metadata": {},
   "outputs": [],
   "source": [
    "df_house_gu.isnull().sum()"
   ]
  },
  {
   "cell_type": "markdown",
   "metadata": {},
   "source": [
    "#### 전처리한 파일 엑셀로 저장"
   ]
  },
  {
   "cell_type": "code",
   "execution_count": null,
   "metadata": {},
   "outputs": [],
   "source": [
    "# df_house_gu.to_csv('house.csv', index=False, encoding='cp949')"
   ]
  },
  {
   "cell_type": "code",
   "execution_count": null,
   "metadata": {},
   "outputs": [],
   "source": [
    "df_house_dosi = pd.read_csv(\"house.csv\",encoding='cp949')\n",
    "df_house_dosi"
   ]
  },
  {
   "cell_type": "code",
   "execution_count": null,
   "metadata": {},
   "outputs": [],
   "source": [
    "df_house_dosi = df_house_dosi.drop('index',axis = 1).copy()"
   ]
  },
  {
   "cell_type": "code",
   "execution_count": null,
   "metadata": {},
   "outputs": [],
   "source": [
    "df_house_dosi.head()"
   ]
  },
  {
   "cell_type": "code",
   "execution_count": null,
   "metadata": {},
   "outputs": [],
   "source": [
    "df_house_dosi.isnull().sum()"
   ]
  },
  {
   "cell_type": "markdown",
   "metadata": {},
   "source": [
    "#### 지도에서 보기위한 경도 위도 처리"
   ]
  },
  {
   "cell_type": "code",
   "execution_count": null,
   "metadata": {},
   "outputs": [],
   "source": [
    "df_house_dosi.loc[df_house_dosi['지역명'].str.contains('서울'),'경도'] = 126.97833527595007"
   ]
  },
  {
   "cell_type": "markdown",
   "metadata": {},
   "source": [
    "#### 처리된거 확인"
   ]
  },
  {
   "cell_type": "code",
   "execution_count": null,
   "metadata": {},
   "outputs": [],
   "source": [
    "df_house_dosi[df_house_dosi['지역명']=='서울'].head()"
   ]
  },
  {
   "cell_type": "code",
   "execution_count": null,
   "metadata": {},
   "outputs": [],
   "source": [
    "df_house_dosi['지역명'].unique()"
   ]
  },
  {
   "cell_type": "code",
   "execution_count": null,
   "metadata": {},
   "outputs": [],
   "source": [
    "df_house_dosi.loc[df_house_dosi['지역명'].str.contains('서울'),'위도'] = 37.56666950126609\n",
    "\n",
    "df_house_dosi.loc[df_house_dosi['지역명'].str.contains('경기'),'위도'] = 37.274906479858764\n",
    "df_house_dosi.loc[df_house_dosi['지역명'].str.contains('경기'),'경도'] = 127.00921653805827\n",
    "\n",
    "df_house_dosi.loc[df_house_dosi['지역명'].str.contains('부산'),'위도'] = 35.17974743433661\n",
    "df_house_dosi.loc[df_house_dosi['지역명'].str.contains('부산'),'경도'] = 129.07502991248603\n",
    "\n",
    "df_house_dosi.loc[df_house_dosi['지역명'].str.contains('대구'),'위도'] = 35.87138392116897\n",
    "df_house_dosi.loc[df_house_dosi['지역명'].str.contains('대구'),'경도'] = 128.60176122335534\n",
    "\n",
    "df_house_dosi.loc[df_house_dosi['지역명'].str.contains('강원'),'위도'] = 37.88533303351936\n",
    "df_house_dosi.loc[df_house_dosi['지역명'].str.contains('강원'),'경도'] = 127.7298086355599\n",
    "\n",
    "df_house_dosi.loc[df_house_dosi['지역명'].str.contains('충북'),'위도'] = 36.635633006337365\n",
    "df_house_dosi.loc[df_house_dosi['지역명'].str.contains('충북'),'경도'] = 127.49137384332671\n",
    "\n",
    "df_house_dosi.loc[df_house_dosi['지역명'].str.contains('전북'),'위도'] = 35.82029494433091\n",
    "df_house_dosi.loc[df_house_dosi['지역명'].str.contains('전북'),'경도'] = 127.10878586567907\n",
    "\n",
    "df_house_dosi.loc[df_house_dosi['지역명'].str.contains('전남'),'위도'] = 34.81611288144505\n",
    "df_house_dosi.loc[df_house_dosi['지역명'].str.contains('전남'),'경도'] = 126.46292419713417\n",
    "\n",
    "df_house_dosi.loc[df_house_dosi['지역명'].str.contains('경남'),'위도'] = 35.23826300945596 \n",
    "df_house_dosi.loc[df_house_dosi['지역명'].str.contains('경남'),'경도'] = 128.6924318378324"
   ]
  },
  {
   "cell_type": "code",
   "execution_count": null,
   "metadata": {},
   "outputs": [],
   "source": [
    "#### 제대로 처리됬는지 확인"
   ]
  },
  {
   "cell_type": "code",
   "execution_count": null,
   "metadata": {},
   "outputs": [],
   "source": [
    "df_house_dosi['위도'].unique()"
   ]
  },
  {
   "cell_type": "code",
   "execution_count": null,
   "metadata": {},
   "outputs": [],
   "source": [
    "df_house_dosi_lat = df_house_dosi[(df_house_dosi['전용면적']=='102㎡~') & (df_house_dosi['연도'] == 2020) & (df_house_dosi['월'] == 12)]\n",
    "df_house_dosi_lat"
   ]
  },
  {
   "cell_type": "code",
   "execution_count": null,
   "metadata": {},
   "outputs": [],
   "source": [
    "lat = df_house_dosi_lat['위도'].mean() # 초기 위도 초기화\n",
    "long = df_house_dosi_lat['경도'].mean() # 초기 경도 초기화"
   ]
  },
  {
   "cell_type": "code",
   "execution_count": null,
   "metadata": {},
   "outputs": [],
   "source": [
    "!pip install folium"
   ]
  },
  {
   "cell_type": "code",
   "execution_count": null,
   "metadata": {},
   "outputs": [],
   "source": [
    "import folium"
   ]
  },
  {
   "cell_type": "code",
   "execution_count": null,
   "metadata": {
    "scrolled": true
   },
   "outputs": [],
   "source": [
    "\n",
    "m = folium.Map([lat,long],zoom_start=7) # 처음 화면 보일때 시작점과 크기,\n",
    "\n",
    "for i in df_house_dosi_lat.index:\n",
    "    sub_lat = df_house_dosi_lat.loc[i,'위도']\n",
    "    sub_long = df_house_dosi_lat.loc[i,'경도']\n",
    "    tooltip = df_house_dosi_lat.loc[i,'지역명'] + ' : ' + str(df_house_dosi_lat.loc[i,'평당분양가격']) + \"천원\" # 마우스 올릴떄 이벤트\n",
    "    \n",
    "    color = 'green'\n",
    "    \n",
    "    radius = df_house_dosi_lat.loc[i,'평당분양가격']/1000\n",
    "    \n",
    "    # fill = True 바꿔보며 실습\n",
    "    folium.CircleMarker([sub_lat,sub_long],tooltip=tooltip,color=color,radius=radius, fill = True).add_to(m)\n",
    "\n",
    "# m.save('index.html')\n",
    "m"
   ]
  },
  {
   "cell_type": "code",
   "execution_count": null,
   "metadata": {},
   "outputs": [],
   "source": []
  }
 ],
 "metadata": {
  "kernelspec": {
   "display_name": "Python 3",
   "language": "python",
   "name": "python3"
  },
  "language_info": {
   "codemirror_mode": {
    "name": "ipython",
    "version": 3
   },
   "file_extension": ".py",
   "mimetype": "text/x-python",
   "name": "python",
   "nbconvert_exporter": "python",
   "pygments_lexer": "ipython3",
   "version": "3.8.5"
  },
  "toc": {
   "base_numbering": 1,
   "nav_menu": {},
   "number_sections": true,
   "sideBar": true,
   "skip_h1_title": false,
   "title_cell": "Table of Contents",
   "title_sidebar": "Contents",
   "toc_cell": false,
   "toc_position": {
    "height": "calc(100% - 180px)",
    "left": "10px",
    "top": "150px",
    "width": "301.273px"
   },
   "toc_section_display": true,
   "toc_window_display": true
  }
 },
 "nbformat": 4,
 "nbformat_minor": 5
}
