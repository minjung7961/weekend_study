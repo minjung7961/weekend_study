{
 "cells": [
  {
   "cell_type": "markdown",
   "id": "5d3f1616",
   "metadata": {},
   "source": [
    "# 주택도시보증공사_전국 신규 민간아파트 분양가격 동향"
   ]
  },
  {
   "cell_type": "code",
   "execution_count": 1,
   "id": "e05d2429",
   "metadata": {},
   "outputs": [],
   "source": [
    "import pandas as pd\n",
    "import matplotlib.pyplot as plt\n",
    "import seaborn as sns\n",
    "import numpy as np\n"
   ]
  },
  {
   "cell_type": "code",
   "execution_count": 2,
   "id": "e3bb32c2",
   "metadata": {},
   "outputs": [],
   "source": [
    "from IPython.display import set_matplotlib_formats\n",
    "set_matplotlib_formats('retina')\n",
    "plt.rc('font',family='Malgun Gothic')\n",
    "plt.rc('axes',unicode_minus=False)"
   ]
  },
  {
   "cell_type": "code",
   "execution_count": 3,
   "id": "ae5e5893",
   "metadata": {},
   "outputs": [
    {
     "data": {
      "text/html": [
       "<div>\n",
       "<style scoped>\n",
       "    .dataframe tbody tr th:only-of-type {\n",
       "        vertical-align: middle;\n",
       "    }\n",
       "\n",
       "    .dataframe tbody tr th {\n",
       "        vertical-align: top;\n",
       "    }\n",
       "\n",
       "    .dataframe thead th {\n",
       "        text-align: right;\n",
       "    }\n",
       "</style>\n",
       "<table border=\"1\" class=\"dataframe\">\n",
       "  <thead>\n",
       "    <tr style=\"text-align: right;\">\n",
       "      <th></th>\n",
       "      <th>지역명</th>\n",
       "      <th>규모구분</th>\n",
       "      <th>연도</th>\n",
       "      <th>월</th>\n",
       "      <th>분양가격(㎡)</th>\n",
       "    </tr>\n",
       "  </thead>\n",
       "  <tbody>\n",
       "    <tr>\n",
       "      <th>0</th>\n",
       "      <td>서울</td>\n",
       "      <td>모든면적</td>\n",
       "      <td>2015</td>\n",
       "      <td>10</td>\n",
       "      <td>5841</td>\n",
       "    </tr>\n",
       "    <tr>\n",
       "      <th>1</th>\n",
       "      <td>서울</td>\n",
       "      <td>전용면적 60㎡이하</td>\n",
       "      <td>2015</td>\n",
       "      <td>10</td>\n",
       "      <td>5652</td>\n",
       "    </tr>\n",
       "    <tr>\n",
       "      <th>2</th>\n",
       "      <td>서울</td>\n",
       "      <td>전용면적 60㎡초과 85㎡이하</td>\n",
       "      <td>2015</td>\n",
       "      <td>10</td>\n",
       "      <td>5882</td>\n",
       "    </tr>\n",
       "    <tr>\n",
       "      <th>3</th>\n",
       "      <td>서울</td>\n",
       "      <td>전용면적 85㎡초과 102㎡이하</td>\n",
       "      <td>2015</td>\n",
       "      <td>10</td>\n",
       "      <td>5721</td>\n",
       "    </tr>\n",
       "    <tr>\n",
       "      <th>4</th>\n",
       "      <td>서울</td>\n",
       "      <td>전용면적 102㎡초과</td>\n",
       "      <td>2015</td>\n",
       "      <td>10</td>\n",
       "      <td>5879</td>\n",
       "    </tr>\n",
       "  </tbody>\n",
       "</table>\n",
       "</div>"
      ],
      "text/plain": [
       "  지역명               규모구분    연도   월 분양가격(㎡)\n",
       "0  서울               모든면적  2015  10    5841\n",
       "1  서울         전용면적 60㎡이하  2015  10    5652\n",
       "2  서울   전용면적 60㎡초과 85㎡이하  2015  10    5882\n",
       "3  서울  전용면적 85㎡초과 102㎡이하  2015  10    5721\n",
       "4  서울        전용면적 102㎡초과  2015  10    5879"
      ]
     },
     "execution_count": 3,
     "metadata": {},
     "output_type": "execute_result"
    }
   ],
   "source": [
    "df_house = pd.read_csv(\"주택도시보증공사_전국 신규 민간아파트 분양가격 동향_20210315.csv\",encoding='cp949')\n",
    "df_house.head()"
   ]
  },
  {
   "cell_type": "code",
   "execution_count": 4,
   "id": "fad1cad3",
   "metadata": {},
   "outputs": [
    {
     "data": {
      "text/html": [
       "<div>\n",
       "<style scoped>\n",
       "    .dataframe tbody tr th:only-of-type {\n",
       "        vertical-align: middle;\n",
       "    }\n",
       "\n",
       "    .dataframe tbody tr th {\n",
       "        vertical-align: top;\n",
       "    }\n",
       "\n",
       "    .dataframe thead th {\n",
       "        text-align: right;\n",
       "    }\n",
       "</style>\n",
       "<table border=\"1\" class=\"dataframe\">\n",
       "  <thead>\n",
       "    <tr style=\"text-align: right;\">\n",
       "      <th></th>\n",
       "      <th>지역명</th>\n",
       "      <th>규모구분</th>\n",
       "      <th>연도</th>\n",
       "      <th>월</th>\n",
       "      <th>분양가격(㎡)</th>\n",
       "    </tr>\n",
       "  </thead>\n",
       "  <tbody>\n",
       "    <tr>\n",
       "      <th>5605</th>\n",
       "      <td>제주</td>\n",
       "      <td>모든면적</td>\n",
       "      <td>2021</td>\n",
       "      <td>3</td>\n",
       "      <td>7199</td>\n",
       "    </tr>\n",
       "    <tr>\n",
       "      <th>5606</th>\n",
       "      <td>제주</td>\n",
       "      <td>전용면적 60㎡이하</td>\n",
       "      <td>2021</td>\n",
       "      <td>3</td>\n",
       "      <td>4686</td>\n",
       "    </tr>\n",
       "    <tr>\n",
       "      <th>5607</th>\n",
       "      <td>제주</td>\n",
       "      <td>전용면적 60㎡초과 85㎡이하</td>\n",
       "      <td>2021</td>\n",
       "      <td>3</td>\n",
       "      <td>7180</td>\n",
       "    </tr>\n",
       "    <tr>\n",
       "      <th>5608</th>\n",
       "      <td>제주</td>\n",
       "      <td>전용면적 85㎡초과 102㎡이하</td>\n",
       "      <td>2021</td>\n",
       "      <td>3</td>\n",
       "      <td>NaN</td>\n",
       "    </tr>\n",
       "    <tr>\n",
       "      <th>5609</th>\n",
       "      <td>제주</td>\n",
       "      <td>전용면적 102㎡초과</td>\n",
       "      <td>2021</td>\n",
       "      <td>3</td>\n",
       "      <td>7727</td>\n",
       "    </tr>\n",
       "  </tbody>\n",
       "</table>\n",
       "</div>"
      ],
      "text/plain": [
       "     지역명               규모구분    연도  월 분양가격(㎡)\n",
       "5605  제주               모든면적  2021  3    7199\n",
       "5606  제주         전용면적 60㎡이하  2021  3    4686\n",
       "5607  제주   전용면적 60㎡초과 85㎡이하  2021  3    7180\n",
       "5608  제주  전용면적 85㎡초과 102㎡이하  2021  3     NaN\n",
       "5609  제주        전용면적 102㎡초과  2021  3    7727"
      ]
     },
     "execution_count": 4,
     "metadata": {},
     "output_type": "execute_result"
    }
   ],
   "source": [
    "df_house.tail()"
   ]
  },
  {
   "cell_type": "code",
   "execution_count": 5,
   "id": "4c4964d0",
   "metadata": {},
   "outputs": [
    {
     "name": "stdout",
     "output_type": "stream",
     "text": [
      "<class 'pandas.core.frame.DataFrame'>\n",
      "RangeIndex: 5610 entries, 0 to 5609\n",
      "Data columns (total 5 columns):\n",
      " #   Column   Non-Null Count  Dtype \n",
      "---  ------   --------------  ----- \n",
      " 0   지역명      5610 non-null   object\n",
      " 1   규모구분     5610 non-null   object\n",
      " 2   연도       5610 non-null   int64 \n",
      " 3   월        5610 non-null   int64 \n",
      " 4   분양가격(㎡)  5170 non-null   object\n",
      "dtypes: int64(2), object(3)\n",
      "memory usage: 219.3+ KB\n"
     ]
    }
   ],
   "source": [
    "df_house.info()"
   ]
  },
  {
   "cell_type": "markdown",
   "id": "d48d50c0",
   "metadata": {},
   "source": [
    "#### 널값 확인"
   ]
  },
  {
   "cell_type": "code",
   "execution_count": 6,
   "id": "17a94acc",
   "metadata": {},
   "outputs": [
    {
     "data": {
      "text/plain": [
       "지역명          0\n",
       "규모구분         0\n",
       "연도           0\n",
       "월            0\n",
       "분양가격(㎡)    440\n",
       "dtype: int64"
      ]
     },
     "execution_count": 6,
     "metadata": {},
     "output_type": "execute_result"
    }
   ],
   "source": [
    "df_house.isnull().sum()"
   ]
  },
  {
   "cell_type": "code",
   "execution_count": 7,
   "id": "5f31d896",
   "metadata": {},
   "outputs": [
    {
     "data": {
      "text/plain": [
       "<AxesSubplot:>"
      ]
     },
     "execution_count": 7,
     "metadata": {},
     "output_type": "execute_result"
    },
    {
     "data": {
      "image/png": "[encoded data removed]",
      "text/plain": [
       "<Figure size 864x720 with 1 Axes>"
      ]
     },
     "metadata": {
      "image/png": {
       "height": 575,
       "width": 683
      },
      "needs_background": "light"
     },
     "output_type": "display_data"
    }
   ],
   "source": [
    "plt.figure(figsize=(12,10))\n",
    "sns.heatmap(df_house.isnull(),yticklabels=False,cbar=False)"
   ]
  },
  {
   "cell_type": "markdown",
   "id": "a22c91b1",
   "metadata": {},
   "source": [
    "#### 컬럼 내용 확인"
   ]
  },
  {
   "cell_type": "code",
   "execution_count": 8,
   "id": "8d1fcbaf",
   "metadata": {},
   "outputs": [
    {
     "name": "stdout",
     "output_type": "stream",
     "text": [
      "지역명 :\n",
      "\n",
      "전남    330\n",
      "세종    330\n",
      "대구    330\n",
      "충북    330\n",
      "대전    330\n",
      "제주    330\n",
      "충남    330\n",
      "경북    330\n",
      "서울    330\n",
      "부산    330\n",
      "인천    330\n",
      "경남    330\n",
      "경기    330\n",
      "광주    330\n",
      "전북    330\n",
      "울산    330\n",
      "강원    330\n",
      "Name: 지역명, dtype: int64 \n",
      "\n",
      "규모구분 :\n",
      "\n",
      "전용면적 60㎡이하           1122\n",
      "모든면적                 1122\n",
      "전용면적 60㎡초과 85㎡이하     1122\n",
      "전용면적 102㎡초과          1122\n",
      "전용면적 85㎡초과 102㎡이하    1122\n",
      "Name: 규모구분, dtype: int64 \n",
      "\n",
      "연도 :\n",
      "\n",
      "2016    1020\n",
      "2020    1020\n",
      "2017    1020\n",
      "2018    1020\n",
      "2019    1020\n",
      "2021     255\n",
      "2015     255\n",
      "Name: 연도, dtype: int64 \n",
      "\n",
      "월 :\n",
      "\n",
      "12    510\n",
      "1     510\n",
      "2     510\n",
      "10    510\n",
      "3     510\n",
      "11    510\n",
      "4     425\n",
      "8     425\n",
      "5     425\n",
      "9     425\n",
      "6     425\n",
      "7     425\n",
      "Name: 월, dtype: int64 \n",
      "\n",
      "분양가격(㎡) :\n",
      "\n",
      "3395    18\n",
      "2667    17\n",
      "2221    17\n",
      "2743    16\n",
      "        16\n",
      "        ..\n",
      "8573     1\n",
      "3318     1\n",
      "7206     1\n",
      "4637     1\n",
      "2053     1\n",
      "Name: 분양가격(㎡), Length: 2114, dtype: int64 \n",
      "\n"
     ]
    }
   ],
   "source": [
    "cols = df_house.columns\n",
    "for i in cols:\n",
    "    print(i,':\\n')\n",
    "    print(df_house[i].value_counts(),'\\n')"
   ]
  },
  {
   "cell_type": "markdown",
   "id": "abe757f8",
   "metadata": {},
   "source": [
    "#### 분양가격 평당 분양가격으로 변경해줌"
   ]
  },
  {
   "cell_type": "code",
   "execution_count": 9,
   "id": "82e2ccd7",
   "metadata": {},
   "outputs": [
    {
     "data": {
      "text/html": [
       "<div>\n",
       "<style scoped>\n",
       "    .dataframe tbody tr th:only-of-type {\n",
       "        vertical-align: middle;\n",
       "    }\n",
       "\n",
       "    .dataframe tbody tr th {\n",
       "        vertical-align: top;\n",
       "    }\n",
       "\n",
       "    .dataframe thead th {\n",
       "        text-align: right;\n",
       "    }\n",
       "</style>\n",
       "<table border=\"1\" class=\"dataframe\">\n",
       "  <thead>\n",
       "    <tr style=\"text-align: right;\">\n",
       "      <th></th>\n",
       "      <th>지역명</th>\n",
       "      <th>규모구분</th>\n",
       "      <th>연도</th>\n",
       "      <th>월</th>\n",
       "      <th>분양가격(㎡)</th>\n",
       "      <th>분양가격</th>\n",
       "    </tr>\n",
       "  </thead>\n",
       "  <tbody>\n",
       "    <tr>\n",
       "      <th>0</th>\n",
       "      <td>서울</td>\n",
       "      <td>모든면적</td>\n",
       "      <td>2015</td>\n",
       "      <td>10</td>\n",
       "      <td>5841</td>\n",
       "      <td>5841.0</td>\n",
       "    </tr>\n",
       "    <tr>\n",
       "      <th>1</th>\n",
       "      <td>서울</td>\n",
       "      <td>전용면적 60㎡이하</td>\n",
       "      <td>2015</td>\n",
       "      <td>10</td>\n",
       "      <td>5652</td>\n",
       "      <td>5652.0</td>\n",
       "    </tr>\n",
       "    <tr>\n",
       "      <th>2</th>\n",
       "      <td>서울</td>\n",
       "      <td>전용면적 60㎡초과 85㎡이하</td>\n",
       "      <td>2015</td>\n",
       "      <td>10</td>\n",
       "      <td>5882</td>\n",
       "      <td>5882.0</td>\n",
       "    </tr>\n",
       "    <tr>\n",
       "      <th>3</th>\n",
       "      <td>서울</td>\n",
       "      <td>전용면적 85㎡초과 102㎡이하</td>\n",
       "      <td>2015</td>\n",
       "      <td>10</td>\n",
       "      <td>5721</td>\n",
       "      <td>5721.0</td>\n",
       "    </tr>\n",
       "    <tr>\n",
       "      <th>4</th>\n",
       "      <td>서울</td>\n",
       "      <td>전용면적 102㎡초과</td>\n",
       "      <td>2015</td>\n",
       "      <td>10</td>\n",
       "      <td>5879</td>\n",
       "      <td>5879.0</td>\n",
       "    </tr>\n",
       "  </tbody>\n",
       "</table>\n",
       "</div>"
      ],
      "text/plain": [
       "  지역명               규모구분    연도   월 분양가격(㎡)    분양가격\n",
       "0  서울               모든면적  2015  10    5841  5841.0\n",
       "1  서울         전용면적 60㎡이하  2015  10    5652  5652.0\n",
       "2  서울   전용면적 60㎡초과 85㎡이하  2015  10    5882  5882.0\n",
       "3  서울  전용면적 85㎡초과 102㎡이하  2015  10    5721  5721.0\n",
       "4  서울        전용면적 102㎡초과  2015  10    5879  5879.0"
      ]
     },
     "execution_count": 9,
     "metadata": {},
     "output_type": "execute_result"
    }
   ],
   "source": [
    "#### pd.to_numeric 을 통해 데이터의 타입을 변경\n",
    "df_house['분양가격'] = pd.to_numeric(df_house['분양가격(㎡)'], errors='coerce')\n",
    "df_house.head()"
   ]
  },
  {
   "cell_type": "code",
   "execution_count": 10,
   "id": "e3ac898d",
   "metadata": {},
   "outputs": [],
   "source": [
    "#### 분양가격 평당 분양가격으로 변경해줌\n",
    "df_house['평당분양가격'] = df_house['분양가격'] * 3.3"
   ]
  },
  {
   "cell_type": "code",
   "execution_count": 11,
   "id": "e911a8e6",
   "metadata": {},
   "outputs": [
    {
     "data": {
      "text/plain": [
       "0       19275.3\n",
       "1       18651.6\n",
       "2       19410.6\n",
       "3       18879.3\n",
       "4       19400.7\n",
       "         ...   \n",
       "5605    23756.7\n",
       "5606    15463.8\n",
       "5607    23694.0\n",
       "5608        NaN\n",
       "5609    25499.1\n",
       "Name: 평당분양가격, Length: 5610, dtype: float64"
      ]
     },
     "execution_count": 11,
     "metadata": {},
     "output_type": "execute_result"
    }
   ],
   "source": [
    "df_house['평당분양가격']"
   ]
  },
  {
   "cell_type": "code",
   "execution_count": 12,
   "id": "309aeafa",
   "metadata": {},
   "outputs": [
    {
     "name": "stdout",
     "output_type": "stream",
     "text": [
      "<class 'pandas.core.frame.DataFrame'>\n",
      "RangeIndex: 5610 entries, 0 to 5609\n",
      "Data columns (total 7 columns):\n",
      " #   Column   Non-Null Count  Dtype  \n",
      "---  ------   --------------  -----  \n",
      " 0   지역명      5610 non-null   object \n",
      " 1   규모구분     5610 non-null   object \n",
      " 2   연도       5610 non-null   int64  \n",
      " 3   월        5610 non-null   int64  \n",
      " 4   분양가격(㎡)  5170 non-null   object \n",
      " 5   분양가격     5078 non-null   float64\n",
      " 6   평당분양가격   5078 non-null   float64\n",
      "dtypes: float64(2), int64(2), object(3)\n",
      "memory usage: 306.9+ KB\n"
     ]
    }
   ],
   "source": [
    "df_house.info()"
   ]
  },
  {
   "cell_type": "markdown",
   "id": "c7e2274b",
   "metadata": {},
   "source": [
    "#### 이제 규모구분 컬럼내용 변경필요"
   ]
  },
  {
   "cell_type": "code",
   "execution_count": 13,
   "id": "811ad4d1",
   "metadata": {},
   "outputs": [
    {
     "data": {
      "text/plain": [
       "전용면적 60㎡이하           1122\n",
       "모든면적                 1122\n",
       "전용면적 60㎡초과 85㎡이하     1122\n",
       "전용면적 102㎡초과          1122\n",
       "전용면적 85㎡초과 102㎡이하    1122\n",
       "Name: 규모구분, dtype: int64"
      ]
     },
     "execution_count": 13,
     "metadata": {},
     "output_type": "execute_result"
    }
   ],
   "source": [
    "df_house['규모구분'].value_counts()"
   ]
  },
  {
   "cell_type": "code",
   "execution_count": 14,
   "id": "dd98c101",
   "metadata": {},
   "outputs": [
    {
     "data": {
      "text/plain": [
       "0           모든면적\n",
       "1            60㎡\n",
       "2        60㎡~85㎡\n",
       "3       85㎡~102㎡\n",
       "4          102㎡~\n",
       "          ...   \n",
       "5605        모든면적\n",
       "5606         60㎡\n",
       "5607     60㎡~85㎡\n",
       "5608    85㎡~102㎡\n",
       "5609       102㎡~\n",
       "Name: 전용면적, Length: 5610, dtype: object"
      ]
     },
     "execution_count": 14,
     "metadata": {},
     "output_type": "execute_result"
    }
   ],
   "source": [
    "df_house['전용면적'] = df_house['규모구분'].str.replace('전용면적',\"\")\n",
    "df_house['전용면적'] = df_house['전용면적'].str.replace('초과','~')\n",
    "df_house['전용면적'] = df_house['전용면적'].str.replace('이하','')\n",
    "df_house['전용면적'] = df_house['전용면적'].str.replace(' ','').str.strip()\n",
    "df_house['전용면적']"
   ]
  },
  {
   "cell_type": "code",
   "execution_count": 15,
   "id": "261b74e3",
   "metadata": {},
   "outputs": [
    {
     "data": {
      "text/html": [
       "<div>\n",
       "<style scoped>\n",
       "    .dataframe tbody tr th:only-of-type {\n",
       "        vertical-align: middle;\n",
       "    }\n",
       "\n",
       "    .dataframe tbody tr th {\n",
       "        vertical-align: top;\n",
       "    }\n",
       "\n",
       "    .dataframe thead th {\n",
       "        text-align: right;\n",
       "    }\n",
       "</style>\n",
       "<table border=\"1\" class=\"dataframe\">\n",
       "  <thead>\n",
       "    <tr style=\"text-align: right;\">\n",
       "      <th></th>\n",
       "      <th>지역명</th>\n",
       "      <th>규모구분</th>\n",
       "      <th>연도</th>\n",
       "      <th>월</th>\n",
       "      <th>분양가격(㎡)</th>\n",
       "      <th>분양가격</th>\n",
       "      <th>평당분양가격</th>\n",
       "      <th>전용면적</th>\n",
       "    </tr>\n",
       "  </thead>\n",
       "  <tbody>\n",
       "    <tr>\n",
       "      <th>0</th>\n",
       "      <td>서울</td>\n",
       "      <td>모든면적</td>\n",
       "      <td>2015</td>\n",
       "      <td>10</td>\n",
       "      <td>5841</td>\n",
       "      <td>5841.0</td>\n",
       "      <td>19275.3</td>\n",
       "      <td>모든면적</td>\n",
       "    </tr>\n",
       "    <tr>\n",
       "      <th>1</th>\n",
       "      <td>서울</td>\n",
       "      <td>전용면적 60㎡이하</td>\n",
       "      <td>2015</td>\n",
       "      <td>10</td>\n",
       "      <td>5652</td>\n",
       "      <td>5652.0</td>\n",
       "      <td>18651.6</td>\n",
       "      <td>60㎡</td>\n",
       "    </tr>\n",
       "    <tr>\n",
       "      <th>2</th>\n",
       "      <td>서울</td>\n",
       "      <td>전용면적 60㎡초과 85㎡이하</td>\n",
       "      <td>2015</td>\n",
       "      <td>10</td>\n",
       "      <td>5882</td>\n",
       "      <td>5882.0</td>\n",
       "      <td>19410.6</td>\n",
       "      <td>60㎡~85㎡</td>\n",
       "    </tr>\n",
       "    <tr>\n",
       "      <th>3</th>\n",
       "      <td>서울</td>\n",
       "      <td>전용면적 85㎡초과 102㎡이하</td>\n",
       "      <td>2015</td>\n",
       "      <td>10</td>\n",
       "      <td>5721</td>\n",
       "      <td>5721.0</td>\n",
       "      <td>18879.3</td>\n",
       "      <td>85㎡~102㎡</td>\n",
       "    </tr>\n",
       "    <tr>\n",
       "      <th>4</th>\n",
       "      <td>서울</td>\n",
       "      <td>전용면적 102㎡초과</td>\n",
       "      <td>2015</td>\n",
       "      <td>10</td>\n",
       "      <td>5879</td>\n",
       "      <td>5879.0</td>\n",
       "      <td>19400.7</td>\n",
       "      <td>102㎡~</td>\n",
       "    </tr>\n",
       "  </tbody>\n",
       "</table>\n",
       "</div>"
      ],
      "text/plain": [
       "  지역명               규모구분    연도   월 분양가격(㎡)    분양가격   평당분양가격      전용면적\n",
       "0  서울               모든면적  2015  10    5841  5841.0  19275.3      모든면적\n",
       "1  서울         전용면적 60㎡이하  2015  10    5652  5652.0  18651.6       60㎡\n",
       "2  서울   전용면적 60㎡초과 85㎡이하  2015  10    5882  5882.0  19410.6   60㎡~85㎡\n",
       "3  서울  전용면적 85㎡초과 102㎡이하  2015  10    5721  5721.0  18879.3  85㎡~102㎡\n",
       "4  서울        전용면적 102㎡초과  2015  10    5879  5879.0  19400.7     102㎡~"
      ]
     },
     "execution_count": 15,
     "metadata": {},
     "output_type": "execute_result"
    }
   ],
   "source": [
    "df_house.head()"
   ]
  },
  {
   "cell_type": "markdown",
   "id": "7b236f3e",
   "metadata": {},
   "source": [
    "#### 필요없는 컬럼 제거"
   ]
  },
  {
   "cell_type": "code",
   "execution_count": 16,
   "id": "964aba4c",
   "metadata": {},
   "outputs": [
    {
     "data": {
      "text/html": [
       "<div>\n",
       "<style scoped>\n",
       "    .dataframe tbody tr th:only-of-type {\n",
       "        vertical-align: middle;\n",
       "    }\n",
       "\n",
       "    .dataframe tbody tr th {\n",
       "        vertical-align: top;\n",
       "    }\n",
       "\n",
       "    .dataframe thead th {\n",
       "        text-align: right;\n",
       "    }\n",
       "</style>\n",
       "<table border=\"1\" class=\"dataframe\">\n",
       "  <thead>\n",
       "    <tr style=\"text-align: right;\">\n",
       "      <th></th>\n",
       "      <th>지역명</th>\n",
       "      <th>연도</th>\n",
       "      <th>월</th>\n",
       "      <th>분양가격</th>\n",
       "      <th>평당분양가격</th>\n",
       "      <th>전용면적</th>\n",
       "    </tr>\n",
       "  </thead>\n",
       "  <tbody>\n",
       "    <tr>\n",
       "      <th>0</th>\n",
       "      <td>서울</td>\n",
       "      <td>2015</td>\n",
       "      <td>10</td>\n",
       "      <td>5841.0</td>\n",
       "      <td>19275.3</td>\n",
       "      <td>모든면적</td>\n",
       "    </tr>\n",
       "    <tr>\n",
       "      <th>1</th>\n",
       "      <td>서울</td>\n",
       "      <td>2015</td>\n",
       "      <td>10</td>\n",
       "      <td>5652.0</td>\n",
       "      <td>18651.6</td>\n",
       "      <td>60㎡</td>\n",
       "    </tr>\n",
       "    <tr>\n",
       "      <th>2</th>\n",
       "      <td>서울</td>\n",
       "      <td>2015</td>\n",
       "      <td>10</td>\n",
       "      <td>5882.0</td>\n",
       "      <td>19410.6</td>\n",
       "      <td>60㎡~85㎡</td>\n",
       "    </tr>\n",
       "    <tr>\n",
       "      <th>3</th>\n",
       "      <td>서울</td>\n",
       "      <td>2015</td>\n",
       "      <td>10</td>\n",
       "      <td>5721.0</td>\n",
       "      <td>18879.3</td>\n",
       "      <td>85㎡~102㎡</td>\n",
       "    </tr>\n",
       "    <tr>\n",
       "      <th>4</th>\n",
       "      <td>서울</td>\n",
       "      <td>2015</td>\n",
       "      <td>10</td>\n",
       "      <td>5879.0</td>\n",
       "      <td>19400.7</td>\n",
       "      <td>102㎡~</td>\n",
       "    </tr>\n",
       "    <tr>\n",
       "      <th>...</th>\n",
       "      <td>...</td>\n",
       "      <td>...</td>\n",
       "      <td>...</td>\n",
       "      <td>...</td>\n",
       "      <td>...</td>\n",
       "      <td>...</td>\n",
       "    </tr>\n",
       "    <tr>\n",
       "      <th>5605</th>\n",
       "      <td>제주</td>\n",
       "      <td>2021</td>\n",
       "      <td>3</td>\n",
       "      <td>7199.0</td>\n",
       "      <td>23756.7</td>\n",
       "      <td>모든면적</td>\n",
       "    </tr>\n",
       "    <tr>\n",
       "      <th>5606</th>\n",
       "      <td>제주</td>\n",
       "      <td>2021</td>\n",
       "      <td>3</td>\n",
       "      <td>4686.0</td>\n",
       "      <td>15463.8</td>\n",
       "      <td>60㎡</td>\n",
       "    </tr>\n",
       "    <tr>\n",
       "      <th>5607</th>\n",
       "      <td>제주</td>\n",
       "      <td>2021</td>\n",
       "      <td>3</td>\n",
       "      <td>7180.0</td>\n",
       "      <td>23694.0</td>\n",
       "      <td>60㎡~85㎡</td>\n",
       "    </tr>\n",
       "    <tr>\n",
       "      <th>5608</th>\n",
       "      <td>제주</td>\n",
       "      <td>2021</td>\n",
       "      <td>3</td>\n",
       "      <td>NaN</td>\n",
       "      <td>NaN</td>\n",
       "      <td>85㎡~102㎡</td>\n",
       "    </tr>\n",
       "    <tr>\n",
       "      <th>5609</th>\n",
       "      <td>제주</td>\n",
       "      <td>2021</td>\n",
       "      <td>3</td>\n",
       "      <td>7727.0</td>\n",
       "      <td>25499.1</td>\n",
       "      <td>102㎡~</td>\n",
       "    </tr>\n",
       "  </tbody>\n",
       "</table>\n",
       "<p>5610 rows × 6 columns</p>\n",
       "</div>"
      ],
      "text/plain": [
       "     지역명    연도   월    분양가격   평당분양가격      전용면적\n",
       "0     서울  2015  10  5841.0  19275.3      모든면적\n",
       "1     서울  2015  10  5652.0  18651.6       60㎡\n",
       "2     서울  2015  10  5882.0  19410.6   60㎡~85㎡\n",
       "3     서울  2015  10  5721.0  18879.3  85㎡~102㎡\n",
       "4     서울  2015  10  5879.0  19400.7     102㎡~\n",
       "...   ..   ...  ..     ...      ...       ...\n",
       "5605  제주  2021   3  7199.0  23756.7      모든면적\n",
       "5606  제주  2021   3  4686.0  15463.8       60㎡\n",
       "5607  제주  2021   3  7180.0  23694.0   60㎡~85㎡\n",
       "5608  제주  2021   3     NaN      NaN  85㎡~102㎡\n",
       "5609  제주  2021   3  7727.0  25499.1     102㎡~\n",
       "\n",
       "[5610 rows x 6 columns]"
      ]
     },
     "execution_count": 16,
     "metadata": {},
     "output_type": "execute_result"
    }
   ],
   "source": [
    "df_house = df_house.drop(['규모구분','분양가격(㎡)'],axis=1)\n",
    "df_house"
   ]
  },
  {
   "cell_type": "code",
   "execution_count": 17,
   "id": "2daee4a4",
   "metadata": {},
   "outputs": [
    {
     "name": "stdout",
     "output_type": "stream",
     "text": [
      "<class 'pandas.core.frame.DataFrame'>\n",
      "RangeIndex: 5610 entries, 0 to 5609\n",
      "Data columns (total 6 columns):\n",
      " #   Column  Non-Null Count  Dtype  \n",
      "---  ------  --------------  -----  \n",
      " 0   지역명     5610 non-null   object \n",
      " 1   연도      5610 non-null   int64  \n",
      " 2   월       5610 non-null   int64  \n",
      " 3   분양가격    5078 non-null   float64\n",
      " 4   평당분양가격  5078 non-null   float64\n",
      " 5   전용면적    5610 non-null   object \n",
      "dtypes: float64(2), int64(2), object(2)\n",
      "memory usage: 263.1+ KB\n"
     ]
    }
   ],
   "source": [
    "df_house.info()"
   ]
  },
  {
   "cell_type": "markdown",
   "id": "f6edf944",
   "metadata": {},
   "source": [
    "#### 분양가격은 평당분양가격으로 처리해줘서 필요없음"
   ]
  },
  {
   "cell_type": "code",
   "execution_count": 18,
   "id": "0f723bef",
   "metadata": {},
   "outputs": [],
   "source": [
    "df_house = df_house.drop('분양가격',axis = 1).copy()"
   ]
  },
  {
   "cell_type": "code",
   "execution_count": 19,
   "id": "ca149163",
   "metadata": {},
   "outputs": [
    {
     "data": {
      "text/html": [
       "<div>\n",
       "<style scoped>\n",
       "    .dataframe tbody tr th:only-of-type {\n",
       "        vertical-align: middle;\n",
       "    }\n",
       "\n",
       "    .dataframe tbody tr th {\n",
       "        vertical-align: top;\n",
       "    }\n",
       "\n",
       "    .dataframe thead th {\n",
       "        text-align: right;\n",
       "    }\n",
       "</style>\n",
       "<table border=\"1\" class=\"dataframe\">\n",
       "  <thead>\n",
       "    <tr style=\"text-align: right;\">\n",
       "      <th></th>\n",
       "      <th>지역명</th>\n",
       "      <th>연도</th>\n",
       "      <th>월</th>\n",
       "      <th>평당분양가격</th>\n",
       "      <th>전용면적</th>\n",
       "    </tr>\n",
       "  </thead>\n",
       "  <tbody>\n",
       "    <tr>\n",
       "      <th>0</th>\n",
       "      <td>서울</td>\n",
       "      <td>2015</td>\n",
       "      <td>10</td>\n",
       "      <td>19275.3</td>\n",
       "      <td>모든면적</td>\n",
       "    </tr>\n",
       "    <tr>\n",
       "      <th>1</th>\n",
       "      <td>서울</td>\n",
       "      <td>2015</td>\n",
       "      <td>10</td>\n",
       "      <td>18651.6</td>\n",
       "      <td>60㎡</td>\n",
       "    </tr>\n",
       "    <tr>\n",
       "      <th>2</th>\n",
       "      <td>서울</td>\n",
       "      <td>2015</td>\n",
       "      <td>10</td>\n",
       "      <td>19410.6</td>\n",
       "      <td>60㎡~85㎡</td>\n",
       "    </tr>\n",
       "    <tr>\n",
       "      <th>3</th>\n",
       "      <td>서울</td>\n",
       "      <td>2015</td>\n",
       "      <td>10</td>\n",
       "      <td>18879.3</td>\n",
       "      <td>85㎡~102㎡</td>\n",
       "    </tr>\n",
       "    <tr>\n",
       "      <th>4</th>\n",
       "      <td>서울</td>\n",
       "      <td>2015</td>\n",
       "      <td>10</td>\n",
       "      <td>19400.7</td>\n",
       "      <td>102㎡~</td>\n",
       "    </tr>\n",
       "    <tr>\n",
       "      <th>...</th>\n",
       "      <td>...</td>\n",
       "      <td>...</td>\n",
       "      <td>...</td>\n",
       "      <td>...</td>\n",
       "      <td>...</td>\n",
       "    </tr>\n",
       "    <tr>\n",
       "      <th>5605</th>\n",
       "      <td>제주</td>\n",
       "      <td>2021</td>\n",
       "      <td>3</td>\n",
       "      <td>23756.7</td>\n",
       "      <td>모든면적</td>\n",
       "    </tr>\n",
       "    <tr>\n",
       "      <th>5606</th>\n",
       "      <td>제주</td>\n",
       "      <td>2021</td>\n",
       "      <td>3</td>\n",
       "      <td>15463.8</td>\n",
       "      <td>60㎡</td>\n",
       "    </tr>\n",
       "    <tr>\n",
       "      <th>5607</th>\n",
       "      <td>제주</td>\n",
       "      <td>2021</td>\n",
       "      <td>3</td>\n",
       "      <td>23694.0</td>\n",
       "      <td>60㎡~85㎡</td>\n",
       "    </tr>\n",
       "    <tr>\n",
       "      <th>5608</th>\n",
       "      <td>제주</td>\n",
       "      <td>2021</td>\n",
       "      <td>3</td>\n",
       "      <td>NaN</td>\n",
       "      <td>85㎡~102㎡</td>\n",
       "    </tr>\n",
       "    <tr>\n",
       "      <th>5609</th>\n",
       "      <td>제주</td>\n",
       "      <td>2021</td>\n",
       "      <td>3</td>\n",
       "      <td>25499.1</td>\n",
       "      <td>102㎡~</td>\n",
       "    </tr>\n",
       "  </tbody>\n",
       "</table>\n",
       "<p>5610 rows × 5 columns</p>\n",
       "</div>"
      ],
      "text/plain": [
       "     지역명    연도   월   평당분양가격      전용면적\n",
       "0     서울  2015  10  19275.3      모든면적\n",
       "1     서울  2015  10  18651.6       60㎡\n",
       "2     서울  2015  10  19410.6   60㎡~85㎡\n",
       "3     서울  2015  10  18879.3  85㎡~102㎡\n",
       "4     서울  2015  10  19400.7     102㎡~\n",
       "...   ..   ...  ..      ...       ...\n",
       "5605  제주  2021   3  23756.7      모든면적\n",
       "5606  제주  2021   3  15463.8       60㎡\n",
       "5607  제주  2021   3  23694.0   60㎡~85㎡\n",
       "5608  제주  2021   3      NaN  85㎡~102㎡\n",
       "5609  제주  2021   3  25499.1     102㎡~\n",
       "\n",
       "[5610 rows x 5 columns]"
      ]
     },
     "execution_count": 19,
     "metadata": {},
     "output_type": "execute_result"
    }
   ],
   "source": [
    "df_house"
   ]
  },
  {
   "cell_type": "markdown",
   "id": "ac9ebe5c",
   "metadata": {},
   "source": [
    "#### 모든 면적값은 어짜피 다른 전용면적에서 다 처리해줘서 필요없다고 판단하여 제거"
   ]
  },
  {
   "cell_type": "code",
   "execution_count": 20,
   "id": "17da43f7",
   "metadata": {},
   "outputs": [
    {
     "data": {
      "text/html": [
       "<div>\n",
       "<style scoped>\n",
       "    .dataframe tbody tr th:only-of-type {\n",
       "        vertical-align: middle;\n",
       "    }\n",
       "\n",
       "    .dataframe tbody tr th {\n",
       "        vertical-align: top;\n",
       "    }\n",
       "\n",
       "    .dataframe thead th {\n",
       "        text-align: right;\n",
       "    }\n",
       "</style>\n",
       "<table border=\"1\" class=\"dataframe\">\n",
       "  <thead>\n",
       "    <tr style=\"text-align: right;\">\n",
       "      <th></th>\n",
       "      <th>지역명</th>\n",
       "      <th>연도</th>\n",
       "      <th>월</th>\n",
       "      <th>평당분양가격</th>\n",
       "      <th>전용면적</th>\n",
       "    </tr>\n",
       "  </thead>\n",
       "  <tbody>\n",
       "    <tr>\n",
       "      <th>1</th>\n",
       "      <td>서울</td>\n",
       "      <td>2015</td>\n",
       "      <td>10</td>\n",
       "      <td>18651.6</td>\n",
       "      <td>60㎡</td>\n",
       "    </tr>\n",
       "    <tr>\n",
       "      <th>2</th>\n",
       "      <td>서울</td>\n",
       "      <td>2015</td>\n",
       "      <td>10</td>\n",
       "      <td>19410.6</td>\n",
       "      <td>60㎡~85㎡</td>\n",
       "    </tr>\n",
       "    <tr>\n",
       "      <th>3</th>\n",
       "      <td>서울</td>\n",
       "      <td>2015</td>\n",
       "      <td>10</td>\n",
       "      <td>18879.3</td>\n",
       "      <td>85㎡~102㎡</td>\n",
       "    </tr>\n",
       "    <tr>\n",
       "      <th>4</th>\n",
       "      <td>서울</td>\n",
       "      <td>2015</td>\n",
       "      <td>10</td>\n",
       "      <td>19400.7</td>\n",
       "      <td>102㎡~</td>\n",
       "    </tr>\n",
       "    <tr>\n",
       "      <th>6</th>\n",
       "      <td>인천</td>\n",
       "      <td>2015</td>\n",
       "      <td>10</td>\n",
       "      <td>11510.4</td>\n",
       "      <td>60㎡</td>\n",
       "    </tr>\n",
       "    <tr>\n",
       "      <th>...</th>\n",
       "      <td>...</td>\n",
       "      <td>...</td>\n",
       "      <td>...</td>\n",
       "      <td>...</td>\n",
       "      <td>...</td>\n",
       "    </tr>\n",
       "    <tr>\n",
       "      <th>5604</th>\n",
       "      <td>경남</td>\n",
       "      <td>2021</td>\n",
       "      <td>3</td>\n",
       "      <td>10863.6</td>\n",
       "      <td>102㎡~</td>\n",
       "    </tr>\n",
       "    <tr>\n",
       "      <th>5606</th>\n",
       "      <td>제주</td>\n",
       "      <td>2021</td>\n",
       "      <td>3</td>\n",
       "      <td>15463.8</td>\n",
       "      <td>60㎡</td>\n",
       "    </tr>\n",
       "    <tr>\n",
       "      <th>5607</th>\n",
       "      <td>제주</td>\n",
       "      <td>2021</td>\n",
       "      <td>3</td>\n",
       "      <td>23694.0</td>\n",
       "      <td>60㎡~85㎡</td>\n",
       "    </tr>\n",
       "    <tr>\n",
       "      <th>5608</th>\n",
       "      <td>제주</td>\n",
       "      <td>2021</td>\n",
       "      <td>3</td>\n",
       "      <td>NaN</td>\n",
       "      <td>85㎡~102㎡</td>\n",
       "    </tr>\n",
       "    <tr>\n",
       "      <th>5609</th>\n",
       "      <td>제주</td>\n",
       "      <td>2021</td>\n",
       "      <td>3</td>\n",
       "      <td>25499.1</td>\n",
       "      <td>102㎡~</td>\n",
       "    </tr>\n",
       "  </tbody>\n",
       "</table>\n",
       "<p>4488 rows × 5 columns</p>\n",
       "</div>"
      ],
      "text/plain": [
       "     지역명    연도   월   평당분양가격      전용면적\n",
       "1     서울  2015  10  18651.6       60㎡\n",
       "2     서울  2015  10  19410.6   60㎡~85㎡\n",
       "3     서울  2015  10  18879.3  85㎡~102㎡\n",
       "4     서울  2015  10  19400.7     102㎡~\n",
       "6     인천  2015  10  11510.4       60㎡\n",
       "...   ..   ...  ..      ...       ...\n",
       "5604  경남  2021   3  10863.6     102㎡~\n",
       "5606  제주  2021   3  15463.8       60㎡\n",
       "5607  제주  2021   3  23694.0   60㎡~85㎡\n",
       "5608  제주  2021   3      NaN  85㎡~102㎡\n",
       "5609  제주  2021   3  25499.1     102㎡~\n",
       "\n",
       "[4488 rows x 5 columns]"
      ]
     },
     "execution_count": 20,
     "metadata": {},
     "output_type": "execute_result"
    }
   ],
   "source": [
    "df_house = df_house[df_house['전용면적'] != '모든면적'].copy()\n",
    "df_house"
   ]
  },
  {
   "cell_type": "markdown",
   "id": "80158641",
   "metadata": {},
   "source": [
    "#### 2016년 이후 자료부터 비교할거라 2015년 자료는 없에줌"
   ]
  },
  {
   "cell_type": "code",
   "execution_count": 21,
   "id": "ce6da9d6",
   "metadata": {},
   "outputs": [
    {
     "data": {
      "text/html": [
       "<div>\n",
       "<style scoped>\n",
       "    .dataframe tbody tr th:only-of-type {\n",
       "        vertical-align: middle;\n",
       "    }\n",
       "\n",
       "    .dataframe tbody tr th {\n",
       "        vertical-align: top;\n",
       "    }\n",
       "\n",
       "    .dataframe thead th {\n",
       "        text-align: right;\n",
       "    }\n",
       "</style>\n",
       "<table border=\"1\" class=\"dataframe\">\n",
       "  <thead>\n",
       "    <tr style=\"text-align: right;\">\n",
       "      <th></th>\n",
       "      <th>지역명</th>\n",
       "      <th>연도</th>\n",
       "      <th>월</th>\n",
       "      <th>평당분양가격</th>\n",
       "      <th>전용면적</th>\n",
       "    </tr>\n",
       "  </thead>\n",
       "  <tbody>\n",
       "    <tr>\n",
       "      <th>256</th>\n",
       "      <td>서울</td>\n",
       "      <td>2016</td>\n",
       "      <td>1</td>\n",
       "      <td>21209.1</td>\n",
       "      <td>60㎡</td>\n",
       "    </tr>\n",
       "    <tr>\n",
       "      <th>257</th>\n",
       "      <td>서울</td>\n",
       "      <td>2016</td>\n",
       "      <td>1</td>\n",
       "      <td>19918.8</td>\n",
       "      <td>60㎡~85㎡</td>\n",
       "    </tr>\n",
       "    <tr>\n",
       "      <th>258</th>\n",
       "      <td>서울</td>\n",
       "      <td>2016</td>\n",
       "      <td>1</td>\n",
       "      <td>21492.9</td>\n",
       "      <td>85㎡~102㎡</td>\n",
       "    </tr>\n",
       "    <tr>\n",
       "      <th>259</th>\n",
       "      <td>서울</td>\n",
       "      <td>2016</td>\n",
       "      <td>1</td>\n",
       "      <td>21618.3</td>\n",
       "      <td>102㎡~</td>\n",
       "    </tr>\n",
       "    <tr>\n",
       "      <th>261</th>\n",
       "      <td>인천</td>\n",
       "      <td>2016</td>\n",
       "      <td>1</td>\n",
       "      <td>10982.4</td>\n",
       "      <td>60㎡</td>\n",
       "    </tr>\n",
       "    <tr>\n",
       "      <th>...</th>\n",
       "      <td>...</td>\n",
       "      <td>...</td>\n",
       "      <td>...</td>\n",
       "      <td>...</td>\n",
       "      <td>...</td>\n",
       "    </tr>\n",
       "    <tr>\n",
       "      <th>5604</th>\n",
       "      <td>경남</td>\n",
       "      <td>2021</td>\n",
       "      <td>3</td>\n",
       "      <td>10863.6</td>\n",
       "      <td>102㎡~</td>\n",
       "    </tr>\n",
       "    <tr>\n",
       "      <th>5606</th>\n",
       "      <td>제주</td>\n",
       "      <td>2021</td>\n",
       "      <td>3</td>\n",
       "      <td>15463.8</td>\n",
       "      <td>60㎡</td>\n",
       "    </tr>\n",
       "    <tr>\n",
       "      <th>5607</th>\n",
       "      <td>제주</td>\n",
       "      <td>2021</td>\n",
       "      <td>3</td>\n",
       "      <td>23694.0</td>\n",
       "      <td>60㎡~85㎡</td>\n",
       "    </tr>\n",
       "    <tr>\n",
       "      <th>5608</th>\n",
       "      <td>제주</td>\n",
       "      <td>2021</td>\n",
       "      <td>3</td>\n",
       "      <td>NaN</td>\n",
       "      <td>85㎡~102㎡</td>\n",
       "    </tr>\n",
       "    <tr>\n",
       "      <th>5609</th>\n",
       "      <td>제주</td>\n",
       "      <td>2021</td>\n",
       "      <td>3</td>\n",
       "      <td>25499.1</td>\n",
       "      <td>102㎡~</td>\n",
       "    </tr>\n",
       "  </tbody>\n",
       "</table>\n",
       "<p>4284 rows × 5 columns</p>\n",
       "</div>"
      ],
      "text/plain": [
       "     지역명    연도  월   평당분양가격      전용면적\n",
       "256   서울  2016  1  21209.1       60㎡\n",
       "257   서울  2016  1  19918.8   60㎡~85㎡\n",
       "258   서울  2016  1  21492.9  85㎡~102㎡\n",
       "259   서울  2016  1  21618.3     102㎡~\n",
       "261   인천  2016  1  10982.4       60㎡\n",
       "...   ..   ... ..      ...       ...\n",
       "5604  경남  2021  3  10863.6     102㎡~\n",
       "5606  제주  2021  3  15463.8       60㎡\n",
       "5607  제주  2021  3  23694.0   60㎡~85㎡\n",
       "5608  제주  2021  3      NaN  85㎡~102㎡\n",
       "5609  제주  2021  3  25499.1     102㎡~\n",
       "\n",
       "[4284 rows x 5 columns]"
      ]
     },
     "execution_count": 21,
     "metadata": {},
     "output_type": "execute_result"
    }
   ],
   "source": [
    "df_house = df_house[df_house['연도'] != 2015].copy()\n",
    "df_house"
   ]
  },
  {
   "cell_type": "markdown",
   "id": "8ad2b974",
   "metadata": {},
   "source": [
    "#### 전처리한 컬럼 내용 확인"
   ]
  },
  {
   "cell_type": "code",
   "execution_count": 22,
   "id": "181f7200",
   "metadata": {},
   "outputs": [
    {
     "name": "stdout",
     "output_type": "stream",
     "text": [
      "지역명 :\n",
      "\n",
      "경남    252\n",
      "전북    252\n",
      "강원    252\n",
      "대구    252\n",
      "충북    252\n",
      "대전    252\n",
      "광주    252\n",
      "제주    252\n",
      "울산    252\n",
      "인천    252\n",
      "충남    252\n",
      "경북    252\n",
      "부산    252\n",
      "전남    252\n",
      "세종    252\n",
      "서울    252\n",
      "경기    252\n",
      "Name: 지역명, dtype: int64 \n",
      "\n",
      "연도 :\n",
      "\n",
      "2016    816\n",
      "2020    816\n",
      "2017    816\n",
      "2018    816\n",
      "2019    816\n",
      "2021    204\n",
      "Name: 연도, dtype: int64 \n",
      "\n",
      "월 :\n",
      "\n",
      "1     408\n",
      "2     408\n",
      "3     408\n",
      "4     340\n",
      "8     340\n",
      "12    340\n",
      "5     340\n",
      "9     340\n",
      "6     340\n",
      "10    340\n",
      "7     340\n",
      "11    340\n",
      "Name: 월, dtype: int64 \n",
      "\n",
      "평당분양가격 :\n",
      "\n",
      "11203.5    18\n",
      "8801.1     17\n",
      "7329.3     16\n",
      "10645.8    15\n",
      "12972.3    14\n",
      "           ..\n",
      "13922.7     1\n",
      "13434.3     1\n",
      "12490.5     1\n",
      "14091.0     1\n",
      "13381.5     1\n",
      "Name: 평당분양가격, Length: 1610, dtype: int64 \n",
      "\n",
      "전용면적 :\n",
      "\n",
      "60㎡~85㎡     1071\n",
      "85㎡~102㎡    1071\n",
      "60㎡         1071\n",
      "102㎡~       1071\n",
      "Name: 전용면적, dtype: int64 \n",
      "\n"
     ]
    }
   ],
   "source": [
    "cols = df_house.columns\n",
    "for i in cols:\n",
    "    print(i,':\\n')\n",
    "    print(df_house[i].value_counts(),'\\n')"
   ]
  },
  {
   "cell_type": "code",
   "execution_count": 23,
   "id": "a56504cc",
   "metadata": {},
   "outputs": [
    {
     "data": {
      "text/plain": [
       "array(['서울', '인천', '경기', '부산', '대구', '광주', '대전', '울산', '세종', '강원', '충북',\n",
       "       '충남', '전북', '전남', '경북', '경남', '제주'], dtype=object)"
      ]
     },
     "execution_count": 23,
     "metadata": {},
     "output_type": "execute_result"
    }
   ],
   "source": [
    "korea = df_house['지역명'].unique()\n",
    "korea"
   ]
  },
  {
   "cell_type": "markdown",
   "id": "2cc3befe",
   "metadata": {},
   "source": [
    "#### 지역별 평당분양가격 널 갯수 확인"
   ]
  },
  {
   "cell_type": "code",
   "execution_count": 24,
   "id": "7aea1fed",
   "metadata": {},
   "outputs": [
    {
     "name": "stdout",
     "output_type": "stream",
     "text": [
      "서울  지역 널 갯수는 : 4 \n",
      "\n",
      "인천  지역 널 갯수는 : 8 \n",
      "\n",
      "경기  지역 널 갯수는 : 4 \n",
      "\n",
      "부산  지역 널 갯수는 : 4 \n",
      "\n",
      "대구  지역 널 갯수는 : 12 \n",
      "\n",
      "광주  지역 널 갯수는 : 51 \n",
      "\n",
      "대전  지역 널 갯수는 : 81 \n",
      "\n",
      "울산  지역 널 갯수는 : 115 \n",
      "\n",
      "세종  지역 널 갯수는 : 53 \n",
      "\n",
      "강원  지역 널 갯수는 : 16 \n",
      "\n",
      "충북  지역 널 갯수는 : 6 \n",
      "\n",
      "충남  지역 널 갯수는 : 22 \n",
      "\n",
      "전북  지역 널 갯수는 : 6 \n",
      "\n",
      "전남  지역 널 갯수는 : 10 \n",
      "\n",
      "경북  지역 널 갯수는 : 25 \n",
      "\n",
      "경남  지역 널 갯수는 : 13 \n",
      "\n",
      "제주  지역 널 갯수는 : 58 \n",
      "\n"
     ]
    }
   ],
   "source": [
    "for i in korea:\n",
    "    j = df_house[df_house['지역명'] == i].copy()\n",
    "    print(i,' 지역 널 갯수는 :', end=' ')\n",
    "    print(j['평당분양가격'].isnull().sum(),'\\n')"
   ]
  },
  {
   "cell_type": "markdown",
   "id": "88190ccf",
   "metadata": {},
   "source": [
    "#### 위에서 지역별로 평당분양가격 데이터가 252개인거 확인가능 그래서 널값이 252의 약10% 20개 이하인 지역만 가져와서 전처리 할예정 집값의 기준을 마음대로 설정할수 없어 널값 최대한 줄이기 위함"
   ]
  },
  {
   "cell_type": "code",
   "execution_count": 25,
   "id": "ddcff1b0",
   "metadata": {},
   "outputs": [
    {
     "name": "stdout",
     "output_type": "stream",
     "text": [
      "서울  지역 널 갯수는 : 4 \n",
      "\n",
      "인천  지역 널 갯수는 : 8 \n",
      "\n",
      "경기  지역 널 갯수는 : 4 \n",
      "\n",
      "부산  지역 널 갯수는 : 4 \n",
      "\n",
      "대구  지역 널 갯수는 : 12 \n",
      "\n",
      "강원  지역 널 갯수는 : 16 \n",
      "\n",
      "충북  지역 널 갯수는 : 6 \n",
      "\n",
      "전북  지역 널 갯수는 : 6 \n",
      "\n",
      "전남  지역 널 갯수는 : 10 \n",
      "\n",
      "경남  지역 널 갯수는 : 13 \n",
      "\n"
     ]
    }
   ],
   "source": [
    "for i in korea:\n",
    "    j = df_house[df_house['지역명'] == i].copy()\n",
    "    if j['평당분양가격'].isnull().sum() <= 20:\n",
    "        print(i,' 지역 널 갯수는 :', end=' ')\n",
    "        print(j['평당분양가격'].isnull().sum(),'\\n')"
   ]
  },
  {
   "cell_type": "code",
   "execution_count": 26,
   "id": "6ff91c85",
   "metadata": {},
   "outputs": [],
   "source": [
    "df_house_dosi = df_house.loc[(df_house['지역명'] == '서울') | (df_house['지역명'] == '인천') |\n",
    "                             (df_house['지역명'] == '경기') | (df_house['지역명'] == '부산') |\n",
    "                             (df_house['지역명'] == '대구') | (df_house['지역명'] == '강원') |\n",
    "                             (df_house['지역명'] == '충북') | (df_house['지역명'] == '전북') |\n",
    "                             (df_house['지역명'] == '전남') | (df_house['지역명'] == '경남') ].copy()"
   ]
  },
  {
   "cell_type": "code",
   "execution_count": 27,
   "id": "b3be8284",
   "metadata": {},
   "outputs": [
    {
     "data": {
      "text/plain": [
       "지역명        0\n",
       "연도         0\n",
       "월          0\n",
       "평당분양가격    83\n",
       "전용면적       0\n",
       "dtype: int64"
      ]
     },
     "execution_count": 27,
     "metadata": {},
     "output_type": "execute_result"
    }
   ],
   "source": [
    "df_house_dosi.isnull().sum()"
   ]
  },
  {
   "cell_type": "code",
   "execution_count": 28,
   "id": "0579f08d",
   "metadata": {},
   "outputs": [
    {
     "data": {
      "text/plain": [
       "Int64Index([ 256,  257,  258,  259,  261,  262,  263,  264,  266,  267,\n",
       "            ...\n",
       "            5588, 5589, 5591, 5592, 5593, 5594, 5601, 5602, 5603, 5604],\n",
       "           dtype='int64', length=2520)"
      ]
     },
     "execution_count": 28,
     "metadata": {},
     "output_type": "execute_result"
    }
   ],
   "source": [
    "df_house_dosi.index"
   ]
  },
  {
   "cell_type": "code",
   "execution_count": 29,
   "id": "7902f446",
   "metadata": {},
   "outputs": [
    {
     "data": {
      "text/html": [
       "<div>\n",
       "<style scoped>\n",
       "    .dataframe tbody tr th:only-of-type {\n",
       "        vertical-align: middle;\n",
       "    }\n",
       "\n",
       "    .dataframe tbody tr th {\n",
       "        vertical-align: top;\n",
       "    }\n",
       "\n",
       "    .dataframe thead th {\n",
       "        text-align: right;\n",
       "    }\n",
       "</style>\n",
       "<table border=\"1\" class=\"dataframe\">\n",
       "  <thead>\n",
       "    <tr style=\"text-align: right;\">\n",
       "      <th></th>\n",
       "      <th>지역명</th>\n",
       "      <th>연도</th>\n",
       "      <th>월</th>\n",
       "      <th>평당분양가격</th>\n",
       "      <th>전용면적</th>\n",
       "    </tr>\n",
       "  </thead>\n",
       "  <tbody>\n",
       "    <tr>\n",
       "      <th>256</th>\n",
       "      <td>서울</td>\n",
       "      <td>2016</td>\n",
       "      <td>1</td>\n",
       "      <td>21209.1</td>\n",
       "      <td>60㎡</td>\n",
       "    </tr>\n",
       "    <tr>\n",
       "      <th>257</th>\n",
       "      <td>서울</td>\n",
       "      <td>2016</td>\n",
       "      <td>1</td>\n",
       "      <td>19918.8</td>\n",
       "      <td>60㎡~85㎡</td>\n",
       "    </tr>\n",
       "    <tr>\n",
       "      <th>258</th>\n",
       "      <td>서울</td>\n",
       "      <td>2016</td>\n",
       "      <td>1</td>\n",
       "      <td>21492.9</td>\n",
       "      <td>85㎡~102㎡</td>\n",
       "    </tr>\n",
       "    <tr>\n",
       "      <th>259</th>\n",
       "      <td>서울</td>\n",
       "      <td>2016</td>\n",
       "      <td>1</td>\n",
       "      <td>21618.3</td>\n",
       "      <td>102㎡~</td>\n",
       "    </tr>\n",
       "    <tr>\n",
       "      <th>261</th>\n",
       "      <td>인천</td>\n",
       "      <td>2016</td>\n",
       "      <td>1</td>\n",
       "      <td>10982.4</td>\n",
       "      <td>60㎡</td>\n",
       "    </tr>\n",
       "  </tbody>\n",
       "</table>\n",
       "</div>"
      ],
      "text/plain": [
       "    지역명    연도  월   평당분양가격      전용면적\n",
       "256  서울  2016  1  21209.1       60㎡\n",
       "257  서울  2016  1  19918.8   60㎡~85㎡\n",
       "258  서울  2016  1  21492.9  85㎡~102㎡\n",
       "259  서울  2016  1  21618.3     102㎡~\n",
       "261  인천  2016  1  10982.4       60㎡"
      ]
     },
     "execution_count": 29,
     "metadata": {},
     "output_type": "execute_result"
    }
   ],
   "source": [
    "df_house_dosi.head()"
   ]
  },
  {
   "cell_type": "markdown",
   "id": "f6c03c4d",
   "metadata": {},
   "source": [
    "#### 지역별로 나누어서 평당분양가격 전처리 할 예정"
   ]
  },
  {
   "cell_type": "markdown",
   "id": "ca3ec65d",
   "metadata": {},
   "source": [
    "#### null값 처리 해주기 위한 함수 2016년2월 까지 널값이 없는경우 이 함수 쓰면 널값 전처리 해주게 만듦\n",
    "#### 만약에 3월의 85m의 평당분양가격이 없다면 \n",
    "#### 3월 85m = 2월 85m + (2월 85m - 1월 85m)\n",
    "#### 이렇게 판단한 이유는 전월 상승률이 이번월 상승률이랑 비슷할거라 판단하여 전처리"
   ]
  },
  {
   "cell_type": "code",
   "execution_count": 30,
   "id": "719516fe",
   "metadata": {},
   "outputs": [],
   "source": [
    "def dosi_house_price(house):\n",
    "    for i in house[house['평당분양가격'].isnull()].index:\n",
    "        house['평당분양가격'][i] = house['평당분양가격'][i-4].copy() + (house['평당분양가격'][i-4].copy() - house['평당분양가격'][i-8].copy())\n",
    "    return house"
   ]
  },
  {
   "cell_type": "markdown",
   "id": "c23e1d13",
   "metadata": {},
   "source": [
    "#### 서울"
   ]
  },
  {
   "cell_type": "code",
   "execution_count": 31,
   "id": "c997cae2",
   "metadata": {},
   "outputs": [
    {
     "data": {
      "text/html": [
       "<div>\n",
       "<style scoped>\n",
       "    .dataframe tbody tr th:only-of-type {\n",
       "        vertical-align: middle;\n",
       "    }\n",
       "\n",
       "    .dataframe tbody tr th {\n",
       "        vertical-align: top;\n",
       "    }\n",
       "\n",
       "    .dataframe thead th {\n",
       "        text-align: right;\n",
       "    }\n",
       "</style>\n",
       "<table border=\"1\" class=\"dataframe\">\n",
       "  <thead>\n",
       "    <tr style=\"text-align: right;\">\n",
       "      <th></th>\n",
       "      <th>지역명</th>\n",
       "      <th>연도</th>\n",
       "      <th>월</th>\n",
       "      <th>평당분양가격</th>\n",
       "      <th>전용면적</th>\n",
       "    </tr>\n",
       "  </thead>\n",
       "  <tbody>\n",
       "    <tr>\n",
       "      <th>256</th>\n",
       "      <td>서울</td>\n",
       "      <td>2016</td>\n",
       "      <td>1</td>\n",
       "      <td>21209.1</td>\n",
       "      <td>60㎡</td>\n",
       "    </tr>\n",
       "    <tr>\n",
       "      <th>257</th>\n",
       "      <td>서울</td>\n",
       "      <td>2016</td>\n",
       "      <td>1</td>\n",
       "      <td>19918.8</td>\n",
       "      <td>60㎡~85㎡</td>\n",
       "    </tr>\n",
       "    <tr>\n",
       "      <th>258</th>\n",
       "      <td>서울</td>\n",
       "      <td>2016</td>\n",
       "      <td>1</td>\n",
       "      <td>21492.9</td>\n",
       "      <td>85㎡~102㎡</td>\n",
       "    </tr>\n",
       "    <tr>\n",
       "      <th>259</th>\n",
       "      <td>서울</td>\n",
       "      <td>2016</td>\n",
       "      <td>1</td>\n",
       "      <td>21618.3</td>\n",
       "      <td>102㎡~</td>\n",
       "    </tr>\n",
       "    <tr>\n",
       "      <th>341</th>\n",
       "      <td>서울</td>\n",
       "      <td>2016</td>\n",
       "      <td>2</td>\n",
       "      <td>21245.4</td>\n",
       "      <td>60㎡</td>\n",
       "    </tr>\n",
       "  </tbody>\n",
       "</table>\n",
       "</div>"
      ],
      "text/plain": [
       "    지역명    연도  월   평당분양가격      전용면적\n",
       "256  서울  2016  1  21209.1       60㎡\n",
       "257  서울  2016  1  19918.8   60㎡~85㎡\n",
       "258  서울  2016  1  21492.9  85㎡~102㎡\n",
       "259  서울  2016  1  21618.3     102㎡~\n",
       "341  서울  2016  2  21245.4       60㎡"
      ]
     },
     "execution_count": 31,
     "metadata": {},
     "output_type": "execute_result"
    }
   ],
   "source": [
    "df_house_seoul = df_house_dosi[df_house_dosi['지역명'] == '서울'].copy()\n",
    "df_house_seoul.head()"
   ]
  },
  {
   "cell_type": "code",
   "execution_count": 32,
   "id": "604497aa",
   "metadata": {},
   "outputs": [
    {
     "data": {
      "text/html": [
       "<div>\n",
       "<style scoped>\n",
       "    .dataframe tbody tr th:only-of-type {\n",
       "        vertical-align: middle;\n",
       "    }\n",
       "\n",
       "    .dataframe tbody tr th {\n",
       "        vertical-align: top;\n",
       "    }\n",
       "\n",
       "    .dataframe thead th {\n",
       "        text-align: right;\n",
       "    }\n",
       "</style>\n",
       "<table border=\"1\" class=\"dataframe\">\n",
       "  <thead>\n",
       "    <tr style=\"text-align: right;\">\n",
       "      <th></th>\n",
       "      <th>index</th>\n",
       "      <th>지역명</th>\n",
       "      <th>연도</th>\n",
       "      <th>월</th>\n",
       "      <th>평당분양가격</th>\n",
       "      <th>전용면적</th>\n",
       "    </tr>\n",
       "  </thead>\n",
       "  <tbody>\n",
       "    <tr>\n",
       "      <th>0</th>\n",
       "      <td>256</td>\n",
       "      <td>서울</td>\n",
       "      <td>2016</td>\n",
       "      <td>1</td>\n",
       "      <td>21209.1</td>\n",
       "      <td>60㎡</td>\n",
       "    </tr>\n",
       "    <tr>\n",
       "      <th>1</th>\n",
       "      <td>257</td>\n",
       "      <td>서울</td>\n",
       "      <td>2016</td>\n",
       "      <td>1</td>\n",
       "      <td>19918.8</td>\n",
       "      <td>60㎡~85㎡</td>\n",
       "    </tr>\n",
       "    <tr>\n",
       "      <th>2</th>\n",
       "      <td>258</td>\n",
       "      <td>서울</td>\n",
       "      <td>2016</td>\n",
       "      <td>1</td>\n",
       "      <td>21492.9</td>\n",
       "      <td>85㎡~102㎡</td>\n",
       "    </tr>\n",
       "    <tr>\n",
       "      <th>3</th>\n",
       "      <td>259</td>\n",
       "      <td>서울</td>\n",
       "      <td>2016</td>\n",
       "      <td>1</td>\n",
       "      <td>21618.3</td>\n",
       "      <td>102㎡~</td>\n",
       "    </tr>\n",
       "    <tr>\n",
       "      <th>4</th>\n",
       "      <td>341</td>\n",
       "      <td>서울</td>\n",
       "      <td>2016</td>\n",
       "      <td>2</td>\n",
       "      <td>21245.4</td>\n",
       "      <td>60㎡</td>\n",
       "    </tr>\n",
       "    <tr>\n",
       "      <th>...</th>\n",
       "      <td>...</td>\n",
       "      <td>...</td>\n",
       "      <td>...</td>\n",
       "      <td>...</td>\n",
       "      <td>...</td>\n",
       "      <td>...</td>\n",
       "    </tr>\n",
       "    <tr>\n",
       "      <th>247</th>\n",
       "      <td>5444</td>\n",
       "      <td>서울</td>\n",
       "      <td>2021</td>\n",
       "      <td>2</td>\n",
       "      <td>31287.3</td>\n",
       "      <td>102㎡~</td>\n",
       "    </tr>\n",
       "    <tr>\n",
       "      <th>248</th>\n",
       "      <td>5526</td>\n",
       "      <td>서울</td>\n",
       "      <td>2021</td>\n",
       "      <td>3</td>\n",
       "      <td>28637.4</td>\n",
       "      <td>60㎡</td>\n",
       "    </tr>\n",
       "    <tr>\n",
       "      <th>249</th>\n",
       "      <td>5527</td>\n",
       "      <td>서울</td>\n",
       "      <td>2021</td>\n",
       "      <td>3</td>\n",
       "      <td>25964.4</td>\n",
       "      <td>60㎡~85㎡</td>\n",
       "    </tr>\n",
       "    <tr>\n",
       "      <th>250</th>\n",
       "      <td>5528</td>\n",
       "      <td>서울</td>\n",
       "      <td>2021</td>\n",
       "      <td>3</td>\n",
       "      <td>29508.6</td>\n",
       "      <td>85㎡~102㎡</td>\n",
       "    </tr>\n",
       "    <tr>\n",
       "      <th>251</th>\n",
       "      <td>5529</td>\n",
       "      <td>서울</td>\n",
       "      <td>2021</td>\n",
       "      <td>3</td>\n",
       "      <td>31287.3</td>\n",
       "      <td>102㎡~</td>\n",
       "    </tr>\n",
       "  </tbody>\n",
       "</table>\n",
       "<p>252 rows × 6 columns</p>\n",
       "</div>"
      ],
      "text/plain": [
       "     index 지역명    연도  월   평당분양가격      전용면적\n",
       "0      256  서울  2016  1  21209.1       60㎡\n",
       "1      257  서울  2016  1  19918.8   60㎡~85㎡\n",
       "2      258  서울  2016  1  21492.9  85㎡~102㎡\n",
       "3      259  서울  2016  1  21618.3     102㎡~\n",
       "4      341  서울  2016  2  21245.4       60㎡\n",
       "..     ...  ..   ... ..      ...       ...\n",
       "247   5444  서울  2021  2  31287.3     102㎡~\n",
       "248   5526  서울  2021  3  28637.4       60㎡\n",
       "249   5527  서울  2021  3  25964.4   60㎡~85㎡\n",
       "250   5528  서울  2021  3  29508.6  85㎡~102㎡\n",
       "251   5529  서울  2021  3  31287.3     102㎡~\n",
       "\n",
       "[252 rows x 6 columns]"
      ]
     },
     "execution_count": 32,
     "metadata": {},
     "output_type": "execute_result"
    }
   ],
   "source": [
    "df_house_seoul = df_house_seoul.reset_index()\n",
    "df_house_seoul"
   ]
  },
  {
   "cell_type": "code",
   "execution_count": 33,
   "id": "7bb67647",
   "metadata": {},
   "outputs": [
    {
     "data": {
      "text/html": [
       "<div>\n",
       "<style scoped>\n",
       "    .dataframe tbody tr th:only-of-type {\n",
       "        vertical-align: middle;\n",
       "    }\n",
       "\n",
       "    .dataframe tbody tr th {\n",
       "        vertical-align: top;\n",
       "    }\n",
       "\n",
       "    .dataframe thead th {\n",
       "        text-align: right;\n",
       "    }\n",
       "</style>\n",
       "<table border=\"1\" class=\"dataframe\">\n",
       "  <thead>\n",
       "    <tr style=\"text-align: right;\">\n",
       "      <th></th>\n",
       "      <th>level_0</th>\n",
       "      <th>index</th>\n",
       "      <th>지역명</th>\n",
       "      <th>연도</th>\n",
       "      <th>월</th>\n",
       "      <th>평당분양가격</th>\n",
       "      <th>전용면적</th>\n",
       "    </tr>\n",
       "  </thead>\n",
       "  <tbody>\n",
       "    <tr>\n",
       "      <th>0</th>\n",
       "      <td>0</td>\n",
       "      <td>256</td>\n",
       "      <td>서울</td>\n",
       "      <td>2016</td>\n",
       "      <td>1</td>\n",
       "      <td>21209.1</td>\n",
       "      <td>60㎡</td>\n",
       "    </tr>\n",
       "    <tr>\n",
       "      <th>1</th>\n",
       "      <td>1</td>\n",
       "      <td>257</td>\n",
       "      <td>서울</td>\n",
       "      <td>2016</td>\n",
       "      <td>1</td>\n",
       "      <td>19918.8</td>\n",
       "      <td>60㎡~85㎡</td>\n",
       "    </tr>\n",
       "    <tr>\n",
       "      <th>2</th>\n",
       "      <td>2</td>\n",
       "      <td>258</td>\n",
       "      <td>서울</td>\n",
       "      <td>2016</td>\n",
       "      <td>1</td>\n",
       "      <td>21492.9</td>\n",
       "      <td>85㎡~102㎡</td>\n",
       "    </tr>\n",
       "    <tr>\n",
       "      <th>3</th>\n",
       "      <td>3</td>\n",
       "      <td>259</td>\n",
       "      <td>서울</td>\n",
       "      <td>2016</td>\n",
       "      <td>1</td>\n",
       "      <td>21618.3</td>\n",
       "      <td>102㎡~</td>\n",
       "    </tr>\n",
       "    <tr>\n",
       "      <th>4</th>\n",
       "      <td>4</td>\n",
       "      <td>341</td>\n",
       "      <td>서울</td>\n",
       "      <td>2016</td>\n",
       "      <td>2</td>\n",
       "      <td>21245.4</td>\n",
       "      <td>60㎡</td>\n",
       "    </tr>\n",
       "    <tr>\n",
       "      <th>...</th>\n",
       "      <td>...</td>\n",
       "      <td>...</td>\n",
       "      <td>...</td>\n",
       "      <td>...</td>\n",
       "      <td>...</td>\n",
       "      <td>...</td>\n",
       "      <td>...</td>\n",
       "    </tr>\n",
       "    <tr>\n",
       "      <th>247</th>\n",
       "      <td>247</td>\n",
       "      <td>5444</td>\n",
       "      <td>서울</td>\n",
       "      <td>2021</td>\n",
       "      <td>2</td>\n",
       "      <td>31287.3</td>\n",
       "      <td>102㎡~</td>\n",
       "    </tr>\n",
       "    <tr>\n",
       "      <th>248</th>\n",
       "      <td>248</td>\n",
       "      <td>5526</td>\n",
       "      <td>서울</td>\n",
       "      <td>2021</td>\n",
       "      <td>3</td>\n",
       "      <td>28637.4</td>\n",
       "      <td>60㎡</td>\n",
       "    </tr>\n",
       "    <tr>\n",
       "      <th>249</th>\n",
       "      <td>249</td>\n",
       "      <td>5527</td>\n",
       "      <td>서울</td>\n",
       "      <td>2021</td>\n",
       "      <td>3</td>\n",
       "      <td>25964.4</td>\n",
       "      <td>60㎡~85㎡</td>\n",
       "    </tr>\n",
       "    <tr>\n",
       "      <th>250</th>\n",
       "      <td>250</td>\n",
       "      <td>5528</td>\n",
       "      <td>서울</td>\n",
       "      <td>2021</td>\n",
       "      <td>3</td>\n",
       "      <td>29508.6</td>\n",
       "      <td>85㎡~102㎡</td>\n",
       "    </tr>\n",
       "    <tr>\n",
       "      <th>251</th>\n",
       "      <td>251</td>\n",
       "      <td>5529</td>\n",
       "      <td>서울</td>\n",
       "      <td>2021</td>\n",
       "      <td>3</td>\n",
       "      <td>31287.3</td>\n",
       "      <td>102㎡~</td>\n",
       "    </tr>\n",
       "  </tbody>\n",
       "</table>\n",
       "<p>252 rows × 7 columns</p>\n",
       "</div>"
      ],
      "text/plain": [
       "     level_0  index 지역명    연도  월   평당분양가격      전용면적\n",
       "0          0    256  서울  2016  1  21209.1       60㎡\n",
       "1          1    257  서울  2016  1  19918.8   60㎡~85㎡\n",
       "2          2    258  서울  2016  1  21492.9  85㎡~102㎡\n",
       "3          3    259  서울  2016  1  21618.3     102㎡~\n",
       "4          4    341  서울  2016  2  21245.4       60㎡\n",
       "..       ...    ...  ..   ... ..      ...       ...\n",
       "247      247   5444  서울  2021  2  31287.3     102㎡~\n",
       "248      248   5526  서울  2021  3  28637.4       60㎡\n",
       "249      249   5527  서울  2021  3  25964.4   60㎡~85㎡\n",
       "250      250   5528  서울  2021  3  29508.6  85㎡~102㎡\n",
       "251      251   5529  서울  2021  3  31287.3     102㎡~\n",
       "\n",
       "[252 rows x 7 columns]"
      ]
     },
     "execution_count": 33,
     "metadata": {},
     "output_type": "execute_result"
    }
   ],
   "source": [
    "df_house_seoul = df_house_seoul.reset_index()\n",
    "df_house_seoul"
   ]
  },
  {
   "cell_type": "code",
   "execution_count": 34,
   "id": "5b6b4944",
   "metadata": {},
   "outputs": [],
   "source": [
    "df_house_seoul = df_house_seoul.drop('index',axis = 1).copy()"
   ]
  },
  {
   "cell_type": "code",
   "execution_count": 35,
   "id": "b595d610",
   "metadata": {},
   "outputs": [],
   "source": [
    "df_house_seoul.rename(columns = {'level_0' : 'index'}, inplace = True)"
   ]
  },
  {
   "cell_type": "code",
   "execution_count": 36,
   "id": "a2c62f6d",
   "metadata": {},
   "outputs": [
    {
     "data": {
      "text/html": [
       "<div>\n",
       "<style scoped>\n",
       "    .dataframe tbody tr th:only-of-type {\n",
       "        vertical-align: middle;\n",
       "    }\n",
       "\n",
       "    .dataframe tbody tr th {\n",
       "        vertical-align: top;\n",
       "    }\n",
       "\n",
       "    .dataframe thead th {\n",
       "        text-align: right;\n",
       "    }\n",
       "</style>\n",
       "<table border=\"1\" class=\"dataframe\">\n",
       "  <thead>\n",
       "    <tr style=\"text-align: right;\">\n",
       "      <th></th>\n",
       "      <th>index</th>\n",
       "      <th>지역명</th>\n",
       "      <th>연도</th>\n",
       "      <th>월</th>\n",
       "      <th>평당분양가격</th>\n",
       "      <th>전용면적</th>\n",
       "    </tr>\n",
       "  </thead>\n",
       "  <tbody>\n",
       "    <tr>\n",
       "      <th>0</th>\n",
       "      <td>0</td>\n",
       "      <td>서울</td>\n",
       "      <td>2016</td>\n",
       "      <td>1</td>\n",
       "      <td>21209.1</td>\n",
       "      <td>60㎡</td>\n",
       "    </tr>\n",
       "    <tr>\n",
       "      <th>1</th>\n",
       "      <td>1</td>\n",
       "      <td>서울</td>\n",
       "      <td>2016</td>\n",
       "      <td>1</td>\n",
       "      <td>19918.8</td>\n",
       "      <td>60㎡~85㎡</td>\n",
       "    </tr>\n",
       "    <tr>\n",
       "      <th>2</th>\n",
       "      <td>2</td>\n",
       "      <td>서울</td>\n",
       "      <td>2016</td>\n",
       "      <td>1</td>\n",
       "      <td>21492.9</td>\n",
       "      <td>85㎡~102㎡</td>\n",
       "    </tr>\n",
       "    <tr>\n",
       "      <th>3</th>\n",
       "      <td>3</td>\n",
       "      <td>서울</td>\n",
       "      <td>2016</td>\n",
       "      <td>1</td>\n",
       "      <td>21618.3</td>\n",
       "      <td>102㎡~</td>\n",
       "    </tr>\n",
       "    <tr>\n",
       "      <th>4</th>\n",
       "      <td>4</td>\n",
       "      <td>서울</td>\n",
       "      <td>2016</td>\n",
       "      <td>2</td>\n",
       "      <td>21245.4</td>\n",
       "      <td>60㎡</td>\n",
       "    </tr>\n",
       "    <tr>\n",
       "      <th>...</th>\n",
       "      <td>...</td>\n",
       "      <td>...</td>\n",
       "      <td>...</td>\n",
       "      <td>...</td>\n",
       "      <td>...</td>\n",
       "      <td>...</td>\n",
       "    </tr>\n",
       "    <tr>\n",
       "      <th>247</th>\n",
       "      <td>247</td>\n",
       "      <td>서울</td>\n",
       "      <td>2021</td>\n",
       "      <td>2</td>\n",
       "      <td>31287.3</td>\n",
       "      <td>102㎡~</td>\n",
       "    </tr>\n",
       "    <tr>\n",
       "      <th>248</th>\n",
       "      <td>248</td>\n",
       "      <td>서울</td>\n",
       "      <td>2021</td>\n",
       "      <td>3</td>\n",
       "      <td>28637.4</td>\n",
       "      <td>60㎡</td>\n",
       "    </tr>\n",
       "    <tr>\n",
       "      <th>249</th>\n",
       "      <td>249</td>\n",
       "      <td>서울</td>\n",
       "      <td>2021</td>\n",
       "      <td>3</td>\n",
       "      <td>25964.4</td>\n",
       "      <td>60㎡~85㎡</td>\n",
       "    </tr>\n",
       "    <tr>\n",
       "      <th>250</th>\n",
       "      <td>250</td>\n",
       "      <td>서울</td>\n",
       "      <td>2021</td>\n",
       "      <td>3</td>\n",
       "      <td>29508.6</td>\n",
       "      <td>85㎡~102㎡</td>\n",
       "    </tr>\n",
       "    <tr>\n",
       "      <th>251</th>\n",
       "      <td>251</td>\n",
       "      <td>서울</td>\n",
       "      <td>2021</td>\n",
       "      <td>3</td>\n",
       "      <td>31287.3</td>\n",
       "      <td>102㎡~</td>\n",
       "    </tr>\n",
       "  </tbody>\n",
       "</table>\n",
       "<p>252 rows × 6 columns</p>\n",
       "</div>"
      ],
      "text/plain": [
       "     index 지역명    연도  월   평당분양가격      전용면적\n",
       "0        0  서울  2016  1  21209.1       60㎡\n",
       "1        1  서울  2016  1  19918.8   60㎡~85㎡\n",
       "2        2  서울  2016  1  21492.9  85㎡~102㎡\n",
       "3        3  서울  2016  1  21618.3     102㎡~\n",
       "4        4  서울  2016  2  21245.4       60㎡\n",
       "..     ...  ..   ... ..      ...       ...\n",
       "247    247  서울  2021  2  31287.3     102㎡~\n",
       "248    248  서울  2021  3  28637.4       60㎡\n",
       "249    249  서울  2021  3  25964.4   60㎡~85㎡\n",
       "250    250  서울  2021  3  29508.6  85㎡~102㎡\n",
       "251    251  서울  2021  3  31287.3     102㎡~\n",
       "\n",
       "[252 rows x 6 columns]"
      ]
     },
     "execution_count": 36,
     "metadata": {},
     "output_type": "execute_result"
    }
   ],
   "source": [
    "df_house_seoul"
   ]
  },
  {
   "cell_type": "code",
   "execution_count": 37,
   "id": "4ab6ff5a",
   "metadata": {},
   "outputs": [
    {
     "data": {
      "text/html": [
       "<div>\n",
       "<style scoped>\n",
       "    .dataframe tbody tr th:only-of-type {\n",
       "        vertical-align: middle;\n",
       "    }\n",
       "\n",
       "    .dataframe tbody tr th {\n",
       "        vertical-align: top;\n",
       "    }\n",
       "\n",
       "    .dataframe thead th {\n",
       "        text-align: right;\n",
       "    }\n",
       "</style>\n",
       "<table border=\"1\" class=\"dataframe\">\n",
       "  <thead>\n",
       "    <tr style=\"text-align: right;\">\n",
       "      <th></th>\n",
       "      <th>index</th>\n",
       "      <th>지역명</th>\n",
       "      <th>연도</th>\n",
       "      <th>월</th>\n",
       "      <th>평당분양가격</th>\n",
       "      <th>전용면적</th>\n",
       "    </tr>\n",
       "  </thead>\n",
       "  <tbody>\n",
       "    <tr>\n",
       "      <th>88</th>\n",
       "      <td>88</td>\n",
       "      <td>서울</td>\n",
       "      <td>2017</td>\n",
       "      <td>11</td>\n",
       "      <td>NaN</td>\n",
       "      <td>60㎡</td>\n",
       "    </tr>\n",
       "    <tr>\n",
       "      <th>89</th>\n",
       "      <td>89</td>\n",
       "      <td>서울</td>\n",
       "      <td>2017</td>\n",
       "      <td>11</td>\n",
       "      <td>NaN</td>\n",
       "      <td>60㎡~85㎡</td>\n",
       "    </tr>\n",
       "    <tr>\n",
       "      <th>90</th>\n",
       "      <td>90</td>\n",
       "      <td>서울</td>\n",
       "      <td>2017</td>\n",
       "      <td>11</td>\n",
       "      <td>NaN</td>\n",
       "      <td>85㎡~102㎡</td>\n",
       "    </tr>\n",
       "    <tr>\n",
       "      <th>91</th>\n",
       "      <td>91</td>\n",
       "      <td>서울</td>\n",
       "      <td>2017</td>\n",
       "      <td>11</td>\n",
       "      <td>NaN</td>\n",
       "      <td>102㎡~</td>\n",
       "    </tr>\n",
       "  </tbody>\n",
       "</table>\n",
       "</div>"
      ],
      "text/plain": [
       "    index 지역명    연도   월  평당분양가격      전용면적\n",
       "88     88  서울  2017  11     NaN       60㎡\n",
       "89     89  서울  2017  11     NaN   60㎡~85㎡\n",
       "90     90  서울  2017  11     NaN  85㎡~102㎡\n",
       "91     91  서울  2017  11     NaN     102㎡~"
      ]
     },
     "execution_count": 37,
     "metadata": {},
     "output_type": "execute_result"
    }
   ],
   "source": [
    "df_house_seoul[df_house_seoul['평당분양가격'].isnull()]"
   ]
  },
  {
   "cell_type": "code",
   "execution_count": 38,
   "id": "7abd5c05",
   "metadata": {},
   "outputs": [
    {
     "data": {
      "text/html": [
       "<div>\n",
       "<style scoped>\n",
       "    .dataframe tbody tr th:only-of-type {\n",
       "        vertical-align: middle;\n",
       "    }\n",
       "\n",
       "    .dataframe tbody tr th {\n",
       "        vertical-align: top;\n",
       "    }\n",
       "\n",
       "    .dataframe thead th {\n",
       "        text-align: right;\n",
       "    }\n",
       "</style>\n",
       "<table border=\"1\" class=\"dataframe\">\n",
       "  <thead>\n",
       "    <tr style=\"text-align: right;\">\n",
       "      <th></th>\n",
       "      <th>index</th>\n",
       "      <th>지역명</th>\n",
       "      <th>연도</th>\n",
       "      <th>월</th>\n",
       "      <th>평당분양가격</th>\n",
       "      <th>전용면적</th>\n",
       "    </tr>\n",
       "  </thead>\n",
       "  <tbody>\n",
       "    <tr>\n",
       "      <th>0</th>\n",
       "      <td>0</td>\n",
       "      <td>서울</td>\n",
       "      <td>2016</td>\n",
       "      <td>1</td>\n",
       "      <td>21209.1</td>\n",
       "      <td>60㎡</td>\n",
       "    </tr>\n",
       "  </tbody>\n",
       "</table>\n",
       "</div>"
      ],
      "text/plain": [
       "   index 지역명    연도  월   평당분양가격 전용면적\n",
       "0      0  서울  2016  1  21209.1  60㎡"
      ]
     },
     "execution_count": 38,
     "metadata": {},
     "output_type": "execute_result"
    }
   ],
   "source": [
    "# df_house_seoul[df_house_seoul['index'] == 0]['평당분양가격']\n",
    "df_house_seoul[df_house_seoul['index'] == 0]"
   ]
  },
  {
   "cell_type": "code",
   "execution_count": 39,
   "id": "35217904",
   "metadata": {},
   "outputs": [
    {
     "data": {
      "text/plain": [
       "-36.29999999999927"
      ]
     },
     "execution_count": 39,
     "metadata": {},
     "output_type": "execute_result"
    }
   ],
   "source": [
    "df_house_seoul['평당분양가격'][0] - df_house_seoul['평당분양가격'][4]"
   ]
  },
  {
   "cell_type": "markdown",
   "id": "379e0575",
   "metadata": {},
   "source": [
    "#### 앞의 함수 이용 널값이 2017년 자료 밖에 없기 때문\n",
    "#### 만약에 3월의 85m의 평당분양가격이 없다면 \n",
    "#### 3월 85m = 2월 85m + (2월 85m - 1월 85m)\n",
    "#### 이렇게 판단한 이유는 전월 상승률이 이번월 상승률이랑 비슷할거라 판단하여 전처리"
   ]
  },
  {
   "cell_type": "code",
   "execution_count": 40,
   "id": "7e6776be",
   "metadata": {},
   "outputs": [
    {
     "name": "stderr",
     "output_type": "stream",
     "text": [
      "<ipython-input-30-ed40758aee8e>:3: SettingWithCopyWarning: \n",
      "A value is trying to be set on a copy of a slice from a DataFrame\n",
      "\n",
      "See the caveats in the documentation: https://pandas.pydata.org/pandas-docs/stable/user_guide/indexing.html#returning-a-view-versus-a-copy\n",
      "  house['평당분양가격'][i] = house['평당분양가격'][i-4].copy() + (house['평당분양가격'][i-4].copy() - house['평당분양가격'][i-8].copy())\n"
     ]
    },
    {
     "data": {
      "text/html": [
       "<div>\n",
       "<style scoped>\n",
       "    .dataframe tbody tr th:only-of-type {\n",
       "        vertical-align: middle;\n",
       "    }\n",
       "\n",
       "    .dataframe tbody tr th {\n",
       "        vertical-align: top;\n",
       "    }\n",
       "\n",
       "    .dataframe thead th {\n",
       "        text-align: right;\n",
       "    }\n",
       "</style>\n",
       "<table border=\"1\" class=\"dataframe\">\n",
       "  <thead>\n",
       "    <tr style=\"text-align: right;\">\n",
       "      <th></th>\n",
       "      <th>index</th>\n",
       "      <th>지역명</th>\n",
       "      <th>연도</th>\n",
       "      <th>월</th>\n",
       "      <th>평당분양가격</th>\n",
       "      <th>전용면적</th>\n",
       "    </tr>\n",
       "  </thead>\n",
       "  <tbody>\n",
       "    <tr>\n",
       "      <th>0</th>\n",
       "      <td>0</td>\n",
       "      <td>서울</td>\n",
       "      <td>2016</td>\n",
       "      <td>1</td>\n",
       "      <td>21209.1</td>\n",
       "      <td>60㎡</td>\n",
       "    </tr>\n",
       "    <tr>\n",
       "      <th>1</th>\n",
       "      <td>1</td>\n",
       "      <td>서울</td>\n",
       "      <td>2016</td>\n",
       "      <td>1</td>\n",
       "      <td>19918.8</td>\n",
       "      <td>60㎡~85㎡</td>\n",
       "    </tr>\n",
       "    <tr>\n",
       "      <th>2</th>\n",
       "      <td>2</td>\n",
       "      <td>서울</td>\n",
       "      <td>2016</td>\n",
       "      <td>1</td>\n",
       "      <td>21492.9</td>\n",
       "      <td>85㎡~102㎡</td>\n",
       "    </tr>\n",
       "    <tr>\n",
       "      <th>3</th>\n",
       "      <td>3</td>\n",
       "      <td>서울</td>\n",
       "      <td>2016</td>\n",
       "      <td>1</td>\n",
       "      <td>21618.3</td>\n",
       "      <td>102㎡~</td>\n",
       "    </tr>\n",
       "    <tr>\n",
       "      <th>4</th>\n",
       "      <td>4</td>\n",
       "      <td>서울</td>\n",
       "      <td>2016</td>\n",
       "      <td>2</td>\n",
       "      <td>21245.4</td>\n",
       "      <td>60㎡</td>\n",
       "    </tr>\n",
       "    <tr>\n",
       "      <th>...</th>\n",
       "      <td>...</td>\n",
       "      <td>...</td>\n",
       "      <td>...</td>\n",
       "      <td>...</td>\n",
       "      <td>...</td>\n",
       "      <td>...</td>\n",
       "    </tr>\n",
       "    <tr>\n",
       "      <th>247</th>\n",
       "      <td>247</td>\n",
       "      <td>서울</td>\n",
       "      <td>2021</td>\n",
       "      <td>2</td>\n",
       "      <td>31287.3</td>\n",
       "      <td>102㎡~</td>\n",
       "    </tr>\n",
       "    <tr>\n",
       "      <th>248</th>\n",
       "      <td>248</td>\n",
       "      <td>서울</td>\n",
       "      <td>2021</td>\n",
       "      <td>3</td>\n",
       "      <td>28637.4</td>\n",
       "      <td>60㎡</td>\n",
       "    </tr>\n",
       "    <tr>\n",
       "      <th>249</th>\n",
       "      <td>249</td>\n",
       "      <td>서울</td>\n",
       "      <td>2021</td>\n",
       "      <td>3</td>\n",
       "      <td>25964.4</td>\n",
       "      <td>60㎡~85㎡</td>\n",
       "    </tr>\n",
       "    <tr>\n",
       "      <th>250</th>\n",
       "      <td>250</td>\n",
       "      <td>서울</td>\n",
       "      <td>2021</td>\n",
       "      <td>3</td>\n",
       "      <td>29508.6</td>\n",
       "      <td>85㎡~102㎡</td>\n",
       "    </tr>\n",
       "    <tr>\n",
       "      <th>251</th>\n",
       "      <td>251</td>\n",
       "      <td>서울</td>\n",
       "      <td>2021</td>\n",
       "      <td>3</td>\n",
       "      <td>31287.3</td>\n",
       "      <td>102㎡~</td>\n",
       "    </tr>\n",
       "  </tbody>\n",
       "</table>\n",
       "<p>252 rows × 6 columns</p>\n",
       "</div>"
      ],
      "text/plain": [
       "     index 지역명    연도  월   평당분양가격      전용면적\n",
       "0        0  서울  2016  1  21209.1       60㎡\n",
       "1        1  서울  2016  1  19918.8   60㎡~85㎡\n",
       "2        2  서울  2016  1  21492.9  85㎡~102㎡\n",
       "3        3  서울  2016  1  21618.3     102㎡~\n",
       "4        4  서울  2016  2  21245.4       60㎡\n",
       "..     ...  ..   ... ..      ...       ...\n",
       "247    247  서울  2021  2  31287.3     102㎡~\n",
       "248    248  서울  2021  3  28637.4       60㎡\n",
       "249    249  서울  2021  3  25964.4   60㎡~85㎡\n",
       "250    250  서울  2021  3  29508.6  85㎡~102㎡\n",
       "251    251  서울  2021  3  31287.3     102㎡~\n",
       "\n",
       "[252 rows x 6 columns]"
      ]
     },
     "execution_count": 40,
     "metadata": {},
     "output_type": "execute_result"
    }
   ],
   "source": [
    "dosi_house_price(df_house_seoul)"
   ]
  },
  {
   "cell_type": "code",
   "execution_count": 41,
   "id": "2cb5de1e",
   "metadata": {},
   "outputs": [
    {
     "data": {
      "text/plain": [
       "index     0\n",
       "지역명       0\n",
       "연도        0\n",
       "월         0\n",
       "평당분양가격    0\n",
       "전용면적      0\n",
       "dtype: int64"
      ]
     },
     "execution_count": 41,
     "metadata": {},
     "output_type": "execute_result"
    }
   ],
   "source": [
    "df_house_seoul.isnull().sum()"
   ]
  },
  {
   "cell_type": "markdown",
   "id": "f3c669e8",
   "metadata": {},
   "source": [
    "#### 인천"
   ]
  },
  {
   "cell_type": "code",
   "execution_count": 42,
   "id": "aa1eea72",
   "metadata": {},
   "outputs": [
    {
     "data": {
      "text/html": [
       "<div>\n",
       "<style scoped>\n",
       "    .dataframe tbody tr th:only-of-type {\n",
       "        vertical-align: middle;\n",
       "    }\n",
       "\n",
       "    .dataframe tbody tr th {\n",
       "        vertical-align: top;\n",
       "    }\n",
       "\n",
       "    .dataframe thead th {\n",
       "        text-align: right;\n",
       "    }\n",
       "</style>\n",
       "<table border=\"1\" class=\"dataframe\">\n",
       "  <thead>\n",
       "    <tr style=\"text-align: right;\">\n",
       "      <th></th>\n",
       "      <th>지역명</th>\n",
       "      <th>연도</th>\n",
       "      <th>월</th>\n",
       "      <th>평당분양가격</th>\n",
       "      <th>전용면적</th>\n",
       "    </tr>\n",
       "  </thead>\n",
       "  <tbody>\n",
       "    <tr>\n",
       "      <th>261</th>\n",
       "      <td>인천</td>\n",
       "      <td>2016</td>\n",
       "      <td>1</td>\n",
       "      <td>10982.4</td>\n",
       "      <td>60㎡</td>\n",
       "    </tr>\n",
       "    <tr>\n",
       "      <th>262</th>\n",
       "      <td>인천</td>\n",
       "      <td>2016</td>\n",
       "      <td>1</td>\n",
       "      <td>10263.0</td>\n",
       "      <td>60㎡~85㎡</td>\n",
       "    </tr>\n",
       "    <tr>\n",
       "      <th>263</th>\n",
       "      <td>인천</td>\n",
       "      <td>2016</td>\n",
       "      <td>1</td>\n",
       "      <td>11698.5</td>\n",
       "      <td>85㎡~102㎡</td>\n",
       "    </tr>\n",
       "    <tr>\n",
       "      <th>264</th>\n",
       "      <td>인천</td>\n",
       "      <td>2016</td>\n",
       "      <td>1</td>\n",
       "      <td>11246.4</td>\n",
       "      <td>102㎡~</td>\n",
       "    </tr>\n",
       "    <tr>\n",
       "      <th>346</th>\n",
       "      <td>인천</td>\n",
       "      <td>2016</td>\n",
       "      <td>2</td>\n",
       "      <td>10982.4</td>\n",
       "      <td>60㎡</td>\n",
       "    </tr>\n",
       "  </tbody>\n",
       "</table>\n",
       "</div>"
      ],
      "text/plain": [
       "    지역명    연도  월   평당분양가격      전용면적\n",
       "261  인천  2016  1  10982.4       60㎡\n",
       "262  인천  2016  1  10263.0   60㎡~85㎡\n",
       "263  인천  2016  1  11698.5  85㎡~102㎡\n",
       "264  인천  2016  1  11246.4     102㎡~\n",
       "346  인천  2016  2  10982.4       60㎡"
      ]
     },
     "execution_count": 42,
     "metadata": {},
     "output_type": "execute_result"
    }
   ],
   "source": [
    "df_house_incheon = df_house_dosi[df_house_dosi['지역명'] == '인천'].copy()\n",
    "df_house_incheon.head()"
   ]
  },
  {
   "cell_type": "code",
   "execution_count": 43,
   "id": "8f9c3ef3",
   "metadata": {},
   "outputs": [
    {
     "data": {
      "text/html": [
       "<div>\n",
       "<style scoped>\n",
       "    .dataframe tbody tr th:only-of-type {\n",
       "        vertical-align: middle;\n",
       "    }\n",
       "\n",
       "    .dataframe tbody tr th {\n",
       "        vertical-align: top;\n",
       "    }\n",
       "\n",
       "    .dataframe thead th {\n",
       "        text-align: right;\n",
       "    }\n",
       "</style>\n",
       "<table border=\"1\" class=\"dataframe\">\n",
       "  <thead>\n",
       "    <tr style=\"text-align: right;\">\n",
       "      <th></th>\n",
       "      <th>level_0</th>\n",
       "      <th>index</th>\n",
       "      <th>지역명</th>\n",
       "      <th>연도</th>\n",
       "      <th>월</th>\n",
       "      <th>평당분양가격</th>\n",
       "      <th>전용면적</th>\n",
       "    </tr>\n",
       "  </thead>\n",
       "  <tbody>\n",
       "    <tr>\n",
       "      <th>0</th>\n",
       "      <td>0</td>\n",
       "      <td>261</td>\n",
       "      <td>인천</td>\n",
       "      <td>2016</td>\n",
       "      <td>1</td>\n",
       "      <td>10982.4</td>\n",
       "      <td>60㎡</td>\n",
       "    </tr>\n",
       "    <tr>\n",
       "      <th>1</th>\n",
       "      <td>1</td>\n",
       "      <td>262</td>\n",
       "      <td>인천</td>\n",
       "      <td>2016</td>\n",
       "      <td>1</td>\n",
       "      <td>10263.0</td>\n",
       "      <td>60㎡~85㎡</td>\n",
       "    </tr>\n",
       "    <tr>\n",
       "      <th>2</th>\n",
       "      <td>2</td>\n",
       "      <td>263</td>\n",
       "      <td>인천</td>\n",
       "      <td>2016</td>\n",
       "      <td>1</td>\n",
       "      <td>11698.5</td>\n",
       "      <td>85㎡~102㎡</td>\n",
       "    </tr>\n",
       "    <tr>\n",
       "      <th>3</th>\n",
       "      <td>3</td>\n",
       "      <td>264</td>\n",
       "      <td>인천</td>\n",
       "      <td>2016</td>\n",
       "      <td>1</td>\n",
       "      <td>11246.4</td>\n",
       "      <td>102㎡~</td>\n",
       "    </tr>\n",
       "    <tr>\n",
       "      <th>4</th>\n",
       "      <td>4</td>\n",
       "      <td>346</td>\n",
       "      <td>인천</td>\n",
       "      <td>2016</td>\n",
       "      <td>2</td>\n",
       "      <td>10982.4</td>\n",
       "      <td>60㎡</td>\n",
       "    </tr>\n",
       "    <tr>\n",
       "      <th>...</th>\n",
       "      <td>...</td>\n",
       "      <td>...</td>\n",
       "      <td>...</td>\n",
       "      <td>...</td>\n",
       "      <td>...</td>\n",
       "      <td>...</td>\n",
       "      <td>...</td>\n",
       "    </tr>\n",
       "    <tr>\n",
       "      <th>247</th>\n",
       "      <td>247</td>\n",
       "      <td>5449</td>\n",
       "      <td>인천</td>\n",
       "      <td>2021</td>\n",
       "      <td>2</td>\n",
       "      <td>19974.9</td>\n",
       "      <td>102㎡~</td>\n",
       "    </tr>\n",
       "    <tr>\n",
       "      <th>248</th>\n",
       "      <td>248</td>\n",
       "      <td>5531</td>\n",
       "      <td>인천</td>\n",
       "      <td>2021</td>\n",
       "      <td>3</td>\n",
       "      <td>15840.0</td>\n",
       "      <td>60㎡</td>\n",
       "    </tr>\n",
       "    <tr>\n",
       "      <th>249</th>\n",
       "      <td>249</td>\n",
       "      <td>5532</td>\n",
       "      <td>인천</td>\n",
       "      <td>2021</td>\n",
       "      <td>3</td>\n",
       "      <td>15572.7</td>\n",
       "      <td>60㎡~85㎡</td>\n",
       "    </tr>\n",
       "    <tr>\n",
       "      <th>250</th>\n",
       "      <td>250</td>\n",
       "      <td>5533</td>\n",
       "      <td>인천</td>\n",
       "      <td>2021</td>\n",
       "      <td>3</td>\n",
       "      <td>16067.7</td>\n",
       "      <td>85㎡~102㎡</td>\n",
       "    </tr>\n",
       "    <tr>\n",
       "      <th>251</th>\n",
       "      <td>251</td>\n",
       "      <td>5534</td>\n",
       "      <td>인천</td>\n",
       "      <td>2021</td>\n",
       "      <td>3</td>\n",
       "      <td>19974.9</td>\n",
       "      <td>102㎡~</td>\n",
       "    </tr>\n",
       "  </tbody>\n",
       "</table>\n",
       "<p>252 rows × 7 columns</p>\n",
       "</div>"
      ],
      "text/plain": [
       "     level_0  index 지역명    연도  월   평당분양가격      전용면적\n",
       "0          0    261  인천  2016  1  10982.4       60㎡\n",
       "1          1    262  인천  2016  1  10263.0   60㎡~85㎡\n",
       "2          2    263  인천  2016  1  11698.5  85㎡~102㎡\n",
       "3          3    264  인천  2016  1  11246.4     102㎡~\n",
       "4          4    346  인천  2016  2  10982.4       60㎡\n",
       "..       ...    ...  ..   ... ..      ...       ...\n",
       "247      247   5449  인천  2021  2  19974.9     102㎡~\n",
       "248      248   5531  인천  2021  3  15840.0       60㎡\n",
       "249      249   5532  인천  2021  3  15572.7   60㎡~85㎡\n",
       "250      250   5533  인천  2021  3  16067.7  85㎡~102㎡\n",
       "251      251   5534  인천  2021  3  19974.9     102㎡~\n",
       "\n",
       "[252 rows x 7 columns]"
      ]
     },
     "execution_count": 43,
     "metadata": {},
     "output_type": "execute_result"
    }
   ],
   "source": [
    "df_house_incheon = df_house_incheon.reset_index().reset_index()\n",
    "df_house_incheon"
   ]
  },
  {
   "cell_type": "code",
   "execution_count": 44,
   "id": "f0a8c81b",
   "metadata": {},
   "outputs": [],
   "source": [
    "df_house_incheon = df_house_incheon.drop('index',axis = 1).copy()"
   ]
  },
  {
   "cell_type": "code",
   "execution_count": 45,
   "id": "54d17915",
   "metadata": {},
   "outputs": [],
   "source": [
    "df_house_incheon.rename(columns = {'level_0' : 'index'}, inplace = True)"
   ]
  },
  {
   "cell_type": "code",
   "execution_count": 46,
   "id": "76a36dcd",
   "metadata": {},
   "outputs": [
    {
     "data": {
      "text/html": [
       "<div>\n",
       "<style scoped>\n",
       "    .dataframe tbody tr th:only-of-type {\n",
       "        vertical-align: middle;\n",
       "    }\n",
       "\n",
       "    .dataframe tbody tr th {\n",
       "        vertical-align: top;\n",
       "    }\n",
       "\n",
       "    .dataframe thead th {\n",
       "        text-align: right;\n",
       "    }\n",
       "</style>\n",
       "<table border=\"1\" class=\"dataframe\">\n",
       "  <thead>\n",
       "    <tr style=\"text-align: right;\">\n",
       "      <th></th>\n",
       "      <th>index</th>\n",
       "      <th>지역명</th>\n",
       "      <th>연도</th>\n",
       "      <th>월</th>\n",
       "      <th>평당분양가격</th>\n",
       "      <th>전용면적</th>\n",
       "    </tr>\n",
       "  </thead>\n",
       "  <tbody>\n",
       "    <tr>\n",
       "      <th>0</th>\n",
       "      <td>0</td>\n",
       "      <td>인천</td>\n",
       "      <td>2016</td>\n",
       "      <td>1</td>\n",
       "      <td>10982.4</td>\n",
       "      <td>60㎡</td>\n",
       "    </tr>\n",
       "    <tr>\n",
       "      <th>1</th>\n",
       "      <td>1</td>\n",
       "      <td>인천</td>\n",
       "      <td>2016</td>\n",
       "      <td>1</td>\n",
       "      <td>10263.0</td>\n",
       "      <td>60㎡~85㎡</td>\n",
       "    </tr>\n",
       "    <tr>\n",
       "      <th>2</th>\n",
       "      <td>2</td>\n",
       "      <td>인천</td>\n",
       "      <td>2016</td>\n",
       "      <td>1</td>\n",
       "      <td>11698.5</td>\n",
       "      <td>85㎡~102㎡</td>\n",
       "    </tr>\n",
       "    <tr>\n",
       "      <th>3</th>\n",
       "      <td>3</td>\n",
       "      <td>인천</td>\n",
       "      <td>2016</td>\n",
       "      <td>1</td>\n",
       "      <td>11246.4</td>\n",
       "      <td>102㎡~</td>\n",
       "    </tr>\n",
       "    <tr>\n",
       "      <th>4</th>\n",
       "      <td>4</td>\n",
       "      <td>인천</td>\n",
       "      <td>2016</td>\n",
       "      <td>2</td>\n",
       "      <td>10982.4</td>\n",
       "      <td>60㎡</td>\n",
       "    </tr>\n",
       "    <tr>\n",
       "      <th>...</th>\n",
       "      <td>...</td>\n",
       "      <td>...</td>\n",
       "      <td>...</td>\n",
       "      <td>...</td>\n",
       "      <td>...</td>\n",
       "      <td>...</td>\n",
       "    </tr>\n",
       "    <tr>\n",
       "      <th>247</th>\n",
       "      <td>247</td>\n",
       "      <td>인천</td>\n",
       "      <td>2021</td>\n",
       "      <td>2</td>\n",
       "      <td>19974.9</td>\n",
       "      <td>102㎡~</td>\n",
       "    </tr>\n",
       "    <tr>\n",
       "      <th>248</th>\n",
       "      <td>248</td>\n",
       "      <td>인천</td>\n",
       "      <td>2021</td>\n",
       "      <td>3</td>\n",
       "      <td>15840.0</td>\n",
       "      <td>60㎡</td>\n",
       "    </tr>\n",
       "    <tr>\n",
       "      <th>249</th>\n",
       "      <td>249</td>\n",
       "      <td>인천</td>\n",
       "      <td>2021</td>\n",
       "      <td>3</td>\n",
       "      <td>15572.7</td>\n",
       "      <td>60㎡~85㎡</td>\n",
       "    </tr>\n",
       "    <tr>\n",
       "      <th>250</th>\n",
       "      <td>250</td>\n",
       "      <td>인천</td>\n",
       "      <td>2021</td>\n",
       "      <td>3</td>\n",
       "      <td>16067.7</td>\n",
       "      <td>85㎡~102㎡</td>\n",
       "    </tr>\n",
       "    <tr>\n",
       "      <th>251</th>\n",
       "      <td>251</td>\n",
       "      <td>인천</td>\n",
       "      <td>2021</td>\n",
       "      <td>3</td>\n",
       "      <td>19974.9</td>\n",
       "      <td>102㎡~</td>\n",
       "    </tr>\n",
       "  </tbody>\n",
       "</table>\n",
       "<p>252 rows × 6 columns</p>\n",
       "</div>"
      ],
      "text/plain": [
       "     index 지역명    연도  월   평당분양가격      전용면적\n",
       "0        0  인천  2016  1  10982.4       60㎡\n",
       "1        1  인천  2016  1  10263.0   60㎡~85㎡\n",
       "2        2  인천  2016  1  11698.5  85㎡~102㎡\n",
       "3        3  인천  2016  1  11246.4     102㎡~\n",
       "4        4  인천  2016  2  10982.4       60㎡\n",
       "..     ...  ..   ... ..      ...       ...\n",
       "247    247  인천  2021  2  19974.9     102㎡~\n",
       "248    248  인천  2021  3  15840.0       60㎡\n",
       "249    249  인천  2021  3  15572.7   60㎡~85㎡\n",
       "250    250  인천  2021  3  16067.7  85㎡~102㎡\n",
       "251    251  인천  2021  3  19974.9     102㎡~\n",
       "\n",
       "[252 rows x 6 columns]"
      ]
     },
     "execution_count": 46,
     "metadata": {},
     "output_type": "execute_result"
    }
   ],
   "source": [
    "df_house_incheon"
   ]
  },
  {
   "cell_type": "code",
   "execution_count": 47,
   "id": "f04481c5",
   "metadata": {},
   "outputs": [
    {
     "data": {
      "text/html": [
       "<div>\n",
       "<style scoped>\n",
       "    .dataframe tbody tr th:only-of-type {\n",
       "        vertical-align: middle;\n",
       "    }\n",
       "\n",
       "    .dataframe tbody tr th {\n",
       "        vertical-align: top;\n",
       "    }\n",
       "\n",
       "    .dataframe thead th {\n",
       "        text-align: right;\n",
       "    }\n",
       "</style>\n",
       "<table border=\"1\" class=\"dataframe\">\n",
       "  <thead>\n",
       "    <tr style=\"text-align: right;\">\n",
       "      <th></th>\n",
       "      <th>index</th>\n",
       "      <th>지역명</th>\n",
       "      <th>연도</th>\n",
       "      <th>월</th>\n",
       "      <th>평당분양가격</th>\n",
       "      <th>전용면적</th>\n",
       "    </tr>\n",
       "  </thead>\n",
       "  <tbody>\n",
       "    <tr>\n",
       "      <th>88</th>\n",
       "      <td>88</td>\n",
       "      <td>인천</td>\n",
       "      <td>2017</td>\n",
       "      <td>11</td>\n",
       "      <td>NaN</td>\n",
       "      <td>60㎡</td>\n",
       "    </tr>\n",
       "    <tr>\n",
       "      <th>89</th>\n",
       "      <td>89</td>\n",
       "      <td>인천</td>\n",
       "      <td>2017</td>\n",
       "      <td>11</td>\n",
       "      <td>NaN</td>\n",
       "      <td>60㎡~85㎡</td>\n",
       "    </tr>\n",
       "    <tr>\n",
       "      <th>90</th>\n",
       "      <td>90</td>\n",
       "      <td>인천</td>\n",
       "      <td>2017</td>\n",
       "      <td>11</td>\n",
       "      <td>NaN</td>\n",
       "      <td>85㎡~102㎡</td>\n",
       "    </tr>\n",
       "    <tr>\n",
       "      <th>91</th>\n",
       "      <td>91</td>\n",
       "      <td>인천</td>\n",
       "      <td>2017</td>\n",
       "      <td>11</td>\n",
       "      <td>NaN</td>\n",
       "      <td>102㎡~</td>\n",
       "    </tr>\n",
       "    <tr>\n",
       "      <th>119</th>\n",
       "      <td>119</td>\n",
       "      <td>인천</td>\n",
       "      <td>2018</td>\n",
       "      <td>6</td>\n",
       "      <td>NaN</td>\n",
       "      <td>102㎡~</td>\n",
       "    </tr>\n",
       "    <tr>\n",
       "      <th>123</th>\n",
       "      <td>123</td>\n",
       "      <td>인천</td>\n",
       "      <td>2018</td>\n",
       "      <td>7</td>\n",
       "      <td>NaN</td>\n",
       "      <td>102㎡~</td>\n",
       "    </tr>\n",
       "    <tr>\n",
       "      <th>127</th>\n",
       "      <td>127</td>\n",
       "      <td>인천</td>\n",
       "      <td>2018</td>\n",
       "      <td>8</td>\n",
       "      <td>NaN</td>\n",
       "      <td>102㎡~</td>\n",
       "    </tr>\n",
       "    <tr>\n",
       "      <th>131</th>\n",
       "      <td>131</td>\n",
       "      <td>인천</td>\n",
       "      <td>2018</td>\n",
       "      <td>9</td>\n",
       "      <td>NaN</td>\n",
       "      <td>102㎡~</td>\n",
       "    </tr>\n",
       "  </tbody>\n",
       "</table>\n",
       "</div>"
      ],
      "text/plain": [
       "     index 지역명    연도   월  평당분양가격      전용면적\n",
       "88      88  인천  2017  11     NaN       60㎡\n",
       "89      89  인천  2017  11     NaN   60㎡~85㎡\n",
       "90      90  인천  2017  11     NaN  85㎡~102㎡\n",
       "91      91  인천  2017  11     NaN     102㎡~\n",
       "119    119  인천  2018   6     NaN     102㎡~\n",
       "123    123  인천  2018   7     NaN     102㎡~\n",
       "127    127  인천  2018   8     NaN     102㎡~\n",
       "131    131  인천  2018   9     NaN     102㎡~"
      ]
     },
     "execution_count": 47,
     "metadata": {},
     "output_type": "execute_result"
    }
   ],
   "source": [
    "df_house_incheon[df_house_incheon['평당분양가격'].isnull()]"
   ]
  },
  {
   "cell_type": "markdown",
   "id": "bbe54cbc",
   "metadata": {},
   "source": [
    "#### 앞의 함수 이용 2016년 자료는 널값이 없기 때문\n",
    "#### 만약에 3월의 85m의 평당분양가격이 없다면 \n",
    "#### 3월 85m = 2월 85m + (2월 85m - 1월 85m)\n",
    "#### 이렇게 판단한 이유는 전월 상승률이 이번월 상승률이랑 비슷할거라 판단하여 전처리"
   ]
  },
  {
   "cell_type": "code",
   "execution_count": 50,
   "id": "d84f49d6",
   "metadata": {},
   "outputs": [
    {
     "name": "stderr",
     "output_type": "stream",
     "text": [
      "<ipython-input-30-ed40758aee8e>:3: SettingWithCopyWarning: \n",
      "A value is trying to be set on a copy of a slice from a DataFrame\n",
      "\n",
      "See the caveats in the documentation: https://pandas.pydata.org/pandas-docs/stable/user_guide/indexing.html#returning-a-view-versus-a-copy\n",
      "  house['평당분양가격'][i] = house['평당분양가격'][i-4].copy() + (house['평당분양가격'][i-4].copy() - house['평당분양가격'][i-8].copy())\n"
     ]
    },
    {
     "data": {
      "text/html": [
       "<div>\n",
       "<style scoped>\n",
       "    .dataframe tbody tr th:only-of-type {\n",
       "        vertical-align: middle;\n",
       "    }\n",
       "\n",
       "    .dataframe tbody tr th {\n",
       "        vertical-align: top;\n",
       "    }\n",
       "\n",
       "    .dataframe thead th {\n",
       "        text-align: right;\n",
       "    }\n",
       "</style>\n",
       "<table border=\"1\" class=\"dataframe\">\n",
       "  <thead>\n",
       "    <tr style=\"text-align: right;\">\n",
       "      <th></th>\n",
       "      <th>index</th>\n",
       "      <th>지역명</th>\n",
       "      <th>연도</th>\n",
       "      <th>월</th>\n",
       "      <th>평당분양가격</th>\n",
       "      <th>전용면적</th>\n",
       "    </tr>\n",
       "  </thead>\n",
       "  <tbody>\n",
       "    <tr>\n",
       "      <th>0</th>\n",
       "      <td>0</td>\n",
       "      <td>인천</td>\n",
       "      <td>2016</td>\n",
       "      <td>1</td>\n",
       "      <td>10982.4</td>\n",
       "      <td>60㎡</td>\n",
       "    </tr>\n",
       "    <tr>\n",
       "      <th>1</th>\n",
       "      <td>1</td>\n",
       "      <td>인천</td>\n",
       "      <td>2016</td>\n",
       "      <td>1</td>\n",
       "      <td>10263.0</td>\n",
       "      <td>60㎡~85㎡</td>\n",
       "    </tr>\n",
       "    <tr>\n",
       "      <th>2</th>\n",
       "      <td>2</td>\n",
       "      <td>인천</td>\n",
       "      <td>2016</td>\n",
       "      <td>1</td>\n",
       "      <td>11698.5</td>\n",
       "      <td>85㎡~102㎡</td>\n",
       "    </tr>\n",
       "    <tr>\n",
       "      <th>3</th>\n",
       "      <td>3</td>\n",
       "      <td>인천</td>\n",
       "      <td>2016</td>\n",
       "      <td>1</td>\n",
       "      <td>11246.4</td>\n",
       "      <td>102㎡~</td>\n",
       "    </tr>\n",
       "    <tr>\n",
       "      <th>4</th>\n",
       "      <td>4</td>\n",
       "      <td>인천</td>\n",
       "      <td>2016</td>\n",
       "      <td>2</td>\n",
       "      <td>10982.4</td>\n",
       "      <td>60㎡</td>\n",
       "    </tr>\n",
       "    <tr>\n",
       "      <th>...</th>\n",
       "      <td>...</td>\n",
       "      <td>...</td>\n",
       "      <td>...</td>\n",
       "      <td>...</td>\n",
       "      <td>...</td>\n",
       "      <td>...</td>\n",
       "    </tr>\n",
       "    <tr>\n",
       "      <th>247</th>\n",
       "      <td>247</td>\n",
       "      <td>인천</td>\n",
       "      <td>2021</td>\n",
       "      <td>2</td>\n",
       "      <td>19974.9</td>\n",
       "      <td>102㎡~</td>\n",
       "    </tr>\n",
       "    <tr>\n",
       "      <th>248</th>\n",
       "      <td>248</td>\n",
       "      <td>인천</td>\n",
       "      <td>2021</td>\n",
       "      <td>3</td>\n",
       "      <td>15840.0</td>\n",
       "      <td>60㎡</td>\n",
       "    </tr>\n",
       "    <tr>\n",
       "      <th>249</th>\n",
       "      <td>249</td>\n",
       "      <td>인천</td>\n",
       "      <td>2021</td>\n",
       "      <td>3</td>\n",
       "      <td>15572.7</td>\n",
       "      <td>60㎡~85㎡</td>\n",
       "    </tr>\n",
       "    <tr>\n",
       "      <th>250</th>\n",
       "      <td>250</td>\n",
       "      <td>인천</td>\n",
       "      <td>2021</td>\n",
       "      <td>3</td>\n",
       "      <td>16067.7</td>\n",
       "      <td>85㎡~102㎡</td>\n",
       "    </tr>\n",
       "    <tr>\n",
       "      <th>251</th>\n",
       "      <td>251</td>\n",
       "      <td>인천</td>\n",
       "      <td>2021</td>\n",
       "      <td>3</td>\n",
       "      <td>19974.9</td>\n",
       "      <td>102㎡~</td>\n",
       "    </tr>\n",
       "  </tbody>\n",
       "</table>\n",
       "<p>252 rows × 6 columns</p>\n",
       "</div>"
      ],
      "text/plain": [
       "     index 지역명    연도  월   평당분양가격      전용면적\n",
       "0        0  인천  2016  1  10982.4       60㎡\n",
       "1        1  인천  2016  1  10263.0   60㎡~85㎡\n",
       "2        2  인천  2016  1  11698.5  85㎡~102㎡\n",
       "3        3  인천  2016  1  11246.4     102㎡~\n",
       "4        4  인천  2016  2  10982.4       60㎡\n",
       "..     ...  ..   ... ..      ...       ...\n",
       "247    247  인천  2021  2  19974.9     102㎡~\n",
       "248    248  인천  2021  3  15840.0       60㎡\n",
       "249    249  인천  2021  3  15572.7   60㎡~85㎡\n",
       "250    250  인천  2021  3  16067.7  85㎡~102㎡\n",
       "251    251  인천  2021  3  19974.9     102㎡~\n",
       "\n",
       "[252 rows x 6 columns]"
      ]
     },
     "execution_count": 50,
     "metadata": {},
     "output_type": "execute_result"
    }
   ],
   "source": [
    "dosi_house_price(df_house_incheon)"
   ]
  },
  {
   "cell_type": "code",
   "execution_count": 51,
   "id": "083fa675",
   "metadata": {},
   "outputs": [
    {
     "data": {
      "text/html": [
       "<div>\n",
       "<style scoped>\n",
       "    .dataframe tbody tr th:only-of-type {\n",
       "        vertical-align: middle;\n",
       "    }\n",
       "\n",
       "    .dataframe tbody tr th {\n",
       "        vertical-align: top;\n",
       "    }\n",
       "\n",
       "    .dataframe thead th {\n",
       "        text-align: right;\n",
       "    }\n",
       "</style>\n",
       "<table border=\"1\" class=\"dataframe\">\n",
       "  <thead>\n",
       "    <tr style=\"text-align: right;\">\n",
       "      <th></th>\n",
       "      <th>index</th>\n",
       "      <th>지역명</th>\n",
       "      <th>연도</th>\n",
       "      <th>월</th>\n",
       "      <th>평당분양가격</th>\n",
       "      <th>전용면적</th>\n",
       "    </tr>\n",
       "  </thead>\n",
       "  <tbody>\n",
       "  </tbody>\n",
       "</table>\n",
       "</div>"
      ],
      "text/plain": [
       "Empty DataFrame\n",
       "Columns: [index, 지역명, 연도, 월, 평당분양가격, 전용면적]\n",
       "Index: []"
      ]
     },
     "execution_count": 51,
     "metadata": {},
     "output_type": "execute_result"
    }
   ],
   "source": [
    "df_house_incheon[df_house_incheon['평당분양가격'].isnull()]"
   ]
  },
  {
   "cell_type": "markdown",
   "id": "e020e523",
   "metadata": {},
   "source": [
    "#### 경기"
   ]
  },
  {
   "cell_type": "code",
   "execution_count": null,
   "id": "7462bf9d",
   "metadata": {},
   "outputs": [],
   "source": [
    "df_house_gyeonggi = df_house_dosi[df_house_dosi['지역명'] == '경기'].copy()\n",
    "df_house_gyeonggi.head()"
   ]
  },
  {
   "cell_type": "code",
   "execution_count": null,
   "id": "05dc18d1",
   "metadata": {},
   "outputs": [],
   "source": [
    "df_house_gyeonggi = df_house_gyeonggi.reset_index().reset_index()\n",
    "df_house_gyeonggi"
   ]
  },
  {
   "cell_type": "code",
   "execution_count": null,
   "id": "daa85165",
   "metadata": {},
   "outputs": [],
   "source": [
    "df_house_gyeonggi = df_house_gyeonggi.drop('index',axis = 1).copy()"
   ]
  },
  {
   "cell_type": "code",
   "execution_count": null,
   "id": "0649e06d",
   "metadata": {},
   "outputs": [],
   "source": [
    "df_house_gyeonggi.rename(columns = {'level_0' : 'index'}, inplace = True)"
   ]
  },
  {
   "cell_type": "code",
   "execution_count": null,
   "id": "83de6875",
   "metadata": {},
   "outputs": [],
   "source": [
    "df_house_gyeonggi"
   ]
  },
  {
   "cell_type": "code",
   "execution_count": null,
   "id": "2317973c",
   "metadata": {},
   "outputs": [],
   "source": [
    "df_house_gyeonggi[df_house_gyeonggi['평당분양가격'].isnull()]"
   ]
  },
  {
   "cell_type": "markdown",
   "id": "95e246e6",
   "metadata": {},
   "source": [
    "#### 만약에 1월 값이 null이면 1월은 = 2월 - (3월 - 2월) 이렇게 판단한 이유는 상승값 빼면 된다 판단"
   ]
  },
  {
   "cell_type": "code",
   "execution_count": null,
   "id": "0bf983ab",
   "metadata": {},
   "outputs": [],
   "source": [
    "for i in df_house_gyeonggi[df_house_gyeonggi['평당분양가격'].isnull()].index:\n",
    "    df_house_gyeonggi['평당분양가격'][i] = df_house_gyeonggi['평당분양가격'][i+4] - (df_house_gyeonggi['평당분양가격'][i+8] - df_house_gyeonggi['평당분양가격'][i+4])\n",
    "    "
   ]
  },
  {
   "cell_type": "code",
   "execution_count": null,
   "id": "7db06d61",
   "metadata": {},
   "outputs": [],
   "source": [
    "df_house_gyeonggi[df_house_gyeonggi['평당분양가격'].isnull()]"
   ]
  },
  {
   "cell_type": "markdown",
   "id": "7cc33a7f",
   "metadata": {},
   "source": [
    "#### 부산"
   ]
  },
  {
   "cell_type": "code",
   "execution_count": null,
   "id": "a7c248e8",
   "metadata": {},
   "outputs": [],
   "source": [
    "df_house_busan = df_house_dosi[df_house_dosi['지역명'] == '부산'].copy()\n",
    "df_house_busan.head()"
   ]
  },
  {
   "cell_type": "code",
   "execution_count": null,
   "id": "66fc4799",
   "metadata": {},
   "outputs": [],
   "source": [
    "df_house_busan = df_house_busan.reset_index().reset_index()\n",
    "df_house_busan"
   ]
  },
  {
   "cell_type": "code",
   "execution_count": null,
   "id": "91a3dabe",
   "metadata": {},
   "outputs": [],
   "source": [
    "df_house_busan = df_house_busan.drop('index',axis = 1).copy()"
   ]
  },
  {
   "cell_type": "code",
   "execution_count": null,
   "id": "eaea3764",
   "metadata": {},
   "outputs": [],
   "source": [
    "df_house_busan.rename(columns = {'level_0' : 'index'}, inplace = True)"
   ]
  },
  {
   "cell_type": "code",
   "execution_count": null,
   "id": "d616014a",
   "metadata": {},
   "outputs": [],
   "source": [
    "df_house_busan.head()"
   ]
  },
  {
   "cell_type": "code",
   "execution_count": null,
   "id": "6fb4c33a",
   "metadata": {},
   "outputs": [],
   "source": [
    "df_house_busan[df_house_busan['평당분양가격'].isnull()]"
   ]
  },
  {
   "cell_type": "markdown",
   "id": "16cf48b1",
   "metadata": {},
   "source": [
    "#### 만약에 1월 값이 null이면 1월은 = 2월 - (3월 - 2월) 이렇게 판단한 이유는 상승값 빼면 된다 판단"
   ]
  },
  {
   "cell_type": "code",
   "execution_count": null,
   "id": "de08fc27",
   "metadata": {},
   "outputs": [],
   "source": [
    "for i in df_house_busan[df_house_busan['평당분양가격'].isnull()].index:\n",
    "    df_house_busan['평당분양가격'][i] = df_house_busan['평당분양가격'][i+4] - (df_house_busan['평당분양가격'][i+8] - df_house_busan['평당분양가격'][i+4])\n",
    "    "
   ]
  },
  {
   "cell_type": "code",
   "execution_count": null,
   "id": "7ceb62a3",
   "metadata": {},
   "outputs": [],
   "source": [
    "df_house_busan[df_house_busan['평당분양가격'].isnull()]"
   ]
  },
  {
   "cell_type": "markdown",
   "id": "da0cfb73",
   "metadata": {},
   "source": [
    "#### 대구"
   ]
  },
  {
   "cell_type": "code",
   "execution_count": null,
   "id": "54b37a4b",
   "metadata": {},
   "outputs": [],
   "source": [
    "df_house_daegu = df_house_dosi[df_house_dosi['지역명'] == '대구'].copy()\n",
    "df_house_daegu.head()"
   ]
  },
  {
   "cell_type": "code",
   "execution_count": null,
   "id": "a03c1ec6",
   "metadata": {},
   "outputs": [],
   "source": [
    "df_house_daegu = df_house_daegu.reset_index().reset_index()\n",
    "df_house_daegu"
   ]
  },
  {
   "cell_type": "code",
   "execution_count": null,
   "id": "4d918884",
   "metadata": {},
   "outputs": [],
   "source": [
    "df_house_daegu = df_house_daegu.drop('index',axis = 1).copy()"
   ]
  },
  {
   "cell_type": "code",
   "execution_count": null,
   "id": "89ad67de",
   "metadata": {},
   "outputs": [],
   "source": [
    "df_house_daegu.rename(columns = {'level_0' : 'index'}, inplace = True)"
   ]
  },
  {
   "cell_type": "code",
   "execution_count": null,
   "id": "403656b9",
   "metadata": {},
   "outputs": [],
   "source": [
    "df_house_daegu.head()"
   ]
  },
  {
   "cell_type": "code",
   "execution_count": null,
   "id": "71ebf62a",
   "metadata": {},
   "outputs": [],
   "source": [
    "df_house_daegu[df_house_daegu['평당분양가격'].isnull()]"
   ]
  },
  {
   "cell_type": "markdown",
   "id": "fb512da3",
   "metadata": {},
   "source": [
    "#### null 값이 2017년은 11월달에 만 없으므로 똑같이 1월 값이 null이면 1월은 = 2월 - (3월 - 2월) 이렇게 판단한 이유는 상승값 빼면 된다 판단\n",
    "#### 2017년은 전용면적이 10월 전에는 똑같은 것이 없음 그래서 그 이후 값을 들고 오면 에러가남\n",
    "#### 그래서 2017년 10월 전 꺼는 역으로 1월이면 전년 12월 + (12월 - 11월) 이렇게 판단한 이유는 저번 상승값이라 비슷할거라 판단"
   ]
  },
  {
   "cell_type": "code",
   "execution_count": null,
   "id": "c1ed5c81",
   "metadata": {},
   "outputs": [],
   "source": [
    "for i in df_house_daegu[df_house_daegu['평당분양가격'].isnull()].index:\n",
    "    if df_house_daegu['연도'][i] == 2017 and df_house_daegu['월'][i] <= 10:\n",
    "        df_house_daegu['평당분양가격'][i] = df_house_daegu['평당분양가격'][i-4] + (df_house_daegu['평당분양가격'][i-4] - df_house_daegu['평당분양가격'][i-8])"
   ]
  },
  {
   "cell_type": "code",
   "execution_count": null,
   "id": "7dd96e3a",
   "metadata": {},
   "outputs": [],
   "source": [
    "df_house_daegu[df_house_daegu['평당분양가격'].isnull()]"
   ]
  },
  {
   "cell_type": "markdown",
   "id": "347af8a2",
   "metadata": {},
   "source": [
    "#### 나머지 널값은 1월 값이 null이면 1월은 = 전년 12월 + (12월 - 11월) 이렇게 판단한 이유는 저번 상승값이라 비슷할거라 판단"
   ]
  },
  {
   "cell_type": "code",
   "execution_count": null,
   "id": "9f28a63a",
   "metadata": {},
   "outputs": [],
   "source": [
    "for i in df_house_daegu[df_house_daegu['평당분양가격'].isnull()].index:\n",
    "    df_house_daegu['평당분양가격'][i] = df_house_daegu['평당분양가격'][i-4] + (df_house_daegu['평당분양가격'][i-4] - df_house_daegu['평당분양가격'][i-8])"
   ]
  },
  {
   "cell_type": "code",
   "execution_count": null,
   "id": "2cd87e1e",
   "metadata": {},
   "outputs": [],
   "source": [
    "df_house_daegu[df_house_daegu['평당분양가격'].isnull()]"
   ]
  },
  {
   "cell_type": "markdown",
   "id": "a5ee0f62",
   "metadata": {},
   "source": [
    "#### 강원"
   ]
  },
  {
   "cell_type": "code",
   "execution_count": null,
   "id": "8d439ac6",
   "metadata": {},
   "outputs": [],
   "source": [
    "df_house_gangwon = df_house_dosi[df_house_dosi['지역명'] == '강원'].copy()\n",
    "df_house_gangwon.head()"
   ]
  },
  {
   "cell_type": "code",
   "execution_count": null,
   "id": "ad7e29b4",
   "metadata": {},
   "outputs": [],
   "source": [
    "df_house_gangwon = df_house_gangwon.reset_index().reset_index()\n",
    "df_house_gangwon"
   ]
  },
  {
   "cell_type": "code",
   "execution_count": null,
   "id": "d059f756",
   "metadata": {},
   "outputs": [],
   "source": [
    "df_house_gangwon = df_house_gangwon.drop('index',axis = 1).copy()"
   ]
  },
  {
   "cell_type": "code",
   "execution_count": null,
   "id": "f355800f",
   "metadata": {},
   "outputs": [],
   "source": [
    "df_house_gangwon.rename(columns = {'level_0' : 'index'}, inplace = True)"
   ]
  },
  {
   "cell_type": "code",
   "execution_count": null,
   "id": "5f5a3b77",
   "metadata": {},
   "outputs": [],
   "source": [
    "df_house_gangwon.head()"
   ]
  },
  {
   "cell_type": "code",
   "execution_count": null,
   "id": "5e818072",
   "metadata": {},
   "outputs": [],
   "source": [
    "df_house_gangwon[df_house_gangwon['평당분양가격'].isnull()]"
   ]
  },
  {
   "cell_type": "markdown",
   "id": "412ae53a",
   "metadata": {},
   "source": [
    "#### 2016년 1월이 시작이라 2월 부터 9월 까지의 같은면적 null값은 비교대상을 다른 면적들의 상승값 평균을 더했다 "
   ]
  },
  {
   "cell_type": "code",
   "execution_count": null,
   "id": "3420b175",
   "metadata": {},
   "outputs": [],
   "source": [
    "for i in df_house_gangwon[df_house_gangwon['평당분양가격'].isnull()].index:\n",
    "    if df_house_gangwon['연도'][i] == 2016 and df_house_gangwon['월'][i] <= 9:\n",
    "        df_house_gangwon['평당분양가격'][i] = df_house_gangwon['평당분양가격'][i-4] + np.mean(((df_house_gangwon['평당분양가격'][i+5] - df_house_gangwon['평당분양가격'][i+1]),\n",
    "                                                                                 (df_house_gangwon['평당분양가격'][i+5-2] - df_house_gangwon['평당분양가격'][i+1-2]),\n",
    "                                                                                 (df_house_gangwon['평당분양가격'][i+5-3] - df_house_gangwon['평당분양가격'][i+1-3])))"
   ]
  },
  {
   "cell_type": "code",
   "execution_count": null,
   "id": "92d2335a",
   "metadata": {},
   "outputs": [],
   "source": [
    "df_house_gangwon[df_house_gangwon['평당분양가격'].isnull()]"
   ]
  },
  {
   "cell_type": "markdown",
   "id": "3e6fd97b",
   "metadata": {},
   "source": [
    "#### 나머지 널값은 1월 값이 null이면 1월은 = 전년 12월 + (12월 - 11월) 이렇게 판단한 이유는 저번 상승값이라 비슷할거라 판단"
   ]
  },
  {
   "cell_type": "code",
   "execution_count": null,
   "id": "b6e65085",
   "metadata": {},
   "outputs": [],
   "source": [
    "for i in df_house_gangwon[df_house_gangwon['평당분양가격'].isnull()].index:\n",
    "    df_house_gangwon['평당분양가격'][i] = df_house_gangwon['평당분양가격'][i-4] + (df_house_gangwon['평당분양가격'][i-4] - df_house_gangwon['평당분양가격'][i-8])"
   ]
  },
  {
   "cell_type": "code",
   "execution_count": null,
   "id": "e0b04614",
   "metadata": {},
   "outputs": [],
   "source": [
    "df_house_gangwon[df_house_gangwon['평당분양가격'].isnull()]"
   ]
  },
  {
   "cell_type": "markdown",
   "id": "0e239ed1",
   "metadata": {},
   "source": [
    "#### 충북"
   ]
  },
  {
   "cell_type": "code",
   "execution_count": null,
   "id": "9d42bce5",
   "metadata": {},
   "outputs": [],
   "source": [
    "df_house_chungbuk = df_house_dosi[df_house_dosi['지역명'] == '충북'].copy()\n",
    "df_house_chungbuk.head()"
   ]
  },
  {
   "cell_type": "code",
   "execution_count": null,
   "id": "980b0274",
   "metadata": {},
   "outputs": [],
   "source": [
    "df_house_chungbuk = df_house_chungbuk.reset_index().reset_index()\n",
    "df_house_chungbuk"
   ]
  },
  {
   "cell_type": "code",
   "execution_count": null,
   "id": "d905bb58",
   "metadata": {},
   "outputs": [],
   "source": [
    "df_house_chungbuk = df_house_chungbuk.drop('index',axis = 1).copy()"
   ]
  },
  {
   "cell_type": "code",
   "execution_count": null,
   "id": "c9bb092c",
   "metadata": {},
   "outputs": [],
   "source": [
    "df_house_chungbuk.rename(columns = {'level_0' : 'index'}, inplace = True)"
   ]
  },
  {
   "cell_type": "code",
   "execution_count": null,
   "id": "8a540cae",
   "metadata": {},
   "outputs": [],
   "source": [
    "df_house_chungbuk.head()"
   ]
  },
  {
   "cell_type": "code",
   "execution_count": null,
   "id": "3b5f3876",
   "metadata": {},
   "outputs": [],
   "source": [
    "df_house_chungbuk[df_house_chungbuk['평당분양가격'].isnull()]"
   ]
  },
  {
   "cell_type": "markdown",
   "id": "3eaf480d",
   "metadata": {},
   "source": [
    "#### 널값은 1월 값이 null이면 1월은 = 전년 12월 + (12월 - 11월) 이렇게 판단한 이유는 저번 상승값이라 비슷할거라 판단"
   ]
  },
  {
   "cell_type": "code",
   "execution_count": null,
   "id": "ecbddcb8",
   "metadata": {},
   "outputs": [],
   "source": [
    "for i in df_house_chungbuk[df_house_chungbuk['평당분양가격'].isnull()].index:\n",
    "    df_house_chungbuk['평당분양가격'][i] = df_house_chungbuk['평당분양가격'][i-4] + (df_house_chungbuk['평당분양가격'][i-4] - df_house_chungbuk['평당분양가격'][i-8])"
   ]
  },
  {
   "cell_type": "code",
   "execution_count": null,
   "id": "cc443ab4",
   "metadata": {},
   "outputs": [],
   "source": [
    "df_house_chungbuk[df_house_chungbuk['평당분양가격'].isnull()]"
   ]
  },
  {
   "cell_type": "markdown",
   "id": "2161e902",
   "metadata": {},
   "source": [
    "#### 전북"
   ]
  },
  {
   "cell_type": "code",
   "execution_count": null,
   "id": "d5050d59",
   "metadata": {},
   "outputs": [],
   "source": [
    "df_house_jeonbuk = df_house_dosi[df_house_dosi['지역명'] == '전북'].copy()\n",
    "df_house_jeonbuk.head()"
   ]
  },
  {
   "cell_type": "code",
   "execution_count": null,
   "id": "1a7a4d1b",
   "metadata": {},
   "outputs": [],
   "source": [
    "df_house_jeonbuk = df_house_jeonbuk.reset_index().reset_index()\n",
    "df_house_jeonbuk"
   ]
  },
  {
   "cell_type": "code",
   "execution_count": null,
   "id": "5c99b25b",
   "metadata": {},
   "outputs": [],
   "source": [
    "df_house_jeonbuk = df_house_jeonbuk.drop('index',axis = 1).copy()"
   ]
  },
  {
   "cell_type": "code",
   "execution_count": null,
   "id": "955b5344",
   "metadata": {},
   "outputs": [],
   "source": [
    "df_house_jeonbuk.rename(columns = {'level_0' : 'index'}, inplace = True)"
   ]
  },
  {
   "cell_type": "code",
   "execution_count": null,
   "id": "5781ff32",
   "metadata": {},
   "outputs": [],
   "source": [
    "df_house_jeonbuk.head()"
   ]
  },
  {
   "cell_type": "code",
   "execution_count": null,
   "id": "f1ea7d52",
   "metadata": {},
   "outputs": [],
   "source": [
    "df_house_jeonbuk[df_house_jeonbuk['평당분양가격'].isnull()]"
   ]
  },
  {
   "cell_type": "markdown",
   "id": "0b2f13c5",
   "metadata": {},
   "source": [
    "#### 널값은 1월 값이 null이면 1월은 = 전년 12월 + (12월 - 11월) 이렇게 판단한 이유는 저번 상승값이라 비슷할거라 판단¶"
   ]
  },
  {
   "cell_type": "code",
   "execution_count": null,
   "id": "33742785",
   "metadata": {},
   "outputs": [],
   "source": [
    "for i in df_house_jeonbuk[df_house_jeonbuk['평당분양가격'].isnull()].index:\n",
    "    df_house_jeonbuk['평당분양가격'][i] = df_house_jeonbuk['평당분양가격'][i-4] + (df_house_jeonbuk['평당분양가격'][i-4] - df_house_jeonbuk['평당분양가격'][i-8])"
   ]
  },
  {
   "cell_type": "code",
   "execution_count": null,
   "id": "2b9f17b1",
   "metadata": {},
   "outputs": [],
   "source": [
    "df_house_jeonbuk[df_house_jeonbuk['평당분양가격'].isnull()]"
   ]
  },
  {
   "cell_type": "markdown",
   "id": "08bd8a3e",
   "metadata": {},
   "source": [
    "#### 전남"
   ]
  },
  {
   "cell_type": "code",
   "execution_count": null,
   "id": "99f8c642",
   "metadata": {},
   "outputs": [],
   "source": [
    "df_house_jeonnam = df_house_dosi[df_house_dosi['지역명'] == '전남'].copy()\n",
    "df_house_jeonnam.head()"
   ]
  },
  {
   "cell_type": "code",
   "execution_count": null,
   "id": "aff278a4",
   "metadata": {},
   "outputs": [],
   "source": [
    "df_house_jeonnam = df_house_jeonnam.reset_index().reset_index()\n",
    "df_house_jeonnam"
   ]
  },
  {
   "cell_type": "code",
   "execution_count": null,
   "id": "4e7dce04",
   "metadata": {},
   "outputs": [],
   "source": [
    "df_house_jeonnam = df_house_jeonnam.drop('index',axis = 1).copy()"
   ]
  },
  {
   "cell_type": "code",
   "execution_count": null,
   "id": "10cf6087",
   "metadata": {},
   "outputs": [],
   "source": [
    "df_house_jeonnam.rename(columns = {'level_0' : 'index'}, inplace = True)"
   ]
  },
  {
   "cell_type": "code",
   "execution_count": null,
   "id": "fa9cf9da",
   "metadata": {},
   "outputs": [],
   "source": [
    "df_house_jeonnam.head()"
   ]
  },
  {
   "cell_type": "code",
   "execution_count": null,
   "id": "8e044d7a",
   "metadata": {},
   "outputs": [],
   "source": [
    "df_house_jeonnam[df_house_jeonnam['평당분양가격'].isnull()]"
   ]
  },
  {
   "cell_type": "markdown",
   "id": "266364a0",
   "metadata": {},
   "source": [
    "#### 널값은 1월 값이 null이면 1월은 = 전년 12월 + (12월 - 11월) 이렇게 판단한 이유는 저번 상승값이라 비슷할거라 판단"
   ]
  },
  {
   "cell_type": "code",
   "execution_count": null,
   "id": "5396651d",
   "metadata": {},
   "outputs": [],
   "source": [
    "for i in df_house_jeonnam[df_house_jeonnam['평당분양가격'].isnull()].index:\n",
    "    df_house_jeonnam['평당분양가격'][i] = df_house_jeonnam['평당분양가격'][i-4] + (df_house_jeonnam['평당분양가격'][i-4] - df_house_jeonnam['평당분양가격'][i-8])"
   ]
  },
  {
   "cell_type": "code",
   "execution_count": null,
   "id": "77da7a05",
   "metadata": {},
   "outputs": [],
   "source": [
    "df_house_jeonnam[df_house_jeonnam['평당분양가격'].isnull()]"
   ]
  },
  {
   "cell_type": "markdown",
   "id": "1fb8ee5f",
   "metadata": {},
   "source": [
    "#### 경남"
   ]
  },
  {
   "cell_type": "code",
   "execution_count": null,
   "id": "21cbd4fd",
   "metadata": {},
   "outputs": [],
   "source": [
    "df_house_gyeongnam = df_house_dosi[df_house_dosi['지역명'] == '경남'].copy()\n",
    "df_house_gyeongnam.head()"
   ]
  },
  {
   "cell_type": "code",
   "execution_count": null,
   "id": "69a122cb",
   "metadata": {},
   "outputs": [],
   "source": [
    "df_house_gyeongnam = df_house_gyeongnam.reset_index().reset_index()\n",
    "df_house_gyeongnam"
   ]
  },
  {
   "cell_type": "code",
   "execution_count": null,
   "id": "ac860e72",
   "metadata": {},
   "outputs": [],
   "source": [
    "df_house_gyeongnam = df_house_gyeongnam.drop('index',axis = 1).copy()"
   ]
  },
  {
   "cell_type": "code",
   "execution_count": null,
   "id": "87158d1a",
   "metadata": {},
   "outputs": [],
   "source": [
    "df_house_gyeongnam.rename(columns = {'level_0' : 'index'}, inplace = True)"
   ]
  },
  {
   "cell_type": "code",
   "execution_count": null,
   "id": "cb28203c",
   "metadata": {},
   "outputs": [],
   "source": [
    "df_house_gyeongnam.head()"
   ]
  },
  {
   "cell_type": "code",
   "execution_count": null,
   "id": "ddfed303",
   "metadata": {},
   "outputs": [],
   "source": [
    "df_house_gyeongnam[df_house_gyeongnam['평당분양가격'].isnull()]"
   ]
  },
  {
   "cell_type": "markdown",
   "id": "bba23fa9",
   "metadata": {},
   "source": [
    "#### 널값은 1월 값이 null이면 1월은 = 전년 12월 + (12월 - 11월) 이렇게 판단한 이유는 저번 상승값이라 비슷할거라 판단"
   ]
  },
  {
   "cell_type": "code",
   "execution_count": null,
   "id": "14662bf9",
   "metadata": {},
   "outputs": [],
   "source": [
    "for i in df_house_gyeongnam[df_house_gyeongnam['평당분양가격'].isnull()].index:\n",
    "    df_house_gyeongnam['평당분양가격'][i] = df_house_gyeongnam['평당분양가격'][i-4] + (df_house_gyeongnam['평당분양가격'][i-4] - df_house_gyeongnam['평당분양가격'][i-8])"
   ]
  },
  {
   "cell_type": "code",
   "execution_count": null,
   "id": "d6759abf",
   "metadata": {},
   "outputs": [],
   "source": [
    "df_house_gyeongnam[df_house_gyeongnam['평당분양가격'].isnull()]"
   ]
  },
  {
   "cell_type": "code",
   "execution_count": null,
   "id": "f082d7d2",
   "metadata": {},
   "outputs": [],
   "source": [
    "df_house_gu = pd.concat([df_house_seoul, df_house_gyeonggi, df_house_busan, df_house_daegu,\n",
    "                        df_house_gangwon, df_house_chungbuk, df_house_jeonbuk, df_house_jeonnam,\n",
    "                        df_house_gyeongnam], axis = 0)"
   ]
  },
  {
   "cell_type": "code",
   "execution_count": null,
   "id": "36a16208",
   "metadata": {},
   "outputs": [],
   "source": [
    "df_house_gu.head()"
   ]
  },
  {
   "cell_type": "code",
   "execution_count": null,
   "id": "adc38992",
   "metadata": {},
   "outputs": [],
   "source": [
    "df_house_gu.isnull().sum()"
   ]
  },
  {
   "cell_type": "markdown",
   "id": "5a2b4899",
   "metadata": {},
   "source": [
    "#### 전처리한 파일 엑셀로 저장"
   ]
  },
  {
   "cell_type": "code",
   "execution_count": null,
   "id": "3716c682",
   "metadata": {},
   "outputs": [],
   "source": [
    "# df_house_gu.to_csv('house.csv', index=False, encoding='cp949')"
   ]
  },
  {
   "cell_type": "code",
   "execution_count": null,
   "id": "0b66b4a7",
   "metadata": {},
   "outputs": [],
   "source": [
    "df_house_dosi = pd.read_csv(\"house.csv\",encoding='cp949')\n",
    "df_house_dosi"
   ]
  },
  {
   "cell_type": "code",
   "execution_count": null,
   "id": "140e76d5",
   "metadata": {},
   "outputs": [],
   "source": [
    "df_house_dosi = df_house_dosi.drop('index',axis = 1).copy()"
   ]
  },
  {
   "cell_type": "code",
   "execution_count": null,
   "id": "33fc4f4a",
   "metadata": {},
   "outputs": [],
   "source": [
    "df_house_dosi.head()"
   ]
  },
  {
   "cell_type": "markdown",
   "id": "14138bef",
   "metadata": {},
   "source": [
    "#### 위에서 연도값의 2015년 2021년이 상대적으로 작은 것 확인가능 전처리해줌"
   ]
  },
  {
   "cell_type": "code",
   "execution_count": null,
   "id": "a3fdfd39",
   "metadata": {},
   "outputs": [],
   "source": [
    "df_house = df_house[df_house['연도'] != 2021].copy()\n",
    "df_house['연도'].value_counts()"
   ]
  },
  {
   "cell_type": "code",
   "execution_count": null,
   "id": "02185177",
   "metadata": {},
   "outputs": [],
   "source": [
    "df_house_dosi.isnull().sum()"
   ]
  },
  {
   "cell_type": "markdown",
   "id": "b5e644c7",
   "metadata": {},
   "source": [
    "#### 지도에서 보기위한 경도 위도 처리"
   ]
  },
  {
   "cell_type": "code",
   "execution_count": null,
   "id": "a9c690ef",
   "metadata": {},
   "outputs": [],
   "source": [
    "df_house_dosi.loc[df_house_dosi['지역명'].str.contains('서울'),'경도'] = 126.97833527595007"
   ]
  },
  {
   "cell_type": "markdown",
   "id": "b18e892e",
   "metadata": {},
   "source": [
    "#### 처리된거 확인"
   ]
  },
  {
   "cell_type": "code",
   "execution_count": null,
   "id": "e9945f37",
   "metadata": {},
   "outputs": [],
   "source": [
    "df_house_dosi[df_house_dosi['지역명']=='서울'].head()"
   ]
  },
  {
   "cell_type": "code",
   "execution_count": null,
   "id": "7f842ca0",
   "metadata": {},
   "outputs": [],
   "source": [
    "df_house_dosi['지역명'].unique()"
   ]
  },
  {
   "cell_type": "code",
   "execution_count": null,
   "id": "f40aef60",
   "metadata": {},
   "outputs": [],
   "source": [
    "df_house_dosi.loc[df_house_dosi['지역명'].str.contains('서울'),'위도'] = 37.56666950126609\n",
    "\n",
    "df_house_dosi.loc[df_house_dosi['지역명'].str.contains('경기'),'위도'] = 37.274906479858764\n",
    "df_house_dosi.loc[df_house_dosi['지역명'].str.contains('경기'),'경도'] = 127.00921653805827\n",
    "\n",
    "df_house_dosi.loc[df_house_dosi['지역명'].str.contains('부산'),'위도'] = 35.17974743433661\n",
    "df_house_dosi.loc[df_house_dosi['지역명'].str.contains('부산'),'경도'] = 129.07502991248603\n",
    "\n",
    "df_house_dosi.loc[df_house_dosi['지역명'].str.contains('대구'),'위도'] = 35.87138392116897\n",
    "df_house_dosi.loc[df_house_dosi['지역명'].str.contains('대구'),'경도'] = 128.60176122335534\n",
    "\n",
    "df_house_dosi.loc[df_house_dosi['지역명'].str.contains('강원'),'위도'] = 37.88533303351936\n",
    "df_house_dosi.loc[df_house_dosi['지역명'].str.contains('강원'),'경도'] = 127.7298086355599\n",
    "\n",
    "df_house_dosi.loc[df_house_dosi['지역명'].str.contains('충북'),'위도'] = 36.635633006337365\n",
    "df_house_dosi.loc[df_house_dosi['지역명'].str.contains('충북'),'경도'] = 127.49137384332671\n",
    "\n",
    "df_house_dosi.loc[df_house_dosi['지역명'].str.contains('전북'),'위도'] = 35.82029494433091\n",
    "df_house_dosi.loc[df_house_dosi['지역명'].str.contains('전북'),'경도'] = 127.10878586567907\n",
    "\n",
    "df_house_dosi.loc[df_house_dosi['지역명'].str.contains('전남'),'위도'] = 34.81611288144505\n",
    "df_house_dosi.loc[df_house_dosi['지역명'].str.contains('전남'),'경도'] = 126.46292419713417\n",
    "\n",
    "df_house_dosi.loc[df_house_dosi['지역명'].str.contains('경남'),'위도'] = 35.23826300945596 \n",
    "df_house_dosi.loc[df_house_dosi['지역명'].str.contains('경남'),'경도'] = 128.6924318378324"
   ]
  },
  {
   "cell_type": "code",
   "execution_count": null,
   "id": "d230a599",
   "metadata": {},
   "outputs": [],
   "source": [
    "#### 제대로 처리됬는지 확인"
   ]
  },
  {
   "cell_type": "code",
   "execution_count": null,
   "id": "a287aa48",
   "metadata": {},
   "outputs": [],
   "source": [
    "df_house_dosi['위도'].unique()"
   ]
  },
  {
   "cell_type": "code",
   "execution_count": null,
   "id": "740e3d91",
   "metadata": {},
   "outputs": [],
   "source": [
    "df_house_dosi_lat = df_house_dosi[(df_house_dosi['전용면적']=='102㎡~') & (df_house_dosi['연도'] == 2020) & (df_house_dosi['월'] == 12)]\n",
    "df_house_dosi_lat"
   ]
  },
  {
   "cell_type": "code",
   "execution_count": null,
   "id": "0442a647",
   "metadata": {},
   "outputs": [],
   "source": [
    "lat = df_house_dosi_lat['위도'].mean()\n",
    "long = df_house_dosi_lat['경도'].mean()"
   ]
  },
  {
   "cell_type": "code",
   "execution_count": null,
   "id": "9f70d036",
   "metadata": {},
   "outputs": [],
   "source": [
    "import folium"
   ]
  },
  {
   "cell_type": "code",
   "execution_count": null,
   "id": "f0375eb9",
   "metadata": {},
   "outputs": [],
   "source": [
    "\n",
    "m = folium.Map([lat,long],zoom_start=7)\n",
    "\n",
    "for i in df_house_dosi_lat.index:\n",
    "    sub_lat = df_house_dosi_lat.loc[i,'위도']\n",
    "    sub_long = df_house_dosi_lat.loc[i,'경도']\n",
    "    tooltip = df_house_dosi_lat.loc[i,'지역명'] + ' : ' + str(df_house_dosi_lat.loc[i,'평당분양가격']) + \"천원\"\n",
    "    \n",
    "    color = 'green'\n",
    "    \n",
    "    radius = df_house_dosi_lat.loc[i,'평당분양가격']/1000\n",
    "                     \n",
    "    folium.CircleMarker([sub_lat,sub_long],tooltip=tooltip,color=color,radius=radius, fill = True).add_to(m)\n",
    "\n",
    "# m.save('index.html')\n",
    "m"
   ]
  },
  {
   "cell_type": "code",
   "execution_count": null,
   "id": "61aba9f8",
   "metadata": {},
   "outputs": [],
   "source": []
  }
 ],
 "metadata": {
  "kernelspec": {
   "display_name": "Python 3",
   "language": "python",
   "name": "python3"
  },
  "language_info": {
   "codemirror_mode": {
    "name": "ipython",
    "version": 3
   },
   "file_extension": ".py",
   "mimetype": "text/x-python",
   "name": "python",
   "nbconvert_exporter": "python",
   "pygments_lexer": "ipython3",
   "version": "3.8.8"
  }
 },
 "nbformat": 4,
 "nbformat_minor": 5
}
