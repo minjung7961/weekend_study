{
 "cells": [
  {
   "cell_type": "markdown",
   "metadata": {},
   "source": [
    "# 주택도시보증공사_전국 신규 민간아파트 분양가격 동향"
   ]
  },
  {
   "cell_type": "code",
   "execution_count": 2,
   "metadata": {},
   "outputs": [],
   "source": [
    "import pandas as pd\n",
    "import matplotlib.pyplot as plt\n",
    "import seaborn as sns\n",
    "import numpy as np\n"
   ]
  },
  {
   "cell_type": "code",
   "execution_count": 3,
   "metadata": {},
   "outputs": [],
   "source": [
    "from IPython.display import set_matplotlib_formats\n",
    "set_matplotlib_formats('retina')\n",
    "plt.rc('font',family='Malgun Gothic')\n",
    "plt.rc('axes',unicode_minus=False)"
   ]
  },
  {
   "cell_type": "code",
   "execution_count": 4,
   "metadata": {},
   "outputs": [
    {
     "data": {
      "text/html": [
       "<div>\n",
       "<style scoped>\n",
       "    .dataframe tbody tr th:only-of-type {\n",
       "        vertical-align: middle;\n",
       "    }\n",
       "\n",
       "    .dataframe tbody tr th {\n",
       "        vertical-align: top;\n",
       "    }\n",
       "\n",
       "    .dataframe thead th {\n",
       "        text-align: right;\n",
       "    }\n",
       "</style>\n",
       "<table border=\"1\" class=\"dataframe\">\n",
       "  <thead>\n",
       "    <tr style=\"text-align: right;\">\n",
       "      <th></th>\n",
       "      <th>지역명</th>\n",
       "      <th>규모구분</th>\n",
       "      <th>연도</th>\n",
       "      <th>월</th>\n",
       "      <th>분양가격(㎡)</th>\n",
       "    </tr>\n",
       "  </thead>\n",
       "  <tbody>\n",
       "    <tr>\n",
       "      <th>0</th>\n",
       "      <td>서울</td>\n",
       "      <td>모든면적</td>\n",
       "      <td>2015</td>\n",
       "      <td>10</td>\n",
       "      <td>5841</td>\n",
       "    </tr>\n",
       "    <tr>\n",
       "      <th>1</th>\n",
       "      <td>서울</td>\n",
       "      <td>전용면적 60㎡이하</td>\n",
       "      <td>2015</td>\n",
       "      <td>10</td>\n",
       "      <td>5652</td>\n",
       "    </tr>\n",
       "    <tr>\n",
       "      <th>2</th>\n",
       "      <td>서울</td>\n",
       "      <td>전용면적 60㎡초과 85㎡이하</td>\n",
       "      <td>2015</td>\n",
       "      <td>10</td>\n",
       "      <td>5882</td>\n",
       "    </tr>\n",
       "    <tr>\n",
       "      <th>3</th>\n",
       "      <td>서울</td>\n",
       "      <td>전용면적 85㎡초과 102㎡이하</td>\n",
       "      <td>2015</td>\n",
       "      <td>10</td>\n",
       "      <td>5721</td>\n",
       "    </tr>\n",
       "    <tr>\n",
       "      <th>4</th>\n",
       "      <td>서울</td>\n",
       "      <td>전용면적 102㎡초과</td>\n",
       "      <td>2015</td>\n",
       "      <td>10</td>\n",
       "      <td>5879</td>\n",
       "    </tr>\n",
       "  </tbody>\n",
       "</table>\n",
       "</div>"
      ],
      "text/plain": [
       "  지역명               규모구분    연도   월 분양가격(㎡)\n",
       "0  서울               모든면적  2015  10    5841\n",
       "1  서울         전용면적 60㎡이하  2015  10    5652\n",
       "2  서울   전용면적 60㎡초과 85㎡이하  2015  10    5882\n",
       "3  서울  전용면적 85㎡초과 102㎡이하  2015  10    5721\n",
       "4  서울        전용면적 102㎡초과  2015  10    5879"
      ]
     },
     "execution_count": 4,
     "metadata": {},
     "output_type": "execute_result"
    }
   ],
   "source": [
    "df_house = pd.read_csv(\"주택도시보증공사_전국 신규 민간아파트 분양가격 동향_20210315.csv\",encoding='cp949')\n",
    "df_house.head()"
   ]
  },
  {
   "cell_type": "code",
   "execution_count": 5,
   "metadata": {},
   "outputs": [
    {
     "data": {
      "text/html": [
       "<div>\n",
       "<style scoped>\n",
       "    .dataframe tbody tr th:only-of-type {\n",
       "        vertical-align: middle;\n",
       "    }\n",
       "\n",
       "    .dataframe tbody tr th {\n",
       "        vertical-align: top;\n",
       "    }\n",
       "\n",
       "    .dataframe thead th {\n",
       "        text-align: right;\n",
       "    }\n",
       "</style>\n",
       "<table border=\"1\" class=\"dataframe\">\n",
       "  <thead>\n",
       "    <tr style=\"text-align: right;\">\n",
       "      <th></th>\n",
       "      <th>지역명</th>\n",
       "      <th>규모구분</th>\n",
       "      <th>연도</th>\n",
       "      <th>월</th>\n",
       "      <th>분양가격(㎡)</th>\n",
       "    </tr>\n",
       "  </thead>\n",
       "  <tbody>\n",
       "    <tr>\n",
       "      <th>5605</th>\n",
       "      <td>제주</td>\n",
       "      <td>모든면적</td>\n",
       "      <td>2021</td>\n",
       "      <td>3</td>\n",
       "      <td>7199</td>\n",
       "    </tr>\n",
       "    <tr>\n",
       "      <th>5606</th>\n",
       "      <td>제주</td>\n",
       "      <td>전용면적 60㎡이하</td>\n",
       "      <td>2021</td>\n",
       "      <td>3</td>\n",
       "      <td>4686</td>\n",
       "    </tr>\n",
       "    <tr>\n",
       "      <th>5607</th>\n",
       "      <td>제주</td>\n",
       "      <td>전용면적 60㎡초과 85㎡이하</td>\n",
       "      <td>2021</td>\n",
       "      <td>3</td>\n",
       "      <td>7180</td>\n",
       "    </tr>\n",
       "    <tr>\n",
       "      <th>5608</th>\n",
       "      <td>제주</td>\n",
       "      <td>전용면적 85㎡초과 102㎡이하</td>\n",
       "      <td>2021</td>\n",
       "      <td>3</td>\n",
       "      <td>NaN</td>\n",
       "    </tr>\n",
       "    <tr>\n",
       "      <th>5609</th>\n",
       "      <td>제주</td>\n",
       "      <td>전용면적 102㎡초과</td>\n",
       "      <td>2021</td>\n",
       "      <td>3</td>\n",
       "      <td>7727</td>\n",
       "    </tr>\n",
       "  </tbody>\n",
       "</table>\n",
       "</div>"
      ],
      "text/plain": [
       "     지역명               규모구분    연도  월 분양가격(㎡)\n",
       "5605  제주               모든면적  2021  3    7199\n",
       "5606  제주         전용면적 60㎡이하  2021  3    4686\n",
       "5607  제주   전용면적 60㎡초과 85㎡이하  2021  3    7180\n",
       "5608  제주  전용면적 85㎡초과 102㎡이하  2021  3     NaN\n",
       "5609  제주        전용면적 102㎡초과  2021  3    7727"
      ]
     },
     "execution_count": 5,
     "metadata": {},
     "output_type": "execute_result"
    }
   ],
   "source": [
    "df_house.tail()"
   ]
  },
  {
   "cell_type": "code",
   "execution_count": 6,
   "metadata": {},
   "outputs": [
    {
     "name": "stdout",
     "output_type": "stream",
     "text": [
      "<class 'pandas.core.frame.DataFrame'>\n",
      "RangeIndex: 5610 entries, 0 to 5609\n",
      "Data columns (total 5 columns):\n",
      " #   Column   Non-Null Count  Dtype \n",
      "---  ------   --------------  ----- \n",
      " 0   지역명      5610 non-null   object\n",
      " 1   규모구분     5610 non-null   object\n",
      " 2   연도       5610 non-null   int64 \n",
      " 3   월        5610 non-null   int64 \n",
      " 4   분양가격(㎡)  5170 non-null   object\n",
      "dtypes: int64(2), object(3)\n",
      "memory usage: 219.3+ KB\n"
     ]
    }
   ],
   "source": [
    "df_house.info()"
   ]
  },
  {
   "cell_type": "markdown",
   "metadata": {},
   "source": [
    "#### 널값 확인"
   ]
  },
  {
   "cell_type": "code",
   "execution_count": 7,
   "metadata": {},
   "outputs": [
    {
     "data": {
      "text/plain": [
       "지역명          0\n",
       "규모구분         0\n",
       "연도           0\n",
       "월            0\n",
       "분양가격(㎡)    440\n",
       "dtype: int64"
      ]
     },
     "execution_count": 7,
     "metadata": {},
     "output_type": "execute_result"
    }
   ],
   "source": [
    "df_house.isnull().sum()"
   ]
  },
  {
   "cell_type": "code",
   "execution_count": 8,
   "metadata": {},
   "outputs": [
    {
     "data": {
      "text/plain": [
       "<AxesSubplot:>"
      ]
     },
     "execution_count": 8,
     "metadata": {},
     "output_type": "execute_result"
    },
    {
     "data": {
      "image/png": "[encoded data removed]",
      "text/plain": [
       "<Figure size 864x720 with 1 Axes>"
      ]
     },
     "metadata": {
      "image/png": {
       "height": 575,
       "width": 683
      },
      "needs_background": "light"
     },
     "output_type": "display_data"
    }
   ],
   "source": [
    "plt.figure(figsize=(12,10))\n",
    "sns.heatmap(df_house.isnull(),yticklabels=False,cbar=False)"
   ]
  },
  {
   "cell_type": "markdown",
   "metadata": {},
   "source": [
    "#### 컬럼 내용 확인"
   ]
  },
  {
   "cell_type": "code",
   "execution_count": 9,
   "metadata": {},
   "outputs": [
    {
     "name": "stdout",
     "output_type": "stream",
     "text": [
      "지역명 :\n",
      "\n",
      "전남    330\n",
      "충북    330\n",
      "대구    330\n",
      "경남    330\n",
      "인천    330\n",
      "세종    330\n",
      "제주    330\n",
      "충남    330\n",
      "서울    330\n",
      "경기    330\n",
      "대전    330\n",
      "울산    330\n",
      "광주    330\n",
      "전북    330\n",
      "부산    330\n",
      "강원    330\n",
      "경북    330\n",
      "Name: 지역명, dtype: int64 \n",
      "\n",
      "규모구분 :\n",
      "\n",
      "전용면적 60㎡이하           1122\n",
      "모든면적                 1122\n",
      "전용면적 60㎡초과 85㎡이하     1122\n",
      "전용면적 102㎡초과          1122\n",
      "전용면적 85㎡초과 102㎡이하    1122\n",
      "Name: 규모구분, dtype: int64 \n",
      "\n",
      "연도 :\n",
      "\n",
      "2019    1020\n",
      "2018    1020\n",
      "2017    1020\n",
      "2020    1020\n",
      "2016    1020\n",
      "2015     255\n",
      "2021     255\n",
      "Name: 연도, dtype: int64 \n",
      "\n",
      "월 :\n",
      "\n",
      "11    510\n",
      "3     510\n",
      "10    510\n",
      "2     510\n",
      "1     510\n",
      "12    510\n",
      "7     425\n",
      "6     425\n",
      "9     425\n",
      "5     425\n",
      "8     425\n",
      "4     425\n",
      "Name: 월, dtype: int64 \n",
      "\n",
      "분양가격(㎡) :\n",
      "\n",
      "3395    18\n",
      "2221    17\n",
      "2667    17\n",
      "2743    16\n",
      "        16\n",
      "        ..\n",
      "2722     1\n",
      "6508     1\n",
      "3461     1\n",
      "4087     1\n",
      "3630     1\n",
      "Name: 분양가격(㎡), Length: 2114, dtype: int64 \n",
      "\n"
     ]
    }
   ],
   "source": [
    "cols = df_house.columns\n",
    "for i in cols:\n",
    "    print(i,':\\n')\n",
    "    print(df_house[i].value_counts(),'\\n')"
   ]
  },
  {
   "cell_type": "markdown",
   "metadata": {},
   "source": [
    "## 데이터 전처리"
   ]
  },
  {
   "cell_type": "markdown",
   "metadata": {},
   "source": [
    "#### 위에서 연도값의 2015년 2021년이 상대적으로 작은 것 확인가능 전처리해줌"
   ]
  },
  {
   "cell_type": "code",
   "execution_count": 10,
   "metadata": {},
   "outputs": [
    {
     "data": {
      "text/plain": [
       "2019    1020\n",
       "2018    1020\n",
       "2017    1020\n",
       "2020    1020\n",
       "2016    1020\n",
       "Name: 연도, dtype: int64"
      ]
     },
     "execution_count": 10,
     "metadata": {},
     "output_type": "execute_result"
    }
   ],
   "source": [
    "df_house = df_house[df_house['연도'] != 2015].copy()\n",
    "df_house = df_house[df_house['연도'] != 2021].copy()\n",
    "df_house['연도'].value_counts()"
   ]
  },
  {
   "cell_type": "markdown",
   "metadata": {},
   "source": [
    "#### 분양가격 평당 분양가격으로 변경해줌"
   ]
  },
  {
   "cell_type": "code",
   "execution_count": 11,
   "metadata": {},
   "outputs": [
    {
     "data": {
      "text/html": [
       "<div>\n",
       "<style scoped>\n",
       "    .dataframe tbody tr th:only-of-type {\n",
       "        vertical-align: middle;\n",
       "    }\n",
       "\n",
       "    .dataframe tbody tr th {\n",
       "        vertical-align: top;\n",
       "    }\n",
       "\n",
       "    .dataframe thead th {\n",
       "        text-align: right;\n",
       "    }\n",
       "</style>\n",
       "<table border=\"1\" class=\"dataframe\">\n",
       "  <thead>\n",
       "    <tr style=\"text-align: right;\">\n",
       "      <th></th>\n",
       "      <th>지역명</th>\n",
       "      <th>규모구분</th>\n",
       "      <th>연도</th>\n",
       "      <th>월</th>\n",
       "      <th>분양가격(㎡)</th>\n",
       "      <th>분양가격</th>\n",
       "    </tr>\n",
       "  </thead>\n",
       "  <tbody>\n",
       "    <tr>\n",
       "      <th>255</th>\n",
       "      <td>서울</td>\n",
       "      <td>모든면적</td>\n",
       "      <td>2016</td>\n",
       "      <td>1</td>\n",
       "      <td>6108</td>\n",
       "      <td>6108.0</td>\n",
       "    </tr>\n",
       "    <tr>\n",
       "      <th>256</th>\n",
       "      <td>서울</td>\n",
       "      <td>전용면적 60㎡이하</td>\n",
       "      <td>2016</td>\n",
       "      <td>1</td>\n",
       "      <td>6427</td>\n",
       "      <td>6427.0</td>\n",
       "    </tr>\n",
       "    <tr>\n",
       "      <th>257</th>\n",
       "      <td>서울</td>\n",
       "      <td>전용면적 60㎡초과 85㎡이하</td>\n",
       "      <td>2016</td>\n",
       "      <td>1</td>\n",
       "      <td>6036</td>\n",
       "      <td>6036.0</td>\n",
       "    </tr>\n",
       "    <tr>\n",
       "      <th>258</th>\n",
       "      <td>서울</td>\n",
       "      <td>전용면적 85㎡초과 102㎡이하</td>\n",
       "      <td>2016</td>\n",
       "      <td>1</td>\n",
       "      <td>6513</td>\n",
       "      <td>6513.0</td>\n",
       "    </tr>\n",
       "    <tr>\n",
       "      <th>259</th>\n",
       "      <td>서울</td>\n",
       "      <td>전용면적 102㎡초과</td>\n",
       "      <td>2016</td>\n",
       "      <td>1</td>\n",
       "      <td>6551</td>\n",
       "      <td>6551.0</td>\n",
       "    </tr>\n",
       "  </tbody>\n",
       "</table>\n",
       "</div>"
      ],
      "text/plain": [
       "    지역명               규모구분    연도  월 분양가격(㎡)    분양가격\n",
       "255  서울               모든면적  2016  1    6108  6108.0\n",
       "256  서울         전용면적 60㎡이하  2016  1    6427  6427.0\n",
       "257  서울   전용면적 60㎡초과 85㎡이하  2016  1    6036  6036.0\n",
       "258  서울  전용면적 85㎡초과 102㎡이하  2016  1    6513  6513.0\n",
       "259  서울        전용면적 102㎡초과  2016  1    6551  6551.0"
      ]
     },
     "execution_count": 11,
     "metadata": {},
     "output_type": "execute_result"
    }
   ],
   "source": [
    "#### pd.to_numeric 을 통해 데이터의 타입을 변경\n",
    "df_house['분양가격'] = pd.to_numeric(df_house['분양가격(㎡)'], errors='coerce')\n",
    "df_house.head()"
   ]
  },
  {
   "cell_type": "code",
   "execution_count": 12,
   "metadata": {},
   "outputs": [],
   "source": [
    "#### 분양가격 평당 분양가격으로 변경해줌\n",
    "df_house['평당분양가격'] = df_house['분양가격'] * 3.3"
   ]
  },
  {
   "cell_type": "code",
   "execution_count": 13,
   "metadata": {},
   "outputs": [
    {
     "data": {
      "text/plain": [
       "255     20156.4\n",
       "256     21209.1\n",
       "257     19918.8\n",
       "258     21492.9\n",
       "259     21618.3\n",
       "         ...   \n",
       "5350    15338.4\n",
       "5351    14397.9\n",
       "5352    15378.0\n",
       "5353        NaN\n",
       "5354        NaN\n",
       "Name: 평당분양가격, Length: 5100, dtype: float64"
      ]
     },
     "execution_count": 13,
     "metadata": {},
     "output_type": "execute_result"
    }
   ],
   "source": [
    "df_house['평당분양가격']"
   ]
  },
  {
   "cell_type": "code",
   "execution_count": 14,
   "metadata": {},
   "outputs": [
    {
     "name": "stdout",
     "output_type": "stream",
     "text": [
      "<class 'pandas.core.frame.DataFrame'>\n",
      "Int64Index: 5100 entries, 255 to 5354\n",
      "Data columns (total 7 columns):\n",
      " #   Column   Non-Null Count  Dtype  \n",
      "---  ------   --------------  -----  \n",
      " 0   지역명      5100 non-null   object \n",
      " 1   규모구분     5100 non-null   object \n",
      " 2   연도       5100 non-null   int64  \n",
      " 3   월        5100 non-null   int64  \n",
      " 4   분양가격(㎡)  4676 non-null   object \n",
      " 5   분양가격     4596 non-null   float64\n",
      " 6   평당분양가격   4596 non-null   float64\n",
      "dtypes: float64(2), int64(2), object(3)\n",
      "memory usage: 318.8+ KB\n"
     ]
    }
   ],
   "source": [
    "df_house.info()"
   ]
  },
  {
   "cell_type": "markdown",
   "metadata": {},
   "source": [
    "#### 이제 규모구분 컬럼내용 변경필요"
   ]
  },
  {
   "cell_type": "code",
   "execution_count": 15,
   "metadata": {},
   "outputs": [
    {
     "data": {
      "text/plain": [
       "모든면적                 1020\n",
       "전용면적 60㎡이하           1020\n",
       "전용면적 60㎡초과 85㎡이하     1020\n",
       "전용면적 102㎡초과          1020\n",
       "전용면적 85㎡초과 102㎡이하    1020\n",
       "Name: 규모구분, dtype: int64"
      ]
     },
     "execution_count": 15,
     "metadata": {},
     "output_type": "execute_result"
    }
   ],
   "source": [
    "df_house['규모구분'].value_counts()"
   ]
  },
  {
   "cell_type": "code",
   "execution_count": 16,
   "metadata": {},
   "outputs": [
    {
     "data": {
      "text/plain": [
       "255         모든면적\n",
       "256          60㎡\n",
       "257      60㎡~85㎡\n",
       "258     85㎡~102㎡\n",
       "259        102㎡~\n",
       "          ...   \n",
       "5350        모든면적\n",
       "5351         60㎡\n",
       "5352     60㎡~85㎡\n",
       "5353    85㎡~102㎡\n",
       "5354       102㎡~\n",
       "Name: 전용면적, Length: 5100, dtype: object"
      ]
     },
     "execution_count": 16,
     "metadata": {},
     "output_type": "execute_result"
    }
   ],
   "source": [
    "df_house['전용면적'] = df_house['규모구분'].str.replace('전용면적',\"\")\n",
    "df_house['전용면적'] = df_house['전용면적'].str.replace('초과','~')\n",
    "df_house['전용면적'] = df_house['전용면적'].str.replace('이하','')\n",
    "df_house['전용면적'] = df_house['전용면적'].str.replace(' ','').str.strip()\n",
    "df_house['전용면적']"
   ]
  },
  {
   "cell_type": "code",
   "execution_count": 17,
   "metadata": {},
   "outputs": [
    {
     "data": {
      "text/html": [
       "<div>\n",
       "<style scoped>\n",
       "    .dataframe tbody tr th:only-of-type {\n",
       "        vertical-align: middle;\n",
       "    }\n",
       "\n",
       "    .dataframe tbody tr th {\n",
       "        vertical-align: top;\n",
       "    }\n",
       "\n",
       "    .dataframe thead th {\n",
       "        text-align: right;\n",
       "    }\n",
       "</style>\n",
       "<table border=\"1\" class=\"dataframe\">\n",
       "  <thead>\n",
       "    <tr style=\"text-align: right;\">\n",
       "      <th></th>\n",
       "      <th>지역명</th>\n",
       "      <th>규모구분</th>\n",
       "      <th>연도</th>\n",
       "      <th>월</th>\n",
       "      <th>분양가격(㎡)</th>\n",
       "      <th>분양가격</th>\n",
       "      <th>평당분양가격</th>\n",
       "      <th>전용면적</th>\n",
       "    </tr>\n",
       "  </thead>\n",
       "  <tbody>\n",
       "    <tr>\n",
       "      <th>255</th>\n",
       "      <td>서울</td>\n",
       "      <td>모든면적</td>\n",
       "      <td>2016</td>\n",
       "      <td>1</td>\n",
       "      <td>6108</td>\n",
       "      <td>6108.0</td>\n",
       "      <td>20156.4</td>\n",
       "      <td>모든면적</td>\n",
       "    </tr>\n",
       "    <tr>\n",
       "      <th>256</th>\n",
       "      <td>서울</td>\n",
       "      <td>전용면적 60㎡이하</td>\n",
       "      <td>2016</td>\n",
       "      <td>1</td>\n",
       "      <td>6427</td>\n",
       "      <td>6427.0</td>\n",
       "      <td>21209.1</td>\n",
       "      <td>60㎡</td>\n",
       "    </tr>\n",
       "    <tr>\n",
       "      <th>257</th>\n",
       "      <td>서울</td>\n",
       "      <td>전용면적 60㎡초과 85㎡이하</td>\n",
       "      <td>2016</td>\n",
       "      <td>1</td>\n",
       "      <td>6036</td>\n",
       "      <td>6036.0</td>\n",
       "      <td>19918.8</td>\n",
       "      <td>60㎡~85㎡</td>\n",
       "    </tr>\n",
       "    <tr>\n",
       "      <th>258</th>\n",
       "      <td>서울</td>\n",
       "      <td>전용면적 85㎡초과 102㎡이하</td>\n",
       "      <td>2016</td>\n",
       "      <td>1</td>\n",
       "      <td>6513</td>\n",
       "      <td>6513.0</td>\n",
       "      <td>21492.9</td>\n",
       "      <td>85㎡~102㎡</td>\n",
       "    </tr>\n",
       "    <tr>\n",
       "      <th>259</th>\n",
       "      <td>서울</td>\n",
       "      <td>전용면적 102㎡초과</td>\n",
       "      <td>2016</td>\n",
       "      <td>1</td>\n",
       "      <td>6551</td>\n",
       "      <td>6551.0</td>\n",
       "      <td>21618.3</td>\n",
       "      <td>102㎡~</td>\n",
       "    </tr>\n",
       "  </tbody>\n",
       "</table>\n",
       "</div>"
      ],
      "text/plain": [
       "    지역명               규모구분    연도  월 분양가격(㎡)    분양가격   평당분양가격      전용면적\n",
       "255  서울               모든면적  2016  1    6108  6108.0  20156.4      모든면적\n",
       "256  서울         전용면적 60㎡이하  2016  1    6427  6427.0  21209.1       60㎡\n",
       "257  서울   전용면적 60㎡초과 85㎡이하  2016  1    6036  6036.0  19918.8   60㎡~85㎡\n",
       "258  서울  전용면적 85㎡초과 102㎡이하  2016  1    6513  6513.0  21492.9  85㎡~102㎡\n",
       "259  서울        전용면적 102㎡초과  2016  1    6551  6551.0  21618.3     102㎡~"
      ]
     },
     "execution_count": 17,
     "metadata": {},
     "output_type": "execute_result"
    }
   ],
   "source": [
    "df_house.head()"
   ]
  },
  {
   "cell_type": "markdown",
   "metadata": {},
   "source": [
    "#### 필요없는 컬럼 제거"
   ]
  },
  {
   "cell_type": "code",
   "execution_count": 18,
   "metadata": {},
   "outputs": [
    {
     "data": {
      "text/html": [
       "<div>\n",
       "<style scoped>\n",
       "    .dataframe tbody tr th:only-of-type {\n",
       "        vertical-align: middle;\n",
       "    }\n",
       "\n",
       "    .dataframe tbody tr th {\n",
       "        vertical-align: top;\n",
       "    }\n",
       "\n",
       "    .dataframe thead th {\n",
       "        text-align: right;\n",
       "    }\n",
       "</style>\n",
       "<table border=\"1\" class=\"dataframe\">\n",
       "  <thead>\n",
       "    <tr style=\"text-align: right;\">\n",
       "      <th></th>\n",
       "      <th>지역명</th>\n",
       "      <th>연도</th>\n",
       "      <th>월</th>\n",
       "      <th>분양가격</th>\n",
       "      <th>평당분양가격</th>\n",
       "      <th>전용면적</th>\n",
       "    </tr>\n",
       "  </thead>\n",
       "  <tbody>\n",
       "    <tr>\n",
       "      <th>255</th>\n",
       "      <td>서울</td>\n",
       "      <td>2016</td>\n",
       "      <td>1</td>\n",
       "      <td>6108.0</td>\n",
       "      <td>20156.4</td>\n",
       "      <td>모든면적</td>\n",
       "    </tr>\n",
       "    <tr>\n",
       "      <th>256</th>\n",
       "      <td>서울</td>\n",
       "      <td>2016</td>\n",
       "      <td>1</td>\n",
       "      <td>6427.0</td>\n",
       "      <td>21209.1</td>\n",
       "      <td>60㎡</td>\n",
       "    </tr>\n",
       "    <tr>\n",
       "      <th>257</th>\n",
       "      <td>서울</td>\n",
       "      <td>2016</td>\n",
       "      <td>1</td>\n",
       "      <td>6036.0</td>\n",
       "      <td>19918.8</td>\n",
       "      <td>60㎡~85㎡</td>\n",
       "    </tr>\n",
       "    <tr>\n",
       "      <th>258</th>\n",
       "      <td>서울</td>\n",
       "      <td>2016</td>\n",
       "      <td>1</td>\n",
       "      <td>6513.0</td>\n",
       "      <td>21492.9</td>\n",
       "      <td>85㎡~102㎡</td>\n",
       "    </tr>\n",
       "    <tr>\n",
       "      <th>259</th>\n",
       "      <td>서울</td>\n",
       "      <td>2016</td>\n",
       "      <td>1</td>\n",
       "      <td>6551.0</td>\n",
       "      <td>21618.3</td>\n",
       "      <td>102㎡~</td>\n",
       "    </tr>\n",
       "    <tr>\n",
       "      <th>...</th>\n",
       "      <td>...</td>\n",
       "      <td>...</td>\n",
       "      <td>...</td>\n",
       "      <td>...</td>\n",
       "      <td>...</td>\n",
       "      <td>...</td>\n",
       "    </tr>\n",
       "    <tr>\n",
       "      <th>5350</th>\n",
       "      <td>제주</td>\n",
       "      <td>2020</td>\n",
       "      <td>12</td>\n",
       "      <td>4648.0</td>\n",
       "      <td>15338.4</td>\n",
       "      <td>모든면적</td>\n",
       "    </tr>\n",
       "    <tr>\n",
       "      <th>5351</th>\n",
       "      <td>제주</td>\n",
       "      <td>2020</td>\n",
       "      <td>12</td>\n",
       "      <td>4363.0</td>\n",
       "      <td>14397.9</td>\n",
       "      <td>60㎡</td>\n",
       "    </tr>\n",
       "    <tr>\n",
       "      <th>5352</th>\n",
       "      <td>제주</td>\n",
       "      <td>2020</td>\n",
       "      <td>12</td>\n",
       "      <td>4660.0</td>\n",
       "      <td>15378.0</td>\n",
       "      <td>60㎡~85㎡</td>\n",
       "    </tr>\n",
       "    <tr>\n",
       "      <th>5353</th>\n",
       "      <td>제주</td>\n",
       "      <td>2020</td>\n",
       "      <td>12</td>\n",
       "      <td>NaN</td>\n",
       "      <td>NaN</td>\n",
       "      <td>85㎡~102㎡</td>\n",
       "    </tr>\n",
       "    <tr>\n",
       "      <th>5354</th>\n",
       "      <td>제주</td>\n",
       "      <td>2020</td>\n",
       "      <td>12</td>\n",
       "      <td>NaN</td>\n",
       "      <td>NaN</td>\n",
       "      <td>102㎡~</td>\n",
       "    </tr>\n",
       "  </tbody>\n",
       "</table>\n",
       "<p>5100 rows × 6 columns</p>\n",
       "</div>"
      ],
      "text/plain": [
       "     지역명    연도   월    분양가격   평당분양가격      전용면적\n",
       "255   서울  2016   1  6108.0  20156.4      모든면적\n",
       "256   서울  2016   1  6427.0  21209.1       60㎡\n",
       "257   서울  2016   1  6036.0  19918.8   60㎡~85㎡\n",
       "258   서울  2016   1  6513.0  21492.9  85㎡~102㎡\n",
       "259   서울  2016   1  6551.0  21618.3     102㎡~\n",
       "...   ..   ...  ..     ...      ...       ...\n",
       "5350  제주  2020  12  4648.0  15338.4      모든면적\n",
       "5351  제주  2020  12  4363.0  14397.9       60㎡\n",
       "5352  제주  2020  12  4660.0  15378.0   60㎡~85㎡\n",
       "5353  제주  2020  12     NaN      NaN  85㎡~102㎡\n",
       "5354  제주  2020  12     NaN      NaN     102㎡~\n",
       "\n",
       "[5100 rows x 6 columns]"
      ]
     },
     "execution_count": 18,
     "metadata": {},
     "output_type": "execute_result"
    }
   ],
   "source": [
    "df_house = df_house.drop(['규모구분','분양가격(㎡)'],axis=1)\n",
    "df_house"
   ]
  },
  {
   "cell_type": "code",
   "execution_count": 19,
   "metadata": {},
   "outputs": [
    {
     "name": "stdout",
     "output_type": "stream",
     "text": [
      "<class 'pandas.core.frame.DataFrame'>\n",
      "Int64Index: 5100 entries, 255 to 5354\n",
      "Data columns (total 6 columns):\n",
      " #   Column  Non-Null Count  Dtype  \n",
      "---  ------  --------------  -----  \n",
      " 0   지역명     5100 non-null   object \n",
      " 1   연도      5100 non-null   int64  \n",
      " 2   월       5100 non-null   int64  \n",
      " 3   분양가격    4596 non-null   float64\n",
      " 4   평당분양가격  4596 non-null   float64\n",
      " 5   전용면적    5100 non-null   object \n",
      "dtypes: float64(2), int64(2), object(2)\n",
      "memory usage: 278.9+ KB\n"
     ]
    }
   ],
   "source": [
    "df_house.info()"
   ]
  },
  {
   "cell_type": "code",
   "execution_count": 20,
   "metadata": {},
   "outputs": [
    {
     "data": {
      "text/plain": [
       "전용면적   지역명\n",
       "102㎡~  강원     2848.288136\n",
       "       경기     4587.813559\n",
       "       경남     3134.269231\n",
       "       경북     2848.196429\n",
       "       광주     3606.857143\n",
       "                 ...     \n",
       "모든면적   전남     2309.135593\n",
       "       전북     2282.101695\n",
       "       제주     3551.745763\n",
       "       충남     2443.220339\n",
       "       충북     2242.067797\n",
       "Name: 분양가격, Length: 85, dtype: float64"
      ]
     },
     "execution_count": 20,
     "metadata": {},
     "output_type": "execute_result"
    }
   ],
   "source": [
    "df_house.groupby(['전용면적','지역명'])['분양가격'].mean()"
   ]
  },
  {
   "cell_type": "code",
   "execution_count": 21,
   "metadata": {},
   "outputs": [
    {
     "data": {
      "text/plain": [
       "array(['서울', '인천', '경기', '부산', '대구', '광주', '대전', '울산', '세종', '강원', '충북',\n",
       "       '충남', '전북', '전남', '경북', '경남', '제주'], dtype=object)"
      ]
     },
     "execution_count": 21,
     "metadata": {},
     "output_type": "execute_result"
    }
   ],
   "source": [
    "korea = df_house['지역명'].unique()\n",
    "korea"
   ]
  },
  {
   "cell_type": "code",
   "execution_count": 22,
   "metadata": {},
   "outputs": [
    {
     "name": "stdout",
     "output_type": "stream",
     "text": [
      "서울  지역 널 갯수는 : 5 \n",
      "\n",
      "인천  지역 널 갯수는 : 9 \n",
      "\n",
      "경기  지역 널 갯수는 : 5 \n",
      "\n",
      "부산  지역 널 갯수는 : 5 \n",
      "\n",
      "대구  지역 널 갯수는 : 13 \n",
      "\n",
      "광주  지역 널 갯수는 : 52 \n",
      "\n",
      "대전  지역 널 갯수는 : 76 \n",
      "\n",
      "울산  지역 널 갯수는 : 122 \n",
      "\n",
      "세종  지역 널 갯수는 : 60 \n",
      "\n",
      "강원  지역 널 갯수는 : 17 \n",
      "\n",
      "충북  지역 널 갯수는 : 7 \n",
      "\n",
      "충남  지역 널 갯수는 : 21 \n",
      "\n",
      "전북  지역 널 갯수는 : 7 \n",
      "\n",
      "전남  지역 널 갯수는 : 11 \n",
      "\n",
      "경북  지역 널 갯수는 : 26 \n",
      "\n",
      "경남  지역 널 갯수는 : 14 \n",
      "\n",
      "제주  지역 널 갯수는 : 54 \n",
      "\n"
     ]
    }
   ],
   "source": [
    "for i in korea:\n",
    "    j = df_house[df_house['지역명'] == i].copy()\n",
    "    print(i,' 지역 널 갯수는 :', end=' ')\n",
    "    print(j['분양가격'].isnull().sum(),'\\n')"
   ]
  },
  {
   "cell_type": "markdown",
   "metadata": {},
   "source": [
    "#### 위에서 널값이 20개 이하인 지역만 가져와서 전처리 할예정 집값의 기준을 마음대로 설정할수 없어 널값 최대한 줄이기 위함"
   ]
  },
  {
   "cell_type": "code",
   "execution_count": 23,
   "metadata": {},
   "outputs": [
    {
     "name": "stdout",
     "output_type": "stream",
     "text": [
      "서울  지역 널 갯수는 : 5 \n",
      "\n",
      "인천  지역 널 갯수는 : 9 \n",
      "\n",
      "경기  지역 널 갯수는 : 5 \n",
      "\n",
      "부산  지역 널 갯수는 : 5 \n",
      "\n",
      "대구  지역 널 갯수는 : 13 \n",
      "\n",
      "강원  지역 널 갯수는 : 17 \n",
      "\n",
      "충북  지역 널 갯수는 : 7 \n",
      "\n",
      "전북  지역 널 갯수는 : 7 \n",
      "\n",
      "전남  지역 널 갯수는 : 11 \n",
      "\n",
      "경남  지역 널 갯수는 : 14 \n",
      "\n"
     ]
    }
   ],
   "source": [
    "for i in korea:\n",
    "    j = df_house[df_house['지역명'] == i].copy()\n",
    "    if j['분양가격'].isnull().sum() <= 20:\n",
    "        print(i,' 지역 널 갯수는 :', end=' ')\n",
    "        print(j['분양가격'].isnull().sum(),'\\n')"
   ]
  },
  {
   "cell_type": "code",
   "execution_count": 24,
   "metadata": {},
   "outputs": [],
   "source": [
    "df_house_dosi = df_house.loc[(df_house['지역명'] == '서울') | (df_house['지역명'] == '인천') |\n",
    "                             (df_house['지역명'] == '경기') | (df_house['지역명'] == '부산') |\n",
    "                             (df_house['지역명'] == '대구') | (df_house['지역명'] == '강원') |\n",
    "                             (df_house['지역명'] == '충북') | (df_house['지역명'] == '전북') |\n",
    "                             (df_house['지역명'] == '전남') | (df_house['지역명'] == '경남') ].copy()"
   ]
  },
  {
   "cell_type": "code",
   "execution_count": 25,
   "metadata": {},
   "outputs": [
    {
     "data": {
      "text/plain": [
       "지역명        0\n",
       "연도         0\n",
       "월          0\n",
       "분양가격      93\n",
       "평당분양가격    93\n",
       "전용면적       0\n",
       "dtype: int64"
      ]
     },
     "execution_count": 25,
     "metadata": {},
     "output_type": "execute_result"
    }
   ],
   "source": [
    "df_house_dosi.isnull().sum()"
   ]
  },
  {
   "cell_type": "code",
   "execution_count": 26,
   "metadata": {},
   "outputs": [
    {
     "data": {
      "text/plain": [
       "Int64Index([ 255,  256,  257,  258,  259,  260,  261,  262,  263,  264,\n",
       "            ...\n",
       "            5335, 5336, 5337, 5338, 5339, 5345, 5346, 5347, 5348, 5349],\n",
       "           dtype='int64', length=3000)"
      ]
     },
     "execution_count": 26,
     "metadata": {},
     "output_type": "execute_result"
    }
   ],
   "source": [
    "df_house_dosi.index"
   ]
  },
  {
   "cell_type": "code",
   "execution_count": 27,
   "metadata": {},
   "outputs": [
    {
     "data": {
      "text/html": [
       "<div>\n",
       "<style scoped>\n",
       "    .dataframe tbody tr th:only-of-type {\n",
       "        vertical-align: middle;\n",
       "    }\n",
       "\n",
       "    .dataframe tbody tr th {\n",
       "        vertical-align: top;\n",
       "    }\n",
       "\n",
       "    .dataframe thead th {\n",
       "        text-align: right;\n",
       "    }\n",
       "</style>\n",
       "<table border=\"1\" class=\"dataframe\">\n",
       "  <thead>\n",
       "    <tr style=\"text-align: right;\">\n",
       "      <th></th>\n",
       "      <th>지역명</th>\n",
       "      <th>연도</th>\n",
       "      <th>월</th>\n",
       "      <th>분양가격</th>\n",
       "      <th>평당분양가격</th>\n",
       "      <th>전용면적</th>\n",
       "    </tr>\n",
       "  </thead>\n",
       "  <tbody>\n",
       "    <tr>\n",
       "      <th>255</th>\n",
       "      <td>서울</td>\n",
       "      <td>2016</td>\n",
       "      <td>1</td>\n",
       "      <td>6108.0</td>\n",
       "      <td>20156.4</td>\n",
       "      <td>모든면적</td>\n",
       "    </tr>\n",
       "    <tr>\n",
       "      <th>256</th>\n",
       "      <td>서울</td>\n",
       "      <td>2016</td>\n",
       "      <td>1</td>\n",
       "      <td>6427.0</td>\n",
       "      <td>21209.1</td>\n",
       "      <td>60㎡</td>\n",
       "    </tr>\n",
       "    <tr>\n",
       "      <th>257</th>\n",
       "      <td>서울</td>\n",
       "      <td>2016</td>\n",
       "      <td>1</td>\n",
       "      <td>6036.0</td>\n",
       "      <td>19918.8</td>\n",
       "      <td>60㎡~85㎡</td>\n",
       "    </tr>\n",
       "    <tr>\n",
       "      <th>258</th>\n",
       "      <td>서울</td>\n",
       "      <td>2016</td>\n",
       "      <td>1</td>\n",
       "      <td>6513.0</td>\n",
       "      <td>21492.9</td>\n",
       "      <td>85㎡~102㎡</td>\n",
       "    </tr>\n",
       "    <tr>\n",
       "      <th>259</th>\n",
       "      <td>서울</td>\n",
       "      <td>2016</td>\n",
       "      <td>1</td>\n",
       "      <td>6551.0</td>\n",
       "      <td>21618.3</td>\n",
       "      <td>102㎡~</td>\n",
       "    </tr>\n",
       "  </tbody>\n",
       "</table>\n",
       "</div>"
      ],
      "text/plain": [
       "    지역명    연도  월    분양가격   평당분양가격      전용면적\n",
       "255  서울  2016  1  6108.0  20156.4      모든면적\n",
       "256  서울  2016  1  6427.0  21209.1       60㎡\n",
       "257  서울  2016  1  6036.0  19918.8   60㎡~85㎡\n",
       "258  서울  2016  1  6513.0  21492.9  85㎡~102㎡\n",
       "259  서울  2016  1  6551.0  21618.3     102㎡~"
      ]
     },
     "execution_count": 27,
     "metadata": {},
     "output_type": "execute_result"
    }
   ],
   "source": [
    "df_house_dosi.head()"
   ]
  },
  {
   "cell_type": "markdown",
   "metadata": {},
   "source": [
    "#### 지역별로 나누어서 평당분양가격 전처리 할 예정"
   ]
  },
  {
   "cell_type": "code",
   "execution_count": 28,
   "metadata": {},
   "outputs": [
    {
     "data": {
      "text/html": [
       "<div>\n",
       "<style scoped>\n",
       "    .dataframe tbody tr th:only-of-type {\n",
       "        vertical-align: middle;\n",
       "    }\n",
       "\n",
       "    .dataframe tbody tr th {\n",
       "        vertical-align: top;\n",
       "    }\n",
       "\n",
       "    .dataframe thead th {\n",
       "        text-align: right;\n",
       "    }\n",
       "</style>\n",
       "<table border=\"1\" class=\"dataframe\">\n",
       "  <thead>\n",
       "    <tr style=\"text-align: right;\">\n",
       "      <th></th>\n",
       "      <th>지역명</th>\n",
       "      <th>연도</th>\n",
       "      <th>월</th>\n",
       "      <th>분양가격</th>\n",
       "      <th>평당분양가격</th>\n",
       "      <th>전용면적</th>\n",
       "    </tr>\n",
       "  </thead>\n",
       "  <tbody>\n",
       "    <tr>\n",
       "      <th>255</th>\n",
       "      <td>서울</td>\n",
       "      <td>2016</td>\n",
       "      <td>1</td>\n",
       "      <td>6108.0</td>\n",
       "      <td>20156.4</td>\n",
       "      <td>모든면적</td>\n",
       "    </tr>\n",
       "    <tr>\n",
       "      <th>256</th>\n",
       "      <td>서울</td>\n",
       "      <td>2016</td>\n",
       "      <td>1</td>\n",
       "      <td>6427.0</td>\n",
       "      <td>21209.1</td>\n",
       "      <td>60㎡</td>\n",
       "    </tr>\n",
       "    <tr>\n",
       "      <th>257</th>\n",
       "      <td>서울</td>\n",
       "      <td>2016</td>\n",
       "      <td>1</td>\n",
       "      <td>6036.0</td>\n",
       "      <td>19918.8</td>\n",
       "      <td>60㎡~85㎡</td>\n",
       "    </tr>\n",
       "    <tr>\n",
       "      <th>258</th>\n",
       "      <td>서울</td>\n",
       "      <td>2016</td>\n",
       "      <td>1</td>\n",
       "      <td>6513.0</td>\n",
       "      <td>21492.9</td>\n",
       "      <td>85㎡~102㎡</td>\n",
       "    </tr>\n",
       "    <tr>\n",
       "      <th>259</th>\n",
       "      <td>서울</td>\n",
       "      <td>2016</td>\n",
       "      <td>1</td>\n",
       "      <td>6551.0</td>\n",
       "      <td>21618.3</td>\n",
       "      <td>102㎡~</td>\n",
       "    </tr>\n",
       "    <tr>\n",
       "      <th>...</th>\n",
       "      <td>...</td>\n",
       "      <td>...</td>\n",
       "      <td>...</td>\n",
       "      <td>...</td>\n",
       "      <td>...</td>\n",
       "      <td>...</td>\n",
       "    </tr>\n",
       "    <tr>\n",
       "      <th>5270</th>\n",
       "      <td>서울</td>\n",
       "      <td>2020</td>\n",
       "      <td>12</td>\n",
       "      <td>8566.0</td>\n",
       "      <td>28267.8</td>\n",
       "      <td>모든면적</td>\n",
       "    </tr>\n",
       "    <tr>\n",
       "      <th>5271</th>\n",
       "      <td>서울</td>\n",
       "      <td>2020</td>\n",
       "      <td>12</td>\n",
       "      <td>8691.0</td>\n",
       "      <td>28680.3</td>\n",
       "      <td>60㎡</td>\n",
       "    </tr>\n",
       "    <tr>\n",
       "      <th>5272</th>\n",
       "      <td>서울</td>\n",
       "      <td>2020</td>\n",
       "      <td>12</td>\n",
       "      <td>7892.0</td>\n",
       "      <td>26043.6</td>\n",
       "      <td>60㎡~85㎡</td>\n",
       "    </tr>\n",
       "    <tr>\n",
       "      <th>5273</th>\n",
       "      <td>서울</td>\n",
       "      <td>2020</td>\n",
       "      <td>12</td>\n",
       "      <td>9769.0</td>\n",
       "      <td>32237.7</td>\n",
       "      <td>85㎡~102㎡</td>\n",
       "    </tr>\n",
       "    <tr>\n",
       "      <th>5274</th>\n",
       "      <td>서울</td>\n",
       "      <td>2020</td>\n",
       "      <td>12</td>\n",
       "      <td>9481.0</td>\n",
       "      <td>31287.3</td>\n",
       "      <td>102㎡~</td>\n",
       "    </tr>\n",
       "  </tbody>\n",
       "</table>\n",
       "<p>300 rows × 6 columns</p>\n",
       "</div>"
      ],
      "text/plain": [
       "     지역명    연도   월    분양가격   평당분양가격      전용면적\n",
       "255   서울  2016   1  6108.0  20156.4      모든면적\n",
       "256   서울  2016   1  6427.0  21209.1       60㎡\n",
       "257   서울  2016   1  6036.0  19918.8   60㎡~85㎡\n",
       "258   서울  2016   1  6513.0  21492.9  85㎡~102㎡\n",
       "259   서울  2016   1  6551.0  21618.3     102㎡~\n",
       "...   ..   ...  ..     ...      ...       ...\n",
       "5270  서울  2020  12  8566.0  28267.8      모든면적\n",
       "5271  서울  2020  12  8691.0  28680.3       60㎡\n",
       "5272  서울  2020  12  7892.0  26043.6   60㎡~85㎡\n",
       "5273  서울  2020  12  9769.0  32237.7  85㎡~102㎡\n",
       "5274  서울  2020  12  9481.0  31287.3     102㎡~\n",
       "\n",
       "[300 rows x 6 columns]"
      ]
     },
     "execution_count": 28,
     "metadata": {},
     "output_type": "execute_result"
    }
   ],
   "source": [
    "df_house_dosi[df_house_dosi['지역명'] == '서울']"
   ]
  },
  {
   "cell_type": "code",
   "execution_count": null,
   "metadata": {},
   "outputs": [],
   "source": []
  }
 ],
 "metadata": {
  "kernelspec": {
   "display_name": "Python 3",
   "language": "python",
   "name": "python3"
  },
  "language_info": {
   "codemirror_mode": {
    "name": "ipython",
    "version": 3
   },
   "file_extension": ".py",
   "mimetype": "text/x-python",
   "name": "python",
   "nbconvert_exporter": "python",
   "pygments_lexer": "ipython3",
   "version": "3.8.5"
  },
  "toc": {
   "base_numbering": 1,
   "nav_menu": {},
   "number_sections": true,
   "sideBar": true,
   "skip_h1_title": false,
   "title_cell": "Table of Contents",
   "title_sidebar": "Contents",
   "toc_cell": false,
   "toc_position": {},
   "toc_section_display": true,
   "toc_window_display": false
  }
 },
 "nbformat": 4,
 "nbformat_minor": 5
}
